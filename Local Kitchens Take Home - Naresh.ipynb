{
 "metadata": {
  "language_info": {
   "codemirror_mode": {
    "name": "ipython",
    "version": 3
   },
   "file_extension": ".py",
   "mimetype": "text/x-python",
   "name": "python",
   "nbconvert_exporter": "python",
   "pygments_lexer": "ipython3",
   "version": "3.9.0-final"
  },
  "orig_nbformat": 2,
  "kernelspec": {
   "name": "python390jvsc74a57bd0aee8b7b246df8f9039afb4144a1f6fd8d2ca17a180786b69acc140d282b71a49",
   "display_name": "Python 3.9.0 64-bit"
  },
  "metadata": {
   "interpreter": {
    "hash": "aee8b7b246df8f9039afb4144a1f6fd8d2ca17a180786b69acc140d282b71a49"
   }
  }
 },
 "nbformat": 4,
 "nbformat_minor": 2,
 "cells": [
  {
   "source": [
    "## Local Kitchens Take Home Assignment - Naresh Anadkat"
   ],
   "cell_type": "markdown",
   "metadata": {}
  },
  {
   "source": [
    "## Importing Libraries"
   ],
   "cell_type": "markdown",
   "metadata": {}
  },
  {
   "cell_type": "code",
   "execution_count": 1,
   "metadata": {},
   "outputs": [
    {
     "output_type": "display_data",
     "data": {
      "text/html": "        <script type=\"text/javascript\">\n        window.PlotlyConfig = {MathJaxConfig: 'local'};\n        if (window.MathJax) {MathJax.Hub.Config({SVG: {font: \"STIX-Web\"}});}\n        if (typeof require !== 'undefined') {\n        require.undef(\"plotly\");\n        requirejs.config({\n            paths: {\n                'plotly': ['https://cdn.plot.ly/plotly-latest.min']\n            }\n        });\n        require(['plotly'], function(Plotly) {\n            window._Plotly = Plotly;\n        });\n        }\n        </script>\n        "
     },
     "metadata": {}
    }
   ],
   "source": [
    "import csv\n",
    "import math\n",
    "import pandas as pd\n",
    "import numpy as np\n",
    "import scipy.stats\n",
    "import statistics\n",
    "from datetime import datetime\n",
    "import cufflinks as cf\n",
    "from operator import attrgetter\n",
    "cf.go_offline()\n",
    "cf.set_config_file(offline=False, world_readable=True)\n",
    "\n",
    "\n",
    "#Graphing Libraries\n",
    "from matplotlib import pyplot as plt\n",
    "import matplotlib.colors as mcolors\n",
    "import plotly.offline as py\n",
    "import plotly.graph_objs as go\n",
    "import plotly.express as px\n",
    "import seaborn as sns\n",
    "import plotly.io as pio\n",
    "import chart_studio.plotly as py\n",
    "import chart_studio\n",
    "%matplotlib inline"
   ]
  },
  {
   "cell_type": "code",
   "execution_count": 2,
   "metadata": {},
   "outputs": [],
   "source": [
    "#chart_studio.tools.set_credentials_file(username='nareshanadkat', api_key='*********')"
   ]
  },
  {
   "cell_type": "code",
   "execution_count": 3,
   "metadata": {},
   "outputs": [],
   "source": [
    "# Reading the CSV file\n",
    "df = pd.read_csv(\"sample_orders.csv\")"
   ]
  },
  {
   "source": [
    "## Data Cleaning & Formatting"
   ],
   "cell_type": "markdown",
   "metadata": {}
  },
  {
   "cell_type": "code",
   "execution_count": 4,
   "metadata": {},
   "outputs": [],
   "source": [
    "# Changing Column Names:\n",
    "df = df.rename(columns={'time_opened':'order_time'})\n",
    "df = df.rename(columns={'subtotal':'amount_spent'})"
   ]
  },
  {
   "cell_type": "code",
   "execution_count": 5,
   "metadata": {},
   "outputs": [
    {
     "output_type": "stream",
     "name": "stdout",
     "text": [
      "<class 'pandas.core.frame.DataFrame'>\nRangeIndex: 2074 entries, 0 to 2073\nData columns (total 3 columns):\n #   Column        Non-Null Count  Dtype  \n---  ------        --------------  -----  \n 0   order_time    2070 non-null   object \n 1   customer_id   2074 non-null   float64\n 2   amount_spent  2074 non-null   int64  \ndtypes: float64(1), int64(1), object(1)\nmemory usage: 48.7+ KB\n<class 'pandas.core.frame.DataFrame'>\nRangeIndex: 2074 entries, 0 to 2073\nData columns (total 3 columns):\n #   Column        Non-Null Count  Dtype         \n---  ------        --------------  -----         \n 0   order_time    2070 non-null   datetime64[ns]\n 1   customer_id   2074 non-null   float64       \n 2   amount_spent  2074 non-null   int64         \ndtypes: datetime64[ns](1), float64(1), int64(1)\nmemory usage: 48.7 KB\n"
     ]
    }
   ],
   "source": [
    "# Checking dtypes & changing to order_time to DatetimeIndex dtype\n",
    "df.info()\n",
    "df['order_time'] = pd.to_datetime(df['order_time'])\n",
    "df.info()"
   ]
  },
  {
   "cell_type": "code",
   "execution_count": 6,
   "metadata": {},
   "outputs": [
    {
     "output_type": "stream",
     "name": "stdout",
     "text": [
      "order_time      2070\ncustomer_id     2074\namount_spent    2074\ndtype: int64\norder_time      2070\ncustomer_id     2070\namount_spent    2070\ndtype: int64\n"
     ]
    }
   ],
   "source": [
    "# Dropping all values where time_opened column are empty\n",
    "print(df.count())\n",
    "df = df[df['order_time'].notna()]\n",
    "print(df.count())\n",
    "# Dropped 4 values where the time_opened was empty."
   ]
  },
  {
   "cell_type": "code",
   "execution_count": 7,
   "metadata": {},
   "outputs": [
    {
     "output_type": "execute_result",
     "data": {
      "text/plain": [
       "count      2070\n",
       "unique        1\n",
       "top       False\n",
       "freq       2070\n",
       "dtype: object"
      ]
     },
     "metadata": {},
     "execution_count": 7
    }
   ],
   "source": [
    "# Checking for any duplicate values in the remainging DataFrame\n",
    "df.duplicated().describe()\n",
    "# No duplicates found - data looks good to work with."
   ]
  },
  {
   "cell_type": "code",
   "execution_count": 8,
   "metadata": {},
   "outputs": [
    {
     "output_type": "execute_result",
     "data": {
      "text/plain": [
       "              order_time   customer_id  amount_spent\n",
       "0    2021-01-23 16:05:00 -2.266540e+18          0.50\n",
       "1    2021-01-23 17:37:00  3.108850e+18         17.25\n",
       "2    2021-01-23 17:39:00  8.193680e+18          5.59\n",
       "3    2021-01-23 18:40:00 -2.779480e+18         58.50\n",
       "4    2021-01-23 18:45:00 -7.685560e+18         42.58\n",
       "...                  ...           ...           ...\n",
       "2065 2021-03-21 14:02:00 -7.486680e+18         84.00\n",
       "2066 2021-03-21 14:03:00 -5.967440e+18         13.50\n",
       "2067 2021-03-21 14:44:00  1.700620e+18         35.45\n",
       "2068 2021-03-21 14:57:00 -3.800620e+18         19.45\n",
       "2069 2021-03-21 14:59:00  6.817480e+18         14.25\n",
       "\n",
       "[2070 rows x 3 columns]"
      ],
      "text/html": "<div>\n<style scoped>\n    .dataframe tbody tr th:only-of-type {\n        vertical-align: middle;\n    }\n\n    .dataframe tbody tr th {\n        vertical-align: top;\n    }\n\n    .dataframe thead th {\n        text-align: right;\n    }\n</style>\n<table border=\"1\" class=\"dataframe\">\n  <thead>\n    <tr style=\"text-align: right;\">\n      <th></th>\n      <th>order_time</th>\n      <th>customer_id</th>\n      <th>amount_spent</th>\n    </tr>\n  </thead>\n  <tbody>\n    <tr>\n      <th>0</th>\n      <td>2021-01-23 16:05:00</td>\n      <td>-2.266540e+18</td>\n      <td>0.50</td>\n    </tr>\n    <tr>\n      <th>1</th>\n      <td>2021-01-23 17:37:00</td>\n      <td>3.108850e+18</td>\n      <td>17.25</td>\n    </tr>\n    <tr>\n      <th>2</th>\n      <td>2021-01-23 17:39:00</td>\n      <td>8.193680e+18</td>\n      <td>5.59</td>\n    </tr>\n    <tr>\n      <th>3</th>\n      <td>2021-01-23 18:40:00</td>\n      <td>-2.779480e+18</td>\n      <td>58.50</td>\n    </tr>\n    <tr>\n      <th>4</th>\n      <td>2021-01-23 18:45:00</td>\n      <td>-7.685560e+18</td>\n      <td>42.58</td>\n    </tr>\n    <tr>\n      <th>...</th>\n      <td>...</td>\n      <td>...</td>\n      <td>...</td>\n    </tr>\n    <tr>\n      <th>2065</th>\n      <td>2021-03-21 14:02:00</td>\n      <td>-7.486680e+18</td>\n      <td>84.00</td>\n    </tr>\n    <tr>\n      <th>2066</th>\n      <td>2021-03-21 14:03:00</td>\n      <td>-5.967440e+18</td>\n      <td>13.50</td>\n    </tr>\n    <tr>\n      <th>2067</th>\n      <td>2021-03-21 14:44:00</td>\n      <td>1.700620e+18</td>\n      <td>35.45</td>\n    </tr>\n    <tr>\n      <th>2068</th>\n      <td>2021-03-21 14:57:00</td>\n      <td>-3.800620e+18</td>\n      <td>19.45</td>\n    </tr>\n    <tr>\n      <th>2069</th>\n      <td>2021-03-21 14:59:00</td>\n      <td>6.817480e+18</td>\n      <td>14.25</td>\n    </tr>\n  </tbody>\n</table>\n<p>2070 rows × 3 columns</p>\n</div>"
     },
     "metadata": {},
     "execution_count": 8
    }
   ],
   "source": [
    "# Converting 'amount_spent' column from cents to dollar value\n",
    "df['amount_spent'] = df['amount_spent'].div(100)\n",
    "df"
   ]
  },
  {
   "source": [
    "## Data Analysis - Statistics & Insights"
   ],
   "cell_type": "markdown",
   "metadata": {}
  },
  {
   "cell_type": "code",
   "execution_count": 9,
   "metadata": {},
   "outputs": [
    {
     "output_type": "stream",
     "name": "stdout",
     "text": [
      "  order_time  number_of_orders\n0 2021-01-18                10\n1 2021-01-25               107\n2 2021-02-01               161\n3 2021-02-08               264\n4 2021-02-15               264\n5 2021-02-22               315\n6 2021-03-01               293\n7 2021-03-08               368\n8 2021-03-15               288\n"
     ]
    },
    {
     "output_type": "display_data",
     "data": {
      "application/vnd.plotly.v1+json": {
       "config": {
        "plotlyServerURL": "https://plotly.com"
       },
       "data": [
        {
         "alignmentgroup": "True",
         "hovertemplate": "order_time=%{x}<br>number_of_orders=%{y}<extra></extra>",
         "legendgroup": "",
         "marker": {
          "color": "indianred"
         },
         "name": "",
         "offsetgroup": "",
         "orientation": "v",
         "showlegend": false,
         "textposition": "auto",
         "type": "bar",
         "x": [
          "2021-01-18T00:00:00",
          "2021-01-25T00:00:00",
          "2021-02-01T00:00:00",
          "2021-02-08T00:00:00",
          "2021-02-15T00:00:00",
          "2021-02-22T00:00:00",
          "2021-03-01T00:00:00",
          "2021-03-08T00:00:00",
          "2021-03-15T00:00:00"
         ],
         "xaxis": "x",
         "y": [
          10,
          107,
          161,
          264,
          264,
          315,
          293,
          368,
          288
         ],
         "yaxis": "y"
        }
       ],
       "layout": {
        "barmode": "relative",
        "legend": {
         "tracegroupgap": 0
        },
        "margin": {
         "t": 60
        },
        "template": {
         "data": {
          "bar": [
           {
            "error_x": {
             "color": "#2a3f5f"
            },
            "error_y": {
             "color": "#2a3f5f"
            },
            "marker": {
             "line": {
              "color": "#E5ECF6",
              "width": 0.5
             }
            },
            "type": "bar"
           }
          ],
          "barpolar": [
           {
            "marker": {
             "line": {
              "color": "#E5ECF6",
              "width": 0.5
             }
            },
            "type": "barpolar"
           }
          ],
          "carpet": [
           {
            "aaxis": {
             "endlinecolor": "#2a3f5f",
             "gridcolor": "white",
             "linecolor": "white",
             "minorgridcolor": "white",
             "startlinecolor": "#2a3f5f"
            },
            "baxis": {
             "endlinecolor": "#2a3f5f",
             "gridcolor": "white",
             "linecolor": "white",
             "minorgridcolor": "white",
             "startlinecolor": "#2a3f5f"
            },
            "type": "carpet"
           }
          ],
          "choropleth": [
           {
            "colorbar": {
             "outlinewidth": 0,
             "ticks": ""
            },
            "type": "choropleth"
           }
          ],
          "contour": [
           {
            "colorbar": {
             "outlinewidth": 0,
             "ticks": ""
            },
            "colorscale": [
             [
              0,
              "#0d0887"
             ],
             [
              0.1111111111111111,
              "#46039f"
             ],
             [
              0.2222222222222222,
              "#7201a8"
             ],
             [
              0.3333333333333333,
              "#9c179e"
             ],
             [
              0.4444444444444444,
              "#bd3786"
             ],
             [
              0.5555555555555556,
              "#d8576b"
             ],
             [
              0.6666666666666666,
              "#ed7953"
             ],
             [
              0.7777777777777778,
              "#fb9f3a"
             ],
             [
              0.8888888888888888,
              "#fdca26"
             ],
             [
              1,
              "#f0f921"
             ]
            ],
            "type": "contour"
           }
          ],
          "contourcarpet": [
           {
            "colorbar": {
             "outlinewidth": 0,
             "ticks": ""
            },
            "type": "contourcarpet"
           }
          ],
          "heatmap": [
           {
            "colorbar": {
             "outlinewidth": 0,
             "ticks": ""
            },
            "colorscale": [
             [
              0,
              "#0d0887"
             ],
             [
              0.1111111111111111,
              "#46039f"
             ],
             [
              0.2222222222222222,
              "#7201a8"
             ],
             [
              0.3333333333333333,
              "#9c179e"
             ],
             [
              0.4444444444444444,
              "#bd3786"
             ],
             [
              0.5555555555555556,
              "#d8576b"
             ],
             [
              0.6666666666666666,
              "#ed7953"
             ],
             [
              0.7777777777777778,
              "#fb9f3a"
             ],
             [
              0.8888888888888888,
              "#fdca26"
             ],
             [
              1,
              "#f0f921"
             ]
            ],
            "type": "heatmap"
           }
          ],
          "heatmapgl": [
           {
            "colorbar": {
             "outlinewidth": 0,
             "ticks": ""
            },
            "colorscale": [
             [
              0,
              "#0d0887"
             ],
             [
              0.1111111111111111,
              "#46039f"
             ],
             [
              0.2222222222222222,
              "#7201a8"
             ],
             [
              0.3333333333333333,
              "#9c179e"
             ],
             [
              0.4444444444444444,
              "#bd3786"
             ],
             [
              0.5555555555555556,
              "#d8576b"
             ],
             [
              0.6666666666666666,
              "#ed7953"
             ],
             [
              0.7777777777777778,
              "#fb9f3a"
             ],
             [
              0.8888888888888888,
              "#fdca26"
             ],
             [
              1,
              "#f0f921"
             ]
            ],
            "type": "heatmapgl"
           }
          ],
          "histogram": [
           {
            "marker": {
             "colorbar": {
              "outlinewidth": 0,
              "ticks": ""
             }
            },
            "type": "histogram"
           }
          ],
          "histogram2d": [
           {
            "colorbar": {
             "outlinewidth": 0,
             "ticks": ""
            },
            "colorscale": [
             [
              0,
              "#0d0887"
             ],
             [
              0.1111111111111111,
              "#46039f"
             ],
             [
              0.2222222222222222,
              "#7201a8"
             ],
             [
              0.3333333333333333,
              "#9c179e"
             ],
             [
              0.4444444444444444,
              "#bd3786"
             ],
             [
              0.5555555555555556,
              "#d8576b"
             ],
             [
              0.6666666666666666,
              "#ed7953"
             ],
             [
              0.7777777777777778,
              "#fb9f3a"
             ],
             [
              0.8888888888888888,
              "#fdca26"
             ],
             [
              1,
              "#f0f921"
             ]
            ],
            "type": "histogram2d"
           }
          ],
          "histogram2dcontour": [
           {
            "colorbar": {
             "outlinewidth": 0,
             "ticks": ""
            },
            "colorscale": [
             [
              0,
              "#0d0887"
             ],
             [
              0.1111111111111111,
              "#46039f"
             ],
             [
              0.2222222222222222,
              "#7201a8"
             ],
             [
              0.3333333333333333,
              "#9c179e"
             ],
             [
              0.4444444444444444,
              "#bd3786"
             ],
             [
              0.5555555555555556,
              "#d8576b"
             ],
             [
              0.6666666666666666,
              "#ed7953"
             ],
             [
              0.7777777777777778,
              "#fb9f3a"
             ],
             [
              0.8888888888888888,
              "#fdca26"
             ],
             [
              1,
              "#f0f921"
             ]
            ],
            "type": "histogram2dcontour"
           }
          ],
          "mesh3d": [
           {
            "colorbar": {
             "outlinewidth": 0,
             "ticks": ""
            },
            "type": "mesh3d"
           }
          ],
          "parcoords": [
           {
            "line": {
             "colorbar": {
              "outlinewidth": 0,
              "ticks": ""
             }
            },
            "type": "parcoords"
           }
          ],
          "pie": [
           {
            "automargin": true,
            "type": "pie"
           }
          ],
          "scatter": [
           {
            "marker": {
             "colorbar": {
              "outlinewidth": 0,
              "ticks": ""
             }
            },
            "type": "scatter"
           }
          ],
          "scatter3d": [
           {
            "line": {
             "colorbar": {
              "outlinewidth": 0,
              "ticks": ""
             }
            },
            "marker": {
             "colorbar": {
              "outlinewidth": 0,
              "ticks": ""
             }
            },
            "type": "scatter3d"
           }
          ],
          "scattercarpet": [
           {
            "marker": {
             "colorbar": {
              "outlinewidth": 0,
              "ticks": ""
             }
            },
            "type": "scattercarpet"
           }
          ],
          "scattergeo": [
           {
            "marker": {
             "colorbar": {
              "outlinewidth": 0,
              "ticks": ""
             }
            },
            "type": "scattergeo"
           }
          ],
          "scattergl": [
           {
            "marker": {
             "colorbar": {
              "outlinewidth": 0,
              "ticks": ""
             }
            },
            "type": "scattergl"
           }
          ],
          "scattermapbox": [
           {
            "marker": {
             "colorbar": {
              "outlinewidth": 0,
              "ticks": ""
             }
            },
            "type": "scattermapbox"
           }
          ],
          "scatterpolar": [
           {
            "marker": {
             "colorbar": {
              "outlinewidth": 0,
              "ticks": ""
             }
            },
            "type": "scatterpolar"
           }
          ],
          "scatterpolargl": [
           {
            "marker": {
             "colorbar": {
              "outlinewidth": 0,
              "ticks": ""
             }
            },
            "type": "scatterpolargl"
           }
          ],
          "scatterternary": [
           {
            "marker": {
             "colorbar": {
              "outlinewidth": 0,
              "ticks": ""
             }
            },
            "type": "scatterternary"
           }
          ],
          "surface": [
           {
            "colorbar": {
             "outlinewidth": 0,
             "ticks": ""
            },
            "colorscale": [
             [
              0,
              "#0d0887"
             ],
             [
              0.1111111111111111,
              "#46039f"
             ],
             [
              0.2222222222222222,
              "#7201a8"
             ],
             [
              0.3333333333333333,
              "#9c179e"
             ],
             [
              0.4444444444444444,
              "#bd3786"
             ],
             [
              0.5555555555555556,
              "#d8576b"
             ],
             [
              0.6666666666666666,
              "#ed7953"
             ],
             [
              0.7777777777777778,
              "#fb9f3a"
             ],
             [
              0.8888888888888888,
              "#fdca26"
             ],
             [
              1,
              "#f0f921"
             ]
            ],
            "type": "surface"
           }
          ],
          "table": [
           {
            "cells": {
             "fill": {
              "color": "#EBF0F8"
             },
             "line": {
              "color": "white"
             }
            },
            "header": {
             "fill": {
              "color": "#C8D4E3"
             },
             "line": {
              "color": "white"
             }
            },
            "type": "table"
           }
          ]
         },
         "layout": {
          "annotationdefaults": {
           "arrowcolor": "#2a3f5f",
           "arrowhead": 0,
           "arrowwidth": 1
          },
          "autotypenumbers": "strict",
          "coloraxis": {
           "colorbar": {
            "outlinewidth": 0,
            "ticks": ""
           }
          },
          "colorscale": {
           "diverging": [
            [
             0,
             "#8e0152"
            ],
            [
             0.1,
             "#c51b7d"
            ],
            [
             0.2,
             "#de77ae"
            ],
            [
             0.3,
             "#f1b6da"
            ],
            [
             0.4,
             "#fde0ef"
            ],
            [
             0.5,
             "#f7f7f7"
            ],
            [
             0.6,
             "#e6f5d0"
            ],
            [
             0.7,
             "#b8e186"
            ],
            [
             0.8,
             "#7fbc41"
            ],
            [
             0.9,
             "#4d9221"
            ],
            [
             1,
             "#276419"
            ]
           ],
           "sequential": [
            [
             0,
             "#0d0887"
            ],
            [
             0.1111111111111111,
             "#46039f"
            ],
            [
             0.2222222222222222,
             "#7201a8"
            ],
            [
             0.3333333333333333,
             "#9c179e"
            ],
            [
             0.4444444444444444,
             "#bd3786"
            ],
            [
             0.5555555555555556,
             "#d8576b"
            ],
            [
             0.6666666666666666,
             "#ed7953"
            ],
            [
             0.7777777777777778,
             "#fb9f3a"
            ],
            [
             0.8888888888888888,
             "#fdca26"
            ],
            [
             1,
             "#f0f921"
            ]
           ],
           "sequentialminus": [
            [
             0,
             "#0d0887"
            ],
            [
             0.1111111111111111,
             "#46039f"
            ],
            [
             0.2222222222222222,
             "#7201a8"
            ],
            [
             0.3333333333333333,
             "#9c179e"
            ],
            [
             0.4444444444444444,
             "#bd3786"
            ],
            [
             0.5555555555555556,
             "#d8576b"
            ],
            [
             0.6666666666666666,
             "#ed7953"
            ],
            [
             0.7777777777777778,
             "#fb9f3a"
            ],
            [
             0.8888888888888888,
             "#fdca26"
            ],
            [
             1,
             "#f0f921"
            ]
           ]
          },
          "colorway": [
           "#636efa",
           "#EF553B",
           "#00cc96",
           "#ab63fa",
           "#FFA15A",
           "#19d3f3",
           "#FF6692",
           "#B6E880",
           "#FF97FF",
           "#FECB52"
          ],
          "font": {
           "color": "#2a3f5f"
          },
          "geo": {
           "bgcolor": "white",
           "lakecolor": "white",
           "landcolor": "#E5ECF6",
           "showlakes": true,
           "showland": true,
           "subunitcolor": "white"
          },
          "hoverlabel": {
           "align": "left"
          },
          "hovermode": "closest",
          "mapbox": {
           "style": "light"
          },
          "paper_bgcolor": "white",
          "plot_bgcolor": "#E5ECF6",
          "polar": {
           "angularaxis": {
            "gridcolor": "white",
            "linecolor": "white",
            "ticks": ""
           },
           "bgcolor": "#E5ECF6",
           "radialaxis": {
            "gridcolor": "white",
            "linecolor": "white",
            "ticks": ""
           }
          },
          "scene": {
           "xaxis": {
            "backgroundcolor": "#E5ECF6",
            "gridcolor": "white",
            "gridwidth": 2,
            "linecolor": "white",
            "showbackground": true,
            "ticks": "",
            "zerolinecolor": "white"
           },
           "yaxis": {
            "backgroundcolor": "#E5ECF6",
            "gridcolor": "white",
            "gridwidth": 2,
            "linecolor": "white",
            "showbackground": true,
            "ticks": "",
            "zerolinecolor": "white"
           },
           "zaxis": {
            "backgroundcolor": "#E5ECF6",
            "gridcolor": "white",
            "gridwidth": 2,
            "linecolor": "white",
            "showbackground": true,
            "ticks": "",
            "zerolinecolor": "white"
           }
          },
          "shapedefaults": {
           "line": {
            "color": "#2a3f5f"
           }
          },
          "ternary": {
           "aaxis": {
            "gridcolor": "white",
            "linecolor": "white",
            "ticks": ""
           },
           "baxis": {
            "gridcolor": "white",
            "linecolor": "white",
            "ticks": ""
           },
           "bgcolor": "#E5ECF6",
           "caxis": {
            "gridcolor": "white",
            "linecolor": "white",
            "ticks": ""
           }
          },
          "title": {
           "x": 0.05
          },
          "xaxis": {
           "automargin": true,
           "gridcolor": "white",
           "linecolor": "white",
           "ticks": "",
           "title": {
            "standoff": 15
           },
           "zerolinecolor": "white",
           "zerolinewidth": 2
          },
          "yaxis": {
           "automargin": true,
           "gridcolor": "white",
           "linecolor": "white",
           "ticks": "",
           "title": {
            "standoff": 15
           },
           "zerolinecolor": "white",
           "zerolinewidth": 2
          }
         }
        },
        "xaxis": {
         "anchor": "y",
         "domain": [
          0,
          1
         ],
         "title": {
          "text": "order_time"
         }
        },
        "yaxis": {
         "anchor": "x",
         "domain": [
          0,
          1
         ],
         "title": {
          "text": "number_of_orders"
         }
        }
       }
      },
      "text/html": "<div>                            <div id=\"268d271a-0034-49f9-a2ef-da780102a168\" class=\"plotly-graph-div\" style=\"height:525px; width:100%;\"></div>            <script type=\"text/javascript\">                require([\"plotly\"], function(Plotly) {                    window.PLOTLYENV=window.PLOTLYENV || {};                                    if (document.getElementById(\"268d271a-0034-49f9-a2ef-da780102a168\")) {                    Plotly.newPlot(                        \"268d271a-0034-49f9-a2ef-da780102a168\",                        [{\"alignmentgroup\": \"True\", \"hovertemplate\": \"order_time=%{x}<br>number_of_orders=%{y}<extra></extra>\", \"legendgroup\": \"\", \"marker\": {\"color\": \"indianred\"}, \"name\": \"\", \"offsetgroup\": \"\", \"orientation\": \"v\", \"showlegend\": false, \"textposition\": \"auto\", \"type\": \"bar\", \"x\": [\"2021-01-18T00:00:00\", \"2021-01-25T00:00:00\", \"2021-02-01T00:00:00\", \"2021-02-08T00:00:00\", \"2021-02-15T00:00:00\", \"2021-02-22T00:00:00\", \"2021-03-01T00:00:00\", \"2021-03-08T00:00:00\", \"2021-03-15T00:00:00\"], \"xaxis\": \"x\", \"y\": [10, 107, 161, 264, 264, 315, 293, 368, 288], \"yaxis\": \"y\"}],                        {\"barmode\": \"relative\", \"legend\": {\"tracegroupgap\": 0}, \"margin\": {\"t\": 60}, \"template\": {\"data\": {\"bar\": [{\"error_x\": {\"color\": \"#2a3f5f\"}, \"error_y\": {\"color\": \"#2a3f5f\"}, \"marker\": {\"line\": {\"color\": \"#E5ECF6\", \"width\": 0.5}}, \"type\": \"bar\"}], \"barpolar\": [{\"marker\": {\"line\": {\"color\": \"#E5ECF6\", \"width\": 0.5}}, \"type\": \"barpolar\"}], \"carpet\": [{\"aaxis\": {\"endlinecolor\": \"#2a3f5f\", \"gridcolor\": \"white\", \"linecolor\": \"white\", \"minorgridcolor\": \"white\", \"startlinecolor\": \"#2a3f5f\"}, \"baxis\": {\"endlinecolor\": \"#2a3f5f\", \"gridcolor\": \"white\", \"linecolor\": \"white\", \"minorgridcolor\": \"white\", \"startlinecolor\": \"#2a3f5f\"}, \"type\": \"carpet\"}], \"choropleth\": [{\"colorbar\": {\"outlinewidth\": 0, \"ticks\": \"\"}, \"type\": \"choropleth\"}], \"contour\": [{\"colorbar\": {\"outlinewidth\": 0, \"ticks\": \"\"}, \"colorscale\": [[0.0, \"#0d0887\"], [0.1111111111111111, \"#46039f\"], [0.2222222222222222, \"#7201a8\"], [0.3333333333333333, \"#9c179e\"], [0.4444444444444444, \"#bd3786\"], [0.5555555555555556, \"#d8576b\"], [0.6666666666666666, \"#ed7953\"], [0.7777777777777778, \"#fb9f3a\"], [0.8888888888888888, \"#fdca26\"], [1.0, \"#f0f921\"]], \"type\": \"contour\"}], \"contourcarpet\": [{\"colorbar\": {\"outlinewidth\": 0, \"ticks\": \"\"}, \"type\": \"contourcarpet\"}], \"heatmap\": [{\"colorbar\": {\"outlinewidth\": 0, \"ticks\": \"\"}, \"colorscale\": [[0.0, \"#0d0887\"], [0.1111111111111111, \"#46039f\"], [0.2222222222222222, \"#7201a8\"], [0.3333333333333333, \"#9c179e\"], [0.4444444444444444, \"#bd3786\"], [0.5555555555555556, \"#d8576b\"], [0.6666666666666666, \"#ed7953\"], [0.7777777777777778, \"#fb9f3a\"], [0.8888888888888888, \"#fdca26\"], [1.0, \"#f0f921\"]], \"type\": \"heatmap\"}], \"heatmapgl\": [{\"colorbar\": {\"outlinewidth\": 0, \"ticks\": \"\"}, \"colorscale\": [[0.0, \"#0d0887\"], [0.1111111111111111, \"#46039f\"], [0.2222222222222222, \"#7201a8\"], [0.3333333333333333, \"#9c179e\"], [0.4444444444444444, \"#bd3786\"], [0.5555555555555556, \"#d8576b\"], [0.6666666666666666, \"#ed7953\"], [0.7777777777777778, \"#fb9f3a\"], [0.8888888888888888, \"#fdca26\"], [1.0, \"#f0f921\"]], \"type\": \"heatmapgl\"}], \"histogram\": [{\"marker\": {\"colorbar\": {\"outlinewidth\": 0, \"ticks\": \"\"}}, \"type\": \"histogram\"}], \"histogram2d\": [{\"colorbar\": {\"outlinewidth\": 0, \"ticks\": \"\"}, \"colorscale\": [[0.0, \"#0d0887\"], [0.1111111111111111, \"#46039f\"], [0.2222222222222222, \"#7201a8\"], [0.3333333333333333, \"#9c179e\"], [0.4444444444444444, \"#bd3786\"], [0.5555555555555556, \"#d8576b\"], [0.6666666666666666, \"#ed7953\"], [0.7777777777777778, \"#fb9f3a\"], [0.8888888888888888, \"#fdca26\"], [1.0, \"#f0f921\"]], \"type\": \"histogram2d\"}], \"histogram2dcontour\": [{\"colorbar\": {\"outlinewidth\": 0, \"ticks\": \"\"}, \"colorscale\": [[0.0, \"#0d0887\"], [0.1111111111111111, \"#46039f\"], [0.2222222222222222, \"#7201a8\"], [0.3333333333333333, \"#9c179e\"], [0.4444444444444444, \"#bd3786\"], [0.5555555555555556, \"#d8576b\"], [0.6666666666666666, \"#ed7953\"], [0.7777777777777778, \"#fb9f3a\"], [0.8888888888888888, \"#fdca26\"], [1.0, \"#f0f921\"]], \"type\": \"histogram2dcontour\"}], \"mesh3d\": [{\"colorbar\": {\"outlinewidth\": 0, \"ticks\": \"\"}, \"type\": \"mesh3d\"}], \"parcoords\": [{\"line\": {\"colorbar\": {\"outlinewidth\": 0, \"ticks\": \"\"}}, \"type\": \"parcoords\"}], \"pie\": [{\"automargin\": true, \"type\": \"pie\"}], \"scatter\": [{\"marker\": {\"colorbar\": {\"outlinewidth\": 0, \"ticks\": \"\"}}, \"type\": \"scatter\"}], \"scatter3d\": [{\"line\": {\"colorbar\": {\"outlinewidth\": 0, \"ticks\": \"\"}}, \"marker\": {\"colorbar\": {\"outlinewidth\": 0, \"ticks\": \"\"}}, \"type\": \"scatter3d\"}], \"scattercarpet\": [{\"marker\": {\"colorbar\": {\"outlinewidth\": 0, \"ticks\": \"\"}}, \"type\": \"scattercarpet\"}], \"scattergeo\": [{\"marker\": {\"colorbar\": {\"outlinewidth\": 0, \"ticks\": \"\"}}, \"type\": \"scattergeo\"}], \"scattergl\": [{\"marker\": {\"colorbar\": {\"outlinewidth\": 0, \"ticks\": \"\"}}, \"type\": \"scattergl\"}], \"scattermapbox\": [{\"marker\": {\"colorbar\": {\"outlinewidth\": 0, \"ticks\": \"\"}}, \"type\": \"scattermapbox\"}], \"scatterpolar\": [{\"marker\": {\"colorbar\": {\"outlinewidth\": 0, \"ticks\": \"\"}}, \"type\": \"scatterpolar\"}], \"scatterpolargl\": [{\"marker\": {\"colorbar\": {\"outlinewidth\": 0, \"ticks\": \"\"}}, \"type\": \"scatterpolargl\"}], \"scatterternary\": [{\"marker\": {\"colorbar\": {\"outlinewidth\": 0, \"ticks\": \"\"}}, \"type\": \"scatterternary\"}], \"surface\": [{\"colorbar\": {\"outlinewidth\": 0, \"ticks\": \"\"}, \"colorscale\": [[0.0, \"#0d0887\"], [0.1111111111111111, \"#46039f\"], [0.2222222222222222, \"#7201a8\"], [0.3333333333333333, \"#9c179e\"], [0.4444444444444444, \"#bd3786\"], [0.5555555555555556, \"#d8576b\"], [0.6666666666666666, \"#ed7953\"], [0.7777777777777778, \"#fb9f3a\"], [0.8888888888888888, \"#fdca26\"], [1.0, \"#f0f921\"]], \"type\": \"surface\"}], \"table\": [{\"cells\": {\"fill\": {\"color\": \"#EBF0F8\"}, \"line\": {\"color\": \"white\"}}, \"header\": {\"fill\": {\"color\": \"#C8D4E3\"}, \"line\": {\"color\": \"white\"}}, \"type\": \"table\"}]}, \"layout\": {\"annotationdefaults\": {\"arrowcolor\": \"#2a3f5f\", \"arrowhead\": 0, \"arrowwidth\": 1}, \"autotypenumbers\": \"strict\", \"coloraxis\": {\"colorbar\": {\"outlinewidth\": 0, \"ticks\": \"\"}}, \"colorscale\": {\"diverging\": [[0, \"#8e0152\"], [0.1, \"#c51b7d\"], [0.2, \"#de77ae\"], [0.3, \"#f1b6da\"], [0.4, \"#fde0ef\"], [0.5, \"#f7f7f7\"], [0.6, \"#e6f5d0\"], [0.7, \"#b8e186\"], [0.8, \"#7fbc41\"], [0.9, \"#4d9221\"], [1, \"#276419\"]], \"sequential\": [[0.0, \"#0d0887\"], [0.1111111111111111, \"#46039f\"], [0.2222222222222222, \"#7201a8\"], [0.3333333333333333, \"#9c179e\"], [0.4444444444444444, \"#bd3786\"], [0.5555555555555556, \"#d8576b\"], [0.6666666666666666, \"#ed7953\"], [0.7777777777777778, \"#fb9f3a\"], [0.8888888888888888, \"#fdca26\"], [1.0, \"#f0f921\"]], \"sequentialminus\": [[0.0, \"#0d0887\"], [0.1111111111111111, \"#46039f\"], [0.2222222222222222, \"#7201a8\"], [0.3333333333333333, \"#9c179e\"], [0.4444444444444444, \"#bd3786\"], [0.5555555555555556, \"#d8576b\"], [0.6666666666666666, \"#ed7953\"], [0.7777777777777778, \"#fb9f3a\"], [0.8888888888888888, \"#fdca26\"], [1.0, \"#f0f921\"]]}, \"colorway\": [\"#636efa\", \"#EF553B\", \"#00cc96\", \"#ab63fa\", \"#FFA15A\", \"#19d3f3\", \"#FF6692\", \"#B6E880\", \"#FF97FF\", \"#FECB52\"], \"font\": {\"color\": \"#2a3f5f\"}, \"geo\": {\"bgcolor\": \"white\", \"lakecolor\": \"white\", \"landcolor\": \"#E5ECF6\", \"showlakes\": true, \"showland\": true, \"subunitcolor\": \"white\"}, \"hoverlabel\": {\"align\": \"left\"}, \"hovermode\": \"closest\", \"mapbox\": {\"style\": \"light\"}, \"paper_bgcolor\": \"white\", \"plot_bgcolor\": \"#E5ECF6\", \"polar\": {\"angularaxis\": {\"gridcolor\": \"white\", \"linecolor\": \"white\", \"ticks\": \"\"}, \"bgcolor\": \"#E5ECF6\", \"radialaxis\": {\"gridcolor\": \"white\", \"linecolor\": \"white\", \"ticks\": \"\"}}, \"scene\": {\"xaxis\": {\"backgroundcolor\": \"#E5ECF6\", \"gridcolor\": \"white\", \"gridwidth\": 2, \"linecolor\": \"white\", \"showbackground\": true, \"ticks\": \"\", \"zerolinecolor\": \"white\"}, \"yaxis\": {\"backgroundcolor\": \"#E5ECF6\", \"gridcolor\": \"white\", \"gridwidth\": 2, \"linecolor\": \"white\", \"showbackground\": true, \"ticks\": \"\", \"zerolinecolor\": \"white\"}, \"zaxis\": {\"backgroundcolor\": \"#E5ECF6\", \"gridcolor\": \"white\", \"gridwidth\": 2, \"linecolor\": \"white\", \"showbackground\": true, \"ticks\": \"\", \"zerolinecolor\": \"white\"}}, \"shapedefaults\": {\"line\": {\"color\": \"#2a3f5f\"}}, \"ternary\": {\"aaxis\": {\"gridcolor\": \"white\", \"linecolor\": \"white\", \"ticks\": \"\"}, \"baxis\": {\"gridcolor\": \"white\", \"linecolor\": \"white\", \"ticks\": \"\"}, \"bgcolor\": \"#E5ECF6\", \"caxis\": {\"gridcolor\": \"white\", \"linecolor\": \"white\", \"ticks\": \"\"}}, \"title\": {\"x\": 0.05}, \"xaxis\": {\"automargin\": true, \"gridcolor\": \"white\", \"linecolor\": \"white\", \"ticks\": \"\", \"title\": {\"standoff\": 15}, \"zerolinecolor\": \"white\", \"zerolinewidth\": 2}, \"yaxis\": {\"automargin\": true, \"gridcolor\": \"white\", \"linecolor\": \"white\", \"ticks\": \"\", \"title\": {\"standoff\": 15}, \"zerolinecolor\": \"white\", \"zerolinewidth\": 2}}}, \"xaxis\": {\"anchor\": \"y\", \"domain\": [0.0, 1.0], \"title\": {\"text\": \"order_time\"}}, \"yaxis\": {\"anchor\": \"x\", \"domain\": [0.0, 1.0], \"title\": {\"text\": \"number_of_orders\"}}},                        {\"responsive\": true}                    ).then(function(){\n                            \nvar gd = document.getElementById('268d271a-0034-49f9-a2ef-da780102a168');\nvar x = new MutationObserver(function (mutations, observer) {{\n        var display = window.getComputedStyle(gd).display;\n        if (!display || display === 'none') {{\n            console.log([gd, 'removed!']);\n            Plotly.purge(gd);\n            observer.disconnect();\n        }}\n}});\n\n// Listen for the removal of the full notebook cells\nvar notebookContainer = gd.closest('#notebook-container');\nif (notebookContainer) {{\n    x.observe(notebookContainer, {childList: true});\n}}\n\n// Listen for the clearing of the current output cell\nvar outputEl = gd.closest('.output');\nif (outputEl) {{\n    x.observe(outputEl, {childList: true});\n}}\n\n                        })                };                });            </script>        </div>"
     },
     "metadata": {}
    }
   ],
   "source": [
    "# Goal: Gain a deeper understanding of user purchasing behaviour given provided data\n",
    "\n",
    "# To start off, I wanted to analyze the data from a high overview, starting from orders placed by month and diving deeper into consumer spending habbits & statistics.\n",
    "\n",
    "# Adding column in DataFrame full of '1' to illustrate number of orders placed.\n",
    "df['number_of_orders'] = 1\n",
    "df['order_time'] = pd.to_datetime(df['order_time']) - pd.to_timedelta(7, unit='d')\n",
    "orders_by_week = df.groupby(pd.Grouper(key='order_time', freq='W-MON'))['number_of_orders'].sum().reset_index().sort_values('order_time')\n",
    "\n",
    "# DataFrame of orders placed by week.\n",
    "print(orders_by_week)\n",
    "\n",
    "# Plotting bar graph\n",
    "orders_by_week_bar = px.bar(orders_by_week, x=\"order_time\",y='number_of_orders', color_discrete_sequence=['indianred'])\n",
    "orders_by_week_bar.show()\n",
    "#py.plot(orders_by_week_bar, filename = 'orders_by_week_bar', auto_open=True)\n"
   ]
  },
  {
   "cell_type": "code",
   "execution_count": 10,
   "metadata": {},
   "outputs": [
    {
     "output_type": "stream",
     "name": "stdout",
     "text": [
      "  order_time  amount_spent\n0 2021-01-18        319.70\n1 2021-01-25       3133.61\n2 2021-02-01       4259.07\n3 2021-02-08       7950.11\n4 2021-02-15       7151.16\n5 2021-02-22       7718.76\n6 2021-03-01       7890.76\n7 2021-03-08      10192.91\n8 2021-03-15       6873.99\n"
     ]
    },
    {
     "output_type": "display_data",
     "data": {
      "application/vnd.plotly.v1+json": {
       "config": {
        "plotlyServerURL": "https://plotly.com"
       },
       "data": [
        {
         "alignmentgroup": "True",
         "hovertemplate": "order_time=%{x}<br>amount_spent=%{y}<extra></extra>",
         "legendgroup": "",
         "marker": {
          "color": "indianred"
         },
         "name": "",
         "offsetgroup": "",
         "orientation": "v",
         "showlegend": false,
         "textposition": "auto",
         "type": "bar",
         "x": [
          "2021-01-18T00:00:00",
          "2021-01-25T00:00:00",
          "2021-02-01T00:00:00",
          "2021-02-08T00:00:00",
          "2021-02-15T00:00:00",
          "2021-02-22T00:00:00",
          "2021-03-01T00:00:00",
          "2021-03-08T00:00:00",
          "2021-03-15T00:00:00"
         ],
         "xaxis": "x",
         "y": [
          319.7,
          3133.6099999999974,
          4259.069999999995,
          7950.109999999996,
          7151.159999999996,
          7718.759999999995,
          7890.759999999994,
          10192.90999999999,
          6873.989999999994
         ],
         "yaxis": "y"
        }
       ],
       "layout": {
        "barmode": "relative",
        "legend": {
         "tracegroupgap": 0
        },
        "margin": {
         "t": 60
        },
        "template": {
         "data": {
          "bar": [
           {
            "error_x": {
             "color": "#2a3f5f"
            },
            "error_y": {
             "color": "#2a3f5f"
            },
            "marker": {
             "line": {
              "color": "#E5ECF6",
              "width": 0.5
             }
            },
            "type": "bar"
           }
          ],
          "barpolar": [
           {
            "marker": {
             "line": {
              "color": "#E5ECF6",
              "width": 0.5
             }
            },
            "type": "barpolar"
           }
          ],
          "carpet": [
           {
            "aaxis": {
             "endlinecolor": "#2a3f5f",
             "gridcolor": "white",
             "linecolor": "white",
             "minorgridcolor": "white",
             "startlinecolor": "#2a3f5f"
            },
            "baxis": {
             "endlinecolor": "#2a3f5f",
             "gridcolor": "white",
             "linecolor": "white",
             "minorgridcolor": "white",
             "startlinecolor": "#2a3f5f"
            },
            "type": "carpet"
           }
          ],
          "choropleth": [
           {
            "colorbar": {
             "outlinewidth": 0,
             "ticks": ""
            },
            "type": "choropleth"
           }
          ],
          "contour": [
           {
            "colorbar": {
             "outlinewidth": 0,
             "ticks": ""
            },
            "colorscale": [
             [
              0,
              "#0d0887"
             ],
             [
              0.1111111111111111,
              "#46039f"
             ],
             [
              0.2222222222222222,
              "#7201a8"
             ],
             [
              0.3333333333333333,
              "#9c179e"
             ],
             [
              0.4444444444444444,
              "#bd3786"
             ],
             [
              0.5555555555555556,
              "#d8576b"
             ],
             [
              0.6666666666666666,
              "#ed7953"
             ],
             [
              0.7777777777777778,
              "#fb9f3a"
             ],
             [
              0.8888888888888888,
              "#fdca26"
             ],
             [
              1,
              "#f0f921"
             ]
            ],
            "type": "contour"
           }
          ],
          "contourcarpet": [
           {
            "colorbar": {
             "outlinewidth": 0,
             "ticks": ""
            },
            "type": "contourcarpet"
           }
          ],
          "heatmap": [
           {
            "colorbar": {
             "outlinewidth": 0,
             "ticks": ""
            },
            "colorscale": [
             [
              0,
              "#0d0887"
             ],
             [
              0.1111111111111111,
              "#46039f"
             ],
             [
              0.2222222222222222,
              "#7201a8"
             ],
             [
              0.3333333333333333,
              "#9c179e"
             ],
             [
              0.4444444444444444,
              "#bd3786"
             ],
             [
              0.5555555555555556,
              "#d8576b"
             ],
             [
              0.6666666666666666,
              "#ed7953"
             ],
             [
              0.7777777777777778,
              "#fb9f3a"
             ],
             [
              0.8888888888888888,
              "#fdca26"
             ],
             [
              1,
              "#f0f921"
             ]
            ],
            "type": "heatmap"
           }
          ],
          "heatmapgl": [
           {
            "colorbar": {
             "outlinewidth": 0,
             "ticks": ""
            },
            "colorscale": [
             [
              0,
              "#0d0887"
             ],
             [
              0.1111111111111111,
              "#46039f"
             ],
             [
              0.2222222222222222,
              "#7201a8"
             ],
             [
              0.3333333333333333,
              "#9c179e"
             ],
             [
              0.4444444444444444,
              "#bd3786"
             ],
             [
              0.5555555555555556,
              "#d8576b"
             ],
             [
              0.6666666666666666,
              "#ed7953"
             ],
             [
              0.7777777777777778,
              "#fb9f3a"
             ],
             [
              0.8888888888888888,
              "#fdca26"
             ],
             [
              1,
              "#f0f921"
             ]
            ],
            "type": "heatmapgl"
           }
          ],
          "histogram": [
           {
            "marker": {
             "colorbar": {
              "outlinewidth": 0,
              "ticks": ""
             }
            },
            "type": "histogram"
           }
          ],
          "histogram2d": [
           {
            "colorbar": {
             "outlinewidth": 0,
             "ticks": ""
            },
            "colorscale": [
             [
              0,
              "#0d0887"
             ],
             [
              0.1111111111111111,
              "#46039f"
             ],
             [
              0.2222222222222222,
              "#7201a8"
             ],
             [
              0.3333333333333333,
              "#9c179e"
             ],
             [
              0.4444444444444444,
              "#bd3786"
             ],
             [
              0.5555555555555556,
              "#d8576b"
             ],
             [
              0.6666666666666666,
              "#ed7953"
             ],
             [
              0.7777777777777778,
              "#fb9f3a"
             ],
             [
              0.8888888888888888,
              "#fdca26"
             ],
             [
              1,
              "#f0f921"
             ]
            ],
            "type": "histogram2d"
           }
          ],
          "histogram2dcontour": [
           {
            "colorbar": {
             "outlinewidth": 0,
             "ticks": ""
            },
            "colorscale": [
             [
              0,
              "#0d0887"
             ],
             [
              0.1111111111111111,
              "#46039f"
             ],
             [
              0.2222222222222222,
              "#7201a8"
             ],
             [
              0.3333333333333333,
              "#9c179e"
             ],
             [
              0.4444444444444444,
              "#bd3786"
             ],
             [
              0.5555555555555556,
              "#d8576b"
             ],
             [
              0.6666666666666666,
              "#ed7953"
             ],
             [
              0.7777777777777778,
              "#fb9f3a"
             ],
             [
              0.8888888888888888,
              "#fdca26"
             ],
             [
              1,
              "#f0f921"
             ]
            ],
            "type": "histogram2dcontour"
           }
          ],
          "mesh3d": [
           {
            "colorbar": {
             "outlinewidth": 0,
             "ticks": ""
            },
            "type": "mesh3d"
           }
          ],
          "parcoords": [
           {
            "line": {
             "colorbar": {
              "outlinewidth": 0,
              "ticks": ""
             }
            },
            "type": "parcoords"
           }
          ],
          "pie": [
           {
            "automargin": true,
            "type": "pie"
           }
          ],
          "scatter": [
           {
            "marker": {
             "colorbar": {
              "outlinewidth": 0,
              "ticks": ""
             }
            },
            "type": "scatter"
           }
          ],
          "scatter3d": [
           {
            "line": {
             "colorbar": {
              "outlinewidth": 0,
              "ticks": ""
             }
            },
            "marker": {
             "colorbar": {
              "outlinewidth": 0,
              "ticks": ""
             }
            },
            "type": "scatter3d"
           }
          ],
          "scattercarpet": [
           {
            "marker": {
             "colorbar": {
              "outlinewidth": 0,
              "ticks": ""
             }
            },
            "type": "scattercarpet"
           }
          ],
          "scattergeo": [
           {
            "marker": {
             "colorbar": {
              "outlinewidth": 0,
              "ticks": ""
             }
            },
            "type": "scattergeo"
           }
          ],
          "scattergl": [
           {
            "marker": {
             "colorbar": {
              "outlinewidth": 0,
              "ticks": ""
             }
            },
            "type": "scattergl"
           }
          ],
          "scattermapbox": [
           {
            "marker": {
             "colorbar": {
              "outlinewidth": 0,
              "ticks": ""
             }
            },
            "type": "scattermapbox"
           }
          ],
          "scatterpolar": [
           {
            "marker": {
             "colorbar": {
              "outlinewidth": 0,
              "ticks": ""
             }
            },
            "type": "scatterpolar"
           }
          ],
          "scatterpolargl": [
           {
            "marker": {
             "colorbar": {
              "outlinewidth": 0,
              "ticks": ""
             }
            },
            "type": "scatterpolargl"
           }
          ],
          "scatterternary": [
           {
            "marker": {
             "colorbar": {
              "outlinewidth": 0,
              "ticks": ""
             }
            },
            "type": "scatterternary"
           }
          ],
          "surface": [
           {
            "colorbar": {
             "outlinewidth": 0,
             "ticks": ""
            },
            "colorscale": [
             [
              0,
              "#0d0887"
             ],
             [
              0.1111111111111111,
              "#46039f"
             ],
             [
              0.2222222222222222,
              "#7201a8"
             ],
             [
              0.3333333333333333,
              "#9c179e"
             ],
             [
              0.4444444444444444,
              "#bd3786"
             ],
             [
              0.5555555555555556,
              "#d8576b"
             ],
             [
              0.6666666666666666,
              "#ed7953"
             ],
             [
              0.7777777777777778,
              "#fb9f3a"
             ],
             [
              0.8888888888888888,
              "#fdca26"
             ],
             [
              1,
              "#f0f921"
             ]
            ],
            "type": "surface"
           }
          ],
          "table": [
           {
            "cells": {
             "fill": {
              "color": "#EBF0F8"
             },
             "line": {
              "color": "white"
             }
            },
            "header": {
             "fill": {
              "color": "#C8D4E3"
             },
             "line": {
              "color": "white"
             }
            },
            "type": "table"
           }
          ]
         },
         "layout": {
          "annotationdefaults": {
           "arrowcolor": "#2a3f5f",
           "arrowhead": 0,
           "arrowwidth": 1
          },
          "autotypenumbers": "strict",
          "coloraxis": {
           "colorbar": {
            "outlinewidth": 0,
            "ticks": ""
           }
          },
          "colorscale": {
           "diverging": [
            [
             0,
             "#8e0152"
            ],
            [
             0.1,
             "#c51b7d"
            ],
            [
             0.2,
             "#de77ae"
            ],
            [
             0.3,
             "#f1b6da"
            ],
            [
             0.4,
             "#fde0ef"
            ],
            [
             0.5,
             "#f7f7f7"
            ],
            [
             0.6,
             "#e6f5d0"
            ],
            [
             0.7,
             "#b8e186"
            ],
            [
             0.8,
             "#7fbc41"
            ],
            [
             0.9,
             "#4d9221"
            ],
            [
             1,
             "#276419"
            ]
           ],
           "sequential": [
            [
             0,
             "#0d0887"
            ],
            [
             0.1111111111111111,
             "#46039f"
            ],
            [
             0.2222222222222222,
             "#7201a8"
            ],
            [
             0.3333333333333333,
             "#9c179e"
            ],
            [
             0.4444444444444444,
             "#bd3786"
            ],
            [
             0.5555555555555556,
             "#d8576b"
            ],
            [
             0.6666666666666666,
             "#ed7953"
            ],
            [
             0.7777777777777778,
             "#fb9f3a"
            ],
            [
             0.8888888888888888,
             "#fdca26"
            ],
            [
             1,
             "#f0f921"
            ]
           ],
           "sequentialminus": [
            [
             0,
             "#0d0887"
            ],
            [
             0.1111111111111111,
             "#46039f"
            ],
            [
             0.2222222222222222,
             "#7201a8"
            ],
            [
             0.3333333333333333,
             "#9c179e"
            ],
            [
             0.4444444444444444,
             "#bd3786"
            ],
            [
             0.5555555555555556,
             "#d8576b"
            ],
            [
             0.6666666666666666,
             "#ed7953"
            ],
            [
             0.7777777777777778,
             "#fb9f3a"
            ],
            [
             0.8888888888888888,
             "#fdca26"
            ],
            [
             1,
             "#f0f921"
            ]
           ]
          },
          "colorway": [
           "#636efa",
           "#EF553B",
           "#00cc96",
           "#ab63fa",
           "#FFA15A",
           "#19d3f3",
           "#FF6692",
           "#B6E880",
           "#FF97FF",
           "#FECB52"
          ],
          "font": {
           "color": "#2a3f5f"
          },
          "geo": {
           "bgcolor": "white",
           "lakecolor": "white",
           "landcolor": "#E5ECF6",
           "showlakes": true,
           "showland": true,
           "subunitcolor": "white"
          },
          "hoverlabel": {
           "align": "left"
          },
          "hovermode": "closest",
          "mapbox": {
           "style": "light"
          },
          "paper_bgcolor": "white",
          "plot_bgcolor": "#E5ECF6",
          "polar": {
           "angularaxis": {
            "gridcolor": "white",
            "linecolor": "white",
            "ticks": ""
           },
           "bgcolor": "#E5ECF6",
           "radialaxis": {
            "gridcolor": "white",
            "linecolor": "white",
            "ticks": ""
           }
          },
          "scene": {
           "xaxis": {
            "backgroundcolor": "#E5ECF6",
            "gridcolor": "white",
            "gridwidth": 2,
            "linecolor": "white",
            "showbackground": true,
            "ticks": "",
            "zerolinecolor": "white"
           },
           "yaxis": {
            "backgroundcolor": "#E5ECF6",
            "gridcolor": "white",
            "gridwidth": 2,
            "linecolor": "white",
            "showbackground": true,
            "ticks": "",
            "zerolinecolor": "white"
           },
           "zaxis": {
            "backgroundcolor": "#E5ECF6",
            "gridcolor": "white",
            "gridwidth": 2,
            "linecolor": "white",
            "showbackground": true,
            "ticks": "",
            "zerolinecolor": "white"
           }
          },
          "shapedefaults": {
           "line": {
            "color": "#2a3f5f"
           }
          },
          "ternary": {
           "aaxis": {
            "gridcolor": "white",
            "linecolor": "white",
            "ticks": ""
           },
           "baxis": {
            "gridcolor": "white",
            "linecolor": "white",
            "ticks": ""
           },
           "bgcolor": "#E5ECF6",
           "caxis": {
            "gridcolor": "white",
            "linecolor": "white",
            "ticks": ""
           }
          },
          "title": {
           "x": 0.05
          },
          "xaxis": {
           "automargin": true,
           "gridcolor": "white",
           "linecolor": "white",
           "ticks": "",
           "title": {
            "standoff": 15
           },
           "zerolinecolor": "white",
           "zerolinewidth": 2
          },
          "yaxis": {
           "automargin": true,
           "gridcolor": "white",
           "linecolor": "white",
           "ticks": "",
           "title": {
            "standoff": 15
           },
           "zerolinecolor": "white",
           "zerolinewidth": 2
          }
         }
        },
        "xaxis": {
         "anchor": "y",
         "domain": [
          0,
          1
         ],
         "title": {
          "text": "order_time"
         }
        },
        "yaxis": {
         "anchor": "x",
         "domain": [
          0,
          1
         ],
         "title": {
          "text": "amount_spent"
         }
        }
       }
      },
      "text/html": "<div>                            <div id=\"93b014ee-b9df-4d1d-b004-3df4ffbefdb6\" class=\"plotly-graph-div\" style=\"height:525px; width:100%;\"></div>            <script type=\"text/javascript\">                require([\"plotly\"], function(Plotly) {                    window.PLOTLYENV=window.PLOTLYENV || {};                                    if (document.getElementById(\"93b014ee-b9df-4d1d-b004-3df4ffbefdb6\")) {                    Plotly.newPlot(                        \"93b014ee-b9df-4d1d-b004-3df4ffbefdb6\",                        [{\"alignmentgroup\": \"True\", \"hovertemplate\": \"order_time=%{x}<br>amount_spent=%{y}<extra></extra>\", \"legendgroup\": \"\", \"marker\": {\"color\": \"indianred\"}, \"name\": \"\", \"offsetgroup\": \"\", \"orientation\": \"v\", \"showlegend\": false, \"textposition\": \"auto\", \"type\": \"bar\", \"x\": [\"2021-01-18T00:00:00\", \"2021-01-25T00:00:00\", \"2021-02-01T00:00:00\", \"2021-02-08T00:00:00\", \"2021-02-15T00:00:00\", \"2021-02-22T00:00:00\", \"2021-03-01T00:00:00\", \"2021-03-08T00:00:00\", \"2021-03-15T00:00:00\"], \"xaxis\": \"x\", \"y\": [319.7, 3133.6099999999974, 4259.069999999995, 7950.109999999996, 7151.159999999996, 7718.759999999995, 7890.759999999994, 10192.90999999999, 6873.989999999994], \"yaxis\": \"y\"}],                        {\"barmode\": \"relative\", \"legend\": {\"tracegroupgap\": 0}, \"margin\": {\"t\": 60}, \"template\": {\"data\": {\"bar\": [{\"error_x\": {\"color\": \"#2a3f5f\"}, \"error_y\": {\"color\": \"#2a3f5f\"}, \"marker\": {\"line\": {\"color\": \"#E5ECF6\", \"width\": 0.5}}, \"type\": \"bar\"}], \"barpolar\": [{\"marker\": {\"line\": {\"color\": \"#E5ECF6\", \"width\": 0.5}}, \"type\": \"barpolar\"}], \"carpet\": [{\"aaxis\": {\"endlinecolor\": \"#2a3f5f\", \"gridcolor\": \"white\", \"linecolor\": \"white\", \"minorgridcolor\": \"white\", \"startlinecolor\": \"#2a3f5f\"}, \"baxis\": {\"endlinecolor\": \"#2a3f5f\", \"gridcolor\": \"white\", \"linecolor\": \"white\", \"minorgridcolor\": \"white\", \"startlinecolor\": \"#2a3f5f\"}, \"type\": \"carpet\"}], \"choropleth\": [{\"colorbar\": {\"outlinewidth\": 0, \"ticks\": \"\"}, \"type\": \"choropleth\"}], \"contour\": [{\"colorbar\": {\"outlinewidth\": 0, \"ticks\": \"\"}, \"colorscale\": [[0.0, \"#0d0887\"], [0.1111111111111111, \"#46039f\"], [0.2222222222222222, \"#7201a8\"], [0.3333333333333333, \"#9c179e\"], [0.4444444444444444, \"#bd3786\"], [0.5555555555555556, \"#d8576b\"], [0.6666666666666666, \"#ed7953\"], [0.7777777777777778, \"#fb9f3a\"], [0.8888888888888888, \"#fdca26\"], [1.0, \"#f0f921\"]], \"type\": \"contour\"}], \"contourcarpet\": [{\"colorbar\": {\"outlinewidth\": 0, \"ticks\": \"\"}, \"type\": \"contourcarpet\"}], \"heatmap\": [{\"colorbar\": {\"outlinewidth\": 0, \"ticks\": \"\"}, \"colorscale\": [[0.0, \"#0d0887\"], [0.1111111111111111, \"#46039f\"], [0.2222222222222222, \"#7201a8\"], [0.3333333333333333, \"#9c179e\"], [0.4444444444444444, \"#bd3786\"], [0.5555555555555556, \"#d8576b\"], [0.6666666666666666, \"#ed7953\"], [0.7777777777777778, \"#fb9f3a\"], [0.8888888888888888, \"#fdca26\"], [1.0, \"#f0f921\"]], \"type\": \"heatmap\"}], \"heatmapgl\": [{\"colorbar\": {\"outlinewidth\": 0, \"ticks\": \"\"}, \"colorscale\": [[0.0, \"#0d0887\"], [0.1111111111111111, \"#46039f\"], [0.2222222222222222, \"#7201a8\"], [0.3333333333333333, \"#9c179e\"], [0.4444444444444444, \"#bd3786\"], [0.5555555555555556, \"#d8576b\"], [0.6666666666666666, \"#ed7953\"], [0.7777777777777778, \"#fb9f3a\"], [0.8888888888888888, \"#fdca26\"], [1.0, \"#f0f921\"]], \"type\": \"heatmapgl\"}], \"histogram\": [{\"marker\": {\"colorbar\": {\"outlinewidth\": 0, \"ticks\": \"\"}}, \"type\": \"histogram\"}], \"histogram2d\": [{\"colorbar\": {\"outlinewidth\": 0, \"ticks\": \"\"}, \"colorscale\": [[0.0, \"#0d0887\"], [0.1111111111111111, \"#46039f\"], [0.2222222222222222, \"#7201a8\"], [0.3333333333333333, \"#9c179e\"], [0.4444444444444444, \"#bd3786\"], [0.5555555555555556, \"#d8576b\"], [0.6666666666666666, \"#ed7953\"], [0.7777777777777778, \"#fb9f3a\"], [0.8888888888888888, \"#fdca26\"], [1.0, \"#f0f921\"]], \"type\": \"histogram2d\"}], \"histogram2dcontour\": [{\"colorbar\": {\"outlinewidth\": 0, \"ticks\": \"\"}, \"colorscale\": [[0.0, \"#0d0887\"], [0.1111111111111111, \"#46039f\"], [0.2222222222222222, \"#7201a8\"], [0.3333333333333333, \"#9c179e\"], [0.4444444444444444, \"#bd3786\"], [0.5555555555555556, \"#d8576b\"], [0.6666666666666666, \"#ed7953\"], [0.7777777777777778, \"#fb9f3a\"], [0.8888888888888888, \"#fdca26\"], [1.0, \"#f0f921\"]], \"type\": \"histogram2dcontour\"}], \"mesh3d\": [{\"colorbar\": {\"outlinewidth\": 0, \"ticks\": \"\"}, \"type\": \"mesh3d\"}], \"parcoords\": [{\"line\": {\"colorbar\": {\"outlinewidth\": 0, \"ticks\": \"\"}}, \"type\": \"parcoords\"}], \"pie\": [{\"automargin\": true, \"type\": \"pie\"}], \"scatter\": [{\"marker\": {\"colorbar\": {\"outlinewidth\": 0, \"ticks\": \"\"}}, \"type\": \"scatter\"}], \"scatter3d\": [{\"line\": {\"colorbar\": {\"outlinewidth\": 0, \"ticks\": \"\"}}, \"marker\": {\"colorbar\": {\"outlinewidth\": 0, \"ticks\": \"\"}}, \"type\": \"scatter3d\"}], \"scattercarpet\": [{\"marker\": {\"colorbar\": {\"outlinewidth\": 0, \"ticks\": \"\"}}, \"type\": \"scattercarpet\"}], \"scattergeo\": [{\"marker\": {\"colorbar\": {\"outlinewidth\": 0, \"ticks\": \"\"}}, \"type\": \"scattergeo\"}], \"scattergl\": [{\"marker\": {\"colorbar\": {\"outlinewidth\": 0, \"ticks\": \"\"}}, \"type\": \"scattergl\"}], \"scattermapbox\": [{\"marker\": {\"colorbar\": {\"outlinewidth\": 0, \"ticks\": \"\"}}, \"type\": \"scattermapbox\"}], \"scatterpolar\": [{\"marker\": {\"colorbar\": {\"outlinewidth\": 0, \"ticks\": \"\"}}, \"type\": \"scatterpolar\"}], \"scatterpolargl\": [{\"marker\": {\"colorbar\": {\"outlinewidth\": 0, \"ticks\": \"\"}}, \"type\": \"scatterpolargl\"}], \"scatterternary\": [{\"marker\": {\"colorbar\": {\"outlinewidth\": 0, \"ticks\": \"\"}}, \"type\": \"scatterternary\"}], \"surface\": [{\"colorbar\": {\"outlinewidth\": 0, \"ticks\": \"\"}, \"colorscale\": [[0.0, \"#0d0887\"], [0.1111111111111111, \"#46039f\"], [0.2222222222222222, \"#7201a8\"], [0.3333333333333333, \"#9c179e\"], [0.4444444444444444, \"#bd3786\"], [0.5555555555555556, \"#d8576b\"], [0.6666666666666666, \"#ed7953\"], [0.7777777777777778, \"#fb9f3a\"], [0.8888888888888888, \"#fdca26\"], [1.0, \"#f0f921\"]], \"type\": \"surface\"}], \"table\": [{\"cells\": {\"fill\": {\"color\": \"#EBF0F8\"}, \"line\": {\"color\": \"white\"}}, \"header\": {\"fill\": {\"color\": \"#C8D4E3\"}, \"line\": {\"color\": \"white\"}}, \"type\": \"table\"}]}, \"layout\": {\"annotationdefaults\": {\"arrowcolor\": \"#2a3f5f\", \"arrowhead\": 0, \"arrowwidth\": 1}, \"autotypenumbers\": \"strict\", \"coloraxis\": {\"colorbar\": {\"outlinewidth\": 0, \"ticks\": \"\"}}, \"colorscale\": {\"diverging\": [[0, \"#8e0152\"], [0.1, \"#c51b7d\"], [0.2, \"#de77ae\"], [0.3, \"#f1b6da\"], [0.4, \"#fde0ef\"], [0.5, \"#f7f7f7\"], [0.6, \"#e6f5d0\"], [0.7, \"#b8e186\"], [0.8, \"#7fbc41\"], [0.9, \"#4d9221\"], [1, \"#276419\"]], \"sequential\": [[0.0, \"#0d0887\"], [0.1111111111111111, \"#46039f\"], [0.2222222222222222, \"#7201a8\"], [0.3333333333333333, \"#9c179e\"], [0.4444444444444444, \"#bd3786\"], [0.5555555555555556, \"#d8576b\"], [0.6666666666666666, \"#ed7953\"], [0.7777777777777778, \"#fb9f3a\"], [0.8888888888888888, \"#fdca26\"], [1.0, \"#f0f921\"]], \"sequentialminus\": [[0.0, \"#0d0887\"], [0.1111111111111111, \"#46039f\"], [0.2222222222222222, \"#7201a8\"], [0.3333333333333333, \"#9c179e\"], [0.4444444444444444, \"#bd3786\"], [0.5555555555555556, \"#d8576b\"], [0.6666666666666666, \"#ed7953\"], [0.7777777777777778, \"#fb9f3a\"], [0.8888888888888888, \"#fdca26\"], [1.0, \"#f0f921\"]]}, \"colorway\": [\"#636efa\", \"#EF553B\", \"#00cc96\", \"#ab63fa\", \"#FFA15A\", \"#19d3f3\", \"#FF6692\", \"#B6E880\", \"#FF97FF\", \"#FECB52\"], \"font\": {\"color\": \"#2a3f5f\"}, \"geo\": {\"bgcolor\": \"white\", \"lakecolor\": \"white\", \"landcolor\": \"#E5ECF6\", \"showlakes\": true, \"showland\": true, \"subunitcolor\": \"white\"}, \"hoverlabel\": {\"align\": \"left\"}, \"hovermode\": \"closest\", \"mapbox\": {\"style\": \"light\"}, \"paper_bgcolor\": \"white\", \"plot_bgcolor\": \"#E5ECF6\", \"polar\": {\"angularaxis\": {\"gridcolor\": \"white\", \"linecolor\": \"white\", \"ticks\": \"\"}, \"bgcolor\": \"#E5ECF6\", \"radialaxis\": {\"gridcolor\": \"white\", \"linecolor\": \"white\", \"ticks\": \"\"}}, \"scene\": {\"xaxis\": {\"backgroundcolor\": \"#E5ECF6\", \"gridcolor\": \"white\", \"gridwidth\": 2, \"linecolor\": \"white\", \"showbackground\": true, \"ticks\": \"\", \"zerolinecolor\": \"white\"}, \"yaxis\": {\"backgroundcolor\": \"#E5ECF6\", \"gridcolor\": \"white\", \"gridwidth\": 2, \"linecolor\": \"white\", \"showbackground\": true, \"ticks\": \"\", \"zerolinecolor\": \"white\"}, \"zaxis\": {\"backgroundcolor\": \"#E5ECF6\", \"gridcolor\": \"white\", \"gridwidth\": 2, \"linecolor\": \"white\", \"showbackground\": true, \"ticks\": \"\", \"zerolinecolor\": \"white\"}}, \"shapedefaults\": {\"line\": {\"color\": \"#2a3f5f\"}}, \"ternary\": {\"aaxis\": {\"gridcolor\": \"white\", \"linecolor\": \"white\", \"ticks\": \"\"}, \"baxis\": {\"gridcolor\": \"white\", \"linecolor\": \"white\", \"ticks\": \"\"}, \"bgcolor\": \"#E5ECF6\", \"caxis\": {\"gridcolor\": \"white\", \"linecolor\": \"white\", \"ticks\": \"\"}}, \"title\": {\"x\": 0.05}, \"xaxis\": {\"automargin\": true, \"gridcolor\": \"white\", \"linecolor\": \"white\", \"ticks\": \"\", \"title\": {\"standoff\": 15}, \"zerolinecolor\": \"white\", \"zerolinewidth\": 2}, \"yaxis\": {\"automargin\": true, \"gridcolor\": \"white\", \"linecolor\": \"white\", \"ticks\": \"\", \"title\": {\"standoff\": 15}, \"zerolinecolor\": \"white\", \"zerolinewidth\": 2}}}, \"xaxis\": {\"anchor\": \"y\", \"domain\": [0.0, 1.0], \"title\": {\"text\": \"order_time\"}}, \"yaxis\": {\"anchor\": \"x\", \"domain\": [0.0, 1.0], \"title\": {\"text\": \"amount_spent\"}}},                        {\"responsive\": true}                    ).then(function(){\n                            \nvar gd = document.getElementById('93b014ee-b9df-4d1d-b004-3df4ffbefdb6');\nvar x = new MutationObserver(function (mutations, observer) {{\n        var display = window.getComputedStyle(gd).display;\n        if (!display || display === 'none') {{\n            console.log([gd, 'removed!']);\n            Plotly.purge(gd);\n            observer.disconnect();\n        }}\n}});\n\n// Listen for the removal of the full notebook cells\nvar notebookContainer = gd.closest('#notebook-container');\nif (notebookContainer) {{\n    x.observe(notebookContainer, {childList: true});\n}}\n\n// Listen for the clearing of the current output cell\nvar outputEl = gd.closest('.output');\nif (outputEl) {{\n    x.observe(outputEl, {childList: true});\n}}\n\n                        })                };                });            </script>        </div>"
     },
     "metadata": {}
    }
   ],
   "source": [
    "revenue_by_week = df.groupby(pd.Grouper(key='order_time', freq='W-MON'))['amount_spent'].sum().reset_index().sort_values('order_time')\n",
    "\n",
    "# DataFrame of revenue by week.\n",
    "print(revenue_by_week)\n",
    "\n",
    "# Plotting bar graph\n",
    "revenue_by_week_bar = px.bar(revenue_by_week, x=\"order_time\", y='amount_spent', color_discrete_sequence=['indianred'])\n",
    "revenue_by_week_bar.show()\n",
    "#py.plot(revenue_by_week_bar, filename = 'revenue_by_week_bar', auto_open=True)"
   ]
  },
  {
   "cell_type": "code",
   "execution_count": 11,
   "metadata": {},
   "outputs": [
    {
     "output_type": "stream",
     "name": "stdout",
     "text": [
      "    index  order_time\n15     23    0.000966\n14     22    0.002899\n13      8    0.005797\n12     21    0.007729\n11     10    0.013043\n10      9    0.013527\n9      20    0.040580\n8      15    0.051691\n7      19    0.068116\n6      16    0.072947\n5      14    0.079710\n4      11    0.092754\n3      17    0.105314\n2      18    0.110628\n1      13    0.136715\n0      12    0.197585\n"
     ]
    },
    {
     "output_type": "display_data",
     "data": {
      "application/vnd.plotly.v1+json": {
       "config": {
        "plotlyServerURL": "https://plotly.com"
       },
       "data": [
        {
         "alignmentgroup": "True",
         "hovertemplate": "index=%{x}<br>order_time=%{y}<extra></extra>",
         "legendgroup": "",
         "marker": {
          "color": "indianred"
         },
         "name": "",
         "offsetgroup": "",
         "orientation": "v",
         "showlegend": false,
         "textposition": "auto",
         "type": "bar",
         "x": [
          23,
          22,
          8,
          21,
          10,
          9,
          20,
          15,
          19,
          16,
          14,
          11,
          17,
          18,
          13,
          12
         ],
         "xaxis": "x",
         "y": [
          0.000966183574879227,
          0.002898550724637681,
          0.005797101449275362,
          0.007729468599033816,
          0.013043478260869565,
          0.01352657004830918,
          0.04057971014492753,
          0.051690821256038647,
          0.06811594202898551,
          0.07294685990338164,
          0.07971014492753623,
          0.0927536231884058,
          0.10531400966183575,
          0.1106280193236715,
          0.13671497584541062,
          0.19758454106280193
         ],
         "yaxis": "y"
        }
       ],
       "layout": {
        "barmode": "relative",
        "legend": {
         "tracegroupgap": 0
        },
        "margin": {
         "t": 60
        },
        "template": {
         "data": {
          "bar": [
           {
            "error_x": {
             "color": "#2a3f5f"
            },
            "error_y": {
             "color": "#2a3f5f"
            },
            "marker": {
             "line": {
              "color": "#E5ECF6",
              "width": 0.5
             }
            },
            "type": "bar"
           }
          ],
          "barpolar": [
           {
            "marker": {
             "line": {
              "color": "#E5ECF6",
              "width": 0.5
             }
            },
            "type": "barpolar"
           }
          ],
          "carpet": [
           {
            "aaxis": {
             "endlinecolor": "#2a3f5f",
             "gridcolor": "white",
             "linecolor": "white",
             "minorgridcolor": "white",
             "startlinecolor": "#2a3f5f"
            },
            "baxis": {
             "endlinecolor": "#2a3f5f",
             "gridcolor": "white",
             "linecolor": "white",
             "minorgridcolor": "white",
             "startlinecolor": "#2a3f5f"
            },
            "type": "carpet"
           }
          ],
          "choropleth": [
           {
            "colorbar": {
             "outlinewidth": 0,
             "ticks": ""
            },
            "type": "choropleth"
           }
          ],
          "contour": [
           {
            "colorbar": {
             "outlinewidth": 0,
             "ticks": ""
            },
            "colorscale": [
             [
              0,
              "#0d0887"
             ],
             [
              0.1111111111111111,
              "#46039f"
             ],
             [
              0.2222222222222222,
              "#7201a8"
             ],
             [
              0.3333333333333333,
              "#9c179e"
             ],
             [
              0.4444444444444444,
              "#bd3786"
             ],
             [
              0.5555555555555556,
              "#d8576b"
             ],
             [
              0.6666666666666666,
              "#ed7953"
             ],
             [
              0.7777777777777778,
              "#fb9f3a"
             ],
             [
              0.8888888888888888,
              "#fdca26"
             ],
             [
              1,
              "#f0f921"
             ]
            ],
            "type": "contour"
           }
          ],
          "contourcarpet": [
           {
            "colorbar": {
             "outlinewidth": 0,
             "ticks": ""
            },
            "type": "contourcarpet"
           }
          ],
          "heatmap": [
           {
            "colorbar": {
             "outlinewidth": 0,
             "ticks": ""
            },
            "colorscale": [
             [
              0,
              "#0d0887"
             ],
             [
              0.1111111111111111,
              "#46039f"
             ],
             [
              0.2222222222222222,
              "#7201a8"
             ],
             [
              0.3333333333333333,
              "#9c179e"
             ],
             [
              0.4444444444444444,
              "#bd3786"
             ],
             [
              0.5555555555555556,
              "#d8576b"
             ],
             [
              0.6666666666666666,
              "#ed7953"
             ],
             [
              0.7777777777777778,
              "#fb9f3a"
             ],
             [
              0.8888888888888888,
              "#fdca26"
             ],
             [
              1,
              "#f0f921"
             ]
            ],
            "type": "heatmap"
           }
          ],
          "heatmapgl": [
           {
            "colorbar": {
             "outlinewidth": 0,
             "ticks": ""
            },
            "colorscale": [
             [
              0,
              "#0d0887"
             ],
             [
              0.1111111111111111,
              "#46039f"
             ],
             [
              0.2222222222222222,
              "#7201a8"
             ],
             [
              0.3333333333333333,
              "#9c179e"
             ],
             [
              0.4444444444444444,
              "#bd3786"
             ],
             [
              0.5555555555555556,
              "#d8576b"
             ],
             [
              0.6666666666666666,
              "#ed7953"
             ],
             [
              0.7777777777777778,
              "#fb9f3a"
             ],
             [
              0.8888888888888888,
              "#fdca26"
             ],
             [
              1,
              "#f0f921"
             ]
            ],
            "type": "heatmapgl"
           }
          ],
          "histogram": [
           {
            "marker": {
             "colorbar": {
              "outlinewidth": 0,
              "ticks": ""
             }
            },
            "type": "histogram"
           }
          ],
          "histogram2d": [
           {
            "colorbar": {
             "outlinewidth": 0,
             "ticks": ""
            },
            "colorscale": [
             [
              0,
              "#0d0887"
             ],
             [
              0.1111111111111111,
              "#46039f"
             ],
             [
              0.2222222222222222,
              "#7201a8"
             ],
             [
              0.3333333333333333,
              "#9c179e"
             ],
             [
              0.4444444444444444,
              "#bd3786"
             ],
             [
              0.5555555555555556,
              "#d8576b"
             ],
             [
              0.6666666666666666,
              "#ed7953"
             ],
             [
              0.7777777777777778,
              "#fb9f3a"
             ],
             [
              0.8888888888888888,
              "#fdca26"
             ],
             [
              1,
              "#f0f921"
             ]
            ],
            "type": "histogram2d"
           }
          ],
          "histogram2dcontour": [
           {
            "colorbar": {
             "outlinewidth": 0,
             "ticks": ""
            },
            "colorscale": [
             [
              0,
              "#0d0887"
             ],
             [
              0.1111111111111111,
              "#46039f"
             ],
             [
              0.2222222222222222,
              "#7201a8"
             ],
             [
              0.3333333333333333,
              "#9c179e"
             ],
             [
              0.4444444444444444,
              "#bd3786"
             ],
             [
              0.5555555555555556,
              "#d8576b"
             ],
             [
              0.6666666666666666,
              "#ed7953"
             ],
             [
              0.7777777777777778,
              "#fb9f3a"
             ],
             [
              0.8888888888888888,
              "#fdca26"
             ],
             [
              1,
              "#f0f921"
             ]
            ],
            "type": "histogram2dcontour"
           }
          ],
          "mesh3d": [
           {
            "colorbar": {
             "outlinewidth": 0,
             "ticks": ""
            },
            "type": "mesh3d"
           }
          ],
          "parcoords": [
           {
            "line": {
             "colorbar": {
              "outlinewidth": 0,
              "ticks": ""
             }
            },
            "type": "parcoords"
           }
          ],
          "pie": [
           {
            "automargin": true,
            "type": "pie"
           }
          ],
          "scatter": [
           {
            "marker": {
             "colorbar": {
              "outlinewidth": 0,
              "ticks": ""
             }
            },
            "type": "scatter"
           }
          ],
          "scatter3d": [
           {
            "line": {
             "colorbar": {
              "outlinewidth": 0,
              "ticks": ""
             }
            },
            "marker": {
             "colorbar": {
              "outlinewidth": 0,
              "ticks": ""
             }
            },
            "type": "scatter3d"
           }
          ],
          "scattercarpet": [
           {
            "marker": {
             "colorbar": {
              "outlinewidth": 0,
              "ticks": ""
             }
            },
            "type": "scattercarpet"
           }
          ],
          "scattergeo": [
           {
            "marker": {
             "colorbar": {
              "outlinewidth": 0,
              "ticks": ""
             }
            },
            "type": "scattergeo"
           }
          ],
          "scattergl": [
           {
            "marker": {
             "colorbar": {
              "outlinewidth": 0,
              "ticks": ""
             }
            },
            "type": "scattergl"
           }
          ],
          "scattermapbox": [
           {
            "marker": {
             "colorbar": {
              "outlinewidth": 0,
              "ticks": ""
             }
            },
            "type": "scattermapbox"
           }
          ],
          "scatterpolar": [
           {
            "marker": {
             "colorbar": {
              "outlinewidth": 0,
              "ticks": ""
             }
            },
            "type": "scatterpolar"
           }
          ],
          "scatterpolargl": [
           {
            "marker": {
             "colorbar": {
              "outlinewidth": 0,
              "ticks": ""
             }
            },
            "type": "scatterpolargl"
           }
          ],
          "scatterternary": [
           {
            "marker": {
             "colorbar": {
              "outlinewidth": 0,
              "ticks": ""
             }
            },
            "type": "scatterternary"
           }
          ],
          "surface": [
           {
            "colorbar": {
             "outlinewidth": 0,
             "ticks": ""
            },
            "colorscale": [
             [
              0,
              "#0d0887"
             ],
             [
              0.1111111111111111,
              "#46039f"
             ],
             [
              0.2222222222222222,
              "#7201a8"
             ],
             [
              0.3333333333333333,
              "#9c179e"
             ],
             [
              0.4444444444444444,
              "#bd3786"
             ],
             [
              0.5555555555555556,
              "#d8576b"
             ],
             [
              0.6666666666666666,
              "#ed7953"
             ],
             [
              0.7777777777777778,
              "#fb9f3a"
             ],
             [
              0.8888888888888888,
              "#fdca26"
             ],
             [
              1,
              "#f0f921"
             ]
            ],
            "type": "surface"
           }
          ],
          "table": [
           {
            "cells": {
             "fill": {
              "color": "#EBF0F8"
             },
             "line": {
              "color": "white"
             }
            },
            "header": {
             "fill": {
              "color": "#C8D4E3"
             },
             "line": {
              "color": "white"
             }
            },
            "type": "table"
           }
          ]
         },
         "layout": {
          "annotationdefaults": {
           "arrowcolor": "#2a3f5f",
           "arrowhead": 0,
           "arrowwidth": 1
          },
          "autotypenumbers": "strict",
          "coloraxis": {
           "colorbar": {
            "outlinewidth": 0,
            "ticks": ""
           }
          },
          "colorscale": {
           "diverging": [
            [
             0,
             "#8e0152"
            ],
            [
             0.1,
             "#c51b7d"
            ],
            [
             0.2,
             "#de77ae"
            ],
            [
             0.3,
             "#f1b6da"
            ],
            [
             0.4,
             "#fde0ef"
            ],
            [
             0.5,
             "#f7f7f7"
            ],
            [
             0.6,
             "#e6f5d0"
            ],
            [
             0.7,
             "#b8e186"
            ],
            [
             0.8,
             "#7fbc41"
            ],
            [
             0.9,
             "#4d9221"
            ],
            [
             1,
             "#276419"
            ]
           ],
           "sequential": [
            [
             0,
             "#0d0887"
            ],
            [
             0.1111111111111111,
             "#46039f"
            ],
            [
             0.2222222222222222,
             "#7201a8"
            ],
            [
             0.3333333333333333,
             "#9c179e"
            ],
            [
             0.4444444444444444,
             "#bd3786"
            ],
            [
             0.5555555555555556,
             "#d8576b"
            ],
            [
             0.6666666666666666,
             "#ed7953"
            ],
            [
             0.7777777777777778,
             "#fb9f3a"
            ],
            [
             0.8888888888888888,
             "#fdca26"
            ],
            [
             1,
             "#f0f921"
            ]
           ],
           "sequentialminus": [
            [
             0,
             "#0d0887"
            ],
            [
             0.1111111111111111,
             "#46039f"
            ],
            [
             0.2222222222222222,
             "#7201a8"
            ],
            [
             0.3333333333333333,
             "#9c179e"
            ],
            [
             0.4444444444444444,
             "#bd3786"
            ],
            [
             0.5555555555555556,
             "#d8576b"
            ],
            [
             0.6666666666666666,
             "#ed7953"
            ],
            [
             0.7777777777777778,
             "#fb9f3a"
            ],
            [
             0.8888888888888888,
             "#fdca26"
            ],
            [
             1,
             "#f0f921"
            ]
           ]
          },
          "colorway": [
           "#636efa",
           "#EF553B",
           "#00cc96",
           "#ab63fa",
           "#FFA15A",
           "#19d3f3",
           "#FF6692",
           "#B6E880",
           "#FF97FF",
           "#FECB52"
          ],
          "font": {
           "color": "#2a3f5f"
          },
          "geo": {
           "bgcolor": "white",
           "lakecolor": "white",
           "landcolor": "#E5ECF6",
           "showlakes": true,
           "showland": true,
           "subunitcolor": "white"
          },
          "hoverlabel": {
           "align": "left"
          },
          "hovermode": "closest",
          "mapbox": {
           "style": "light"
          },
          "paper_bgcolor": "white",
          "plot_bgcolor": "#E5ECF6",
          "polar": {
           "angularaxis": {
            "gridcolor": "white",
            "linecolor": "white",
            "ticks": ""
           },
           "bgcolor": "#E5ECF6",
           "radialaxis": {
            "gridcolor": "white",
            "linecolor": "white",
            "ticks": ""
           }
          },
          "scene": {
           "xaxis": {
            "backgroundcolor": "#E5ECF6",
            "gridcolor": "white",
            "gridwidth": 2,
            "linecolor": "white",
            "showbackground": true,
            "ticks": "",
            "zerolinecolor": "white"
           },
           "yaxis": {
            "backgroundcolor": "#E5ECF6",
            "gridcolor": "white",
            "gridwidth": 2,
            "linecolor": "white",
            "showbackground": true,
            "ticks": "",
            "zerolinecolor": "white"
           },
           "zaxis": {
            "backgroundcolor": "#E5ECF6",
            "gridcolor": "white",
            "gridwidth": 2,
            "linecolor": "white",
            "showbackground": true,
            "ticks": "",
            "zerolinecolor": "white"
           }
          },
          "shapedefaults": {
           "line": {
            "color": "#2a3f5f"
           }
          },
          "ternary": {
           "aaxis": {
            "gridcolor": "white",
            "linecolor": "white",
            "ticks": ""
           },
           "baxis": {
            "gridcolor": "white",
            "linecolor": "white",
            "ticks": ""
           },
           "bgcolor": "#E5ECF6",
           "caxis": {
            "gridcolor": "white",
            "linecolor": "white",
            "ticks": ""
           }
          },
          "title": {
           "x": 0.05
          },
          "xaxis": {
           "automargin": true,
           "gridcolor": "white",
           "linecolor": "white",
           "ticks": "",
           "title": {
            "standoff": 15
           },
           "zerolinecolor": "white",
           "zerolinewidth": 2
          },
          "yaxis": {
           "automargin": true,
           "gridcolor": "white",
           "linecolor": "white",
           "ticks": "",
           "title": {
            "standoff": 15
           },
           "zerolinecolor": "white",
           "zerolinewidth": 2
          }
         }
        },
        "xaxis": {
         "anchor": "y",
         "domain": [
          0,
          1
         ],
         "title": {
          "text": "index"
         }
        },
        "yaxis": {
         "anchor": "x",
         "domain": [
          0,
          1
         ],
         "title": {
          "text": "order_time"
         }
        }
       }
      },
      "text/html": "<div>                            <div id=\"d4fce3cf-826d-440c-a4fd-8d6e0df9e86f\" class=\"plotly-graph-div\" style=\"height:525px; width:100%;\"></div>            <script type=\"text/javascript\">                require([\"plotly\"], function(Plotly) {                    window.PLOTLYENV=window.PLOTLYENV || {};                                    if (document.getElementById(\"d4fce3cf-826d-440c-a4fd-8d6e0df9e86f\")) {                    Plotly.newPlot(                        \"d4fce3cf-826d-440c-a4fd-8d6e0df9e86f\",                        [{\"alignmentgroup\": \"True\", \"hovertemplate\": \"index=%{x}<br>order_time=%{y}<extra></extra>\", \"legendgroup\": \"\", \"marker\": {\"color\": \"indianred\"}, \"name\": \"\", \"offsetgroup\": \"\", \"orientation\": \"v\", \"showlegend\": false, \"textposition\": \"auto\", \"type\": \"bar\", \"x\": [23, 22, 8, 21, 10, 9, 20, 15, 19, 16, 14, 11, 17, 18, 13, 12], \"xaxis\": \"x\", \"y\": [0.000966183574879227, 0.002898550724637681, 0.005797101449275362, 0.007729468599033816, 0.013043478260869565, 0.01352657004830918, 0.04057971014492753, 0.051690821256038647, 0.06811594202898551, 0.07294685990338164, 0.07971014492753623, 0.0927536231884058, 0.10531400966183575, 0.1106280193236715, 0.13671497584541062, 0.19758454106280193], \"yaxis\": \"y\"}],                        {\"barmode\": \"relative\", \"legend\": {\"tracegroupgap\": 0}, \"margin\": {\"t\": 60}, \"template\": {\"data\": {\"bar\": [{\"error_x\": {\"color\": \"#2a3f5f\"}, \"error_y\": {\"color\": \"#2a3f5f\"}, \"marker\": {\"line\": {\"color\": \"#E5ECF6\", \"width\": 0.5}}, \"type\": \"bar\"}], \"barpolar\": [{\"marker\": {\"line\": {\"color\": \"#E5ECF6\", \"width\": 0.5}}, \"type\": \"barpolar\"}], \"carpet\": [{\"aaxis\": {\"endlinecolor\": \"#2a3f5f\", \"gridcolor\": \"white\", \"linecolor\": \"white\", \"minorgridcolor\": \"white\", \"startlinecolor\": \"#2a3f5f\"}, \"baxis\": {\"endlinecolor\": \"#2a3f5f\", \"gridcolor\": \"white\", \"linecolor\": \"white\", \"minorgridcolor\": \"white\", \"startlinecolor\": \"#2a3f5f\"}, \"type\": \"carpet\"}], \"choropleth\": [{\"colorbar\": {\"outlinewidth\": 0, \"ticks\": \"\"}, \"type\": \"choropleth\"}], \"contour\": [{\"colorbar\": {\"outlinewidth\": 0, \"ticks\": \"\"}, \"colorscale\": [[0.0, \"#0d0887\"], [0.1111111111111111, \"#46039f\"], [0.2222222222222222, \"#7201a8\"], [0.3333333333333333, \"#9c179e\"], [0.4444444444444444, \"#bd3786\"], [0.5555555555555556, \"#d8576b\"], [0.6666666666666666, \"#ed7953\"], [0.7777777777777778, \"#fb9f3a\"], [0.8888888888888888, \"#fdca26\"], [1.0, \"#f0f921\"]], \"type\": \"contour\"}], \"contourcarpet\": [{\"colorbar\": {\"outlinewidth\": 0, \"ticks\": \"\"}, \"type\": \"contourcarpet\"}], \"heatmap\": [{\"colorbar\": {\"outlinewidth\": 0, \"ticks\": \"\"}, \"colorscale\": [[0.0, \"#0d0887\"], [0.1111111111111111, \"#46039f\"], [0.2222222222222222, \"#7201a8\"], [0.3333333333333333, \"#9c179e\"], [0.4444444444444444, \"#bd3786\"], [0.5555555555555556, \"#d8576b\"], [0.6666666666666666, \"#ed7953\"], [0.7777777777777778, \"#fb9f3a\"], [0.8888888888888888, \"#fdca26\"], [1.0, \"#f0f921\"]], \"type\": \"heatmap\"}], \"heatmapgl\": [{\"colorbar\": {\"outlinewidth\": 0, \"ticks\": \"\"}, \"colorscale\": [[0.0, \"#0d0887\"], [0.1111111111111111, \"#46039f\"], [0.2222222222222222, \"#7201a8\"], [0.3333333333333333, \"#9c179e\"], [0.4444444444444444, \"#bd3786\"], [0.5555555555555556, \"#d8576b\"], [0.6666666666666666, \"#ed7953\"], [0.7777777777777778, \"#fb9f3a\"], [0.8888888888888888, \"#fdca26\"], [1.0, \"#f0f921\"]], \"type\": \"heatmapgl\"}], \"histogram\": [{\"marker\": {\"colorbar\": {\"outlinewidth\": 0, \"ticks\": \"\"}}, \"type\": \"histogram\"}], \"histogram2d\": [{\"colorbar\": {\"outlinewidth\": 0, \"ticks\": \"\"}, \"colorscale\": [[0.0, \"#0d0887\"], [0.1111111111111111, \"#46039f\"], [0.2222222222222222, \"#7201a8\"], [0.3333333333333333, \"#9c179e\"], [0.4444444444444444, \"#bd3786\"], [0.5555555555555556, \"#d8576b\"], [0.6666666666666666, \"#ed7953\"], [0.7777777777777778, \"#fb9f3a\"], [0.8888888888888888, \"#fdca26\"], [1.0, \"#f0f921\"]], \"type\": \"histogram2d\"}], \"histogram2dcontour\": [{\"colorbar\": {\"outlinewidth\": 0, \"ticks\": \"\"}, \"colorscale\": [[0.0, \"#0d0887\"], [0.1111111111111111, \"#46039f\"], [0.2222222222222222, \"#7201a8\"], [0.3333333333333333, \"#9c179e\"], [0.4444444444444444, \"#bd3786\"], [0.5555555555555556, \"#d8576b\"], [0.6666666666666666, \"#ed7953\"], [0.7777777777777778, \"#fb9f3a\"], [0.8888888888888888, \"#fdca26\"], [1.0, \"#f0f921\"]], \"type\": \"histogram2dcontour\"}], \"mesh3d\": [{\"colorbar\": {\"outlinewidth\": 0, \"ticks\": \"\"}, \"type\": \"mesh3d\"}], \"parcoords\": [{\"line\": {\"colorbar\": {\"outlinewidth\": 0, \"ticks\": \"\"}}, \"type\": \"parcoords\"}], \"pie\": [{\"automargin\": true, \"type\": \"pie\"}], \"scatter\": [{\"marker\": {\"colorbar\": {\"outlinewidth\": 0, \"ticks\": \"\"}}, \"type\": \"scatter\"}], \"scatter3d\": [{\"line\": {\"colorbar\": {\"outlinewidth\": 0, \"ticks\": \"\"}}, \"marker\": {\"colorbar\": {\"outlinewidth\": 0, \"ticks\": \"\"}}, \"type\": \"scatter3d\"}], \"scattercarpet\": [{\"marker\": {\"colorbar\": {\"outlinewidth\": 0, \"ticks\": \"\"}}, \"type\": \"scattercarpet\"}], \"scattergeo\": [{\"marker\": {\"colorbar\": {\"outlinewidth\": 0, \"ticks\": \"\"}}, \"type\": \"scattergeo\"}], \"scattergl\": [{\"marker\": {\"colorbar\": {\"outlinewidth\": 0, \"ticks\": \"\"}}, \"type\": \"scattergl\"}], \"scattermapbox\": [{\"marker\": {\"colorbar\": {\"outlinewidth\": 0, \"ticks\": \"\"}}, \"type\": \"scattermapbox\"}], \"scatterpolar\": [{\"marker\": {\"colorbar\": {\"outlinewidth\": 0, \"ticks\": \"\"}}, \"type\": \"scatterpolar\"}], \"scatterpolargl\": [{\"marker\": {\"colorbar\": {\"outlinewidth\": 0, \"ticks\": \"\"}}, \"type\": \"scatterpolargl\"}], \"scatterternary\": [{\"marker\": {\"colorbar\": {\"outlinewidth\": 0, \"ticks\": \"\"}}, \"type\": \"scatterternary\"}], \"surface\": [{\"colorbar\": {\"outlinewidth\": 0, \"ticks\": \"\"}, \"colorscale\": [[0.0, \"#0d0887\"], [0.1111111111111111, \"#46039f\"], [0.2222222222222222, \"#7201a8\"], [0.3333333333333333, \"#9c179e\"], [0.4444444444444444, \"#bd3786\"], [0.5555555555555556, \"#d8576b\"], [0.6666666666666666, \"#ed7953\"], [0.7777777777777778, \"#fb9f3a\"], [0.8888888888888888, \"#fdca26\"], [1.0, \"#f0f921\"]], \"type\": \"surface\"}], \"table\": [{\"cells\": {\"fill\": {\"color\": \"#EBF0F8\"}, \"line\": {\"color\": \"white\"}}, \"header\": {\"fill\": {\"color\": \"#C8D4E3\"}, \"line\": {\"color\": \"white\"}}, \"type\": \"table\"}]}, \"layout\": {\"annotationdefaults\": {\"arrowcolor\": \"#2a3f5f\", \"arrowhead\": 0, \"arrowwidth\": 1}, \"autotypenumbers\": \"strict\", \"coloraxis\": {\"colorbar\": {\"outlinewidth\": 0, \"ticks\": \"\"}}, \"colorscale\": {\"diverging\": [[0, \"#8e0152\"], [0.1, \"#c51b7d\"], [0.2, \"#de77ae\"], [0.3, \"#f1b6da\"], [0.4, \"#fde0ef\"], [0.5, \"#f7f7f7\"], [0.6, \"#e6f5d0\"], [0.7, \"#b8e186\"], [0.8, \"#7fbc41\"], [0.9, \"#4d9221\"], [1, \"#276419\"]], \"sequential\": [[0.0, \"#0d0887\"], [0.1111111111111111, \"#46039f\"], [0.2222222222222222, \"#7201a8\"], [0.3333333333333333, \"#9c179e\"], [0.4444444444444444, \"#bd3786\"], [0.5555555555555556, \"#d8576b\"], [0.6666666666666666, \"#ed7953\"], [0.7777777777777778, \"#fb9f3a\"], [0.8888888888888888, \"#fdca26\"], [1.0, \"#f0f921\"]], \"sequentialminus\": [[0.0, \"#0d0887\"], [0.1111111111111111, \"#46039f\"], [0.2222222222222222, \"#7201a8\"], [0.3333333333333333, \"#9c179e\"], [0.4444444444444444, \"#bd3786\"], [0.5555555555555556, \"#d8576b\"], [0.6666666666666666, \"#ed7953\"], [0.7777777777777778, \"#fb9f3a\"], [0.8888888888888888, \"#fdca26\"], [1.0, \"#f0f921\"]]}, \"colorway\": [\"#636efa\", \"#EF553B\", \"#00cc96\", \"#ab63fa\", \"#FFA15A\", \"#19d3f3\", \"#FF6692\", \"#B6E880\", \"#FF97FF\", \"#FECB52\"], \"font\": {\"color\": \"#2a3f5f\"}, \"geo\": {\"bgcolor\": \"white\", \"lakecolor\": \"white\", \"landcolor\": \"#E5ECF6\", \"showlakes\": true, \"showland\": true, \"subunitcolor\": \"white\"}, \"hoverlabel\": {\"align\": \"left\"}, \"hovermode\": \"closest\", \"mapbox\": {\"style\": \"light\"}, \"paper_bgcolor\": \"white\", \"plot_bgcolor\": \"#E5ECF6\", \"polar\": {\"angularaxis\": {\"gridcolor\": \"white\", \"linecolor\": \"white\", \"ticks\": \"\"}, \"bgcolor\": \"#E5ECF6\", \"radialaxis\": {\"gridcolor\": \"white\", \"linecolor\": \"white\", \"ticks\": \"\"}}, \"scene\": {\"xaxis\": {\"backgroundcolor\": \"#E5ECF6\", \"gridcolor\": \"white\", \"gridwidth\": 2, \"linecolor\": \"white\", \"showbackground\": true, \"ticks\": \"\", \"zerolinecolor\": \"white\"}, \"yaxis\": {\"backgroundcolor\": \"#E5ECF6\", \"gridcolor\": \"white\", \"gridwidth\": 2, \"linecolor\": \"white\", \"showbackground\": true, \"ticks\": \"\", \"zerolinecolor\": \"white\"}, \"zaxis\": {\"backgroundcolor\": \"#E5ECF6\", \"gridcolor\": \"white\", \"gridwidth\": 2, \"linecolor\": \"white\", \"showbackground\": true, \"ticks\": \"\", \"zerolinecolor\": \"white\"}}, \"shapedefaults\": {\"line\": {\"color\": \"#2a3f5f\"}}, \"ternary\": {\"aaxis\": {\"gridcolor\": \"white\", \"linecolor\": \"white\", \"ticks\": \"\"}, \"baxis\": {\"gridcolor\": \"white\", \"linecolor\": \"white\", \"ticks\": \"\"}, \"bgcolor\": \"#E5ECF6\", \"caxis\": {\"gridcolor\": \"white\", \"linecolor\": \"white\", \"ticks\": \"\"}}, \"title\": {\"x\": 0.05}, \"xaxis\": {\"automargin\": true, \"gridcolor\": \"white\", \"linecolor\": \"white\", \"ticks\": \"\", \"title\": {\"standoff\": 15}, \"zerolinecolor\": \"white\", \"zerolinewidth\": 2}, \"yaxis\": {\"automargin\": true, \"gridcolor\": \"white\", \"linecolor\": \"white\", \"ticks\": \"\", \"title\": {\"standoff\": 15}, \"zerolinecolor\": \"white\", \"zerolinewidth\": 2}}}, \"xaxis\": {\"anchor\": \"y\", \"domain\": [0.0, 1.0], \"title\": {\"text\": \"index\"}}, \"yaxis\": {\"anchor\": \"x\", \"domain\": [0.0, 1.0], \"title\": {\"text\": \"order_time\"}}},                        {\"responsive\": true}                    ).then(function(){\n                            \nvar gd = document.getElementById('d4fce3cf-826d-440c-a4fd-8d6e0df9e86f');\nvar x = new MutationObserver(function (mutations, observer) {{\n        var display = window.getComputedStyle(gd).display;\n        if (!display || display === 'none') {{\n            console.log([gd, 'removed!']);\n            Plotly.purge(gd);\n            observer.disconnect();\n        }}\n}});\n\n// Listen for the removal of the full notebook cells\nvar notebookContainer = gd.closest('#notebook-container');\nif (notebookContainer) {{\n    x.observe(notebookContainer, {childList: true});\n}}\n\n// Listen for the clearing of the current output cell\nvar outputEl = gd.closest('.output');\nif (outputEl) {{\n    x.observe(outputEl, {childList: true});\n}}\n\n                        })                };                });            </script>        </div>"
     },
     "metadata": {}
    }
   ],
   "source": [
    "# Hourly Demand Distribution (Percentage)\n",
    "\n",
    "df['order_time'] = pd.to_datetime(df['order_time'])\n",
    "\n",
    "orders_by_hour = df.order_time.dt.hour.value_counts(normalize = True).reset_index().sort_values('order_time')\n",
    "print(orders_by_hour)\n",
    "orders_by_hour_bar = px.bar(orders_by_hour, x=\"index\", y='order_time', color_discrete_sequence=['indianred'])\n",
    "orders_by_hour_bar.show()\n",
    "\n",
    "#py.plot(orders_by_hour_bar, filename = 'orders_by_hour_bar', auto_open=True)"
   ]
  },
  {
   "cell_type": "code",
   "execution_count": 12,
   "metadata": {},
   "outputs": [
    {
     "output_type": "display_data",
     "data": {
      "application/vnd.plotly.v1+json": {
       "config": {
        "plotlyServerURL": "https://plotly.com"
       },
       "data": [
        {
         "alignmentgroup": "True",
         "hovertemplate": "hour=%{x}<br>amount_spent=%{y}<extra></extra>",
         "legendgroup": "",
         "marker": {
          "color": "indianred"
         },
         "name": "",
         "offsetgroup": "",
         "orientation": "v",
         "showlegend": false,
         "textposition": "auto",
         "type": "bar",
         "x": [
          8,
          9,
          10,
          11,
          12,
          13,
          14,
          15,
          16,
          17,
          18,
          19,
          20,
          21,
          22,
          23
         ],
         "xaxis": "x",
         "y": [
          251.5,
          459,
          457.75,
          4822.8399999999965,
          10027.569999999992,
          6963.729999999991,
          4151.879999999998,
          2607.370000000001,
          4713.199999999998,
          7198.049999999993,
          7511.129999999991,
          3898.8199999999974,
          1841.0500000000009,
          382.53000000000003,
          140.03,
          63.620000000000005
         ],
         "yaxis": "y"
        }
       ],
       "layout": {
        "barmode": "relative",
        "legend": {
         "tracegroupgap": 0
        },
        "margin": {
         "t": 60
        },
        "template": {
         "data": {
          "bar": [
           {
            "error_x": {
             "color": "#2a3f5f"
            },
            "error_y": {
             "color": "#2a3f5f"
            },
            "marker": {
             "line": {
              "color": "#E5ECF6",
              "width": 0.5
             }
            },
            "type": "bar"
           }
          ],
          "barpolar": [
           {
            "marker": {
             "line": {
              "color": "#E5ECF6",
              "width": 0.5
             }
            },
            "type": "barpolar"
           }
          ],
          "carpet": [
           {
            "aaxis": {
             "endlinecolor": "#2a3f5f",
             "gridcolor": "white",
             "linecolor": "white",
             "minorgridcolor": "white",
             "startlinecolor": "#2a3f5f"
            },
            "baxis": {
             "endlinecolor": "#2a3f5f",
             "gridcolor": "white",
             "linecolor": "white",
             "minorgridcolor": "white",
             "startlinecolor": "#2a3f5f"
            },
            "type": "carpet"
           }
          ],
          "choropleth": [
           {
            "colorbar": {
             "outlinewidth": 0,
             "ticks": ""
            },
            "type": "choropleth"
           }
          ],
          "contour": [
           {
            "colorbar": {
             "outlinewidth": 0,
             "ticks": ""
            },
            "colorscale": [
             [
              0,
              "#0d0887"
             ],
             [
              0.1111111111111111,
              "#46039f"
             ],
             [
              0.2222222222222222,
              "#7201a8"
             ],
             [
              0.3333333333333333,
              "#9c179e"
             ],
             [
              0.4444444444444444,
              "#bd3786"
             ],
             [
              0.5555555555555556,
              "#d8576b"
             ],
             [
              0.6666666666666666,
              "#ed7953"
             ],
             [
              0.7777777777777778,
              "#fb9f3a"
             ],
             [
              0.8888888888888888,
              "#fdca26"
             ],
             [
              1,
              "#f0f921"
             ]
            ],
            "type": "contour"
           }
          ],
          "contourcarpet": [
           {
            "colorbar": {
             "outlinewidth": 0,
             "ticks": ""
            },
            "type": "contourcarpet"
           }
          ],
          "heatmap": [
           {
            "colorbar": {
             "outlinewidth": 0,
             "ticks": ""
            },
            "colorscale": [
             [
              0,
              "#0d0887"
             ],
             [
              0.1111111111111111,
              "#46039f"
             ],
             [
              0.2222222222222222,
              "#7201a8"
             ],
             [
              0.3333333333333333,
              "#9c179e"
             ],
             [
              0.4444444444444444,
              "#bd3786"
             ],
             [
              0.5555555555555556,
              "#d8576b"
             ],
             [
              0.6666666666666666,
              "#ed7953"
             ],
             [
              0.7777777777777778,
              "#fb9f3a"
             ],
             [
              0.8888888888888888,
              "#fdca26"
             ],
             [
              1,
              "#f0f921"
             ]
            ],
            "type": "heatmap"
           }
          ],
          "heatmapgl": [
           {
            "colorbar": {
             "outlinewidth": 0,
             "ticks": ""
            },
            "colorscale": [
             [
              0,
              "#0d0887"
             ],
             [
              0.1111111111111111,
              "#46039f"
             ],
             [
              0.2222222222222222,
              "#7201a8"
             ],
             [
              0.3333333333333333,
              "#9c179e"
             ],
             [
              0.4444444444444444,
              "#bd3786"
             ],
             [
              0.5555555555555556,
              "#d8576b"
             ],
             [
              0.6666666666666666,
              "#ed7953"
             ],
             [
              0.7777777777777778,
              "#fb9f3a"
             ],
             [
              0.8888888888888888,
              "#fdca26"
             ],
             [
              1,
              "#f0f921"
             ]
            ],
            "type": "heatmapgl"
           }
          ],
          "histogram": [
           {
            "marker": {
             "colorbar": {
              "outlinewidth": 0,
              "ticks": ""
             }
            },
            "type": "histogram"
           }
          ],
          "histogram2d": [
           {
            "colorbar": {
             "outlinewidth": 0,
             "ticks": ""
            },
            "colorscale": [
             [
              0,
              "#0d0887"
             ],
             [
              0.1111111111111111,
              "#46039f"
             ],
             [
              0.2222222222222222,
              "#7201a8"
             ],
             [
              0.3333333333333333,
              "#9c179e"
             ],
             [
              0.4444444444444444,
              "#bd3786"
             ],
             [
              0.5555555555555556,
              "#d8576b"
             ],
             [
              0.6666666666666666,
              "#ed7953"
             ],
             [
              0.7777777777777778,
              "#fb9f3a"
             ],
             [
              0.8888888888888888,
              "#fdca26"
             ],
             [
              1,
              "#f0f921"
             ]
            ],
            "type": "histogram2d"
           }
          ],
          "histogram2dcontour": [
           {
            "colorbar": {
             "outlinewidth": 0,
             "ticks": ""
            },
            "colorscale": [
             [
              0,
              "#0d0887"
             ],
             [
              0.1111111111111111,
              "#46039f"
             ],
             [
              0.2222222222222222,
              "#7201a8"
             ],
             [
              0.3333333333333333,
              "#9c179e"
             ],
             [
              0.4444444444444444,
              "#bd3786"
             ],
             [
              0.5555555555555556,
              "#d8576b"
             ],
             [
              0.6666666666666666,
              "#ed7953"
             ],
             [
              0.7777777777777778,
              "#fb9f3a"
             ],
             [
              0.8888888888888888,
              "#fdca26"
             ],
             [
              1,
              "#f0f921"
             ]
            ],
            "type": "histogram2dcontour"
           }
          ],
          "mesh3d": [
           {
            "colorbar": {
             "outlinewidth": 0,
             "ticks": ""
            },
            "type": "mesh3d"
           }
          ],
          "parcoords": [
           {
            "line": {
             "colorbar": {
              "outlinewidth": 0,
              "ticks": ""
             }
            },
            "type": "parcoords"
           }
          ],
          "pie": [
           {
            "automargin": true,
            "type": "pie"
           }
          ],
          "scatter": [
           {
            "marker": {
             "colorbar": {
              "outlinewidth": 0,
              "ticks": ""
             }
            },
            "type": "scatter"
           }
          ],
          "scatter3d": [
           {
            "line": {
             "colorbar": {
              "outlinewidth": 0,
              "ticks": ""
             }
            },
            "marker": {
             "colorbar": {
              "outlinewidth": 0,
              "ticks": ""
             }
            },
            "type": "scatter3d"
           }
          ],
          "scattercarpet": [
           {
            "marker": {
             "colorbar": {
              "outlinewidth": 0,
              "ticks": ""
             }
            },
            "type": "scattercarpet"
           }
          ],
          "scattergeo": [
           {
            "marker": {
             "colorbar": {
              "outlinewidth": 0,
              "ticks": ""
             }
            },
            "type": "scattergeo"
           }
          ],
          "scattergl": [
           {
            "marker": {
             "colorbar": {
              "outlinewidth": 0,
              "ticks": ""
             }
            },
            "type": "scattergl"
           }
          ],
          "scattermapbox": [
           {
            "marker": {
             "colorbar": {
              "outlinewidth": 0,
              "ticks": ""
             }
            },
            "type": "scattermapbox"
           }
          ],
          "scatterpolar": [
           {
            "marker": {
             "colorbar": {
              "outlinewidth": 0,
              "ticks": ""
             }
            },
            "type": "scatterpolar"
           }
          ],
          "scatterpolargl": [
           {
            "marker": {
             "colorbar": {
              "outlinewidth": 0,
              "ticks": ""
             }
            },
            "type": "scatterpolargl"
           }
          ],
          "scatterternary": [
           {
            "marker": {
             "colorbar": {
              "outlinewidth": 0,
              "ticks": ""
             }
            },
            "type": "scatterternary"
           }
          ],
          "surface": [
           {
            "colorbar": {
             "outlinewidth": 0,
             "ticks": ""
            },
            "colorscale": [
             [
              0,
              "#0d0887"
             ],
             [
              0.1111111111111111,
              "#46039f"
             ],
             [
              0.2222222222222222,
              "#7201a8"
             ],
             [
              0.3333333333333333,
              "#9c179e"
             ],
             [
              0.4444444444444444,
              "#bd3786"
             ],
             [
              0.5555555555555556,
              "#d8576b"
             ],
             [
              0.6666666666666666,
              "#ed7953"
             ],
             [
              0.7777777777777778,
              "#fb9f3a"
             ],
             [
              0.8888888888888888,
              "#fdca26"
             ],
             [
              1,
              "#f0f921"
             ]
            ],
            "type": "surface"
           }
          ],
          "table": [
           {
            "cells": {
             "fill": {
              "color": "#EBF0F8"
             },
             "line": {
              "color": "white"
             }
            },
            "header": {
             "fill": {
              "color": "#C8D4E3"
             },
             "line": {
              "color": "white"
             }
            },
            "type": "table"
           }
          ]
         },
         "layout": {
          "annotationdefaults": {
           "arrowcolor": "#2a3f5f",
           "arrowhead": 0,
           "arrowwidth": 1
          },
          "autotypenumbers": "strict",
          "coloraxis": {
           "colorbar": {
            "outlinewidth": 0,
            "ticks": ""
           }
          },
          "colorscale": {
           "diverging": [
            [
             0,
             "#8e0152"
            ],
            [
             0.1,
             "#c51b7d"
            ],
            [
             0.2,
             "#de77ae"
            ],
            [
             0.3,
             "#f1b6da"
            ],
            [
             0.4,
             "#fde0ef"
            ],
            [
             0.5,
             "#f7f7f7"
            ],
            [
             0.6,
             "#e6f5d0"
            ],
            [
             0.7,
             "#b8e186"
            ],
            [
             0.8,
             "#7fbc41"
            ],
            [
             0.9,
             "#4d9221"
            ],
            [
             1,
             "#276419"
            ]
           ],
           "sequential": [
            [
             0,
             "#0d0887"
            ],
            [
             0.1111111111111111,
             "#46039f"
            ],
            [
             0.2222222222222222,
             "#7201a8"
            ],
            [
             0.3333333333333333,
             "#9c179e"
            ],
            [
             0.4444444444444444,
             "#bd3786"
            ],
            [
             0.5555555555555556,
             "#d8576b"
            ],
            [
             0.6666666666666666,
             "#ed7953"
            ],
            [
             0.7777777777777778,
             "#fb9f3a"
            ],
            [
             0.8888888888888888,
             "#fdca26"
            ],
            [
             1,
             "#f0f921"
            ]
           ],
           "sequentialminus": [
            [
             0,
             "#0d0887"
            ],
            [
             0.1111111111111111,
             "#46039f"
            ],
            [
             0.2222222222222222,
             "#7201a8"
            ],
            [
             0.3333333333333333,
             "#9c179e"
            ],
            [
             0.4444444444444444,
             "#bd3786"
            ],
            [
             0.5555555555555556,
             "#d8576b"
            ],
            [
             0.6666666666666666,
             "#ed7953"
            ],
            [
             0.7777777777777778,
             "#fb9f3a"
            ],
            [
             0.8888888888888888,
             "#fdca26"
            ],
            [
             1,
             "#f0f921"
            ]
           ]
          },
          "colorway": [
           "#636efa",
           "#EF553B",
           "#00cc96",
           "#ab63fa",
           "#FFA15A",
           "#19d3f3",
           "#FF6692",
           "#B6E880",
           "#FF97FF",
           "#FECB52"
          ],
          "font": {
           "color": "#2a3f5f"
          },
          "geo": {
           "bgcolor": "white",
           "lakecolor": "white",
           "landcolor": "#E5ECF6",
           "showlakes": true,
           "showland": true,
           "subunitcolor": "white"
          },
          "hoverlabel": {
           "align": "left"
          },
          "hovermode": "closest",
          "mapbox": {
           "style": "light"
          },
          "paper_bgcolor": "white",
          "plot_bgcolor": "#E5ECF6",
          "polar": {
           "angularaxis": {
            "gridcolor": "white",
            "linecolor": "white",
            "ticks": ""
           },
           "bgcolor": "#E5ECF6",
           "radialaxis": {
            "gridcolor": "white",
            "linecolor": "white",
            "ticks": ""
           }
          },
          "scene": {
           "xaxis": {
            "backgroundcolor": "#E5ECF6",
            "gridcolor": "white",
            "gridwidth": 2,
            "linecolor": "white",
            "showbackground": true,
            "ticks": "",
            "zerolinecolor": "white"
           },
           "yaxis": {
            "backgroundcolor": "#E5ECF6",
            "gridcolor": "white",
            "gridwidth": 2,
            "linecolor": "white",
            "showbackground": true,
            "ticks": "",
            "zerolinecolor": "white"
           },
           "zaxis": {
            "backgroundcolor": "#E5ECF6",
            "gridcolor": "white",
            "gridwidth": 2,
            "linecolor": "white",
            "showbackground": true,
            "ticks": "",
            "zerolinecolor": "white"
           }
          },
          "shapedefaults": {
           "line": {
            "color": "#2a3f5f"
           }
          },
          "ternary": {
           "aaxis": {
            "gridcolor": "white",
            "linecolor": "white",
            "ticks": ""
           },
           "baxis": {
            "gridcolor": "white",
            "linecolor": "white",
            "ticks": ""
           },
           "bgcolor": "#E5ECF6",
           "caxis": {
            "gridcolor": "white",
            "linecolor": "white",
            "ticks": ""
           }
          },
          "title": {
           "x": 0.05
          },
          "xaxis": {
           "automargin": true,
           "gridcolor": "white",
           "linecolor": "white",
           "ticks": "",
           "title": {
            "standoff": 15
           },
           "zerolinecolor": "white",
           "zerolinewidth": 2
          },
          "yaxis": {
           "automargin": true,
           "gridcolor": "white",
           "linecolor": "white",
           "ticks": "",
           "title": {
            "standoff": 15
           },
           "zerolinecolor": "white",
           "zerolinewidth": 2
          }
         }
        },
        "xaxis": {
         "anchor": "y",
         "domain": [
          0,
          1
         ],
         "title": {
          "text": "hour"
         }
        },
        "yaxis": {
         "anchor": "x",
         "domain": [
          0,
          1
         ],
         "title": {
          "text": "amount_spent"
         }
        }
       }
      },
      "text/html": "<div>                            <div id=\"45560f38-c096-4f80-8394-66f4b78c1d28\" class=\"plotly-graph-div\" style=\"height:525px; width:100%;\"></div>            <script type=\"text/javascript\">                require([\"plotly\"], function(Plotly) {                    window.PLOTLYENV=window.PLOTLYENV || {};                                    if (document.getElementById(\"45560f38-c096-4f80-8394-66f4b78c1d28\")) {                    Plotly.newPlot(                        \"45560f38-c096-4f80-8394-66f4b78c1d28\",                        [{\"alignmentgroup\": \"True\", \"hovertemplate\": \"hour=%{x}<br>amount_spent=%{y}<extra></extra>\", \"legendgroup\": \"\", \"marker\": {\"color\": \"indianred\"}, \"name\": \"\", \"offsetgroup\": \"\", \"orientation\": \"v\", \"showlegend\": false, \"textposition\": \"auto\", \"type\": \"bar\", \"x\": [8, 9, 10, 11, 12, 13, 14, 15, 16, 17, 18, 19, 20, 21, 22, 23], \"xaxis\": \"x\", \"y\": [251.5, 459.0, 457.75, 4822.8399999999965, 10027.569999999992, 6963.729999999991, 4151.879999999998, 2607.370000000001, 4713.199999999998, 7198.049999999993, 7511.129999999991, 3898.8199999999974, 1841.0500000000009, 382.53000000000003, 140.03, 63.620000000000005], \"yaxis\": \"y\"}],                        {\"barmode\": \"relative\", \"legend\": {\"tracegroupgap\": 0}, \"margin\": {\"t\": 60}, \"template\": {\"data\": {\"bar\": [{\"error_x\": {\"color\": \"#2a3f5f\"}, \"error_y\": {\"color\": \"#2a3f5f\"}, \"marker\": {\"line\": {\"color\": \"#E5ECF6\", \"width\": 0.5}}, \"type\": \"bar\"}], \"barpolar\": [{\"marker\": {\"line\": {\"color\": \"#E5ECF6\", \"width\": 0.5}}, \"type\": \"barpolar\"}], \"carpet\": [{\"aaxis\": {\"endlinecolor\": \"#2a3f5f\", \"gridcolor\": \"white\", \"linecolor\": \"white\", \"minorgridcolor\": \"white\", \"startlinecolor\": \"#2a3f5f\"}, \"baxis\": {\"endlinecolor\": \"#2a3f5f\", \"gridcolor\": \"white\", \"linecolor\": \"white\", \"minorgridcolor\": \"white\", \"startlinecolor\": \"#2a3f5f\"}, \"type\": \"carpet\"}], \"choropleth\": [{\"colorbar\": {\"outlinewidth\": 0, \"ticks\": \"\"}, \"type\": \"choropleth\"}], \"contour\": [{\"colorbar\": {\"outlinewidth\": 0, \"ticks\": \"\"}, \"colorscale\": [[0.0, \"#0d0887\"], [0.1111111111111111, \"#46039f\"], [0.2222222222222222, \"#7201a8\"], [0.3333333333333333, \"#9c179e\"], [0.4444444444444444, \"#bd3786\"], [0.5555555555555556, \"#d8576b\"], [0.6666666666666666, \"#ed7953\"], [0.7777777777777778, \"#fb9f3a\"], [0.8888888888888888, \"#fdca26\"], [1.0, \"#f0f921\"]], \"type\": \"contour\"}], \"contourcarpet\": [{\"colorbar\": {\"outlinewidth\": 0, \"ticks\": \"\"}, \"type\": \"contourcarpet\"}], \"heatmap\": [{\"colorbar\": {\"outlinewidth\": 0, \"ticks\": \"\"}, \"colorscale\": [[0.0, \"#0d0887\"], [0.1111111111111111, \"#46039f\"], [0.2222222222222222, \"#7201a8\"], [0.3333333333333333, \"#9c179e\"], [0.4444444444444444, \"#bd3786\"], [0.5555555555555556, \"#d8576b\"], [0.6666666666666666, \"#ed7953\"], [0.7777777777777778, \"#fb9f3a\"], [0.8888888888888888, \"#fdca26\"], [1.0, \"#f0f921\"]], \"type\": \"heatmap\"}], \"heatmapgl\": [{\"colorbar\": {\"outlinewidth\": 0, \"ticks\": \"\"}, \"colorscale\": [[0.0, \"#0d0887\"], [0.1111111111111111, \"#46039f\"], [0.2222222222222222, \"#7201a8\"], [0.3333333333333333, \"#9c179e\"], [0.4444444444444444, \"#bd3786\"], [0.5555555555555556, \"#d8576b\"], [0.6666666666666666, \"#ed7953\"], [0.7777777777777778, \"#fb9f3a\"], [0.8888888888888888, \"#fdca26\"], [1.0, \"#f0f921\"]], \"type\": \"heatmapgl\"}], \"histogram\": [{\"marker\": {\"colorbar\": {\"outlinewidth\": 0, \"ticks\": \"\"}}, \"type\": \"histogram\"}], \"histogram2d\": [{\"colorbar\": {\"outlinewidth\": 0, \"ticks\": \"\"}, \"colorscale\": [[0.0, \"#0d0887\"], [0.1111111111111111, \"#46039f\"], [0.2222222222222222, \"#7201a8\"], [0.3333333333333333, \"#9c179e\"], [0.4444444444444444, \"#bd3786\"], [0.5555555555555556, \"#d8576b\"], [0.6666666666666666, \"#ed7953\"], [0.7777777777777778, \"#fb9f3a\"], [0.8888888888888888, \"#fdca26\"], [1.0, \"#f0f921\"]], \"type\": \"histogram2d\"}], \"histogram2dcontour\": [{\"colorbar\": {\"outlinewidth\": 0, \"ticks\": \"\"}, \"colorscale\": [[0.0, \"#0d0887\"], [0.1111111111111111, \"#46039f\"], [0.2222222222222222, \"#7201a8\"], [0.3333333333333333, \"#9c179e\"], [0.4444444444444444, \"#bd3786\"], [0.5555555555555556, \"#d8576b\"], [0.6666666666666666, \"#ed7953\"], [0.7777777777777778, \"#fb9f3a\"], [0.8888888888888888, \"#fdca26\"], [1.0, \"#f0f921\"]], \"type\": \"histogram2dcontour\"}], \"mesh3d\": [{\"colorbar\": {\"outlinewidth\": 0, \"ticks\": \"\"}, \"type\": \"mesh3d\"}], \"parcoords\": [{\"line\": {\"colorbar\": {\"outlinewidth\": 0, \"ticks\": \"\"}}, \"type\": \"parcoords\"}], \"pie\": [{\"automargin\": true, \"type\": \"pie\"}], \"scatter\": [{\"marker\": {\"colorbar\": {\"outlinewidth\": 0, \"ticks\": \"\"}}, \"type\": \"scatter\"}], \"scatter3d\": [{\"line\": {\"colorbar\": {\"outlinewidth\": 0, \"ticks\": \"\"}}, \"marker\": {\"colorbar\": {\"outlinewidth\": 0, \"ticks\": \"\"}}, \"type\": \"scatter3d\"}], \"scattercarpet\": [{\"marker\": {\"colorbar\": {\"outlinewidth\": 0, \"ticks\": \"\"}}, \"type\": \"scattercarpet\"}], \"scattergeo\": [{\"marker\": {\"colorbar\": {\"outlinewidth\": 0, \"ticks\": \"\"}}, \"type\": \"scattergeo\"}], \"scattergl\": [{\"marker\": {\"colorbar\": {\"outlinewidth\": 0, \"ticks\": \"\"}}, \"type\": \"scattergl\"}], \"scattermapbox\": [{\"marker\": {\"colorbar\": {\"outlinewidth\": 0, \"ticks\": \"\"}}, \"type\": \"scattermapbox\"}], \"scatterpolar\": [{\"marker\": {\"colorbar\": {\"outlinewidth\": 0, \"ticks\": \"\"}}, \"type\": \"scatterpolar\"}], \"scatterpolargl\": [{\"marker\": {\"colorbar\": {\"outlinewidth\": 0, \"ticks\": \"\"}}, \"type\": \"scatterpolargl\"}], \"scatterternary\": [{\"marker\": {\"colorbar\": {\"outlinewidth\": 0, \"ticks\": \"\"}}, \"type\": \"scatterternary\"}], \"surface\": [{\"colorbar\": {\"outlinewidth\": 0, \"ticks\": \"\"}, \"colorscale\": [[0.0, \"#0d0887\"], [0.1111111111111111, \"#46039f\"], [0.2222222222222222, \"#7201a8\"], [0.3333333333333333, \"#9c179e\"], [0.4444444444444444, \"#bd3786\"], [0.5555555555555556, \"#d8576b\"], [0.6666666666666666, \"#ed7953\"], [0.7777777777777778, \"#fb9f3a\"], [0.8888888888888888, \"#fdca26\"], [1.0, \"#f0f921\"]], \"type\": \"surface\"}], \"table\": [{\"cells\": {\"fill\": {\"color\": \"#EBF0F8\"}, \"line\": {\"color\": \"white\"}}, \"header\": {\"fill\": {\"color\": \"#C8D4E3\"}, \"line\": {\"color\": \"white\"}}, \"type\": \"table\"}]}, \"layout\": {\"annotationdefaults\": {\"arrowcolor\": \"#2a3f5f\", \"arrowhead\": 0, \"arrowwidth\": 1}, \"autotypenumbers\": \"strict\", \"coloraxis\": {\"colorbar\": {\"outlinewidth\": 0, \"ticks\": \"\"}}, \"colorscale\": {\"diverging\": [[0, \"#8e0152\"], [0.1, \"#c51b7d\"], [0.2, \"#de77ae\"], [0.3, \"#f1b6da\"], [0.4, \"#fde0ef\"], [0.5, \"#f7f7f7\"], [0.6, \"#e6f5d0\"], [0.7, \"#b8e186\"], [0.8, \"#7fbc41\"], [0.9, \"#4d9221\"], [1, \"#276419\"]], \"sequential\": [[0.0, \"#0d0887\"], [0.1111111111111111, \"#46039f\"], [0.2222222222222222, \"#7201a8\"], [0.3333333333333333, \"#9c179e\"], [0.4444444444444444, \"#bd3786\"], [0.5555555555555556, \"#d8576b\"], [0.6666666666666666, \"#ed7953\"], [0.7777777777777778, \"#fb9f3a\"], [0.8888888888888888, \"#fdca26\"], [1.0, \"#f0f921\"]], \"sequentialminus\": [[0.0, \"#0d0887\"], [0.1111111111111111, \"#46039f\"], [0.2222222222222222, \"#7201a8\"], [0.3333333333333333, \"#9c179e\"], [0.4444444444444444, \"#bd3786\"], [0.5555555555555556, \"#d8576b\"], [0.6666666666666666, \"#ed7953\"], [0.7777777777777778, \"#fb9f3a\"], [0.8888888888888888, \"#fdca26\"], [1.0, \"#f0f921\"]]}, \"colorway\": [\"#636efa\", \"#EF553B\", \"#00cc96\", \"#ab63fa\", \"#FFA15A\", \"#19d3f3\", \"#FF6692\", \"#B6E880\", \"#FF97FF\", \"#FECB52\"], \"font\": {\"color\": \"#2a3f5f\"}, \"geo\": {\"bgcolor\": \"white\", \"lakecolor\": \"white\", \"landcolor\": \"#E5ECF6\", \"showlakes\": true, \"showland\": true, \"subunitcolor\": \"white\"}, \"hoverlabel\": {\"align\": \"left\"}, \"hovermode\": \"closest\", \"mapbox\": {\"style\": \"light\"}, \"paper_bgcolor\": \"white\", \"plot_bgcolor\": \"#E5ECF6\", \"polar\": {\"angularaxis\": {\"gridcolor\": \"white\", \"linecolor\": \"white\", \"ticks\": \"\"}, \"bgcolor\": \"#E5ECF6\", \"radialaxis\": {\"gridcolor\": \"white\", \"linecolor\": \"white\", \"ticks\": \"\"}}, \"scene\": {\"xaxis\": {\"backgroundcolor\": \"#E5ECF6\", \"gridcolor\": \"white\", \"gridwidth\": 2, \"linecolor\": \"white\", \"showbackground\": true, \"ticks\": \"\", \"zerolinecolor\": \"white\"}, \"yaxis\": {\"backgroundcolor\": \"#E5ECF6\", \"gridcolor\": \"white\", \"gridwidth\": 2, \"linecolor\": \"white\", \"showbackground\": true, \"ticks\": \"\", \"zerolinecolor\": \"white\"}, \"zaxis\": {\"backgroundcolor\": \"#E5ECF6\", \"gridcolor\": \"white\", \"gridwidth\": 2, \"linecolor\": \"white\", \"showbackground\": true, \"ticks\": \"\", \"zerolinecolor\": \"white\"}}, \"shapedefaults\": {\"line\": {\"color\": \"#2a3f5f\"}}, \"ternary\": {\"aaxis\": {\"gridcolor\": \"white\", \"linecolor\": \"white\", \"ticks\": \"\"}, \"baxis\": {\"gridcolor\": \"white\", \"linecolor\": \"white\", \"ticks\": \"\"}, \"bgcolor\": \"#E5ECF6\", \"caxis\": {\"gridcolor\": \"white\", \"linecolor\": \"white\", \"ticks\": \"\"}}, \"title\": {\"x\": 0.05}, \"xaxis\": {\"automargin\": true, \"gridcolor\": \"white\", \"linecolor\": \"white\", \"ticks\": \"\", \"title\": {\"standoff\": 15}, \"zerolinecolor\": \"white\", \"zerolinewidth\": 2}, \"yaxis\": {\"automargin\": true, \"gridcolor\": \"white\", \"linecolor\": \"white\", \"ticks\": \"\", \"title\": {\"standoff\": 15}, \"zerolinecolor\": \"white\", \"zerolinewidth\": 2}}}, \"xaxis\": {\"anchor\": \"y\", \"domain\": [0.0, 1.0], \"title\": {\"text\": \"hour\"}}, \"yaxis\": {\"anchor\": \"x\", \"domain\": [0.0, 1.0], \"title\": {\"text\": \"amount_spent\"}}},                        {\"responsive\": true}                    ).then(function(){\n                            \nvar gd = document.getElementById('45560f38-c096-4f80-8394-66f4b78c1d28');\nvar x = new MutationObserver(function (mutations, observer) {{\n        var display = window.getComputedStyle(gd).display;\n        if (!display || display === 'none') {{\n            console.log([gd, 'removed!']);\n            Plotly.purge(gd);\n            observer.disconnect();\n        }}\n}});\n\n// Listen for the removal of the full notebook cells\nvar notebookContainer = gd.closest('#notebook-container');\nif (notebookContainer) {{\n    x.observe(notebookContainer, {childList: true});\n}}\n\n// Listen for the clearing of the current output cell\nvar outputEl = gd.closest('.output');\nif (outputEl) {{\n    x.observe(outputEl, {childList: true});\n}}\n\n                        })                };                });            </script>        </div>"
     },
     "metadata": {}
    }
   ],
   "source": [
    "# Hourly Revenue Distribution\n",
    "\n",
    "df['order_time'] = pd.to_datetime(df['order_time'], errors='coerce')\n",
    "df[\"hour\"] = df[\"order_time\"].dt.hour\n",
    "revenue_by_hour = df.groupby(\"hour\").sum().reset_index()\n",
    "\n",
    "\n",
    "revenue_by_hour_bar = px.bar(revenue_by_hour, x=\"hour\", y='amount_spent', color_discrete_sequence=['indianred'])\n",
    "revenue_by_hour_bar.show()\n",
    "#py.plot(revenue_by_hour_bar, filename = 'revenue_by_hour_bar', auto_open=True)"
   ]
  },
  {
   "cell_type": "code",
   "execution_count": 13,
   "metadata": {},
   "outputs": [
    {
     "output_type": "stream",
     "name": "stdout",
     "text": [
      "  order_time   customer_id  amount_spent  number_of_orders  hour\n0     Monday -1.203264e+20       4861.68               205  3006\n1    Tuesday  3.025814e+19       4839.54               202  2983\n2  Wednesday  5.958476e+19       6859.19               272  3895\n3   Thursday -1.343067e+20       5825.56               234  3453\n4     Friday -3.334546e+19       9749.63               352  5383\n5   Saturday -6.367289e+19      13372.84               453  6687\n6     Sunday -8.392593e+19       9981.63               352  4942\n"
     ]
    },
    {
     "output_type": "display_data",
     "data": {
      "application/vnd.plotly.v1+json": {
       "config": {
        "plotlyServerURL": "https://plotly.com"
       },
       "data": [
        {
         "alignmentgroup": "True",
         "hovertemplate": "order_time=%{x}<br>number_of_orders=%{y}<extra></extra>",
         "legendgroup": "",
         "marker": {
          "color": "indianred"
         },
         "name": "",
         "offsetgroup": "",
         "orientation": "v",
         "showlegend": false,
         "textposition": "auto",
         "type": "bar",
         "x": [
          "Monday",
          "Tuesday",
          "Wednesday",
          "Thursday",
          "Friday",
          "Saturday",
          "Sunday"
         ],
         "xaxis": "x",
         "y": [
          205,
          202,
          272,
          234,
          352,
          453,
          352
         ],
         "yaxis": "y"
        }
       ],
       "layout": {
        "barmode": "relative",
        "legend": {
         "tracegroupgap": 0
        },
        "margin": {
         "t": 60
        },
        "template": {
         "data": {
          "bar": [
           {
            "error_x": {
             "color": "#2a3f5f"
            },
            "error_y": {
             "color": "#2a3f5f"
            },
            "marker": {
             "line": {
              "color": "#E5ECF6",
              "width": 0.5
             }
            },
            "type": "bar"
           }
          ],
          "barpolar": [
           {
            "marker": {
             "line": {
              "color": "#E5ECF6",
              "width": 0.5
             }
            },
            "type": "barpolar"
           }
          ],
          "carpet": [
           {
            "aaxis": {
             "endlinecolor": "#2a3f5f",
             "gridcolor": "white",
             "linecolor": "white",
             "minorgridcolor": "white",
             "startlinecolor": "#2a3f5f"
            },
            "baxis": {
             "endlinecolor": "#2a3f5f",
             "gridcolor": "white",
             "linecolor": "white",
             "minorgridcolor": "white",
             "startlinecolor": "#2a3f5f"
            },
            "type": "carpet"
           }
          ],
          "choropleth": [
           {
            "colorbar": {
             "outlinewidth": 0,
             "ticks": ""
            },
            "type": "choropleth"
           }
          ],
          "contour": [
           {
            "colorbar": {
             "outlinewidth": 0,
             "ticks": ""
            },
            "colorscale": [
             [
              0,
              "#0d0887"
             ],
             [
              0.1111111111111111,
              "#46039f"
             ],
             [
              0.2222222222222222,
              "#7201a8"
             ],
             [
              0.3333333333333333,
              "#9c179e"
             ],
             [
              0.4444444444444444,
              "#bd3786"
             ],
             [
              0.5555555555555556,
              "#d8576b"
             ],
             [
              0.6666666666666666,
              "#ed7953"
             ],
             [
              0.7777777777777778,
              "#fb9f3a"
             ],
             [
              0.8888888888888888,
              "#fdca26"
             ],
             [
              1,
              "#f0f921"
             ]
            ],
            "type": "contour"
           }
          ],
          "contourcarpet": [
           {
            "colorbar": {
             "outlinewidth": 0,
             "ticks": ""
            },
            "type": "contourcarpet"
           }
          ],
          "heatmap": [
           {
            "colorbar": {
             "outlinewidth": 0,
             "ticks": ""
            },
            "colorscale": [
             [
              0,
              "#0d0887"
             ],
             [
              0.1111111111111111,
              "#46039f"
             ],
             [
              0.2222222222222222,
              "#7201a8"
             ],
             [
              0.3333333333333333,
              "#9c179e"
             ],
             [
              0.4444444444444444,
              "#bd3786"
             ],
             [
              0.5555555555555556,
              "#d8576b"
             ],
             [
              0.6666666666666666,
              "#ed7953"
             ],
             [
              0.7777777777777778,
              "#fb9f3a"
             ],
             [
              0.8888888888888888,
              "#fdca26"
             ],
             [
              1,
              "#f0f921"
             ]
            ],
            "type": "heatmap"
           }
          ],
          "heatmapgl": [
           {
            "colorbar": {
             "outlinewidth": 0,
             "ticks": ""
            },
            "colorscale": [
             [
              0,
              "#0d0887"
             ],
             [
              0.1111111111111111,
              "#46039f"
             ],
             [
              0.2222222222222222,
              "#7201a8"
             ],
             [
              0.3333333333333333,
              "#9c179e"
             ],
             [
              0.4444444444444444,
              "#bd3786"
             ],
             [
              0.5555555555555556,
              "#d8576b"
             ],
             [
              0.6666666666666666,
              "#ed7953"
             ],
             [
              0.7777777777777778,
              "#fb9f3a"
             ],
             [
              0.8888888888888888,
              "#fdca26"
             ],
             [
              1,
              "#f0f921"
             ]
            ],
            "type": "heatmapgl"
           }
          ],
          "histogram": [
           {
            "marker": {
             "colorbar": {
              "outlinewidth": 0,
              "ticks": ""
             }
            },
            "type": "histogram"
           }
          ],
          "histogram2d": [
           {
            "colorbar": {
             "outlinewidth": 0,
             "ticks": ""
            },
            "colorscale": [
             [
              0,
              "#0d0887"
             ],
             [
              0.1111111111111111,
              "#46039f"
             ],
             [
              0.2222222222222222,
              "#7201a8"
             ],
             [
              0.3333333333333333,
              "#9c179e"
             ],
             [
              0.4444444444444444,
              "#bd3786"
             ],
             [
              0.5555555555555556,
              "#d8576b"
             ],
             [
              0.6666666666666666,
              "#ed7953"
             ],
             [
              0.7777777777777778,
              "#fb9f3a"
             ],
             [
              0.8888888888888888,
              "#fdca26"
             ],
             [
              1,
              "#f0f921"
             ]
            ],
            "type": "histogram2d"
           }
          ],
          "histogram2dcontour": [
           {
            "colorbar": {
             "outlinewidth": 0,
             "ticks": ""
            },
            "colorscale": [
             [
              0,
              "#0d0887"
             ],
             [
              0.1111111111111111,
              "#46039f"
             ],
             [
              0.2222222222222222,
              "#7201a8"
             ],
             [
              0.3333333333333333,
              "#9c179e"
             ],
             [
              0.4444444444444444,
              "#bd3786"
             ],
             [
              0.5555555555555556,
              "#d8576b"
             ],
             [
              0.6666666666666666,
              "#ed7953"
             ],
             [
              0.7777777777777778,
              "#fb9f3a"
             ],
             [
              0.8888888888888888,
              "#fdca26"
             ],
             [
              1,
              "#f0f921"
             ]
            ],
            "type": "histogram2dcontour"
           }
          ],
          "mesh3d": [
           {
            "colorbar": {
             "outlinewidth": 0,
             "ticks": ""
            },
            "type": "mesh3d"
           }
          ],
          "parcoords": [
           {
            "line": {
             "colorbar": {
              "outlinewidth": 0,
              "ticks": ""
             }
            },
            "type": "parcoords"
           }
          ],
          "pie": [
           {
            "automargin": true,
            "type": "pie"
           }
          ],
          "scatter": [
           {
            "marker": {
             "colorbar": {
              "outlinewidth": 0,
              "ticks": ""
             }
            },
            "type": "scatter"
           }
          ],
          "scatter3d": [
           {
            "line": {
             "colorbar": {
              "outlinewidth": 0,
              "ticks": ""
             }
            },
            "marker": {
             "colorbar": {
              "outlinewidth": 0,
              "ticks": ""
             }
            },
            "type": "scatter3d"
           }
          ],
          "scattercarpet": [
           {
            "marker": {
             "colorbar": {
              "outlinewidth": 0,
              "ticks": ""
             }
            },
            "type": "scattercarpet"
           }
          ],
          "scattergeo": [
           {
            "marker": {
             "colorbar": {
              "outlinewidth": 0,
              "ticks": ""
             }
            },
            "type": "scattergeo"
           }
          ],
          "scattergl": [
           {
            "marker": {
             "colorbar": {
              "outlinewidth": 0,
              "ticks": ""
             }
            },
            "type": "scattergl"
           }
          ],
          "scattermapbox": [
           {
            "marker": {
             "colorbar": {
              "outlinewidth": 0,
              "ticks": ""
             }
            },
            "type": "scattermapbox"
           }
          ],
          "scatterpolar": [
           {
            "marker": {
             "colorbar": {
              "outlinewidth": 0,
              "ticks": ""
             }
            },
            "type": "scatterpolar"
           }
          ],
          "scatterpolargl": [
           {
            "marker": {
             "colorbar": {
              "outlinewidth": 0,
              "ticks": ""
             }
            },
            "type": "scatterpolargl"
           }
          ],
          "scatterternary": [
           {
            "marker": {
             "colorbar": {
              "outlinewidth": 0,
              "ticks": ""
             }
            },
            "type": "scatterternary"
           }
          ],
          "surface": [
           {
            "colorbar": {
             "outlinewidth": 0,
             "ticks": ""
            },
            "colorscale": [
             [
              0,
              "#0d0887"
             ],
             [
              0.1111111111111111,
              "#46039f"
             ],
             [
              0.2222222222222222,
              "#7201a8"
             ],
             [
              0.3333333333333333,
              "#9c179e"
             ],
             [
              0.4444444444444444,
              "#bd3786"
             ],
             [
              0.5555555555555556,
              "#d8576b"
             ],
             [
              0.6666666666666666,
              "#ed7953"
             ],
             [
              0.7777777777777778,
              "#fb9f3a"
             ],
             [
              0.8888888888888888,
              "#fdca26"
             ],
             [
              1,
              "#f0f921"
             ]
            ],
            "type": "surface"
           }
          ],
          "table": [
           {
            "cells": {
             "fill": {
              "color": "#EBF0F8"
             },
             "line": {
              "color": "white"
             }
            },
            "header": {
             "fill": {
              "color": "#C8D4E3"
             },
             "line": {
              "color": "white"
             }
            },
            "type": "table"
           }
          ]
         },
         "layout": {
          "annotationdefaults": {
           "arrowcolor": "#2a3f5f",
           "arrowhead": 0,
           "arrowwidth": 1
          },
          "autotypenumbers": "strict",
          "coloraxis": {
           "colorbar": {
            "outlinewidth": 0,
            "ticks": ""
           }
          },
          "colorscale": {
           "diverging": [
            [
             0,
             "#8e0152"
            ],
            [
             0.1,
             "#c51b7d"
            ],
            [
             0.2,
             "#de77ae"
            ],
            [
             0.3,
             "#f1b6da"
            ],
            [
             0.4,
             "#fde0ef"
            ],
            [
             0.5,
             "#f7f7f7"
            ],
            [
             0.6,
             "#e6f5d0"
            ],
            [
             0.7,
             "#b8e186"
            ],
            [
             0.8,
             "#7fbc41"
            ],
            [
             0.9,
             "#4d9221"
            ],
            [
             1,
             "#276419"
            ]
           ],
           "sequential": [
            [
             0,
             "#0d0887"
            ],
            [
             0.1111111111111111,
             "#46039f"
            ],
            [
             0.2222222222222222,
             "#7201a8"
            ],
            [
             0.3333333333333333,
             "#9c179e"
            ],
            [
             0.4444444444444444,
             "#bd3786"
            ],
            [
             0.5555555555555556,
             "#d8576b"
            ],
            [
             0.6666666666666666,
             "#ed7953"
            ],
            [
             0.7777777777777778,
             "#fb9f3a"
            ],
            [
             0.8888888888888888,
             "#fdca26"
            ],
            [
             1,
             "#f0f921"
            ]
           ],
           "sequentialminus": [
            [
             0,
             "#0d0887"
            ],
            [
             0.1111111111111111,
             "#46039f"
            ],
            [
             0.2222222222222222,
             "#7201a8"
            ],
            [
             0.3333333333333333,
             "#9c179e"
            ],
            [
             0.4444444444444444,
             "#bd3786"
            ],
            [
             0.5555555555555556,
             "#d8576b"
            ],
            [
             0.6666666666666666,
             "#ed7953"
            ],
            [
             0.7777777777777778,
             "#fb9f3a"
            ],
            [
             0.8888888888888888,
             "#fdca26"
            ],
            [
             1,
             "#f0f921"
            ]
           ]
          },
          "colorway": [
           "#636efa",
           "#EF553B",
           "#00cc96",
           "#ab63fa",
           "#FFA15A",
           "#19d3f3",
           "#FF6692",
           "#B6E880",
           "#FF97FF",
           "#FECB52"
          ],
          "font": {
           "color": "#2a3f5f"
          },
          "geo": {
           "bgcolor": "white",
           "lakecolor": "white",
           "landcolor": "#E5ECF6",
           "showlakes": true,
           "showland": true,
           "subunitcolor": "white"
          },
          "hoverlabel": {
           "align": "left"
          },
          "hovermode": "closest",
          "mapbox": {
           "style": "light"
          },
          "paper_bgcolor": "white",
          "plot_bgcolor": "#E5ECF6",
          "polar": {
           "angularaxis": {
            "gridcolor": "white",
            "linecolor": "white",
            "ticks": ""
           },
           "bgcolor": "#E5ECF6",
           "radialaxis": {
            "gridcolor": "white",
            "linecolor": "white",
            "ticks": ""
           }
          },
          "scene": {
           "xaxis": {
            "backgroundcolor": "#E5ECF6",
            "gridcolor": "white",
            "gridwidth": 2,
            "linecolor": "white",
            "showbackground": true,
            "ticks": "",
            "zerolinecolor": "white"
           },
           "yaxis": {
            "backgroundcolor": "#E5ECF6",
            "gridcolor": "white",
            "gridwidth": 2,
            "linecolor": "white",
            "showbackground": true,
            "ticks": "",
            "zerolinecolor": "white"
           },
           "zaxis": {
            "backgroundcolor": "#E5ECF6",
            "gridcolor": "white",
            "gridwidth": 2,
            "linecolor": "white",
            "showbackground": true,
            "ticks": "",
            "zerolinecolor": "white"
           }
          },
          "shapedefaults": {
           "line": {
            "color": "#2a3f5f"
           }
          },
          "ternary": {
           "aaxis": {
            "gridcolor": "white",
            "linecolor": "white",
            "ticks": ""
           },
           "baxis": {
            "gridcolor": "white",
            "linecolor": "white",
            "ticks": ""
           },
           "bgcolor": "#E5ECF6",
           "caxis": {
            "gridcolor": "white",
            "linecolor": "white",
            "ticks": ""
           }
          },
          "title": {
           "x": 0.05
          },
          "xaxis": {
           "automargin": true,
           "gridcolor": "white",
           "linecolor": "white",
           "ticks": "",
           "title": {
            "standoff": 15
           },
           "zerolinecolor": "white",
           "zerolinewidth": 2
          },
          "yaxis": {
           "automargin": true,
           "gridcolor": "white",
           "linecolor": "white",
           "ticks": "",
           "title": {
            "standoff": 15
           },
           "zerolinecolor": "white",
           "zerolinewidth": 2
          }
         }
        },
        "xaxis": {
         "anchor": "y",
         "domain": [
          0,
          1
         ],
         "title": {
          "text": "order_time"
         }
        },
        "yaxis": {
         "anchor": "x",
         "domain": [
          0,
          1
         ],
         "title": {
          "text": "number_of_orders"
         }
        }
       }
      },
      "text/html": "<div>                            <div id=\"47417838-4449-4bd5-a006-26373681eb25\" class=\"plotly-graph-div\" style=\"height:525px; width:100%;\"></div>            <script type=\"text/javascript\">                require([\"plotly\"], function(Plotly) {                    window.PLOTLYENV=window.PLOTLYENV || {};                                    if (document.getElementById(\"47417838-4449-4bd5-a006-26373681eb25\")) {                    Plotly.newPlot(                        \"47417838-4449-4bd5-a006-26373681eb25\",                        [{\"alignmentgroup\": \"True\", \"hovertemplate\": \"order_time=%{x}<br>number_of_orders=%{y}<extra></extra>\", \"legendgroup\": \"\", \"marker\": {\"color\": \"indianred\"}, \"name\": \"\", \"offsetgroup\": \"\", \"orientation\": \"v\", \"showlegend\": false, \"textposition\": \"auto\", \"type\": \"bar\", \"x\": [\"Monday\", \"Tuesday\", \"Wednesday\", \"Thursday\", \"Friday\", \"Saturday\", \"Sunday\"], \"xaxis\": \"x\", \"y\": [205, 202, 272, 234, 352, 453, 352], \"yaxis\": \"y\"}],                        {\"barmode\": \"relative\", \"legend\": {\"tracegroupgap\": 0}, \"margin\": {\"t\": 60}, \"template\": {\"data\": {\"bar\": [{\"error_x\": {\"color\": \"#2a3f5f\"}, \"error_y\": {\"color\": \"#2a3f5f\"}, \"marker\": {\"line\": {\"color\": \"#E5ECF6\", \"width\": 0.5}}, \"type\": \"bar\"}], \"barpolar\": [{\"marker\": {\"line\": {\"color\": \"#E5ECF6\", \"width\": 0.5}}, \"type\": \"barpolar\"}], \"carpet\": [{\"aaxis\": {\"endlinecolor\": \"#2a3f5f\", \"gridcolor\": \"white\", \"linecolor\": \"white\", \"minorgridcolor\": \"white\", \"startlinecolor\": \"#2a3f5f\"}, \"baxis\": {\"endlinecolor\": \"#2a3f5f\", \"gridcolor\": \"white\", \"linecolor\": \"white\", \"minorgridcolor\": \"white\", \"startlinecolor\": \"#2a3f5f\"}, \"type\": \"carpet\"}], \"choropleth\": [{\"colorbar\": {\"outlinewidth\": 0, \"ticks\": \"\"}, \"type\": \"choropleth\"}], \"contour\": [{\"colorbar\": {\"outlinewidth\": 0, \"ticks\": \"\"}, \"colorscale\": [[0.0, \"#0d0887\"], [0.1111111111111111, \"#46039f\"], [0.2222222222222222, \"#7201a8\"], [0.3333333333333333, \"#9c179e\"], [0.4444444444444444, \"#bd3786\"], [0.5555555555555556, \"#d8576b\"], [0.6666666666666666, \"#ed7953\"], [0.7777777777777778, \"#fb9f3a\"], [0.8888888888888888, \"#fdca26\"], [1.0, \"#f0f921\"]], \"type\": \"contour\"}], \"contourcarpet\": [{\"colorbar\": {\"outlinewidth\": 0, \"ticks\": \"\"}, \"type\": \"contourcarpet\"}], \"heatmap\": [{\"colorbar\": {\"outlinewidth\": 0, \"ticks\": \"\"}, \"colorscale\": [[0.0, \"#0d0887\"], [0.1111111111111111, \"#46039f\"], [0.2222222222222222, \"#7201a8\"], [0.3333333333333333, \"#9c179e\"], [0.4444444444444444, \"#bd3786\"], [0.5555555555555556, \"#d8576b\"], [0.6666666666666666, \"#ed7953\"], [0.7777777777777778, \"#fb9f3a\"], [0.8888888888888888, \"#fdca26\"], [1.0, \"#f0f921\"]], \"type\": \"heatmap\"}], \"heatmapgl\": [{\"colorbar\": {\"outlinewidth\": 0, \"ticks\": \"\"}, \"colorscale\": [[0.0, \"#0d0887\"], [0.1111111111111111, \"#46039f\"], [0.2222222222222222, \"#7201a8\"], [0.3333333333333333, \"#9c179e\"], [0.4444444444444444, \"#bd3786\"], [0.5555555555555556, \"#d8576b\"], [0.6666666666666666, \"#ed7953\"], [0.7777777777777778, \"#fb9f3a\"], [0.8888888888888888, \"#fdca26\"], [1.0, \"#f0f921\"]], \"type\": \"heatmapgl\"}], \"histogram\": [{\"marker\": {\"colorbar\": {\"outlinewidth\": 0, \"ticks\": \"\"}}, \"type\": \"histogram\"}], \"histogram2d\": [{\"colorbar\": {\"outlinewidth\": 0, \"ticks\": \"\"}, \"colorscale\": [[0.0, \"#0d0887\"], [0.1111111111111111, \"#46039f\"], [0.2222222222222222, \"#7201a8\"], [0.3333333333333333, \"#9c179e\"], [0.4444444444444444, \"#bd3786\"], [0.5555555555555556, \"#d8576b\"], [0.6666666666666666, \"#ed7953\"], [0.7777777777777778, \"#fb9f3a\"], [0.8888888888888888, \"#fdca26\"], [1.0, \"#f0f921\"]], \"type\": \"histogram2d\"}], \"histogram2dcontour\": [{\"colorbar\": {\"outlinewidth\": 0, \"ticks\": \"\"}, \"colorscale\": [[0.0, \"#0d0887\"], [0.1111111111111111, \"#46039f\"], [0.2222222222222222, \"#7201a8\"], [0.3333333333333333, \"#9c179e\"], [0.4444444444444444, \"#bd3786\"], [0.5555555555555556, \"#d8576b\"], [0.6666666666666666, \"#ed7953\"], [0.7777777777777778, \"#fb9f3a\"], [0.8888888888888888, \"#fdca26\"], [1.0, \"#f0f921\"]], \"type\": \"histogram2dcontour\"}], \"mesh3d\": [{\"colorbar\": {\"outlinewidth\": 0, \"ticks\": \"\"}, \"type\": \"mesh3d\"}], \"parcoords\": [{\"line\": {\"colorbar\": {\"outlinewidth\": 0, \"ticks\": \"\"}}, \"type\": \"parcoords\"}], \"pie\": [{\"automargin\": true, \"type\": \"pie\"}], \"scatter\": [{\"marker\": {\"colorbar\": {\"outlinewidth\": 0, \"ticks\": \"\"}}, \"type\": \"scatter\"}], \"scatter3d\": [{\"line\": {\"colorbar\": {\"outlinewidth\": 0, \"ticks\": \"\"}}, \"marker\": {\"colorbar\": {\"outlinewidth\": 0, \"ticks\": \"\"}}, \"type\": \"scatter3d\"}], \"scattercarpet\": [{\"marker\": {\"colorbar\": {\"outlinewidth\": 0, \"ticks\": \"\"}}, \"type\": \"scattercarpet\"}], \"scattergeo\": [{\"marker\": {\"colorbar\": {\"outlinewidth\": 0, \"ticks\": \"\"}}, \"type\": \"scattergeo\"}], \"scattergl\": [{\"marker\": {\"colorbar\": {\"outlinewidth\": 0, \"ticks\": \"\"}}, \"type\": \"scattergl\"}], \"scattermapbox\": [{\"marker\": {\"colorbar\": {\"outlinewidth\": 0, \"ticks\": \"\"}}, \"type\": \"scattermapbox\"}], \"scatterpolar\": [{\"marker\": {\"colorbar\": {\"outlinewidth\": 0, \"ticks\": \"\"}}, \"type\": \"scatterpolar\"}], \"scatterpolargl\": [{\"marker\": {\"colorbar\": {\"outlinewidth\": 0, \"ticks\": \"\"}}, \"type\": \"scatterpolargl\"}], \"scatterternary\": [{\"marker\": {\"colorbar\": {\"outlinewidth\": 0, \"ticks\": \"\"}}, \"type\": \"scatterternary\"}], \"surface\": [{\"colorbar\": {\"outlinewidth\": 0, \"ticks\": \"\"}, \"colorscale\": [[0.0, \"#0d0887\"], [0.1111111111111111, \"#46039f\"], [0.2222222222222222, \"#7201a8\"], [0.3333333333333333, \"#9c179e\"], [0.4444444444444444, \"#bd3786\"], [0.5555555555555556, \"#d8576b\"], [0.6666666666666666, \"#ed7953\"], [0.7777777777777778, \"#fb9f3a\"], [0.8888888888888888, \"#fdca26\"], [1.0, \"#f0f921\"]], \"type\": \"surface\"}], \"table\": [{\"cells\": {\"fill\": {\"color\": \"#EBF0F8\"}, \"line\": {\"color\": \"white\"}}, \"header\": {\"fill\": {\"color\": \"#C8D4E3\"}, \"line\": {\"color\": \"white\"}}, \"type\": \"table\"}]}, \"layout\": {\"annotationdefaults\": {\"arrowcolor\": \"#2a3f5f\", \"arrowhead\": 0, \"arrowwidth\": 1}, \"autotypenumbers\": \"strict\", \"coloraxis\": {\"colorbar\": {\"outlinewidth\": 0, \"ticks\": \"\"}}, \"colorscale\": {\"diverging\": [[0, \"#8e0152\"], [0.1, \"#c51b7d\"], [0.2, \"#de77ae\"], [0.3, \"#f1b6da\"], [0.4, \"#fde0ef\"], [0.5, \"#f7f7f7\"], [0.6, \"#e6f5d0\"], [0.7, \"#b8e186\"], [0.8, \"#7fbc41\"], [0.9, \"#4d9221\"], [1, \"#276419\"]], \"sequential\": [[0.0, \"#0d0887\"], [0.1111111111111111, \"#46039f\"], [0.2222222222222222, \"#7201a8\"], [0.3333333333333333, \"#9c179e\"], [0.4444444444444444, \"#bd3786\"], [0.5555555555555556, \"#d8576b\"], [0.6666666666666666, \"#ed7953\"], [0.7777777777777778, \"#fb9f3a\"], [0.8888888888888888, \"#fdca26\"], [1.0, \"#f0f921\"]], \"sequentialminus\": [[0.0, \"#0d0887\"], [0.1111111111111111, \"#46039f\"], [0.2222222222222222, \"#7201a8\"], [0.3333333333333333, \"#9c179e\"], [0.4444444444444444, \"#bd3786\"], [0.5555555555555556, \"#d8576b\"], [0.6666666666666666, \"#ed7953\"], [0.7777777777777778, \"#fb9f3a\"], [0.8888888888888888, \"#fdca26\"], [1.0, \"#f0f921\"]]}, \"colorway\": [\"#636efa\", \"#EF553B\", \"#00cc96\", \"#ab63fa\", \"#FFA15A\", \"#19d3f3\", \"#FF6692\", \"#B6E880\", \"#FF97FF\", \"#FECB52\"], \"font\": {\"color\": \"#2a3f5f\"}, \"geo\": {\"bgcolor\": \"white\", \"lakecolor\": \"white\", \"landcolor\": \"#E5ECF6\", \"showlakes\": true, \"showland\": true, \"subunitcolor\": \"white\"}, \"hoverlabel\": {\"align\": \"left\"}, \"hovermode\": \"closest\", \"mapbox\": {\"style\": \"light\"}, \"paper_bgcolor\": \"white\", \"plot_bgcolor\": \"#E5ECF6\", \"polar\": {\"angularaxis\": {\"gridcolor\": \"white\", \"linecolor\": \"white\", \"ticks\": \"\"}, \"bgcolor\": \"#E5ECF6\", \"radialaxis\": {\"gridcolor\": \"white\", \"linecolor\": \"white\", \"ticks\": \"\"}}, \"scene\": {\"xaxis\": {\"backgroundcolor\": \"#E5ECF6\", \"gridcolor\": \"white\", \"gridwidth\": 2, \"linecolor\": \"white\", \"showbackground\": true, \"ticks\": \"\", \"zerolinecolor\": \"white\"}, \"yaxis\": {\"backgroundcolor\": \"#E5ECF6\", \"gridcolor\": \"white\", \"gridwidth\": 2, \"linecolor\": \"white\", \"showbackground\": true, \"ticks\": \"\", \"zerolinecolor\": \"white\"}, \"zaxis\": {\"backgroundcolor\": \"#E5ECF6\", \"gridcolor\": \"white\", \"gridwidth\": 2, \"linecolor\": \"white\", \"showbackground\": true, \"ticks\": \"\", \"zerolinecolor\": \"white\"}}, \"shapedefaults\": {\"line\": {\"color\": \"#2a3f5f\"}}, \"ternary\": {\"aaxis\": {\"gridcolor\": \"white\", \"linecolor\": \"white\", \"ticks\": \"\"}, \"baxis\": {\"gridcolor\": \"white\", \"linecolor\": \"white\", \"ticks\": \"\"}, \"bgcolor\": \"#E5ECF6\", \"caxis\": {\"gridcolor\": \"white\", \"linecolor\": \"white\", \"ticks\": \"\"}}, \"title\": {\"x\": 0.05}, \"xaxis\": {\"automargin\": true, \"gridcolor\": \"white\", \"linecolor\": \"white\", \"ticks\": \"\", \"title\": {\"standoff\": 15}, \"zerolinecolor\": \"white\", \"zerolinewidth\": 2}, \"yaxis\": {\"automargin\": true, \"gridcolor\": \"white\", \"linecolor\": \"white\", \"ticks\": \"\", \"title\": {\"standoff\": 15}, \"zerolinecolor\": \"white\", \"zerolinewidth\": 2}}}, \"xaxis\": {\"anchor\": \"y\", \"domain\": [0.0, 1.0], \"title\": {\"text\": \"order_time\"}}, \"yaxis\": {\"anchor\": \"x\", \"domain\": [0.0, 1.0], \"title\": {\"text\": \"number_of_orders\"}}},                        {\"responsive\": true}                    ).then(function(){\n                            \nvar gd = document.getElementById('47417838-4449-4bd5-a006-26373681eb25');\nvar x = new MutationObserver(function (mutations, observer) {{\n        var display = window.getComputedStyle(gd).display;\n        if (!display || display === 'none') {{\n            console.log([gd, 'removed!']);\n            Plotly.purge(gd);\n            observer.disconnect();\n        }}\n}});\n\n// Listen for the removal of the full notebook cells\nvar notebookContainer = gd.closest('#notebook-container');\nif (notebookContainer) {{\n    x.observe(notebookContainer, {childList: true});\n}}\n\n// Listen for the clearing of the current output cell\nvar outputEl = gd.closest('.output');\nif (outputEl) {{\n    x.observe(outputEl, {childList: true});\n}}\n\n                        })                };                });            </script>        </div>"
     },
     "metadata": {}
    },
    {
     "output_type": "display_data",
     "data": {
      "application/vnd.plotly.v1+json": {
       "config": {
        "plotlyServerURL": "https://plotly.com"
       },
       "data": [
        {
         "alignmentgroup": "True",
         "hovertemplate": "order_time=%{x}<br>amount_spent=%{y}<extra></extra>",
         "legendgroup": "",
         "marker": {
          "color": "#636efa"
         },
         "name": "",
         "offsetgroup": "",
         "orientation": "v",
         "showlegend": false,
         "textposition": "auto",
         "type": "bar",
         "x": [
          "Monday",
          "Tuesday",
          "Wednesday",
          "Thursday",
          "Friday",
          "Saturday",
          "Sunday"
         ],
         "xaxis": "x",
         "y": [
          4861.679999999995,
          4839.539999999997,
          6859.189999999991,
          5825.559999999996,
          9749.629999999997,
          13372.84,
          9981.629999999994
         ],
         "yaxis": "y"
        }
       ],
       "layout": {
        "barmode": "relative",
        "legend": {
         "tracegroupgap": 0
        },
        "margin": {
         "t": 60
        },
        "template": {
         "data": {
          "bar": [
           {
            "error_x": {
             "color": "#2a3f5f"
            },
            "error_y": {
             "color": "#2a3f5f"
            },
            "marker": {
             "line": {
              "color": "#E5ECF6",
              "width": 0.5
             }
            },
            "type": "bar"
           }
          ],
          "barpolar": [
           {
            "marker": {
             "line": {
              "color": "#E5ECF6",
              "width": 0.5
             }
            },
            "type": "barpolar"
           }
          ],
          "carpet": [
           {
            "aaxis": {
             "endlinecolor": "#2a3f5f",
             "gridcolor": "white",
             "linecolor": "white",
             "minorgridcolor": "white",
             "startlinecolor": "#2a3f5f"
            },
            "baxis": {
             "endlinecolor": "#2a3f5f",
             "gridcolor": "white",
             "linecolor": "white",
             "minorgridcolor": "white",
             "startlinecolor": "#2a3f5f"
            },
            "type": "carpet"
           }
          ],
          "choropleth": [
           {
            "colorbar": {
             "outlinewidth": 0,
             "ticks": ""
            },
            "type": "choropleth"
           }
          ],
          "contour": [
           {
            "colorbar": {
             "outlinewidth": 0,
             "ticks": ""
            },
            "colorscale": [
             [
              0,
              "#0d0887"
             ],
             [
              0.1111111111111111,
              "#46039f"
             ],
             [
              0.2222222222222222,
              "#7201a8"
             ],
             [
              0.3333333333333333,
              "#9c179e"
             ],
             [
              0.4444444444444444,
              "#bd3786"
             ],
             [
              0.5555555555555556,
              "#d8576b"
             ],
             [
              0.6666666666666666,
              "#ed7953"
             ],
             [
              0.7777777777777778,
              "#fb9f3a"
             ],
             [
              0.8888888888888888,
              "#fdca26"
             ],
             [
              1,
              "#f0f921"
             ]
            ],
            "type": "contour"
           }
          ],
          "contourcarpet": [
           {
            "colorbar": {
             "outlinewidth": 0,
             "ticks": ""
            },
            "type": "contourcarpet"
           }
          ],
          "heatmap": [
           {
            "colorbar": {
             "outlinewidth": 0,
             "ticks": ""
            },
            "colorscale": [
             [
              0,
              "#0d0887"
             ],
             [
              0.1111111111111111,
              "#46039f"
             ],
             [
              0.2222222222222222,
              "#7201a8"
             ],
             [
              0.3333333333333333,
              "#9c179e"
             ],
             [
              0.4444444444444444,
              "#bd3786"
             ],
             [
              0.5555555555555556,
              "#d8576b"
             ],
             [
              0.6666666666666666,
              "#ed7953"
             ],
             [
              0.7777777777777778,
              "#fb9f3a"
             ],
             [
              0.8888888888888888,
              "#fdca26"
             ],
             [
              1,
              "#f0f921"
             ]
            ],
            "type": "heatmap"
           }
          ],
          "heatmapgl": [
           {
            "colorbar": {
             "outlinewidth": 0,
             "ticks": ""
            },
            "colorscale": [
             [
              0,
              "#0d0887"
             ],
             [
              0.1111111111111111,
              "#46039f"
             ],
             [
              0.2222222222222222,
              "#7201a8"
             ],
             [
              0.3333333333333333,
              "#9c179e"
             ],
             [
              0.4444444444444444,
              "#bd3786"
             ],
             [
              0.5555555555555556,
              "#d8576b"
             ],
             [
              0.6666666666666666,
              "#ed7953"
             ],
             [
              0.7777777777777778,
              "#fb9f3a"
             ],
             [
              0.8888888888888888,
              "#fdca26"
             ],
             [
              1,
              "#f0f921"
             ]
            ],
            "type": "heatmapgl"
           }
          ],
          "histogram": [
           {
            "marker": {
             "colorbar": {
              "outlinewidth": 0,
              "ticks": ""
             }
            },
            "type": "histogram"
           }
          ],
          "histogram2d": [
           {
            "colorbar": {
             "outlinewidth": 0,
             "ticks": ""
            },
            "colorscale": [
             [
              0,
              "#0d0887"
             ],
             [
              0.1111111111111111,
              "#46039f"
             ],
             [
              0.2222222222222222,
              "#7201a8"
             ],
             [
              0.3333333333333333,
              "#9c179e"
             ],
             [
              0.4444444444444444,
              "#bd3786"
             ],
             [
              0.5555555555555556,
              "#d8576b"
             ],
             [
              0.6666666666666666,
              "#ed7953"
             ],
             [
              0.7777777777777778,
              "#fb9f3a"
             ],
             [
              0.8888888888888888,
              "#fdca26"
             ],
             [
              1,
              "#f0f921"
             ]
            ],
            "type": "histogram2d"
           }
          ],
          "histogram2dcontour": [
           {
            "colorbar": {
             "outlinewidth": 0,
             "ticks": ""
            },
            "colorscale": [
             [
              0,
              "#0d0887"
             ],
             [
              0.1111111111111111,
              "#46039f"
             ],
             [
              0.2222222222222222,
              "#7201a8"
             ],
             [
              0.3333333333333333,
              "#9c179e"
             ],
             [
              0.4444444444444444,
              "#bd3786"
             ],
             [
              0.5555555555555556,
              "#d8576b"
             ],
             [
              0.6666666666666666,
              "#ed7953"
             ],
             [
              0.7777777777777778,
              "#fb9f3a"
             ],
             [
              0.8888888888888888,
              "#fdca26"
             ],
             [
              1,
              "#f0f921"
             ]
            ],
            "type": "histogram2dcontour"
           }
          ],
          "mesh3d": [
           {
            "colorbar": {
             "outlinewidth": 0,
             "ticks": ""
            },
            "type": "mesh3d"
           }
          ],
          "parcoords": [
           {
            "line": {
             "colorbar": {
              "outlinewidth": 0,
              "ticks": ""
             }
            },
            "type": "parcoords"
           }
          ],
          "pie": [
           {
            "automargin": true,
            "type": "pie"
           }
          ],
          "scatter": [
           {
            "marker": {
             "colorbar": {
              "outlinewidth": 0,
              "ticks": ""
             }
            },
            "type": "scatter"
           }
          ],
          "scatter3d": [
           {
            "line": {
             "colorbar": {
              "outlinewidth": 0,
              "ticks": ""
             }
            },
            "marker": {
             "colorbar": {
              "outlinewidth": 0,
              "ticks": ""
             }
            },
            "type": "scatter3d"
           }
          ],
          "scattercarpet": [
           {
            "marker": {
             "colorbar": {
              "outlinewidth": 0,
              "ticks": ""
             }
            },
            "type": "scattercarpet"
           }
          ],
          "scattergeo": [
           {
            "marker": {
             "colorbar": {
              "outlinewidth": 0,
              "ticks": ""
             }
            },
            "type": "scattergeo"
           }
          ],
          "scattergl": [
           {
            "marker": {
             "colorbar": {
              "outlinewidth": 0,
              "ticks": ""
             }
            },
            "type": "scattergl"
           }
          ],
          "scattermapbox": [
           {
            "marker": {
             "colorbar": {
              "outlinewidth": 0,
              "ticks": ""
             }
            },
            "type": "scattermapbox"
           }
          ],
          "scatterpolar": [
           {
            "marker": {
             "colorbar": {
              "outlinewidth": 0,
              "ticks": ""
             }
            },
            "type": "scatterpolar"
           }
          ],
          "scatterpolargl": [
           {
            "marker": {
             "colorbar": {
              "outlinewidth": 0,
              "ticks": ""
             }
            },
            "type": "scatterpolargl"
           }
          ],
          "scatterternary": [
           {
            "marker": {
             "colorbar": {
              "outlinewidth": 0,
              "ticks": ""
             }
            },
            "type": "scatterternary"
           }
          ],
          "surface": [
           {
            "colorbar": {
             "outlinewidth": 0,
             "ticks": ""
            },
            "colorscale": [
             [
              0,
              "#0d0887"
             ],
             [
              0.1111111111111111,
              "#46039f"
             ],
             [
              0.2222222222222222,
              "#7201a8"
             ],
             [
              0.3333333333333333,
              "#9c179e"
             ],
             [
              0.4444444444444444,
              "#bd3786"
             ],
             [
              0.5555555555555556,
              "#d8576b"
             ],
             [
              0.6666666666666666,
              "#ed7953"
             ],
             [
              0.7777777777777778,
              "#fb9f3a"
             ],
             [
              0.8888888888888888,
              "#fdca26"
             ],
             [
              1,
              "#f0f921"
             ]
            ],
            "type": "surface"
           }
          ],
          "table": [
           {
            "cells": {
             "fill": {
              "color": "#EBF0F8"
             },
             "line": {
              "color": "white"
             }
            },
            "header": {
             "fill": {
              "color": "#C8D4E3"
             },
             "line": {
              "color": "white"
             }
            },
            "type": "table"
           }
          ]
         },
         "layout": {
          "annotationdefaults": {
           "arrowcolor": "#2a3f5f",
           "arrowhead": 0,
           "arrowwidth": 1
          },
          "autotypenumbers": "strict",
          "coloraxis": {
           "colorbar": {
            "outlinewidth": 0,
            "ticks": ""
           }
          },
          "colorscale": {
           "diverging": [
            [
             0,
             "#8e0152"
            ],
            [
             0.1,
             "#c51b7d"
            ],
            [
             0.2,
             "#de77ae"
            ],
            [
             0.3,
             "#f1b6da"
            ],
            [
             0.4,
             "#fde0ef"
            ],
            [
             0.5,
             "#f7f7f7"
            ],
            [
             0.6,
             "#e6f5d0"
            ],
            [
             0.7,
             "#b8e186"
            ],
            [
             0.8,
             "#7fbc41"
            ],
            [
             0.9,
             "#4d9221"
            ],
            [
             1,
             "#276419"
            ]
           ],
           "sequential": [
            [
             0,
             "#0d0887"
            ],
            [
             0.1111111111111111,
             "#46039f"
            ],
            [
             0.2222222222222222,
             "#7201a8"
            ],
            [
             0.3333333333333333,
             "#9c179e"
            ],
            [
             0.4444444444444444,
             "#bd3786"
            ],
            [
             0.5555555555555556,
             "#d8576b"
            ],
            [
             0.6666666666666666,
             "#ed7953"
            ],
            [
             0.7777777777777778,
             "#fb9f3a"
            ],
            [
             0.8888888888888888,
             "#fdca26"
            ],
            [
             1,
             "#f0f921"
            ]
           ],
           "sequentialminus": [
            [
             0,
             "#0d0887"
            ],
            [
             0.1111111111111111,
             "#46039f"
            ],
            [
             0.2222222222222222,
             "#7201a8"
            ],
            [
             0.3333333333333333,
             "#9c179e"
            ],
            [
             0.4444444444444444,
             "#bd3786"
            ],
            [
             0.5555555555555556,
             "#d8576b"
            ],
            [
             0.6666666666666666,
             "#ed7953"
            ],
            [
             0.7777777777777778,
             "#fb9f3a"
            ],
            [
             0.8888888888888888,
             "#fdca26"
            ],
            [
             1,
             "#f0f921"
            ]
           ]
          },
          "colorway": [
           "#636efa",
           "#EF553B",
           "#00cc96",
           "#ab63fa",
           "#FFA15A",
           "#19d3f3",
           "#FF6692",
           "#B6E880",
           "#FF97FF",
           "#FECB52"
          ],
          "font": {
           "color": "#2a3f5f"
          },
          "geo": {
           "bgcolor": "white",
           "lakecolor": "white",
           "landcolor": "#E5ECF6",
           "showlakes": true,
           "showland": true,
           "subunitcolor": "white"
          },
          "hoverlabel": {
           "align": "left"
          },
          "hovermode": "closest",
          "mapbox": {
           "style": "light"
          },
          "paper_bgcolor": "white",
          "plot_bgcolor": "#E5ECF6",
          "polar": {
           "angularaxis": {
            "gridcolor": "white",
            "linecolor": "white",
            "ticks": ""
           },
           "bgcolor": "#E5ECF6",
           "radialaxis": {
            "gridcolor": "white",
            "linecolor": "white",
            "ticks": ""
           }
          },
          "scene": {
           "xaxis": {
            "backgroundcolor": "#E5ECF6",
            "gridcolor": "white",
            "gridwidth": 2,
            "linecolor": "white",
            "showbackground": true,
            "ticks": "",
            "zerolinecolor": "white"
           },
           "yaxis": {
            "backgroundcolor": "#E5ECF6",
            "gridcolor": "white",
            "gridwidth": 2,
            "linecolor": "white",
            "showbackground": true,
            "ticks": "",
            "zerolinecolor": "white"
           },
           "zaxis": {
            "backgroundcolor": "#E5ECF6",
            "gridcolor": "white",
            "gridwidth": 2,
            "linecolor": "white",
            "showbackground": true,
            "ticks": "",
            "zerolinecolor": "white"
           }
          },
          "shapedefaults": {
           "line": {
            "color": "#2a3f5f"
           }
          },
          "ternary": {
           "aaxis": {
            "gridcolor": "white",
            "linecolor": "white",
            "ticks": ""
           },
           "baxis": {
            "gridcolor": "white",
            "linecolor": "white",
            "ticks": ""
           },
           "bgcolor": "#E5ECF6",
           "caxis": {
            "gridcolor": "white",
            "linecolor": "white",
            "ticks": ""
           }
          },
          "title": {
           "x": 0.05
          },
          "xaxis": {
           "automargin": true,
           "gridcolor": "white",
           "linecolor": "white",
           "ticks": "",
           "title": {
            "standoff": 15
           },
           "zerolinecolor": "white",
           "zerolinewidth": 2
          },
          "yaxis": {
           "automargin": true,
           "gridcolor": "white",
           "linecolor": "white",
           "ticks": "",
           "title": {
            "standoff": 15
           },
           "zerolinecolor": "white",
           "zerolinewidth": 2
          }
         }
        },
        "xaxis": {
         "anchor": "y",
         "domain": [
          0,
          1
         ],
         "title": {
          "text": "order_time"
         }
        },
        "yaxis": {
         "anchor": "x",
         "domain": [
          0,
          1
         ],
         "title": {
          "text": "amount_spent"
         }
        }
       }
      },
      "text/html": "<div>                            <div id=\"e135eb90-45d8-4f81-8da2-a704c612e17b\" class=\"plotly-graph-div\" style=\"height:525px; width:100%;\"></div>            <script type=\"text/javascript\">                require([\"plotly\"], function(Plotly) {                    window.PLOTLYENV=window.PLOTLYENV || {};                                    if (document.getElementById(\"e135eb90-45d8-4f81-8da2-a704c612e17b\")) {                    Plotly.newPlot(                        \"e135eb90-45d8-4f81-8da2-a704c612e17b\",                        [{\"alignmentgroup\": \"True\", \"hovertemplate\": \"order_time=%{x}<br>amount_spent=%{y}<extra></extra>\", \"legendgroup\": \"\", \"marker\": {\"color\": \"#636efa\"}, \"name\": \"\", \"offsetgroup\": \"\", \"orientation\": \"v\", \"showlegend\": false, \"textposition\": \"auto\", \"type\": \"bar\", \"x\": [\"Monday\", \"Tuesday\", \"Wednesday\", \"Thursday\", \"Friday\", \"Saturday\", \"Sunday\"], \"xaxis\": \"x\", \"y\": [4861.679999999995, 4839.539999999997, 6859.189999999991, 5825.559999999996, 9749.629999999997, 13372.84, 9981.629999999994], \"yaxis\": \"y\"}],                        {\"barmode\": \"relative\", \"legend\": {\"tracegroupgap\": 0}, \"margin\": {\"t\": 60}, \"template\": {\"data\": {\"bar\": [{\"error_x\": {\"color\": \"#2a3f5f\"}, \"error_y\": {\"color\": \"#2a3f5f\"}, \"marker\": {\"line\": {\"color\": \"#E5ECF6\", \"width\": 0.5}}, \"type\": \"bar\"}], \"barpolar\": [{\"marker\": {\"line\": {\"color\": \"#E5ECF6\", \"width\": 0.5}}, \"type\": \"barpolar\"}], \"carpet\": [{\"aaxis\": {\"endlinecolor\": \"#2a3f5f\", \"gridcolor\": \"white\", \"linecolor\": \"white\", \"minorgridcolor\": \"white\", \"startlinecolor\": \"#2a3f5f\"}, \"baxis\": {\"endlinecolor\": \"#2a3f5f\", \"gridcolor\": \"white\", \"linecolor\": \"white\", \"minorgridcolor\": \"white\", \"startlinecolor\": \"#2a3f5f\"}, \"type\": \"carpet\"}], \"choropleth\": [{\"colorbar\": {\"outlinewidth\": 0, \"ticks\": \"\"}, \"type\": \"choropleth\"}], \"contour\": [{\"colorbar\": {\"outlinewidth\": 0, \"ticks\": \"\"}, \"colorscale\": [[0.0, \"#0d0887\"], [0.1111111111111111, \"#46039f\"], [0.2222222222222222, \"#7201a8\"], [0.3333333333333333, \"#9c179e\"], [0.4444444444444444, \"#bd3786\"], [0.5555555555555556, \"#d8576b\"], [0.6666666666666666, \"#ed7953\"], [0.7777777777777778, \"#fb9f3a\"], [0.8888888888888888, \"#fdca26\"], [1.0, \"#f0f921\"]], \"type\": \"contour\"}], \"contourcarpet\": [{\"colorbar\": {\"outlinewidth\": 0, \"ticks\": \"\"}, \"type\": \"contourcarpet\"}], \"heatmap\": [{\"colorbar\": {\"outlinewidth\": 0, \"ticks\": \"\"}, \"colorscale\": [[0.0, \"#0d0887\"], [0.1111111111111111, \"#46039f\"], [0.2222222222222222, \"#7201a8\"], [0.3333333333333333, \"#9c179e\"], [0.4444444444444444, \"#bd3786\"], [0.5555555555555556, \"#d8576b\"], [0.6666666666666666, \"#ed7953\"], [0.7777777777777778, \"#fb9f3a\"], [0.8888888888888888, \"#fdca26\"], [1.0, \"#f0f921\"]], \"type\": \"heatmap\"}], \"heatmapgl\": [{\"colorbar\": {\"outlinewidth\": 0, \"ticks\": \"\"}, \"colorscale\": [[0.0, \"#0d0887\"], [0.1111111111111111, \"#46039f\"], [0.2222222222222222, \"#7201a8\"], [0.3333333333333333, \"#9c179e\"], [0.4444444444444444, \"#bd3786\"], [0.5555555555555556, \"#d8576b\"], [0.6666666666666666, \"#ed7953\"], [0.7777777777777778, \"#fb9f3a\"], [0.8888888888888888, \"#fdca26\"], [1.0, \"#f0f921\"]], \"type\": \"heatmapgl\"}], \"histogram\": [{\"marker\": {\"colorbar\": {\"outlinewidth\": 0, \"ticks\": \"\"}}, \"type\": \"histogram\"}], \"histogram2d\": [{\"colorbar\": {\"outlinewidth\": 0, \"ticks\": \"\"}, \"colorscale\": [[0.0, \"#0d0887\"], [0.1111111111111111, \"#46039f\"], [0.2222222222222222, \"#7201a8\"], [0.3333333333333333, \"#9c179e\"], [0.4444444444444444, \"#bd3786\"], [0.5555555555555556, \"#d8576b\"], [0.6666666666666666, \"#ed7953\"], [0.7777777777777778, \"#fb9f3a\"], [0.8888888888888888, \"#fdca26\"], [1.0, \"#f0f921\"]], \"type\": \"histogram2d\"}], \"histogram2dcontour\": [{\"colorbar\": {\"outlinewidth\": 0, \"ticks\": \"\"}, \"colorscale\": [[0.0, \"#0d0887\"], [0.1111111111111111, \"#46039f\"], [0.2222222222222222, \"#7201a8\"], [0.3333333333333333, \"#9c179e\"], [0.4444444444444444, \"#bd3786\"], [0.5555555555555556, \"#d8576b\"], [0.6666666666666666, \"#ed7953\"], [0.7777777777777778, \"#fb9f3a\"], [0.8888888888888888, \"#fdca26\"], [1.0, \"#f0f921\"]], \"type\": \"histogram2dcontour\"}], \"mesh3d\": [{\"colorbar\": {\"outlinewidth\": 0, \"ticks\": \"\"}, \"type\": \"mesh3d\"}], \"parcoords\": [{\"line\": {\"colorbar\": {\"outlinewidth\": 0, \"ticks\": \"\"}}, \"type\": \"parcoords\"}], \"pie\": [{\"automargin\": true, \"type\": \"pie\"}], \"scatter\": [{\"marker\": {\"colorbar\": {\"outlinewidth\": 0, \"ticks\": \"\"}}, \"type\": \"scatter\"}], \"scatter3d\": [{\"line\": {\"colorbar\": {\"outlinewidth\": 0, \"ticks\": \"\"}}, \"marker\": {\"colorbar\": {\"outlinewidth\": 0, \"ticks\": \"\"}}, \"type\": \"scatter3d\"}], \"scattercarpet\": [{\"marker\": {\"colorbar\": {\"outlinewidth\": 0, \"ticks\": \"\"}}, \"type\": \"scattercarpet\"}], \"scattergeo\": [{\"marker\": {\"colorbar\": {\"outlinewidth\": 0, \"ticks\": \"\"}}, \"type\": \"scattergeo\"}], \"scattergl\": [{\"marker\": {\"colorbar\": {\"outlinewidth\": 0, \"ticks\": \"\"}}, \"type\": \"scattergl\"}], \"scattermapbox\": [{\"marker\": {\"colorbar\": {\"outlinewidth\": 0, \"ticks\": \"\"}}, \"type\": \"scattermapbox\"}], \"scatterpolar\": [{\"marker\": {\"colorbar\": {\"outlinewidth\": 0, \"ticks\": \"\"}}, \"type\": \"scatterpolar\"}], \"scatterpolargl\": [{\"marker\": {\"colorbar\": {\"outlinewidth\": 0, \"ticks\": \"\"}}, \"type\": \"scatterpolargl\"}], \"scatterternary\": [{\"marker\": {\"colorbar\": {\"outlinewidth\": 0, \"ticks\": \"\"}}, \"type\": \"scatterternary\"}], \"surface\": [{\"colorbar\": {\"outlinewidth\": 0, \"ticks\": \"\"}, \"colorscale\": [[0.0, \"#0d0887\"], [0.1111111111111111, \"#46039f\"], [0.2222222222222222, \"#7201a8\"], [0.3333333333333333, \"#9c179e\"], [0.4444444444444444, \"#bd3786\"], [0.5555555555555556, \"#d8576b\"], [0.6666666666666666, \"#ed7953\"], [0.7777777777777778, \"#fb9f3a\"], [0.8888888888888888, \"#fdca26\"], [1.0, \"#f0f921\"]], \"type\": \"surface\"}], \"table\": [{\"cells\": {\"fill\": {\"color\": \"#EBF0F8\"}, \"line\": {\"color\": \"white\"}}, \"header\": {\"fill\": {\"color\": \"#C8D4E3\"}, \"line\": {\"color\": \"white\"}}, \"type\": \"table\"}]}, \"layout\": {\"annotationdefaults\": {\"arrowcolor\": \"#2a3f5f\", \"arrowhead\": 0, \"arrowwidth\": 1}, \"autotypenumbers\": \"strict\", \"coloraxis\": {\"colorbar\": {\"outlinewidth\": 0, \"ticks\": \"\"}}, \"colorscale\": {\"diverging\": [[0, \"#8e0152\"], [0.1, \"#c51b7d\"], [0.2, \"#de77ae\"], [0.3, \"#f1b6da\"], [0.4, \"#fde0ef\"], [0.5, \"#f7f7f7\"], [0.6, \"#e6f5d0\"], [0.7, \"#b8e186\"], [0.8, \"#7fbc41\"], [0.9, \"#4d9221\"], [1, \"#276419\"]], \"sequential\": [[0.0, \"#0d0887\"], [0.1111111111111111, \"#46039f\"], [0.2222222222222222, \"#7201a8\"], [0.3333333333333333, \"#9c179e\"], [0.4444444444444444, \"#bd3786\"], [0.5555555555555556, \"#d8576b\"], [0.6666666666666666, \"#ed7953\"], [0.7777777777777778, \"#fb9f3a\"], [0.8888888888888888, \"#fdca26\"], [1.0, \"#f0f921\"]], \"sequentialminus\": [[0.0, \"#0d0887\"], [0.1111111111111111, \"#46039f\"], [0.2222222222222222, \"#7201a8\"], [0.3333333333333333, \"#9c179e\"], [0.4444444444444444, \"#bd3786\"], [0.5555555555555556, \"#d8576b\"], [0.6666666666666666, \"#ed7953\"], [0.7777777777777778, \"#fb9f3a\"], [0.8888888888888888, \"#fdca26\"], [1.0, \"#f0f921\"]]}, \"colorway\": [\"#636efa\", \"#EF553B\", \"#00cc96\", \"#ab63fa\", \"#FFA15A\", \"#19d3f3\", \"#FF6692\", \"#B6E880\", \"#FF97FF\", \"#FECB52\"], \"font\": {\"color\": \"#2a3f5f\"}, \"geo\": {\"bgcolor\": \"white\", \"lakecolor\": \"white\", \"landcolor\": \"#E5ECF6\", \"showlakes\": true, \"showland\": true, \"subunitcolor\": \"white\"}, \"hoverlabel\": {\"align\": \"left\"}, \"hovermode\": \"closest\", \"mapbox\": {\"style\": \"light\"}, \"paper_bgcolor\": \"white\", \"plot_bgcolor\": \"#E5ECF6\", \"polar\": {\"angularaxis\": {\"gridcolor\": \"white\", \"linecolor\": \"white\", \"ticks\": \"\"}, \"bgcolor\": \"#E5ECF6\", \"radialaxis\": {\"gridcolor\": \"white\", \"linecolor\": \"white\", \"ticks\": \"\"}}, \"scene\": {\"xaxis\": {\"backgroundcolor\": \"#E5ECF6\", \"gridcolor\": \"white\", \"gridwidth\": 2, \"linecolor\": \"white\", \"showbackground\": true, \"ticks\": \"\", \"zerolinecolor\": \"white\"}, \"yaxis\": {\"backgroundcolor\": \"#E5ECF6\", \"gridcolor\": \"white\", \"gridwidth\": 2, \"linecolor\": \"white\", \"showbackground\": true, \"ticks\": \"\", \"zerolinecolor\": \"white\"}, \"zaxis\": {\"backgroundcolor\": \"#E5ECF6\", \"gridcolor\": \"white\", \"gridwidth\": 2, \"linecolor\": \"white\", \"showbackground\": true, \"ticks\": \"\", \"zerolinecolor\": \"white\"}}, \"shapedefaults\": {\"line\": {\"color\": \"#2a3f5f\"}}, \"ternary\": {\"aaxis\": {\"gridcolor\": \"white\", \"linecolor\": \"white\", \"ticks\": \"\"}, \"baxis\": {\"gridcolor\": \"white\", \"linecolor\": \"white\", \"ticks\": \"\"}, \"bgcolor\": \"#E5ECF6\", \"caxis\": {\"gridcolor\": \"white\", \"linecolor\": \"white\", \"ticks\": \"\"}}, \"title\": {\"x\": 0.05}, \"xaxis\": {\"automargin\": true, \"gridcolor\": \"white\", \"linecolor\": \"white\", \"ticks\": \"\", \"title\": {\"standoff\": 15}, \"zerolinecolor\": \"white\", \"zerolinewidth\": 2}, \"yaxis\": {\"automargin\": true, \"gridcolor\": \"white\", \"linecolor\": \"white\", \"ticks\": \"\", \"title\": {\"standoff\": 15}, \"zerolinecolor\": \"white\", \"zerolinewidth\": 2}}}, \"xaxis\": {\"anchor\": \"y\", \"domain\": [0.0, 1.0], \"title\": {\"text\": \"order_time\"}}, \"yaxis\": {\"anchor\": \"x\", \"domain\": [0.0, 1.0], \"title\": {\"text\": \"amount_spent\"}}},                        {\"responsive\": true}                    ).then(function(){\n                            \nvar gd = document.getElementById('e135eb90-45d8-4f81-8da2-a704c612e17b');\nvar x = new MutationObserver(function (mutations, observer) {{\n        var display = window.getComputedStyle(gd).display;\n        if (!display || display === 'none') {{\n            console.log([gd, 'removed!']);\n            Plotly.purge(gd);\n            observer.disconnect();\n        }}\n}});\n\n// Listen for the removal of the full notebook cells\nvar notebookContainer = gd.closest('#notebook-container');\nif (notebookContainer) {{\n    x.observe(notebookContainer, {childList: true});\n}}\n\n// Listen for the clearing of the current output cell\nvar outputEl = gd.closest('.output');\nif (outputEl) {{\n    x.observe(outputEl, {childList: true});\n}}\n\n                        })                };                });            </script>        </div>"
     },
     "metadata": {}
    }
   ],
   "source": [
    "day_of_week_data = df.groupby(df['order_time'].dt.day_name()).sum().reset_index()\n",
    "weekdays = ['Monday', 'Tuesday', 'Wednesday', 'Thursday', 'Friday', 'Saturday', 'Sunday']\n",
    "day_of_week_data = day_of_week_data.set_index('order_time').loc[weekdays].reset_index()\n",
    "print (day_of_week_data)\n",
    "orders_by_day_week_bar = px.bar(day_of_week_data, x=\"order_time\", y='number_of_orders', color_discrete_sequence=['indianred'])\n",
    "orders_by_day_week_bar.show()\n",
    "#py.plot(orders_by_day_week_bar, filename = 'orders_by_day_week_bar', auto_open=True)\n",
    "\n",
    "revenue_by_day_week_bar = px.bar(day_of_week_data, x=\"order_time\", y='amount_spent')\n",
    "revenue_by_day_week_bar.show()"
   ]
  },
  {
   "cell_type": "code",
   "execution_count": 14,
   "metadata": {},
   "outputs": [
    {
     "output_type": "execute_result",
     "data": {
      "text/plain": [
       "    customer_id  amount_spent  number_of_orders  hour\n",
       "0 -2.001730e+18        330.52                18   217\n",
       "1 -2.472320e+18        180.20                13   180\n",
       "2 -9.714780e+17        157.12                11   171\n",
       "3  5.481780e+17        218.65                 9   111\n",
       "4  4.218970e+18        148.45                 8   111\n",
       "5 -7.676060e+18         94.65                 7    82\n",
       "6 -7.643620e+18         98.40                 7    84\n",
       "7 -3.805380e+17        224.66                 7    93\n",
       "8 -2.765000e+18         87.98                 7    84\n",
       "9 -6.332080e+18        159.37                 6   109"
      ],
      "text/html": "<div>\n<style scoped>\n    .dataframe tbody tr th:only-of-type {\n        vertical-align: middle;\n    }\n\n    .dataframe tbody tr th {\n        vertical-align: top;\n    }\n\n    .dataframe thead th {\n        text-align: right;\n    }\n</style>\n<table border=\"1\" class=\"dataframe\">\n  <thead>\n    <tr style=\"text-align: right;\">\n      <th></th>\n      <th>customer_id</th>\n      <th>amount_spent</th>\n      <th>number_of_orders</th>\n      <th>hour</th>\n    </tr>\n  </thead>\n  <tbody>\n    <tr>\n      <th>0</th>\n      <td>-2.001730e+18</td>\n      <td>330.52</td>\n      <td>18</td>\n      <td>217</td>\n    </tr>\n    <tr>\n      <th>1</th>\n      <td>-2.472320e+18</td>\n      <td>180.20</td>\n      <td>13</td>\n      <td>180</td>\n    </tr>\n    <tr>\n      <th>2</th>\n      <td>-9.714780e+17</td>\n      <td>157.12</td>\n      <td>11</td>\n      <td>171</td>\n    </tr>\n    <tr>\n      <th>3</th>\n      <td>5.481780e+17</td>\n      <td>218.65</td>\n      <td>9</td>\n      <td>111</td>\n    </tr>\n    <tr>\n      <th>4</th>\n      <td>4.218970e+18</td>\n      <td>148.45</td>\n      <td>8</td>\n      <td>111</td>\n    </tr>\n    <tr>\n      <th>5</th>\n      <td>-7.676060e+18</td>\n      <td>94.65</td>\n      <td>7</td>\n      <td>82</td>\n    </tr>\n    <tr>\n      <th>6</th>\n      <td>-7.643620e+18</td>\n      <td>98.40</td>\n      <td>7</td>\n      <td>84</td>\n    </tr>\n    <tr>\n      <th>7</th>\n      <td>-3.805380e+17</td>\n      <td>224.66</td>\n      <td>7</td>\n      <td>93</td>\n    </tr>\n    <tr>\n      <th>8</th>\n      <td>-2.765000e+18</td>\n      <td>87.98</td>\n      <td>7</td>\n      <td>84</td>\n    </tr>\n    <tr>\n      <th>9</th>\n      <td>-6.332080e+18</td>\n      <td>159.37</td>\n      <td>6</td>\n      <td>109</td>\n    </tr>\n  </tbody>\n</table>\n</div>"
     },
     "metadata": {},
     "execution_count": 14
    }
   ],
   "source": [
    "# Getting a list of our current top 10 customers would be interesting to see how \n",
    "customers = df.groupby('customer_id').sum().sort_values('number_of_orders', ascending=False).iloc[:10].reset_index()\n",
    "customers"
   ]
  },
  {
   "cell_type": "code",
   "execution_count": 15,
   "metadata": {},
   "outputs": [
    {
     "output_type": "stream",
     "name": "stdout",
     "text": [
      "  order_time  number_of_orders\n0 2021-01-18                10\n1 2021-01-25                99\n2 2021-02-01               143\n3 2021-02-08               209\n4 2021-02-15               192\n5 2021-02-22               223\n6 2021-03-01               187\n7 2021-03-08               250\n8 2021-03-15               196\n  order_time  number_of_orders\n0 2021-01-18                10\n1 2021-01-25               107\n2 2021-02-01               161\n3 2021-02-08               264\n4 2021-02-15               264\n5 2021-02-22               315\n6 2021-03-01               293\n7 2021-03-08               368\n8 2021-03-15               288\n"
     ]
    },
    {
     "output_type": "display_data",
     "data": {
      "application/vnd.plotly.v1+json": {
       "config": {
        "plotlyServerURL": "https://plotly.com"
       },
       "data": [
        {
         "name": "Total Orders",
         "type": "bar",
         "x": [
          "2021-01-18T00:00:00",
          "2021-01-25T00:00:00",
          "2021-02-01T00:00:00",
          "2021-02-08T00:00:00",
          "2021-02-15T00:00:00",
          "2021-02-22T00:00:00",
          "2021-03-01T00:00:00",
          "2021-03-08T00:00:00",
          "2021-03-15T00:00:00"
         ],
         "y": [
          10,
          107,
          161,
          264,
          264,
          315,
          293,
          368,
          288
         ]
        },
        {
         "name": "First Time Orders",
         "type": "bar",
         "x": [
          "2021-01-18T00:00:00",
          "2021-01-25T00:00:00",
          "2021-02-01T00:00:00",
          "2021-02-08T00:00:00",
          "2021-02-15T00:00:00",
          "2021-02-22T00:00:00",
          "2021-03-01T00:00:00",
          "2021-03-08T00:00:00",
          "2021-03-15T00:00:00"
         ],
         "y": [
          10,
          99,
          143,
          209,
          192,
          223,
          187,
          250,
          196
         ]
        }
       ],
       "layout": {
        "barmode": "overlay",
        "template": {
         "data": {
          "bar": [
           {
            "error_x": {
             "color": "#2a3f5f"
            },
            "error_y": {
             "color": "#2a3f5f"
            },
            "marker": {
             "line": {
              "color": "#E5ECF6",
              "width": 0.5
             }
            },
            "type": "bar"
           }
          ],
          "barpolar": [
           {
            "marker": {
             "line": {
              "color": "#E5ECF6",
              "width": 0.5
             }
            },
            "type": "barpolar"
           }
          ],
          "carpet": [
           {
            "aaxis": {
             "endlinecolor": "#2a3f5f",
             "gridcolor": "white",
             "linecolor": "white",
             "minorgridcolor": "white",
             "startlinecolor": "#2a3f5f"
            },
            "baxis": {
             "endlinecolor": "#2a3f5f",
             "gridcolor": "white",
             "linecolor": "white",
             "minorgridcolor": "white",
             "startlinecolor": "#2a3f5f"
            },
            "type": "carpet"
           }
          ],
          "choropleth": [
           {
            "colorbar": {
             "outlinewidth": 0,
             "ticks": ""
            },
            "type": "choropleth"
           }
          ],
          "contour": [
           {
            "colorbar": {
             "outlinewidth": 0,
             "ticks": ""
            },
            "colorscale": [
             [
              0,
              "#0d0887"
             ],
             [
              0.1111111111111111,
              "#46039f"
             ],
             [
              0.2222222222222222,
              "#7201a8"
             ],
             [
              0.3333333333333333,
              "#9c179e"
             ],
             [
              0.4444444444444444,
              "#bd3786"
             ],
             [
              0.5555555555555556,
              "#d8576b"
             ],
             [
              0.6666666666666666,
              "#ed7953"
             ],
             [
              0.7777777777777778,
              "#fb9f3a"
             ],
             [
              0.8888888888888888,
              "#fdca26"
             ],
             [
              1,
              "#f0f921"
             ]
            ],
            "type": "contour"
           }
          ],
          "contourcarpet": [
           {
            "colorbar": {
             "outlinewidth": 0,
             "ticks": ""
            },
            "type": "contourcarpet"
           }
          ],
          "heatmap": [
           {
            "colorbar": {
             "outlinewidth": 0,
             "ticks": ""
            },
            "colorscale": [
             [
              0,
              "#0d0887"
             ],
             [
              0.1111111111111111,
              "#46039f"
             ],
             [
              0.2222222222222222,
              "#7201a8"
             ],
             [
              0.3333333333333333,
              "#9c179e"
             ],
             [
              0.4444444444444444,
              "#bd3786"
             ],
             [
              0.5555555555555556,
              "#d8576b"
             ],
             [
              0.6666666666666666,
              "#ed7953"
             ],
             [
              0.7777777777777778,
              "#fb9f3a"
             ],
             [
              0.8888888888888888,
              "#fdca26"
             ],
             [
              1,
              "#f0f921"
             ]
            ],
            "type": "heatmap"
           }
          ],
          "heatmapgl": [
           {
            "colorbar": {
             "outlinewidth": 0,
             "ticks": ""
            },
            "colorscale": [
             [
              0,
              "#0d0887"
             ],
             [
              0.1111111111111111,
              "#46039f"
             ],
             [
              0.2222222222222222,
              "#7201a8"
             ],
             [
              0.3333333333333333,
              "#9c179e"
             ],
             [
              0.4444444444444444,
              "#bd3786"
             ],
             [
              0.5555555555555556,
              "#d8576b"
             ],
             [
              0.6666666666666666,
              "#ed7953"
             ],
             [
              0.7777777777777778,
              "#fb9f3a"
             ],
             [
              0.8888888888888888,
              "#fdca26"
             ],
             [
              1,
              "#f0f921"
             ]
            ],
            "type": "heatmapgl"
           }
          ],
          "histogram": [
           {
            "marker": {
             "colorbar": {
              "outlinewidth": 0,
              "ticks": ""
             }
            },
            "type": "histogram"
           }
          ],
          "histogram2d": [
           {
            "colorbar": {
             "outlinewidth": 0,
             "ticks": ""
            },
            "colorscale": [
             [
              0,
              "#0d0887"
             ],
             [
              0.1111111111111111,
              "#46039f"
             ],
             [
              0.2222222222222222,
              "#7201a8"
             ],
             [
              0.3333333333333333,
              "#9c179e"
             ],
             [
              0.4444444444444444,
              "#bd3786"
             ],
             [
              0.5555555555555556,
              "#d8576b"
             ],
             [
              0.6666666666666666,
              "#ed7953"
             ],
             [
              0.7777777777777778,
              "#fb9f3a"
             ],
             [
              0.8888888888888888,
              "#fdca26"
             ],
             [
              1,
              "#f0f921"
             ]
            ],
            "type": "histogram2d"
           }
          ],
          "histogram2dcontour": [
           {
            "colorbar": {
             "outlinewidth": 0,
             "ticks": ""
            },
            "colorscale": [
             [
              0,
              "#0d0887"
             ],
             [
              0.1111111111111111,
              "#46039f"
             ],
             [
              0.2222222222222222,
              "#7201a8"
             ],
             [
              0.3333333333333333,
              "#9c179e"
             ],
             [
              0.4444444444444444,
              "#bd3786"
             ],
             [
              0.5555555555555556,
              "#d8576b"
             ],
             [
              0.6666666666666666,
              "#ed7953"
             ],
             [
              0.7777777777777778,
              "#fb9f3a"
             ],
             [
              0.8888888888888888,
              "#fdca26"
             ],
             [
              1,
              "#f0f921"
             ]
            ],
            "type": "histogram2dcontour"
           }
          ],
          "mesh3d": [
           {
            "colorbar": {
             "outlinewidth": 0,
             "ticks": ""
            },
            "type": "mesh3d"
           }
          ],
          "parcoords": [
           {
            "line": {
             "colorbar": {
              "outlinewidth": 0,
              "ticks": ""
             }
            },
            "type": "parcoords"
           }
          ],
          "pie": [
           {
            "automargin": true,
            "type": "pie"
           }
          ],
          "scatter": [
           {
            "marker": {
             "colorbar": {
              "outlinewidth": 0,
              "ticks": ""
             }
            },
            "type": "scatter"
           }
          ],
          "scatter3d": [
           {
            "line": {
             "colorbar": {
              "outlinewidth": 0,
              "ticks": ""
             }
            },
            "marker": {
             "colorbar": {
              "outlinewidth": 0,
              "ticks": ""
             }
            },
            "type": "scatter3d"
           }
          ],
          "scattercarpet": [
           {
            "marker": {
             "colorbar": {
              "outlinewidth": 0,
              "ticks": ""
             }
            },
            "type": "scattercarpet"
           }
          ],
          "scattergeo": [
           {
            "marker": {
             "colorbar": {
              "outlinewidth": 0,
              "ticks": ""
             }
            },
            "type": "scattergeo"
           }
          ],
          "scattergl": [
           {
            "marker": {
             "colorbar": {
              "outlinewidth": 0,
              "ticks": ""
             }
            },
            "type": "scattergl"
           }
          ],
          "scattermapbox": [
           {
            "marker": {
             "colorbar": {
              "outlinewidth": 0,
              "ticks": ""
             }
            },
            "type": "scattermapbox"
           }
          ],
          "scatterpolar": [
           {
            "marker": {
             "colorbar": {
              "outlinewidth": 0,
              "ticks": ""
             }
            },
            "type": "scatterpolar"
           }
          ],
          "scatterpolargl": [
           {
            "marker": {
             "colorbar": {
              "outlinewidth": 0,
              "ticks": ""
             }
            },
            "type": "scatterpolargl"
           }
          ],
          "scatterternary": [
           {
            "marker": {
             "colorbar": {
              "outlinewidth": 0,
              "ticks": ""
             }
            },
            "type": "scatterternary"
           }
          ],
          "surface": [
           {
            "colorbar": {
             "outlinewidth": 0,
             "ticks": ""
            },
            "colorscale": [
             [
              0,
              "#0d0887"
             ],
             [
              0.1111111111111111,
              "#46039f"
             ],
             [
              0.2222222222222222,
              "#7201a8"
             ],
             [
              0.3333333333333333,
              "#9c179e"
             ],
             [
              0.4444444444444444,
              "#bd3786"
             ],
             [
              0.5555555555555556,
              "#d8576b"
             ],
             [
              0.6666666666666666,
              "#ed7953"
             ],
             [
              0.7777777777777778,
              "#fb9f3a"
             ],
             [
              0.8888888888888888,
              "#fdca26"
             ],
             [
              1,
              "#f0f921"
             ]
            ],
            "type": "surface"
           }
          ],
          "table": [
           {
            "cells": {
             "fill": {
              "color": "#EBF0F8"
             },
             "line": {
              "color": "white"
             }
            },
            "header": {
             "fill": {
              "color": "#C8D4E3"
             },
             "line": {
              "color": "white"
             }
            },
            "type": "table"
           }
          ]
         },
         "layout": {
          "annotationdefaults": {
           "arrowcolor": "#2a3f5f",
           "arrowhead": 0,
           "arrowwidth": 1
          },
          "autotypenumbers": "strict",
          "coloraxis": {
           "colorbar": {
            "outlinewidth": 0,
            "ticks": ""
           }
          },
          "colorscale": {
           "diverging": [
            [
             0,
             "#8e0152"
            ],
            [
             0.1,
             "#c51b7d"
            ],
            [
             0.2,
             "#de77ae"
            ],
            [
             0.3,
             "#f1b6da"
            ],
            [
             0.4,
             "#fde0ef"
            ],
            [
             0.5,
             "#f7f7f7"
            ],
            [
             0.6,
             "#e6f5d0"
            ],
            [
             0.7,
             "#b8e186"
            ],
            [
             0.8,
             "#7fbc41"
            ],
            [
             0.9,
             "#4d9221"
            ],
            [
             1,
             "#276419"
            ]
           ],
           "sequential": [
            [
             0,
             "#0d0887"
            ],
            [
             0.1111111111111111,
             "#46039f"
            ],
            [
             0.2222222222222222,
             "#7201a8"
            ],
            [
             0.3333333333333333,
             "#9c179e"
            ],
            [
             0.4444444444444444,
             "#bd3786"
            ],
            [
             0.5555555555555556,
             "#d8576b"
            ],
            [
             0.6666666666666666,
             "#ed7953"
            ],
            [
             0.7777777777777778,
             "#fb9f3a"
            ],
            [
             0.8888888888888888,
             "#fdca26"
            ],
            [
             1,
             "#f0f921"
            ]
           ],
           "sequentialminus": [
            [
             0,
             "#0d0887"
            ],
            [
             0.1111111111111111,
             "#46039f"
            ],
            [
             0.2222222222222222,
             "#7201a8"
            ],
            [
             0.3333333333333333,
             "#9c179e"
            ],
            [
             0.4444444444444444,
             "#bd3786"
            ],
            [
             0.5555555555555556,
             "#d8576b"
            ],
            [
             0.6666666666666666,
             "#ed7953"
            ],
            [
             0.7777777777777778,
             "#fb9f3a"
            ],
            [
             0.8888888888888888,
             "#fdca26"
            ],
            [
             1,
             "#f0f921"
            ]
           ]
          },
          "colorway": [
           "#636efa",
           "#EF553B",
           "#00cc96",
           "#ab63fa",
           "#FFA15A",
           "#19d3f3",
           "#FF6692",
           "#B6E880",
           "#FF97FF",
           "#FECB52"
          ],
          "font": {
           "color": "#2a3f5f"
          },
          "geo": {
           "bgcolor": "white",
           "lakecolor": "white",
           "landcolor": "#E5ECF6",
           "showlakes": true,
           "showland": true,
           "subunitcolor": "white"
          },
          "hoverlabel": {
           "align": "left"
          },
          "hovermode": "closest",
          "mapbox": {
           "style": "light"
          },
          "paper_bgcolor": "white",
          "plot_bgcolor": "#E5ECF6",
          "polar": {
           "angularaxis": {
            "gridcolor": "white",
            "linecolor": "white",
            "ticks": ""
           },
           "bgcolor": "#E5ECF6",
           "radialaxis": {
            "gridcolor": "white",
            "linecolor": "white",
            "ticks": ""
           }
          },
          "scene": {
           "xaxis": {
            "backgroundcolor": "#E5ECF6",
            "gridcolor": "white",
            "gridwidth": 2,
            "linecolor": "white",
            "showbackground": true,
            "ticks": "",
            "zerolinecolor": "white"
           },
           "yaxis": {
            "backgroundcolor": "#E5ECF6",
            "gridcolor": "white",
            "gridwidth": 2,
            "linecolor": "white",
            "showbackground": true,
            "ticks": "",
            "zerolinecolor": "white"
           },
           "zaxis": {
            "backgroundcolor": "#E5ECF6",
            "gridcolor": "white",
            "gridwidth": 2,
            "linecolor": "white",
            "showbackground": true,
            "ticks": "",
            "zerolinecolor": "white"
           }
          },
          "shapedefaults": {
           "line": {
            "color": "#2a3f5f"
           }
          },
          "ternary": {
           "aaxis": {
            "gridcolor": "white",
            "linecolor": "white",
            "ticks": ""
           },
           "baxis": {
            "gridcolor": "white",
            "linecolor": "white",
            "ticks": ""
           },
           "bgcolor": "#E5ECF6",
           "caxis": {
            "gridcolor": "white",
            "linecolor": "white",
            "ticks": ""
           }
          },
          "title": {
           "x": 0.05
          },
          "xaxis": {
           "automargin": true,
           "gridcolor": "white",
           "linecolor": "white",
           "ticks": "",
           "title": {
            "standoff": 15
           },
           "zerolinecolor": "white",
           "zerolinewidth": 2
          },
          "yaxis": {
           "automargin": true,
           "gridcolor": "white",
           "linecolor": "white",
           "ticks": "",
           "title": {
            "standoff": 15
           },
           "zerolinecolor": "white",
           "zerolinewidth": 2
          }
         }
        }
       }
      },
      "text/html": "<div>                            <div id=\"d179517e-70e9-4d26-accb-ef1d120064b2\" class=\"plotly-graph-div\" style=\"height:525px; width:100%;\"></div>            <script type=\"text/javascript\">                require([\"plotly\"], function(Plotly) {                    window.PLOTLYENV=window.PLOTLYENV || {};                                    if (document.getElementById(\"d179517e-70e9-4d26-accb-ef1d120064b2\")) {                    Plotly.newPlot(                        \"d179517e-70e9-4d26-accb-ef1d120064b2\",                        [{\"name\": \"Total Orders\", \"type\": \"bar\", \"x\": [\"2021-01-18T00:00:00\", \"2021-01-25T00:00:00\", \"2021-02-01T00:00:00\", \"2021-02-08T00:00:00\", \"2021-02-15T00:00:00\", \"2021-02-22T00:00:00\", \"2021-03-01T00:00:00\", \"2021-03-08T00:00:00\", \"2021-03-15T00:00:00\"], \"y\": [10, 107, 161, 264, 264, 315, 293, 368, 288]}, {\"name\": \"First Time Orders\", \"type\": \"bar\", \"x\": [\"2021-01-18T00:00:00\", \"2021-01-25T00:00:00\", \"2021-02-01T00:00:00\", \"2021-02-08T00:00:00\", \"2021-02-15T00:00:00\", \"2021-02-22T00:00:00\", \"2021-03-01T00:00:00\", \"2021-03-08T00:00:00\", \"2021-03-15T00:00:00\"], \"y\": [10, 99, 143, 209, 192, 223, 187, 250, 196]}],                        {\"barmode\": \"overlay\", \"template\": {\"data\": {\"bar\": [{\"error_x\": {\"color\": \"#2a3f5f\"}, \"error_y\": {\"color\": \"#2a3f5f\"}, \"marker\": {\"line\": {\"color\": \"#E5ECF6\", \"width\": 0.5}}, \"type\": \"bar\"}], \"barpolar\": [{\"marker\": {\"line\": {\"color\": \"#E5ECF6\", \"width\": 0.5}}, \"type\": \"barpolar\"}], \"carpet\": [{\"aaxis\": {\"endlinecolor\": \"#2a3f5f\", \"gridcolor\": \"white\", \"linecolor\": \"white\", \"minorgridcolor\": \"white\", \"startlinecolor\": \"#2a3f5f\"}, \"baxis\": {\"endlinecolor\": \"#2a3f5f\", \"gridcolor\": \"white\", \"linecolor\": \"white\", \"minorgridcolor\": \"white\", \"startlinecolor\": \"#2a3f5f\"}, \"type\": \"carpet\"}], \"choropleth\": [{\"colorbar\": {\"outlinewidth\": 0, \"ticks\": \"\"}, \"type\": \"choropleth\"}], \"contour\": [{\"colorbar\": {\"outlinewidth\": 0, \"ticks\": \"\"}, \"colorscale\": [[0.0, \"#0d0887\"], [0.1111111111111111, \"#46039f\"], [0.2222222222222222, \"#7201a8\"], [0.3333333333333333, \"#9c179e\"], [0.4444444444444444, \"#bd3786\"], [0.5555555555555556, \"#d8576b\"], [0.6666666666666666, \"#ed7953\"], [0.7777777777777778, \"#fb9f3a\"], [0.8888888888888888, \"#fdca26\"], [1.0, \"#f0f921\"]], \"type\": \"contour\"}], \"contourcarpet\": [{\"colorbar\": {\"outlinewidth\": 0, \"ticks\": \"\"}, \"type\": \"contourcarpet\"}], \"heatmap\": [{\"colorbar\": {\"outlinewidth\": 0, \"ticks\": \"\"}, \"colorscale\": [[0.0, \"#0d0887\"], [0.1111111111111111, \"#46039f\"], [0.2222222222222222, \"#7201a8\"], [0.3333333333333333, \"#9c179e\"], [0.4444444444444444, \"#bd3786\"], [0.5555555555555556, \"#d8576b\"], [0.6666666666666666, \"#ed7953\"], [0.7777777777777778, \"#fb9f3a\"], [0.8888888888888888, \"#fdca26\"], [1.0, \"#f0f921\"]], \"type\": \"heatmap\"}], \"heatmapgl\": [{\"colorbar\": {\"outlinewidth\": 0, \"ticks\": \"\"}, \"colorscale\": [[0.0, \"#0d0887\"], [0.1111111111111111, \"#46039f\"], [0.2222222222222222, \"#7201a8\"], [0.3333333333333333, \"#9c179e\"], [0.4444444444444444, \"#bd3786\"], [0.5555555555555556, \"#d8576b\"], [0.6666666666666666, \"#ed7953\"], [0.7777777777777778, \"#fb9f3a\"], [0.8888888888888888, \"#fdca26\"], [1.0, \"#f0f921\"]], \"type\": \"heatmapgl\"}], \"histogram\": [{\"marker\": {\"colorbar\": {\"outlinewidth\": 0, \"ticks\": \"\"}}, \"type\": \"histogram\"}], \"histogram2d\": [{\"colorbar\": {\"outlinewidth\": 0, \"ticks\": \"\"}, \"colorscale\": [[0.0, \"#0d0887\"], [0.1111111111111111, \"#46039f\"], [0.2222222222222222, \"#7201a8\"], [0.3333333333333333, \"#9c179e\"], [0.4444444444444444, \"#bd3786\"], [0.5555555555555556, \"#d8576b\"], [0.6666666666666666, \"#ed7953\"], [0.7777777777777778, \"#fb9f3a\"], [0.8888888888888888, \"#fdca26\"], [1.0, \"#f0f921\"]], \"type\": \"histogram2d\"}], \"histogram2dcontour\": [{\"colorbar\": {\"outlinewidth\": 0, \"ticks\": \"\"}, \"colorscale\": [[0.0, \"#0d0887\"], [0.1111111111111111, \"#46039f\"], [0.2222222222222222, \"#7201a8\"], [0.3333333333333333, \"#9c179e\"], [0.4444444444444444, \"#bd3786\"], [0.5555555555555556, \"#d8576b\"], [0.6666666666666666, \"#ed7953\"], [0.7777777777777778, \"#fb9f3a\"], [0.8888888888888888, \"#fdca26\"], [1.0, \"#f0f921\"]], \"type\": \"histogram2dcontour\"}], \"mesh3d\": [{\"colorbar\": {\"outlinewidth\": 0, \"ticks\": \"\"}, \"type\": \"mesh3d\"}], \"parcoords\": [{\"line\": {\"colorbar\": {\"outlinewidth\": 0, \"ticks\": \"\"}}, \"type\": \"parcoords\"}], \"pie\": [{\"automargin\": true, \"type\": \"pie\"}], \"scatter\": [{\"marker\": {\"colorbar\": {\"outlinewidth\": 0, \"ticks\": \"\"}}, \"type\": \"scatter\"}], \"scatter3d\": [{\"line\": {\"colorbar\": {\"outlinewidth\": 0, \"ticks\": \"\"}}, \"marker\": {\"colorbar\": {\"outlinewidth\": 0, \"ticks\": \"\"}}, \"type\": \"scatter3d\"}], \"scattercarpet\": [{\"marker\": {\"colorbar\": {\"outlinewidth\": 0, \"ticks\": \"\"}}, \"type\": \"scattercarpet\"}], \"scattergeo\": [{\"marker\": {\"colorbar\": {\"outlinewidth\": 0, \"ticks\": \"\"}}, \"type\": \"scattergeo\"}], \"scattergl\": [{\"marker\": {\"colorbar\": {\"outlinewidth\": 0, \"ticks\": \"\"}}, \"type\": \"scattergl\"}], \"scattermapbox\": [{\"marker\": {\"colorbar\": {\"outlinewidth\": 0, \"ticks\": \"\"}}, \"type\": \"scattermapbox\"}], \"scatterpolar\": [{\"marker\": {\"colorbar\": {\"outlinewidth\": 0, \"ticks\": \"\"}}, \"type\": \"scatterpolar\"}], \"scatterpolargl\": [{\"marker\": {\"colorbar\": {\"outlinewidth\": 0, \"ticks\": \"\"}}, \"type\": \"scatterpolargl\"}], \"scatterternary\": [{\"marker\": {\"colorbar\": {\"outlinewidth\": 0, \"ticks\": \"\"}}, \"type\": \"scatterternary\"}], \"surface\": [{\"colorbar\": {\"outlinewidth\": 0, \"ticks\": \"\"}, \"colorscale\": [[0.0, \"#0d0887\"], [0.1111111111111111, \"#46039f\"], [0.2222222222222222, \"#7201a8\"], [0.3333333333333333, \"#9c179e\"], [0.4444444444444444, \"#bd3786\"], [0.5555555555555556, \"#d8576b\"], [0.6666666666666666, \"#ed7953\"], [0.7777777777777778, \"#fb9f3a\"], [0.8888888888888888, \"#fdca26\"], [1.0, \"#f0f921\"]], \"type\": \"surface\"}], \"table\": [{\"cells\": {\"fill\": {\"color\": \"#EBF0F8\"}, \"line\": {\"color\": \"white\"}}, \"header\": {\"fill\": {\"color\": \"#C8D4E3\"}, \"line\": {\"color\": \"white\"}}, \"type\": \"table\"}]}, \"layout\": {\"annotationdefaults\": {\"arrowcolor\": \"#2a3f5f\", \"arrowhead\": 0, \"arrowwidth\": 1}, \"autotypenumbers\": \"strict\", \"coloraxis\": {\"colorbar\": {\"outlinewidth\": 0, \"ticks\": \"\"}}, \"colorscale\": {\"diverging\": [[0, \"#8e0152\"], [0.1, \"#c51b7d\"], [0.2, \"#de77ae\"], [0.3, \"#f1b6da\"], [0.4, \"#fde0ef\"], [0.5, \"#f7f7f7\"], [0.6, \"#e6f5d0\"], [0.7, \"#b8e186\"], [0.8, \"#7fbc41\"], [0.9, \"#4d9221\"], [1, \"#276419\"]], \"sequential\": [[0.0, \"#0d0887\"], [0.1111111111111111, \"#46039f\"], [0.2222222222222222, \"#7201a8\"], [0.3333333333333333, \"#9c179e\"], [0.4444444444444444, \"#bd3786\"], [0.5555555555555556, \"#d8576b\"], [0.6666666666666666, \"#ed7953\"], [0.7777777777777778, \"#fb9f3a\"], [0.8888888888888888, \"#fdca26\"], [1.0, \"#f0f921\"]], \"sequentialminus\": [[0.0, \"#0d0887\"], [0.1111111111111111, \"#46039f\"], [0.2222222222222222, \"#7201a8\"], [0.3333333333333333, \"#9c179e\"], [0.4444444444444444, \"#bd3786\"], [0.5555555555555556, \"#d8576b\"], [0.6666666666666666, \"#ed7953\"], [0.7777777777777778, \"#fb9f3a\"], [0.8888888888888888, \"#fdca26\"], [1.0, \"#f0f921\"]]}, \"colorway\": [\"#636efa\", \"#EF553B\", \"#00cc96\", \"#ab63fa\", \"#FFA15A\", \"#19d3f3\", \"#FF6692\", \"#B6E880\", \"#FF97FF\", \"#FECB52\"], \"font\": {\"color\": \"#2a3f5f\"}, \"geo\": {\"bgcolor\": \"white\", \"lakecolor\": \"white\", \"landcolor\": \"#E5ECF6\", \"showlakes\": true, \"showland\": true, \"subunitcolor\": \"white\"}, \"hoverlabel\": {\"align\": \"left\"}, \"hovermode\": \"closest\", \"mapbox\": {\"style\": \"light\"}, \"paper_bgcolor\": \"white\", \"plot_bgcolor\": \"#E5ECF6\", \"polar\": {\"angularaxis\": {\"gridcolor\": \"white\", \"linecolor\": \"white\", \"ticks\": \"\"}, \"bgcolor\": \"#E5ECF6\", \"radialaxis\": {\"gridcolor\": \"white\", \"linecolor\": \"white\", \"ticks\": \"\"}}, \"scene\": {\"xaxis\": {\"backgroundcolor\": \"#E5ECF6\", \"gridcolor\": \"white\", \"gridwidth\": 2, \"linecolor\": \"white\", \"showbackground\": true, \"ticks\": \"\", \"zerolinecolor\": \"white\"}, \"yaxis\": {\"backgroundcolor\": \"#E5ECF6\", \"gridcolor\": \"white\", \"gridwidth\": 2, \"linecolor\": \"white\", \"showbackground\": true, \"ticks\": \"\", \"zerolinecolor\": \"white\"}, \"zaxis\": {\"backgroundcolor\": \"#E5ECF6\", \"gridcolor\": \"white\", \"gridwidth\": 2, \"linecolor\": \"white\", \"showbackground\": true, \"ticks\": \"\", \"zerolinecolor\": \"white\"}}, \"shapedefaults\": {\"line\": {\"color\": \"#2a3f5f\"}}, \"ternary\": {\"aaxis\": {\"gridcolor\": \"white\", \"linecolor\": \"white\", \"ticks\": \"\"}, \"baxis\": {\"gridcolor\": \"white\", \"linecolor\": \"white\", \"ticks\": \"\"}, \"bgcolor\": \"#E5ECF6\", \"caxis\": {\"gridcolor\": \"white\", \"linecolor\": \"white\", \"ticks\": \"\"}}, \"title\": {\"x\": 0.05}, \"xaxis\": {\"automargin\": true, \"gridcolor\": \"white\", \"linecolor\": \"white\", \"ticks\": \"\", \"title\": {\"standoff\": 15}, \"zerolinecolor\": \"white\", \"zerolinewidth\": 2}, \"yaxis\": {\"automargin\": true, \"gridcolor\": \"white\", \"linecolor\": \"white\", \"ticks\": \"\", \"title\": {\"standoff\": 15}, \"zerolinecolor\": \"white\", \"zerolinewidth\": 2}}}},                        {\"responsive\": true}                    ).then(function(){\n                            \nvar gd = document.getElementById('d179517e-70e9-4d26-accb-ef1d120064b2');\nvar x = new MutationObserver(function (mutations, observer) {{\n        var display = window.getComputedStyle(gd).display;\n        if (!display || display === 'none') {{\n            console.log([gd, 'removed!']);\n            Plotly.purge(gd);\n            observer.disconnect();\n        }}\n}});\n\n// Listen for the removal of the full notebook cells\nvar notebookContainer = gd.closest('#notebook-container');\nif (notebookContainer) {{\n    x.observe(notebookContainer, {childList: true});\n}}\n\n// Listen for the clearing of the current output cell\nvar outputEl = gd.closest('.output');\nif (outputEl) {{\n    x.observe(outputEl, {childList: true});\n}}\n\n                        })                };                });            </script>        </div>"
     },
     "metadata": {}
    }
   ],
   "source": [
    "## Knowing a bit more about our customers, I thought it would be interesting to create a stacked bar graph to segment first time purchases vs recurring purchases by week\n",
    "\n",
    "#Dropping all duplicate customer ids and keeping the ones that showed up for the first time. \n",
    "first_time_orders = df.drop_duplicates(subset=['customer_id'], keep='first')\n",
    "\n",
    "#Grouping them by week\n",
    "first_time_orders_cleaned = first_time_orders.groupby(pd.Grouper(key='order_time', freq='W-MON'))['number_of_orders'].sum().reset_index().sort_values('order_time')\n",
    "\n",
    "print(first_time_orders_cleaned)\n",
    "\n",
    "# I already know the total orders so I can create an overlay bar graph to see from the total number of orders, how many of those are actually first time orders\n",
    "total_orders_week = df.groupby(pd.Grouper(key='order_time', freq='W-MON'))['number_of_orders'].sum().reset_index().sort_values('order_time')\n",
    "print(total_orders_week)\n",
    "\n",
    "# Plotting the overlay bar graph\n",
    "order_data_bar_chart = go.Figure(data=[\n",
    "    go.Bar(name='Total Orders', x=first_time_orders_cleaned.order_time, y=total_orders_week.number_of_orders),\n",
    "    go.Bar(name='First Time Orders', x=first_time_orders_cleaned.order_time, y=first_time_orders_cleaned.number_of_orders)])\n",
    "\n",
    "order_data_bar_chart.update_layout(barmode='overlay')\n",
    "order_data_bar_chart.show()\n",
    "#py.plot(order_data_bar_chart, filename = 'order_data_bar_chart', auto_open=True)"
   ]
  },
  {
   "source": [
    "## User Behaviour Statistics"
   ],
   "cell_type": "markdown",
   "metadata": {}
  },
  {
   "cell_type": "code",
   "execution_count": 16,
   "metadata": {},
   "outputs": [
    {
     "output_type": "execute_result",
     "data": {
      "text/plain": [
       "26.806797101449277"
      ]
     },
     "metadata": {},
     "execution_count": 16
    }
   ],
   "source": [
    "# Mean Spending \n",
    "statistics.fmean(df.amount_spent)"
   ]
  },
  {
   "cell_type": "code",
   "execution_count": 17,
   "metadata": {},
   "outputs": [
    {
     "output_type": "execute_result",
     "data": {
      "text/plain": [
       "        customer_id  amount_spent  number_of_orders         hour\n",
       "count  2.070000e+03   2070.000000            2070.0  2070.000000\n",
       "mean  -1.670215e+17     26.806797               1.0    14.661353\n",
       "std    5.258884e+18     16.616394               0.0     2.991983\n",
       "min   -9.189490e+18      0.000000               1.0     8.000000\n",
       "25%   -4.711930e+18     13.500000               1.0    12.000000\n",
       "50%   -3.805380e+17     24.420000               1.0    14.000000\n",
       "75%    4.302000e+18     35.227500               1.0    17.000000\n",
       "max    9.208740e+18    217.970000               1.0    23.000000"
      ],
      "text/html": "<div>\n<style scoped>\n    .dataframe tbody tr th:only-of-type {\n        vertical-align: middle;\n    }\n\n    .dataframe tbody tr th {\n        vertical-align: top;\n    }\n\n    .dataframe thead th {\n        text-align: right;\n    }\n</style>\n<table border=\"1\" class=\"dataframe\">\n  <thead>\n    <tr style=\"text-align: right;\">\n      <th></th>\n      <th>customer_id</th>\n      <th>amount_spent</th>\n      <th>number_of_orders</th>\n      <th>hour</th>\n    </tr>\n  </thead>\n  <tbody>\n    <tr>\n      <th>count</th>\n      <td>2.070000e+03</td>\n      <td>2070.000000</td>\n      <td>2070.0</td>\n      <td>2070.000000</td>\n    </tr>\n    <tr>\n      <th>mean</th>\n      <td>-1.670215e+17</td>\n      <td>26.806797</td>\n      <td>1.0</td>\n      <td>14.661353</td>\n    </tr>\n    <tr>\n      <th>std</th>\n      <td>5.258884e+18</td>\n      <td>16.616394</td>\n      <td>0.0</td>\n      <td>2.991983</td>\n    </tr>\n    <tr>\n      <th>min</th>\n      <td>-9.189490e+18</td>\n      <td>0.000000</td>\n      <td>1.0</td>\n      <td>8.000000</td>\n    </tr>\n    <tr>\n      <th>25%</th>\n      <td>-4.711930e+18</td>\n      <td>13.500000</td>\n      <td>1.0</td>\n      <td>12.000000</td>\n    </tr>\n    <tr>\n      <th>50%</th>\n      <td>-3.805380e+17</td>\n      <td>24.420000</td>\n      <td>1.0</td>\n      <td>14.000000</td>\n    </tr>\n    <tr>\n      <th>75%</th>\n      <td>4.302000e+18</td>\n      <td>35.227500</td>\n      <td>1.0</td>\n      <td>17.000000</td>\n    </tr>\n    <tr>\n      <th>max</th>\n      <td>9.208740e+18</td>\n      <td>217.970000</td>\n      <td>1.0</td>\n      <td>23.000000</td>\n    </tr>\n  </tbody>\n</table>\n</div>"
     },
     "metadata": {},
     "execution_count": 17
    }
   ],
   "source": [
    "df.describe()\n",
    "# Mean spending on a given order: $26.81, median: $24.42, std: $16.62"
   ]
  },
  {
   "cell_type": "code",
   "execution_count": 18,
   "metadata": {},
   "outputs": [
    {
     "output_type": "display_data",
     "data": {
      "application/vnd.plotly.v1+json": {
       "config": {
        "plotlyServerURL": "https://plotly.com"
       },
       "data": [
        {
         "alignmentgroup": "True",
         "hovertemplate": "amount_spent=%{y}<extra></extra>",
         "legendgroup": "",
         "marker": {
          "color": "#636efa"
         },
         "name": "",
         "notched": false,
         "offsetgroup": "",
         "orientation": "v",
         "showlegend": false,
         "type": "box",
         "x0": " ",
         "xaxis": "x",
         "y": [
          0.5,
          17.25,
          5.59,
          58.5,
          42.58,
          30.56,
          46.67,
          68.12,
          22.93,
          27,
          11.45,
          11.45,
          27,
          13.52,
          15.5,
          49.4,
          15.75,
          14.98,
          40.35,
          10.95,
          27.62,
          12.25,
          10.95,
          21.9,
          12.5,
          31.85,
          30.54,
          8.75,
          49.68,
          26,
          34.25,
          43.75,
          31.95,
          2.25,
          18.45,
          74.8,
          30.81,
          32.6,
          28,
          36.8,
          45.81,
          57.3,
          33.22,
          16.95,
          40.56,
          31.2,
          25.9,
          26.1,
          21.45,
          13.95,
          14.95,
          13.75,
          29.37,
          10.95,
          53.48,
          27.62,
          51.09,
          73.72,
          66.89,
          47.5,
          21.9,
          13.81,
          32.23,
          13.5,
          13.95,
          27.33,
          12.95,
          49.95,
          28.5,
          46.04,
          29.9,
          25.9,
          27.62,
          39.62,
          22.4,
          27.5,
          17.31,
          44.66,
          8.5,
          38.06,
          13.81,
          8.75,
          25.87,
          24.47,
          26.25,
          42.6,
          24.9,
          40.56,
          74.54,
          24.9,
          40.91,
          29.95,
          11.45,
          31.23,
          37.91,
          20.5,
          21.9,
          24.4,
          43.49,
          29.73,
          23.72,
          14.95,
          39.27,
          24.7,
          22.4,
          27.91,
          49.22,
          37.75,
          27.95,
          46.37,
          98.61,
          13.5,
          10.95,
          37.75,
          12.95,
          13.95,
          14.1,
          14.98,
          18.79,
          27.56,
          10.95,
          27.85,
          29.08,
          24.9,
          11.45,
          12.25,
          10.95,
          72.75,
          29.08,
          28.48,
          28.56,
          15.85,
          13.5,
          2.25,
          55.61,
          11.95,
          13.75,
          13.7,
          24.7,
          36.8,
          6,
          33.13,
          49.8,
          29.96,
          15.56,
          26.02,
          22.2,
          45.98,
          42,
          24.2,
          24.2,
          62.24,
          26.4,
          13.81,
          33.5,
          11.75,
          0,
          10.95,
          33.85,
          18.5,
          26.19,
          41.29,
          27.47,
          12.5,
          20.7,
          41.2,
          14.98,
          11.95,
          12.5,
          25.9,
          21.7,
          48.12,
          14.1,
          14.98,
          11.45,
          32.55,
          13.52,
          23.4,
          12.35,
          13.5,
          15.56,
          40.74,
          13.5,
          32.4,
          13.23,
          47.43,
          13.75,
          32.9,
          53.25,
          11.45,
          26.31,
          52.63,
          71.62,
          37.95,
          44.94,
          44.42,
          12.45,
          36.95,
          11.45,
          15.5,
          26.1,
          20.5,
          27.33,
          32.23,
          38.85,
          53.35,
          40.21,
          27.62,
          17.95,
          36.35,
          39.1,
          27.68,
          42.25,
          69.95,
          28.2,
          11.45,
          29.31,
          60.14,
          100.31,
          24.93,
          14.1,
          31.06,
          11.95,
          39.25,
          41.08,
          30.97,
          30.33,
          39.62,
          22.31,
          12.25,
          34.5,
          3,
          1,
          11.75,
          30.48,
          48.19,
          12.5,
          12.5,
          32,
          27.48,
          35.7,
          38.47,
          31.73,
          21.9,
          30.54,
          33.45,
          10.95,
          8.75,
          25.87,
          15.9,
          11.45,
          50.79,
          27.33,
          32.5,
          11.45,
          15.5,
          41.14,
          15.5,
          14.45,
          20.7,
          14.1,
          12.45,
          12.5,
          12.5,
          25.9,
          12.35,
          15.5,
          29.02,
          25.87,
          30,
          26.76,
          31.06,
          13.5,
          26.9,
          22.02,
          22.52,
          40.62,
          16.73,
          18.25,
          16.39,
          20.45,
          16.75,
          11.95,
          26.25,
          13,
          50.4,
          51.29,
          52.54,
          36.56,
          33.99,
          37.5,
          68.47,
          23.9,
          30.25,
          6,
          17,
          11.45,
          14.45,
          12.95,
          44.8,
          25.9,
          9.75,
          31.35,
          27.56,
          65.37,
          34.81,
          33.45,
          28.87,
          35,
          16.73,
          55.15,
          13.45,
          14.98,
          17.26,
          13.75,
          12.35,
          39.97,
          27.75,
          30.19,
          38.45,
          44.91,
          13.81,
          77.45,
          12.35,
          35.48,
          18.5,
          17.4,
          24.95,
          24.7,
          53.66,
          46.39,
          24.2,
          8.5,
          14.75,
          14,
          30.95,
          20.04,
          28.3,
          11.45,
          31.31,
          13.45,
          13.81,
          43.8,
          13.81,
          13,
          14.95,
          11.95,
          11.95,
          33.4,
          29.84,
          50.8,
          29.5,
          38.65,
          13.75,
          21.75,
          39.85,
          9.75,
          57.35,
          28,
          68.48,
          19.73,
          42.04,
          18.23,
          34,
          60.74,
          42.6,
          26.9,
          39.62,
          42.83,
          10.95,
          36.28,
          44.95,
          13.81,
          11.5,
          8,
          12.95,
          55.8,
          14.75,
          12.95,
          27.27,
          28.02,
          40.25,
          31.48,
          11.45,
          10.95,
          33.45,
          51.6,
          48.8,
          59.25,
          36.35,
          28.25,
          48.14,
          32.85,
          27.02,
          26.9,
          43.18,
          27.68,
          26.2,
          32,
          59.83,
          29.31,
          44.58,
          27.33,
          22,
          44.06,
          32.85,
          49.6,
          16.44,
          28.8,
          13.52,
          13.74,
          40.35,
          11.95,
          27.62,
          18.56,
          15.56,
          53.15,
          66.94,
          29.37,
          71.41,
          25.7,
          12.35,
          26.9,
          14,
          27.57,
          16.45,
          40.03,
          12.35,
          43.35,
          20.95,
          35.6,
          32.5,
          37.81,
          43.88,
          29.25,
          114.64,
          24.47,
          30.12,
          27.4,
          27,
          29.97,
          41.35,
          48.42,
          43.72,
          52.68,
          11.45,
          27.96,
          42.54,
          47.81,
          54.02,
          76.46,
          20.9,
          32.4,
          28.98,
          12.35,
          16.73,
          13.81,
          32.82,
          27.93,
          17.5,
          36.75,
          42.31,
          27.56,
          13.81,
          33.75,
          24.47,
          82.85,
          42.38,
          21.9,
          15.5,
          45.81,
          58.81,
          19.7,
          27.05,
          9.25,
          33.46,
          47.27,
          16.48,
          12.45,
          12.35,
          13.95,
          12.45,
          39.1,
          19.9,
          14.98,
          36.35,
          25.4,
          29.6,
          52.29,
          28.9,
          28.9,
          27.33,
          66.36,
          55.54,
          11.95,
          28.73,
          29.1,
          36.41,
          29.18,
          30.62,
          46.37,
          3,
          9.75,
          29.66,
          27.5,
          13.75,
          30.84,
          42.74,
          42.5,
          15.57,
          1.5,
          30.35,
          27.91,
          40.4,
          23.45,
          12.45,
          26.48,
          11.95,
          29.9,
          27.56,
          33.93,
          30.48,
          18.5,
          33,
          36.59,
          31.4,
          11,
          7.34,
          11.95,
          10.95,
          79.79,
          26.16,
          18.48,
          40.28,
          38.15,
          18.48,
          42.31,
          42.74,
          26.76,
          13.81,
          41.35,
          45.65,
          24.37,
          16.48,
          30.54,
          26.7,
          1,
          23,
          12.95,
          11.95,
          13.81,
          18.23,
          12.45,
          27.04,
          17.5,
          11.18,
          20.42,
          22.72,
          13.81,
          22.72,
          39.3,
          40.94,
          11.45,
          29.5,
          42.96,
          11,
          13.81,
          74.01,
          13,
          40.56,
          13.52,
          16.77,
          71.68,
          15.5,
          43.31,
          13.45,
          27,
          13,
          24.5,
          28.9,
          12.25,
          10.25,
          9.75,
          27,
          28.72,
          38.71,
          28.01,
          14.5,
          11,
          13,
          29.76,
          11.95,
          16.2,
          26.9,
          25.9,
          35.16,
          9.25,
          13.5,
          13.21,
          41.15,
          23.5,
          13.5,
          16.26,
          34.86,
          14.5,
          27.34,
          31.2,
          13.21,
          48.65,
          33.25,
          21.95,
          22.01,
          11.75,
          12.21,
          41.5,
          11.75,
          10.95,
          16.5,
          31.15,
          18,
          27.2,
          46.5,
          34.65,
          27.93,
          27.65,
          37.45,
          12.5,
          27,
          17.95,
          15.5,
          69.25,
          34.85,
          12.95,
          14.71,
          21.9,
          25.84,
          11.45,
          31.9,
          32.9,
          11.45,
          25.13,
          10.95,
          25.25,
          23.2,
          76.34,
          217.97,
          29.9,
          24.2,
          27.21,
          21.9,
          16.46,
          25.95,
          60.54,
          45,
          96.05,
          47,
          23.96,
          43.95,
          54.9,
          22,
          23,
          37.25,
          27.17,
          13.95,
          21.25,
          29.17,
          25.5,
          27.42,
          15.46,
          56.71,
          21,
          24.21,
          40.21,
          39.85,
          11.45,
          46.06,
          15.45,
          38.3,
          27.95,
          11.95,
          24,
          24.25,
          11.45,
          36.4,
          2.5,
          84.28,
          11.45,
          11.75,
          32.7,
          31.45,
          12.45,
          33,
          22.7,
          16,
          26,
          45.37,
          15.71,
          28.5,
          20,
          33.75,
          25.42,
          27.95,
          14.75,
          27.92,
          12.21,
          12.21,
          33,
          25.42,
          50.93,
          21.21,
          22.65,
          30.21,
          34.85,
          4.5,
          25.88,
          9,
          10.95,
          61.85,
          52.65,
          20.2,
          45.4,
          28.16,
          38.88,
          41.47,
          25.95,
          16.2,
          20.5,
          36.25,
          8.5,
          28.25,
          23.01,
          33.95,
          35.74,
          31.2,
          28.46,
          31.95,
          30.9,
          13.45,
          24.5,
          19.7,
          29.9,
          16.25,
          16.5,
          34.15,
          49.84,
          24.42,
          25.72,
          37.37,
          41.27,
          26.22,
          21.5,
          24.96,
          14.95,
          25.5,
          14.45,
          43,
          10.95,
          27.17,
          45.45,
          43.7,
          29.17,
          4,
          24.96,
          19.13,
          48.95,
          37.85,
          24.96,
          29.08,
          51.59,
          11.75,
          49.7,
          44.92,
          39,
          25.96,
          55.46,
          12.21,
          59.63,
          11,
          21.75,
          14,
          30.25,
          32.85,
          11.95,
          13,
          10.75,
          12.95,
          11.5,
          11.45,
          22.01,
          13.5,
          24.42,
          12.45,
          25.42,
          14.95,
          13.75,
          13.21,
          24.09,
          10.75,
          56.2,
          14.95,
          44.28,
          23.45,
          24,
          13.5,
          27.7,
          45.66,
          25.34,
          25,
          13,
          15.21,
          12.45,
          14,
          15,
          13,
          13,
          38.35,
          13,
          6,
          16.95,
          36.7,
          28.15,
          33.95,
          23.26,
          24.21,
          33.83,
          26.71,
          38.85,
          23.96,
          15,
          12.5,
          22.5,
          25.71,
          6,
          35.71,
          4.5,
          28.95,
          12.5,
          10.95,
          10.95,
          11.45,
          33.25,
          44.71,
          36.45,
          39.5,
          65.27,
          10.95,
          55.8,
          11.45,
          34.45,
          5.63,
          40.16,
          22.26,
          22,
          11.95,
          4,
          54.2,
          11.75,
          49.8,
          37.35,
          10.95,
          10.95,
          29,
          7.25,
          38.17,
          41,
          32.95,
          26.66,
          11.75,
          11.95,
          22.5,
          53.26,
          12.45,
          23.4,
          32.75,
          15.21,
          21.9,
          2.5,
          24.95,
          12.21,
          13.21,
          22.75,
          13.5,
          24,
          21.9,
          11,
          15.95,
          13,
          14.75,
          36.71,
          13.5,
          59.3,
          11.45,
          24.45,
          12.46,
          30,
          28.91,
          10.75,
          13.96,
          10.75,
          59.2,
          35.45,
          43.23,
          24.42,
          23.96,
          13.96,
          16,
          22.7,
          11,
          11.95,
          27.25,
          5.63,
          11.75,
          7.25,
          5,
          13.21,
          16.5,
          52.2,
          16,
          22.2,
          15.75,
          14.96,
          36,
          20.45,
          13.21,
          25.75,
          32.85,
          11.75,
          22.5,
          28.9,
          24.9,
          16.7,
          20.84,
          44.21,
          25.9,
          27.21,
          13.21,
          12.45,
          40.71,
          14.45,
          27,
          8,
          25.9,
          13.45,
          8,
          40.21,
          24.25,
          10.95,
          13.21,
          17,
          15.96,
          27.77,
          33.42,
          64,
          2.5,
          14.95,
          26.42,
          52.85,
          27.15,
          40.4,
          7.25,
          11.45,
          39.45,
          38.63,
          14.45,
          14.5,
          16,
          15.25,
          40,
          12.21,
          26.09,
          12.45,
          25.4,
          25.25,
          34.65,
          11.75,
          27.9,
          43.35,
          36.15,
          12,
          10.95,
          69.13,
          23.7,
          23.5,
          54.17,
          21,
          34.7,
          36.5,
          35.25,
          16,
          22,
          28,
          11.95,
          11,
          19.95,
          28.5,
          26.42,
          11.75,
          26.2,
          42.27,
          12.45,
          22.9,
          2,
          20,
          32.8,
          26.5,
          52.43,
          57.3,
          29.45,
          64.35,
          32.96,
          10.95,
          30.51,
          25.25,
          45.45,
          23.45,
          37.46,
          38.17,
          24.45,
          47.72,
          29.55,
          27.21,
          11.75,
          12.5,
          16,
          21,
          9.5,
          21.25,
          11.25,
          26,
          19,
          44.45,
          11.75,
          25,
          26,
          39.5,
          3,
          12.45,
          18.25,
          28.2,
          12.5,
          39.7,
          15,
          12.5,
          27.4,
          28,
          74.8,
          43.08,
          16.95,
          12.95,
          33.67,
          11.95,
          13.5,
          26.5,
          1.5,
          16,
          29.46,
          34.25,
          29.13,
          31.75,
          13.95,
          10.95,
          22.96,
          45.41,
          43.95,
          60.25,
          35.61,
          39.46,
          60.84,
          21.5,
          30.46,
          73.18,
          56.16,
          36,
          34.25,
          40.67,
          14.95,
          23.96,
          12.75,
          5,
          12.46,
          26.21,
          11.75,
          10.95,
          23.5,
          17.5,
          11.95,
          12.45,
          13.5,
          13.75,
          14.45,
          23,
          11,
          7.95,
          11.5,
          25.95,
          33.22,
          24.45,
          50.91,
          26.9,
          19.5,
          11.75,
          11.95,
          13.5,
          31.4,
          10.75,
          13.5,
          24.2,
          13,
          40.95,
          77.13,
          8,
          55.75,
          25.72,
          37,
          39.5,
          27.34,
          16.21,
          5,
          22.4,
          29.95,
          24.2,
          16.5,
          23.96,
          22.5,
          21.21,
          13.95,
          23.96,
          12.95,
          12.5,
          15.95,
          24,
          13.45,
          12.95,
          13.21,
          20.4,
          41.96,
          36.2,
          13.5,
          73.95,
          42.85,
          34.45,
          24.5,
          30.7,
          75.36,
          12.95,
          44.66,
          23.96,
          32.75,
          11.45,
          26.5,
          26,
          11.95,
          52.4,
          32.5,
          22.5,
          12.45,
          10.95,
          10.95,
          30.45,
          57.41,
          11.75,
          12,
          12.95,
          30,
          13.39,
          14,
          31.42,
          26.15,
          54,
          43,
          16.21,
          12,
          20.5,
          64.75,
          13.5,
          54.21,
          39.7,
          32.75,
          45.28,
          24.5,
          26.75,
          10.95,
          60,
          60.67,
          49.84,
          17.5,
          12.5,
          30.42,
          7.25,
          29,
          14.95,
          23.5,
          25.16,
          20,
          26.75,
          12.5,
          22.7,
          3,
          29,
          12.5,
          17,
          43.5,
          35.16,
          38.85,
          21.9,
          27.75,
          23.25,
          15,
          48.66,
          31.9,
          30.9,
          24.4,
          14.96,
          10.95,
          22.25,
          40.39,
          44.11,
          39.7,
          23.25,
          8,
          4.5,
          13,
          27.45,
          19,
          29.5,
          27.9,
          26.9,
          23.5,
          16.21,
          11.75,
          12.21,
          23.21,
          11,
          12.5,
          15,
          23.66,
          10.95,
          10.95,
          13.95,
          27.25,
          13.96,
          23.5,
          46.66,
          16.5,
          16.45,
          16.5,
          3.5,
          43.88,
          13.38,
          13.95,
          23.21,
          23.5,
          45.4,
          97.1,
          59.45,
          48.25,
          32.25,
          38.42,
          26.9,
          10.75,
          13.21,
          99.7,
          22.4,
          92.96,
          41.85,
          13.5,
          24.4,
          35.25,
          50,
          13.21,
          13.5,
          63.34,
          17.5,
          29.25,
          16,
          28.92,
          32.91,
          13.5,
          11.75,
          25.96,
          12.75,
          40.25,
          69.95,
          40.05,
          38.6,
          17.45,
          21.9,
          20.08,
          10.95,
          52.4,
          13.5,
          12,
          13.75,
          14.45,
          23.16,
          8,
          25.71,
          42.92,
          35.16,
          14.38,
          35,
          13.5,
          29.92,
          7,
          28.7,
          24.96,
          29.9,
          37.47,
          35.25,
          24.76,
          33.7,
          48.45,
          61.11,
          46.2,
          41.7,
          10.95,
          27.75,
          24.71,
          8,
          32.95,
          32.1,
          14.45,
          40.4,
          34.95,
          13,
          38,
          10.75,
          12,
          21.5,
          3.5,
          2,
          18.5,
          42.41,
          35.92,
          39.21,
          25.7,
          18.5,
          40.85,
          42.56,
          47.16,
          24.16,
          25.5,
          15.51,
          42.5,
          12.25,
          6,
          27.97,
          34.15,
          44.4,
          39.85,
          48.95,
          24.96,
          20.25,
          24,
          52.84,
          13.95,
          33.25,
          14.25,
          35.25,
          17.21,
          44.96,
          47.5,
          42.21,
          66.9,
          37.17,
          38.95,
          13.5,
          13.38,
          4.25,
          40.15,
          31.66,
          10.75,
          11.95,
          2.25,
          24.5,
          16.75,
          13.96,
          38.7,
          48.4,
          28.75,
          11.5,
          12,
          52.84,
          11,
          13.95,
          10.75,
          12.95,
          12.46,
          11.95,
          20.45,
          8.5,
          10.75,
          74.03,
          14.95,
          39.13,
          30.46,
          13.75,
          11.63,
          15.25,
          52.65,
          28.64,
          24.7,
          16,
          13,
          49.38,
          35.9,
          64.66,
          14.45,
          7,
          22.5,
          13.5,
          30.21,
          8,
          22.5,
          8,
          0,
          36.25,
          23.5,
          26,
          15,
          26,
          14,
          19,
          24.25,
          30.5,
          43.8,
          12.5,
          25.25,
          13.45,
          3,
          8,
          45,
          31.71,
          13.5,
          27.3,
          14.95,
          64.35,
          66,
          22.75,
          38.25,
          25.9,
          29,
          92.26,
          22.7,
          22.9,
          37.35,
          9,
          24,
          28.46,
          35.9,
          32.5,
          33.7,
          12.5,
          10.75,
          36.23,
          37.25,
          23.4,
          11,
          27.4,
          40.71,
          11,
          38.8,
          13.5,
          51.25,
          16,
          25.25,
          36.95,
          12.46,
          19.95,
          14.25,
          12.46,
          11,
          36.17,
          36.45,
          20.38,
          11.5,
          32.75,
          36.45,
          4.75,
          38,
          40.9,
          23.5,
          22.7,
          10.95,
          12.5,
          23,
          24.9,
          12.5,
          14.96,
          11.95,
          10.95,
          10.95,
          10.95,
          10.95,
          10.95,
          22.5,
          10.95,
          27.46,
          13.5,
          20,
          49.17,
          41.75,
          8,
          36.4,
          30.2,
          37.9,
          36.95,
          31.96,
          8,
          16.5,
          9.25,
          13.45,
          36.5,
          38.2,
          34.5,
          48.4,
          39.71,
          34,
          21.9,
          21.9,
          27.75,
          13.96,
          13.5,
          55.4,
          13,
          15.25,
          11.95,
          13.21,
          3.5,
          13.5,
          13.38,
          26,
          8,
          35.15,
          18,
          40.91,
          30.67,
          13.96,
          20.9,
          42.99,
          33,
          14.38,
          34.9,
          34.7,
          31.35,
          38.25,
          10.75,
          38.25,
          63.1,
          41.65,
          42.65,
          31.96,
          63.95,
          13.5,
          78.49,
          26,
          38.95,
          40.65,
          35.95,
          41.85,
          38.5,
          24.13,
          38.92,
          18,
          27.4,
          20,
          10.95,
          11.45,
          78.55,
          25.5,
          12.46,
          17.75,
          19.9,
          13.5,
          14.9,
          24.46,
          28.4,
          31.9,
          62.6,
          32.95,
          13,
          12.46,
          49.87,
          21.2,
          21.9,
          14.75,
          10.95,
          41.6,
          13.5,
          25.4,
          64.75,
          25.7,
          83.51,
          90.05,
          41.68,
          12.21,
          13.75,
          51.75,
          10.95,
          38.9,
          38.4,
          42.4,
          40,
          13.59,
          36.66,
          21.5,
          16.45,
          34.7,
          8.75,
          63.9,
          35.4,
          41.5,
          38.41,
          17.45,
          12.21,
          26.71,
          30.9,
          20.75,
          16,
          12.25,
          33,
          14.75,
          40,
          21.95,
          63.11,
          52.75,
          84.91,
          77.2,
          37.79,
          14.25,
          21.9,
          8.5,
          23.5,
          28.4,
          55.09,
          33.9,
          25.91,
          54.95,
          65.66,
          13,
          22.5,
          11,
          56.45,
          32.17,
          22.75,
          4.25,
          18.9,
          32.85,
          12.21,
          16.5,
          11.95,
          11.75,
          34.21,
          50.66,
          1.5,
          38.9,
          24.96,
          26.5,
          26.14,
          4.25,
          13.75,
          1.5,
          74.75,
          49.25,
          44,
          16,
          29.95,
          99.85,
          54.36,
          19,
          44.31,
          33.25,
          76.75,
          62.25,
          35.4,
          28.4,
          41.98,
          20.45,
          10.95,
          27,
          63.96,
          21.9,
          18.95,
          8,
          47.64,
          39.95,
          10.95,
          14.25,
          10.95,
          10.95,
          13.5,
          23.46,
          11,
          25.13,
          24,
          8,
          18,
          2,
          20,
          15,
          26.2,
          11.45,
          21.95,
          26.17,
          16,
          13.45,
          21.95,
          15.38,
          22.75,
          50.95,
          21.9,
          32.85,
          13.75,
          29.5,
          23.9,
          29.21,
          1,
          13.21,
          72.8,
          34.7,
          28.9,
          80.35,
          49.89,
          24.67,
          26.9,
          11.95,
          11.95,
          18.2,
          12.5,
          24.45,
          46,
          13.5,
          12.25,
          54.41,
          5,
          52,
          8,
          23.45,
          63.5,
          22.95,
          36.9,
          35.46,
          24,
          10.75,
          11.5,
          3.5,
          27.45,
          13.45,
          23.5,
          13.21,
          12.45,
          45.69,
          11,
          11,
          30.21,
          12.21,
          25.95,
          31.15,
          3,
          13.96,
          34.9,
          56.65,
          36.85,
          8.45,
          25.7,
          29.7,
          10.95,
          19.95,
          12.75,
          48.33,
          39.63,
          16,
          28.66,
          19,
          19,
          29.22,
          76.67,
          27.66,
          41.4,
          45.6,
          12,
          16.46,
          11,
          25.4,
          26,
          32.92,
          13.5,
          14.71,
          24.9,
          14,
          43.8,
          27.92,
          13.25,
          14.45,
          22.5,
          9.25,
          11.5,
          28.92,
          11,
          18.5,
          13.5,
          10.95,
          1.5,
          13,
          23.4,
          15.75,
          27.9,
          10.95,
          17.5,
          28.45,
          34.46,
          34,
          8.25,
          49.67,
          22,
          13.21,
          23.96,
          37.5,
          11.45,
          24.4,
          27,
          13,
          13,
          18.5,
          13.5,
          13.95,
          23.21,
          23,
          23.5,
          21.9,
          14,
          12.63,
          6.25,
          14.45,
          21.9,
          23.96,
          26.5,
          37.42,
          16.5,
          11.45,
          17.46,
          14.21,
          25.75,
          16.21,
          34.4,
          45.9,
          21.7,
          13.75,
          29.9,
          8,
          31.95,
          64.26,
          8,
          10.75,
          11.75,
          37.7,
          34.21,
          8,
          11,
          38.63,
          25.33,
          8,
          11,
          13.5,
          39.75,
          18,
          3.5,
          11.5,
          25.25,
          3,
          15.25,
          25,
          29.21,
          21.9,
          27.16,
          40.4,
          10.95,
          15.45,
          33.21,
          11.45,
          11.45,
          11.45,
          32.72,
          25.5,
          12.45,
          36.35,
          58.95,
          12,
          10.75,
          24,
          22.75,
          13.95,
          27,
          12.95,
          23.7,
          14,
          33.25,
          11,
          11,
          12.45,
          34.17,
          31.34,
          14.25,
          33.95,
          28,
          14.25,
          11.95,
          27.95,
          12.5,
          12.95,
          11.75,
          19.95,
          10.95,
          22.7,
          13,
          11,
          12,
          7.95,
          19,
          34.95,
          4.5,
          12.21,
          10.95,
          10.95,
          36.85,
          24,
          11.75,
          13.21,
          41.95,
          38.46,
          30.85,
          11.95,
          18.5,
          16.5,
          31.75,
          25.25,
          26.88,
          16,
          10.75,
          57.8,
          8,
          75.75,
          13.45,
          11.95,
          17.45,
          16,
          19,
          39.93,
          26.42,
          8.25,
          8.25,
          11,
          30.65,
          14.95,
          10.95,
          15,
          26.5,
          18.95,
          28.46,
          13.5,
          24.45,
          13.75,
          16,
          9,
          4.5,
          20.75,
          66.4,
          3.5,
          24,
          9.5,
          26.96,
          14.95,
          11.75,
          45.6,
          7.25,
          25.7,
          10.95,
          39.5,
          84.09,
          39.34,
          10.95,
          37.16,
          10.95,
          12.21,
          30.5,
          25.75,
          14.45,
          21.7,
          24.26,
          13.21,
          15.2,
          25.21,
          22,
          81,
          38.51,
          56.63,
          26.76,
          46.18,
          53.95,
          11.75,
          14.96,
          12.46,
          14.96,
          19,
          42.71,
          45.18,
          62.95,
          69.56,
          25.38,
          25.25,
          56.16,
          3,
          60.08,
          26.9,
          46.4,
          46.6,
          56.2,
          51.36,
          11.75,
          37,
          37.2,
          34.46,
          16,
          19.95,
          53.71,
          28.4,
          23.2,
          16.95,
          13.95,
          10.95,
          12,
          24.96,
          20.46,
          31.9,
          53.42,
          8,
          16.5,
          39.17,
          54.75,
          13.25,
          29.25,
          12,
          37,
          24.76,
          30.2,
          11,
          9.75,
          14.5,
          13,
          13.21,
          14.96,
          49.71,
          38.96,
          30,
          18.71,
          50.67,
          10.95,
          35.95,
          2,
          51.55,
          29.95,
          16.75,
          39.92,
          56.35,
          31.95,
          84,
          13.5,
          35.45,
          19.45,
          14.25
         ],
         "y0": " ",
         "yaxis": "y"
        }
       ],
       "layout": {
        "boxmode": "group",
        "legend": {
         "tracegroupgap": 0
        },
        "margin": {
         "t": 60
        },
        "template": {
         "data": {
          "bar": [
           {
            "error_x": {
             "color": "#2a3f5f"
            },
            "error_y": {
             "color": "#2a3f5f"
            },
            "marker": {
             "line": {
              "color": "#E5ECF6",
              "width": 0.5
             }
            },
            "type": "bar"
           }
          ],
          "barpolar": [
           {
            "marker": {
             "line": {
              "color": "#E5ECF6",
              "width": 0.5
             }
            },
            "type": "barpolar"
           }
          ],
          "carpet": [
           {
            "aaxis": {
             "endlinecolor": "#2a3f5f",
             "gridcolor": "white",
             "linecolor": "white",
             "minorgridcolor": "white",
             "startlinecolor": "#2a3f5f"
            },
            "baxis": {
             "endlinecolor": "#2a3f5f",
             "gridcolor": "white",
             "linecolor": "white",
             "minorgridcolor": "white",
             "startlinecolor": "#2a3f5f"
            },
            "type": "carpet"
           }
          ],
          "choropleth": [
           {
            "colorbar": {
             "outlinewidth": 0,
             "ticks": ""
            },
            "type": "choropleth"
           }
          ],
          "contour": [
           {
            "colorbar": {
             "outlinewidth": 0,
             "ticks": ""
            },
            "colorscale": [
             [
              0,
              "#0d0887"
             ],
             [
              0.1111111111111111,
              "#46039f"
             ],
             [
              0.2222222222222222,
              "#7201a8"
             ],
             [
              0.3333333333333333,
              "#9c179e"
             ],
             [
              0.4444444444444444,
              "#bd3786"
             ],
             [
              0.5555555555555556,
              "#d8576b"
             ],
             [
              0.6666666666666666,
              "#ed7953"
             ],
             [
              0.7777777777777778,
              "#fb9f3a"
             ],
             [
              0.8888888888888888,
              "#fdca26"
             ],
             [
              1,
              "#f0f921"
             ]
            ],
            "type": "contour"
           }
          ],
          "contourcarpet": [
           {
            "colorbar": {
             "outlinewidth": 0,
             "ticks": ""
            },
            "type": "contourcarpet"
           }
          ],
          "heatmap": [
           {
            "colorbar": {
             "outlinewidth": 0,
             "ticks": ""
            },
            "colorscale": [
             [
              0,
              "#0d0887"
             ],
             [
              0.1111111111111111,
              "#46039f"
             ],
             [
              0.2222222222222222,
              "#7201a8"
             ],
             [
              0.3333333333333333,
              "#9c179e"
             ],
             [
              0.4444444444444444,
              "#bd3786"
             ],
             [
              0.5555555555555556,
              "#d8576b"
             ],
             [
              0.6666666666666666,
              "#ed7953"
             ],
             [
              0.7777777777777778,
              "#fb9f3a"
             ],
             [
              0.8888888888888888,
              "#fdca26"
             ],
             [
              1,
              "#f0f921"
             ]
            ],
            "type": "heatmap"
           }
          ],
          "heatmapgl": [
           {
            "colorbar": {
             "outlinewidth": 0,
             "ticks": ""
            },
            "colorscale": [
             [
              0,
              "#0d0887"
             ],
             [
              0.1111111111111111,
              "#46039f"
             ],
             [
              0.2222222222222222,
              "#7201a8"
             ],
             [
              0.3333333333333333,
              "#9c179e"
             ],
             [
              0.4444444444444444,
              "#bd3786"
             ],
             [
              0.5555555555555556,
              "#d8576b"
             ],
             [
              0.6666666666666666,
              "#ed7953"
             ],
             [
              0.7777777777777778,
              "#fb9f3a"
             ],
             [
              0.8888888888888888,
              "#fdca26"
             ],
             [
              1,
              "#f0f921"
             ]
            ],
            "type": "heatmapgl"
           }
          ],
          "histogram": [
           {
            "marker": {
             "colorbar": {
              "outlinewidth": 0,
              "ticks": ""
             }
            },
            "type": "histogram"
           }
          ],
          "histogram2d": [
           {
            "colorbar": {
             "outlinewidth": 0,
             "ticks": ""
            },
            "colorscale": [
             [
              0,
              "#0d0887"
             ],
             [
              0.1111111111111111,
              "#46039f"
             ],
             [
              0.2222222222222222,
              "#7201a8"
             ],
             [
              0.3333333333333333,
              "#9c179e"
             ],
             [
              0.4444444444444444,
              "#bd3786"
             ],
             [
              0.5555555555555556,
              "#d8576b"
             ],
             [
              0.6666666666666666,
              "#ed7953"
             ],
             [
              0.7777777777777778,
              "#fb9f3a"
             ],
             [
              0.8888888888888888,
              "#fdca26"
             ],
             [
              1,
              "#f0f921"
             ]
            ],
            "type": "histogram2d"
           }
          ],
          "histogram2dcontour": [
           {
            "colorbar": {
             "outlinewidth": 0,
             "ticks": ""
            },
            "colorscale": [
             [
              0,
              "#0d0887"
             ],
             [
              0.1111111111111111,
              "#46039f"
             ],
             [
              0.2222222222222222,
              "#7201a8"
             ],
             [
              0.3333333333333333,
              "#9c179e"
             ],
             [
              0.4444444444444444,
              "#bd3786"
             ],
             [
              0.5555555555555556,
              "#d8576b"
             ],
             [
              0.6666666666666666,
              "#ed7953"
             ],
             [
              0.7777777777777778,
              "#fb9f3a"
             ],
             [
              0.8888888888888888,
              "#fdca26"
             ],
             [
              1,
              "#f0f921"
             ]
            ],
            "type": "histogram2dcontour"
           }
          ],
          "mesh3d": [
           {
            "colorbar": {
             "outlinewidth": 0,
             "ticks": ""
            },
            "type": "mesh3d"
           }
          ],
          "parcoords": [
           {
            "line": {
             "colorbar": {
              "outlinewidth": 0,
              "ticks": ""
             }
            },
            "type": "parcoords"
           }
          ],
          "pie": [
           {
            "automargin": true,
            "type": "pie"
           }
          ],
          "scatter": [
           {
            "marker": {
             "colorbar": {
              "outlinewidth": 0,
              "ticks": ""
             }
            },
            "type": "scatter"
           }
          ],
          "scatter3d": [
           {
            "line": {
             "colorbar": {
              "outlinewidth": 0,
              "ticks": ""
             }
            },
            "marker": {
             "colorbar": {
              "outlinewidth": 0,
              "ticks": ""
             }
            },
            "type": "scatter3d"
           }
          ],
          "scattercarpet": [
           {
            "marker": {
             "colorbar": {
              "outlinewidth": 0,
              "ticks": ""
             }
            },
            "type": "scattercarpet"
           }
          ],
          "scattergeo": [
           {
            "marker": {
             "colorbar": {
              "outlinewidth": 0,
              "ticks": ""
             }
            },
            "type": "scattergeo"
           }
          ],
          "scattergl": [
           {
            "marker": {
             "colorbar": {
              "outlinewidth": 0,
              "ticks": ""
             }
            },
            "type": "scattergl"
           }
          ],
          "scattermapbox": [
           {
            "marker": {
             "colorbar": {
              "outlinewidth": 0,
              "ticks": ""
             }
            },
            "type": "scattermapbox"
           }
          ],
          "scatterpolar": [
           {
            "marker": {
             "colorbar": {
              "outlinewidth": 0,
              "ticks": ""
             }
            },
            "type": "scatterpolar"
           }
          ],
          "scatterpolargl": [
           {
            "marker": {
             "colorbar": {
              "outlinewidth": 0,
              "ticks": ""
             }
            },
            "type": "scatterpolargl"
           }
          ],
          "scatterternary": [
           {
            "marker": {
             "colorbar": {
              "outlinewidth": 0,
              "ticks": ""
             }
            },
            "type": "scatterternary"
           }
          ],
          "surface": [
           {
            "colorbar": {
             "outlinewidth": 0,
             "ticks": ""
            },
            "colorscale": [
             [
              0,
              "#0d0887"
             ],
             [
              0.1111111111111111,
              "#46039f"
             ],
             [
              0.2222222222222222,
              "#7201a8"
             ],
             [
              0.3333333333333333,
              "#9c179e"
             ],
             [
              0.4444444444444444,
              "#bd3786"
             ],
             [
              0.5555555555555556,
              "#d8576b"
             ],
             [
              0.6666666666666666,
              "#ed7953"
             ],
             [
              0.7777777777777778,
              "#fb9f3a"
             ],
             [
              0.8888888888888888,
              "#fdca26"
             ],
             [
              1,
              "#f0f921"
             ]
            ],
            "type": "surface"
           }
          ],
          "table": [
           {
            "cells": {
             "fill": {
              "color": "#EBF0F8"
             },
             "line": {
              "color": "white"
             }
            },
            "header": {
             "fill": {
              "color": "#C8D4E3"
             },
             "line": {
              "color": "white"
             }
            },
            "type": "table"
           }
          ]
         },
         "layout": {
          "annotationdefaults": {
           "arrowcolor": "#2a3f5f",
           "arrowhead": 0,
           "arrowwidth": 1
          },
          "autotypenumbers": "strict",
          "coloraxis": {
           "colorbar": {
            "outlinewidth": 0,
            "ticks": ""
           }
          },
          "colorscale": {
           "diverging": [
            [
             0,
             "#8e0152"
            ],
            [
             0.1,
             "#c51b7d"
            ],
            [
             0.2,
             "#de77ae"
            ],
            [
             0.3,
             "#f1b6da"
            ],
            [
             0.4,
             "#fde0ef"
            ],
            [
             0.5,
             "#f7f7f7"
            ],
            [
             0.6,
             "#e6f5d0"
            ],
            [
             0.7,
             "#b8e186"
            ],
            [
             0.8,
             "#7fbc41"
            ],
            [
             0.9,
             "#4d9221"
            ],
            [
             1,
             "#276419"
            ]
           ],
           "sequential": [
            [
             0,
             "#0d0887"
            ],
            [
             0.1111111111111111,
             "#46039f"
            ],
            [
             0.2222222222222222,
             "#7201a8"
            ],
            [
             0.3333333333333333,
             "#9c179e"
            ],
            [
             0.4444444444444444,
             "#bd3786"
            ],
            [
             0.5555555555555556,
             "#d8576b"
            ],
            [
             0.6666666666666666,
             "#ed7953"
            ],
            [
             0.7777777777777778,
             "#fb9f3a"
            ],
            [
             0.8888888888888888,
             "#fdca26"
            ],
            [
             1,
             "#f0f921"
            ]
           ],
           "sequentialminus": [
            [
             0,
             "#0d0887"
            ],
            [
             0.1111111111111111,
             "#46039f"
            ],
            [
             0.2222222222222222,
             "#7201a8"
            ],
            [
             0.3333333333333333,
             "#9c179e"
            ],
            [
             0.4444444444444444,
             "#bd3786"
            ],
            [
             0.5555555555555556,
             "#d8576b"
            ],
            [
             0.6666666666666666,
             "#ed7953"
            ],
            [
             0.7777777777777778,
             "#fb9f3a"
            ],
            [
             0.8888888888888888,
             "#fdca26"
            ],
            [
             1,
             "#f0f921"
            ]
           ]
          },
          "colorway": [
           "#636efa",
           "#EF553B",
           "#00cc96",
           "#ab63fa",
           "#FFA15A",
           "#19d3f3",
           "#FF6692",
           "#B6E880",
           "#FF97FF",
           "#FECB52"
          ],
          "font": {
           "color": "#2a3f5f"
          },
          "geo": {
           "bgcolor": "white",
           "lakecolor": "white",
           "landcolor": "#E5ECF6",
           "showlakes": true,
           "showland": true,
           "subunitcolor": "white"
          },
          "hoverlabel": {
           "align": "left"
          },
          "hovermode": "closest",
          "mapbox": {
           "style": "light"
          },
          "paper_bgcolor": "white",
          "plot_bgcolor": "#E5ECF6",
          "polar": {
           "angularaxis": {
            "gridcolor": "white",
            "linecolor": "white",
            "ticks": ""
           },
           "bgcolor": "#E5ECF6",
           "radialaxis": {
            "gridcolor": "white",
            "linecolor": "white",
            "ticks": ""
           }
          },
          "scene": {
           "xaxis": {
            "backgroundcolor": "#E5ECF6",
            "gridcolor": "white",
            "gridwidth": 2,
            "linecolor": "white",
            "showbackground": true,
            "ticks": "",
            "zerolinecolor": "white"
           },
           "yaxis": {
            "backgroundcolor": "#E5ECF6",
            "gridcolor": "white",
            "gridwidth": 2,
            "linecolor": "white",
            "showbackground": true,
            "ticks": "",
            "zerolinecolor": "white"
           },
           "zaxis": {
            "backgroundcolor": "#E5ECF6",
            "gridcolor": "white",
            "gridwidth": 2,
            "linecolor": "white",
            "showbackground": true,
            "ticks": "",
            "zerolinecolor": "white"
           }
          },
          "shapedefaults": {
           "line": {
            "color": "#2a3f5f"
           }
          },
          "ternary": {
           "aaxis": {
            "gridcolor": "white",
            "linecolor": "white",
            "ticks": ""
           },
           "baxis": {
            "gridcolor": "white",
            "linecolor": "white",
            "ticks": ""
           },
           "bgcolor": "#E5ECF6",
           "caxis": {
            "gridcolor": "white",
            "linecolor": "white",
            "ticks": ""
           }
          },
          "title": {
           "x": 0.05
          },
          "xaxis": {
           "automargin": true,
           "gridcolor": "white",
           "linecolor": "white",
           "ticks": "",
           "title": {
            "standoff": 15
           },
           "zerolinecolor": "white",
           "zerolinewidth": 2
          },
          "yaxis": {
           "automargin": true,
           "gridcolor": "white",
           "linecolor": "white",
           "ticks": "",
           "title": {
            "standoff": 15
           },
           "zerolinecolor": "white",
           "zerolinewidth": 2
          }
         }
        },
        "xaxis": {
         "anchor": "y",
         "domain": [
          0,
          1
         ]
        },
        "yaxis": {
         "anchor": "x",
         "domain": [
          0,
          1
         ],
         "title": {
          "text": "amount_spent"
         }
        }
       }
      },
      "text/html": "<div>                            <div id=\"9f304461-581b-45d1-ab3c-0fd8a18cd5e0\" class=\"plotly-graph-div\" style=\"height:525px; width:100%;\"></div>            <script type=\"text/javascript\">                require([\"plotly\"], function(Plotly) {                    window.PLOTLYENV=window.PLOTLYENV || {};                                    if (document.getElementById(\"9f304461-581b-45d1-ab3c-0fd8a18cd5e0\")) {                    Plotly.newPlot(                        \"9f304461-581b-45d1-ab3c-0fd8a18cd5e0\",                        [{\"alignmentgroup\": \"True\", \"hovertemplate\": \"amount_spent=%{y}<extra></extra>\", \"legendgroup\": \"\", \"marker\": {\"color\": \"#636efa\"}, \"name\": \"\", \"notched\": false, \"offsetgroup\": \"\", \"orientation\": \"v\", \"showlegend\": false, \"type\": \"box\", \"x0\": \" \", \"xaxis\": \"x\", \"y\": [0.5, 17.25, 5.59, 58.5, 42.58, 30.56, 46.67, 68.12, 22.93, 27.0, 11.45, 11.45, 27.0, 13.52, 15.5, 49.4, 15.75, 14.98, 40.35, 10.95, 27.62, 12.25, 10.95, 21.9, 12.5, 31.85, 30.54, 8.75, 49.68, 26.0, 34.25, 43.75, 31.95, 2.25, 18.45, 74.8, 30.81, 32.6, 28.0, 36.8, 45.81, 57.3, 33.22, 16.95, 40.56, 31.2, 25.9, 26.1, 21.45, 13.95, 14.95, 13.75, 29.37, 10.95, 53.48, 27.62, 51.09, 73.72, 66.89, 47.5, 21.9, 13.81, 32.23, 13.5, 13.95, 27.33, 12.95, 49.95, 28.5, 46.04, 29.9, 25.9, 27.62, 39.62, 22.4, 27.5, 17.31, 44.66, 8.5, 38.06, 13.81, 8.75, 25.87, 24.47, 26.25, 42.6, 24.9, 40.56, 74.54, 24.9, 40.91, 29.95, 11.45, 31.23, 37.91, 20.5, 21.9, 24.4, 43.49, 29.73, 23.72, 14.95, 39.27, 24.7, 22.4, 27.91, 49.22, 37.75, 27.95, 46.37, 98.61, 13.5, 10.95, 37.75, 12.95, 13.95, 14.1, 14.98, 18.79, 27.56, 10.95, 27.85, 29.08, 24.9, 11.45, 12.25, 10.95, 72.75, 29.08, 28.48, 28.56, 15.85, 13.5, 2.25, 55.61, 11.95, 13.75, 13.7, 24.7, 36.8, 6.0, 33.13, 49.8, 29.96, 15.56, 26.02, 22.2, 45.98, 42.0, 24.2, 24.2, 62.24, 26.4, 13.81, 33.5, 11.75, 0.0, 10.95, 33.85, 18.5, 26.19, 41.29, 27.47, 12.5, 20.7, 41.2, 14.98, 11.95, 12.5, 25.9, 21.7, 48.12, 14.1, 14.98, 11.45, 32.55, 13.52, 23.4, 12.35, 13.5, 15.56, 40.74, 13.5, 32.4, 13.23, 47.43, 13.75, 32.9, 53.25, 11.45, 26.31, 52.63, 71.62, 37.95, 44.94, 44.42, 12.45, 36.95, 11.45, 15.5, 26.1, 20.5, 27.33, 32.23, 38.85, 53.35, 40.21, 27.62, 17.95, 36.35, 39.1, 27.68, 42.25, 69.95, 28.2, 11.45, 29.31, 60.14, 100.31, 24.93, 14.1, 31.06, 11.95, 39.25, 41.08, 30.97, 30.33, 39.62, 22.31, 12.25, 34.5, 3.0, 1.0, 11.75, 30.48, 48.19, 12.5, 12.5, 32.0, 27.48, 35.7, 38.47, 31.73, 21.9, 30.54, 33.45, 10.95, 8.75, 25.87, 15.9, 11.45, 50.79, 27.33, 32.5, 11.45, 15.5, 41.14, 15.5, 14.45, 20.7, 14.1, 12.45, 12.5, 12.5, 25.9, 12.35, 15.5, 29.02, 25.87, 30.0, 26.76, 31.06, 13.5, 26.9, 22.02, 22.52, 40.62, 16.73, 18.25, 16.39, 20.45, 16.75, 11.95, 26.25, 13.0, 50.4, 51.29, 52.54, 36.56, 33.99, 37.5, 68.47, 23.9, 30.25, 6.0, 17.0, 11.45, 14.45, 12.95, 44.8, 25.9, 9.75, 31.35, 27.56, 65.37, 34.81, 33.45, 28.87, 35.0, 16.73, 55.15, 13.45, 14.98, 17.26, 13.75, 12.35, 39.97, 27.75, 30.19, 38.45, 44.91, 13.81, 77.45, 12.35, 35.48, 18.5, 17.4, 24.95, 24.7, 53.66, 46.39, 24.2, 8.5, 14.75, 14.0, 30.95, 20.04, 28.3, 11.45, 31.31, 13.45, 13.81, 43.8, 13.81, 13.0, 14.95, 11.95, 11.95, 33.4, 29.84, 50.8, 29.5, 38.65, 13.75, 21.75, 39.85, 9.75, 57.35, 28.0, 68.48, 19.73, 42.04, 18.23, 34.0, 60.74, 42.6, 26.9, 39.62, 42.83, 10.95, 36.28, 44.95, 13.81, 11.5, 8.0, 12.95, 55.8, 14.75, 12.95, 27.27, 28.02, 40.25, 31.48, 11.45, 10.95, 33.45, 51.6, 48.8, 59.25, 36.35, 28.25, 48.14, 32.85, 27.02, 26.9, 43.18, 27.68, 26.2, 32.0, 59.83, 29.31, 44.58, 27.33, 22.0, 44.06, 32.85, 49.6, 16.44, 28.8, 13.52, 13.74, 40.35, 11.95, 27.62, 18.56, 15.56, 53.15, 66.94, 29.37, 71.41, 25.7, 12.35, 26.9, 14.0, 27.57, 16.45, 40.03, 12.35, 43.35, 20.95, 35.6, 32.5, 37.81, 43.88, 29.25, 114.64, 24.47, 30.12, 27.4, 27.0, 29.97, 41.35, 48.42, 43.72, 52.68, 11.45, 27.96, 42.54, 47.81, 54.02, 76.46, 20.9, 32.4, 28.98, 12.35, 16.73, 13.81, 32.82, 27.93, 17.5, 36.75, 42.31, 27.56, 13.81, 33.75, 24.47, 82.85, 42.38, 21.9, 15.5, 45.81, 58.81, 19.7, 27.05, 9.25, 33.46, 47.27, 16.48, 12.45, 12.35, 13.95, 12.45, 39.1, 19.9, 14.98, 36.35, 25.4, 29.6, 52.29, 28.9, 28.9, 27.33, 66.36, 55.54, 11.95, 28.73, 29.1, 36.41, 29.18, 30.62, 46.37, 3.0, 9.75, 29.66, 27.5, 13.75, 30.84, 42.74, 42.5, 15.57, 1.5, 30.35, 27.91, 40.4, 23.45, 12.45, 26.48, 11.95, 29.9, 27.56, 33.93, 30.48, 18.5, 33.0, 36.59, 31.4, 11.0, 7.34, 11.95, 10.95, 79.79, 26.16, 18.48, 40.28, 38.15, 18.48, 42.31, 42.74, 26.76, 13.81, 41.35, 45.65, 24.37, 16.48, 30.54, 26.7, 1.0, 23.0, 12.95, 11.95, 13.81, 18.23, 12.45, 27.04, 17.5, 11.18, 20.42, 22.72, 13.81, 22.72, 39.3, 40.94, 11.45, 29.5, 42.96, 11.0, 13.81, 74.01, 13.0, 40.56, 13.52, 16.77, 71.68, 15.5, 43.31, 13.45, 27.0, 13.0, 24.5, 28.9, 12.25, 10.25, 9.75, 27.0, 28.72, 38.71, 28.01, 14.5, 11.0, 13.0, 29.76, 11.95, 16.2, 26.9, 25.9, 35.16, 9.25, 13.5, 13.21, 41.15, 23.5, 13.5, 16.26, 34.86, 14.5, 27.34, 31.2, 13.21, 48.65, 33.25, 21.95, 22.01, 11.75, 12.21, 41.5, 11.75, 10.95, 16.5, 31.15, 18.0, 27.2, 46.5, 34.65, 27.93, 27.65, 37.45, 12.5, 27.0, 17.95, 15.5, 69.25, 34.85, 12.95, 14.71, 21.9, 25.84, 11.45, 31.9, 32.9, 11.45, 25.13, 10.95, 25.25, 23.2, 76.34, 217.97, 29.9, 24.2, 27.21, 21.9, 16.46, 25.95, 60.54, 45.0, 96.05, 47.0, 23.96, 43.95, 54.9, 22.0, 23.0, 37.25, 27.17, 13.95, 21.25, 29.17, 25.5, 27.42, 15.46, 56.71, 21.0, 24.21, 40.21, 39.85, 11.45, 46.06, 15.45, 38.3, 27.95, 11.95, 24.0, 24.25, 11.45, 36.4, 2.5, 84.28, 11.45, 11.75, 32.7, 31.45, 12.45, 33.0, 22.7, 16.0, 26.0, 45.37, 15.71, 28.5, 20.0, 33.75, 25.42, 27.95, 14.75, 27.92, 12.21, 12.21, 33.0, 25.42, 50.93, 21.21, 22.65, 30.21, 34.85, 4.5, 25.88, 9.0, 10.95, 61.85, 52.65, 20.2, 45.4, 28.16, 38.88, 41.47, 25.95, 16.2, 20.5, 36.25, 8.5, 28.25, 23.01, 33.95, 35.74, 31.2, 28.46, 31.95, 30.9, 13.45, 24.5, 19.7, 29.9, 16.25, 16.5, 34.15, 49.84, 24.42, 25.72, 37.37, 41.27, 26.22, 21.5, 24.96, 14.95, 25.5, 14.45, 43.0, 10.95, 27.17, 45.45, 43.7, 29.17, 4.0, 24.96, 19.13, 48.95, 37.85, 24.96, 29.08, 51.59, 11.75, 49.7, 44.92, 39.0, 25.96, 55.46, 12.21, 59.63, 11.0, 21.75, 14.0, 30.25, 32.85, 11.95, 13.0, 10.75, 12.95, 11.5, 11.45, 22.01, 13.5, 24.42, 12.45, 25.42, 14.95, 13.75, 13.21, 24.09, 10.75, 56.2, 14.95, 44.28, 23.45, 24.0, 13.5, 27.7, 45.66, 25.34, 25.0, 13.0, 15.21, 12.45, 14.0, 15.0, 13.0, 13.0, 38.35, 13.0, 6.0, 16.95, 36.7, 28.15, 33.95, 23.26, 24.21, 33.83, 26.71, 38.85, 23.96, 15.0, 12.5, 22.5, 25.71, 6.0, 35.71, 4.5, 28.95, 12.5, 10.95, 10.95, 11.45, 33.25, 44.71, 36.45, 39.5, 65.27, 10.95, 55.8, 11.45, 34.45, 5.63, 40.16, 22.26, 22.0, 11.95, 4.0, 54.2, 11.75, 49.8, 37.35, 10.95, 10.95, 29.0, 7.25, 38.17, 41.0, 32.95, 26.66, 11.75, 11.95, 22.5, 53.26, 12.45, 23.4, 32.75, 15.21, 21.9, 2.5, 24.95, 12.21, 13.21, 22.75, 13.5, 24.0, 21.9, 11.0, 15.95, 13.0, 14.75, 36.71, 13.5, 59.3, 11.45, 24.45, 12.46, 30.0, 28.91, 10.75, 13.96, 10.75, 59.2, 35.45, 43.23, 24.42, 23.96, 13.96, 16.0, 22.7, 11.0, 11.95, 27.25, 5.63, 11.75, 7.25, 5.0, 13.21, 16.5, 52.2, 16.0, 22.2, 15.75, 14.96, 36.0, 20.45, 13.21, 25.75, 32.85, 11.75, 22.5, 28.9, 24.9, 16.7, 20.84, 44.21, 25.9, 27.21, 13.21, 12.45, 40.71, 14.45, 27.0, 8.0, 25.9, 13.45, 8.0, 40.21, 24.25, 10.95, 13.21, 17.0, 15.96, 27.77, 33.42, 64.0, 2.5, 14.95, 26.42, 52.85, 27.15, 40.4, 7.25, 11.45, 39.45, 38.63, 14.45, 14.5, 16.0, 15.25, 40.0, 12.21, 26.09, 12.45, 25.4, 25.25, 34.65, 11.75, 27.9, 43.35, 36.15, 12.0, 10.95, 69.13, 23.7, 23.5, 54.17, 21.0, 34.7, 36.5, 35.25, 16.0, 22.0, 28.0, 11.95, 11.0, 19.95, 28.5, 26.42, 11.75, 26.2, 42.27, 12.45, 22.9, 2.0, 20.0, 32.8, 26.5, 52.43, 57.3, 29.45, 64.35, 32.96, 10.95, 30.51, 25.25, 45.45, 23.45, 37.46, 38.17, 24.45, 47.72, 29.55, 27.21, 11.75, 12.5, 16.0, 21.0, 9.5, 21.25, 11.25, 26.0, 19.0, 44.45, 11.75, 25.0, 26.0, 39.5, 3.0, 12.45, 18.25, 28.2, 12.5, 39.7, 15.0, 12.5, 27.4, 28.0, 74.8, 43.08, 16.95, 12.95, 33.67, 11.95, 13.5, 26.5, 1.5, 16.0, 29.46, 34.25, 29.13, 31.75, 13.95, 10.95, 22.96, 45.41, 43.95, 60.25, 35.61, 39.46, 60.84, 21.5, 30.46, 73.18, 56.16, 36.0, 34.25, 40.67, 14.95, 23.96, 12.75, 5.0, 12.46, 26.21, 11.75, 10.95, 23.5, 17.5, 11.95, 12.45, 13.5, 13.75, 14.45, 23.0, 11.0, 7.95, 11.5, 25.95, 33.22, 24.45, 50.91, 26.9, 19.5, 11.75, 11.95, 13.5, 31.4, 10.75, 13.5, 24.2, 13.0, 40.95, 77.13, 8.0, 55.75, 25.72, 37.0, 39.5, 27.34, 16.21, 5.0, 22.4, 29.95, 24.2, 16.5, 23.96, 22.5, 21.21, 13.95, 23.96, 12.95, 12.5, 15.95, 24.0, 13.45, 12.95, 13.21, 20.4, 41.96, 36.2, 13.5, 73.95, 42.85, 34.45, 24.5, 30.7, 75.36, 12.95, 44.66, 23.96, 32.75, 11.45, 26.5, 26.0, 11.95, 52.4, 32.5, 22.5, 12.45, 10.95, 10.95, 30.45, 57.41, 11.75, 12.0, 12.95, 30.0, 13.39, 14.0, 31.42, 26.15, 54.0, 43.0, 16.21, 12.0, 20.5, 64.75, 13.5, 54.21, 39.7, 32.75, 45.28, 24.5, 26.75, 10.95, 60.0, 60.67, 49.84, 17.5, 12.5, 30.42, 7.25, 29.0, 14.95, 23.5, 25.16, 20.0, 26.75, 12.5, 22.7, 3.0, 29.0, 12.5, 17.0, 43.5, 35.16, 38.85, 21.9, 27.75, 23.25, 15.0, 48.66, 31.9, 30.9, 24.4, 14.96, 10.95, 22.25, 40.39, 44.11, 39.7, 23.25, 8.0, 4.5, 13.0, 27.45, 19.0, 29.5, 27.9, 26.9, 23.5, 16.21, 11.75, 12.21, 23.21, 11.0, 12.5, 15.0, 23.66, 10.95, 10.95, 13.95, 27.25, 13.96, 23.5, 46.66, 16.5, 16.45, 16.5, 3.5, 43.88, 13.38, 13.95, 23.21, 23.5, 45.4, 97.1, 59.45, 48.25, 32.25, 38.42, 26.9, 10.75, 13.21, 99.7, 22.4, 92.96, 41.85, 13.5, 24.4, 35.25, 50.0, 13.21, 13.5, 63.34, 17.5, 29.25, 16.0, 28.92, 32.91, 13.5, 11.75, 25.96, 12.75, 40.25, 69.95, 40.05, 38.6, 17.45, 21.9, 20.08, 10.95, 52.4, 13.5, 12.0, 13.75, 14.45, 23.16, 8.0, 25.71, 42.92, 35.16, 14.38, 35.0, 13.5, 29.92, 7.0, 28.7, 24.96, 29.9, 37.47, 35.25, 24.76, 33.7, 48.45, 61.11, 46.2, 41.7, 10.95, 27.75, 24.71, 8.0, 32.95, 32.1, 14.45, 40.4, 34.95, 13.0, 38.0, 10.75, 12.0, 21.5, 3.5, 2.0, 18.5, 42.41, 35.92, 39.21, 25.7, 18.5, 40.85, 42.56, 47.16, 24.16, 25.5, 15.51, 42.5, 12.25, 6.0, 27.97, 34.15, 44.4, 39.85, 48.95, 24.96, 20.25, 24.0, 52.84, 13.95, 33.25, 14.25, 35.25, 17.21, 44.96, 47.5, 42.21, 66.9, 37.17, 38.95, 13.5, 13.38, 4.25, 40.15, 31.66, 10.75, 11.95, 2.25, 24.5, 16.75, 13.96, 38.7, 48.4, 28.75, 11.5, 12.0, 52.84, 11.0, 13.95, 10.75, 12.95, 12.46, 11.95, 20.45, 8.5, 10.75, 74.03, 14.95, 39.13, 30.46, 13.75, 11.63, 15.25, 52.65, 28.64, 24.7, 16.0, 13.0, 49.38, 35.9, 64.66, 14.45, 7.0, 22.5, 13.5, 30.21, 8.0, 22.5, 8.0, 0.0, 36.25, 23.5, 26.0, 15.0, 26.0, 14.0, 19.0, 24.25, 30.5, 43.8, 12.5, 25.25, 13.45, 3.0, 8.0, 45.0, 31.71, 13.5, 27.3, 14.95, 64.35, 66.0, 22.75, 38.25, 25.9, 29.0, 92.26, 22.7, 22.9, 37.35, 9.0, 24.0, 28.46, 35.9, 32.5, 33.7, 12.5, 10.75, 36.23, 37.25, 23.4, 11.0, 27.4, 40.71, 11.0, 38.8, 13.5, 51.25, 16.0, 25.25, 36.95, 12.46, 19.95, 14.25, 12.46, 11.0, 36.17, 36.45, 20.38, 11.5, 32.75, 36.45, 4.75, 38.0, 40.9, 23.5, 22.7, 10.95, 12.5, 23.0, 24.9, 12.5, 14.96, 11.95, 10.95, 10.95, 10.95, 10.95, 10.95, 22.5, 10.95, 27.46, 13.5, 20.0, 49.17, 41.75, 8.0, 36.4, 30.2, 37.9, 36.95, 31.96, 8.0, 16.5, 9.25, 13.45, 36.5, 38.2, 34.5, 48.4, 39.71, 34.0, 21.9, 21.9, 27.75, 13.96, 13.5, 55.4, 13.0, 15.25, 11.95, 13.21, 3.5, 13.5, 13.38, 26.0, 8.0, 35.15, 18.0, 40.91, 30.67, 13.96, 20.9, 42.99, 33.0, 14.38, 34.9, 34.7, 31.35, 38.25, 10.75, 38.25, 63.1, 41.65, 42.65, 31.96, 63.95, 13.5, 78.49, 26.0, 38.95, 40.65, 35.95, 41.85, 38.5, 24.13, 38.92, 18.0, 27.4, 20.0, 10.95, 11.45, 78.55, 25.5, 12.46, 17.75, 19.9, 13.5, 14.9, 24.46, 28.4, 31.9, 62.6, 32.95, 13.0, 12.46, 49.87, 21.2, 21.9, 14.75, 10.95, 41.6, 13.5, 25.4, 64.75, 25.7, 83.51, 90.05, 41.68, 12.21, 13.75, 51.75, 10.95, 38.9, 38.4, 42.4, 40.0, 13.59, 36.66, 21.5, 16.45, 34.7, 8.75, 63.9, 35.4, 41.5, 38.41, 17.45, 12.21, 26.71, 30.9, 20.75, 16.0, 12.25, 33.0, 14.75, 40.0, 21.95, 63.11, 52.75, 84.91, 77.2, 37.79, 14.25, 21.9, 8.5, 23.5, 28.4, 55.09, 33.9, 25.91, 54.95, 65.66, 13.0, 22.5, 11.0, 56.45, 32.17, 22.75, 4.25, 18.9, 32.85, 12.21, 16.5, 11.95, 11.75, 34.21, 50.66, 1.5, 38.9, 24.96, 26.5, 26.14, 4.25, 13.75, 1.5, 74.75, 49.25, 44.0, 16.0, 29.95, 99.85, 54.36, 19.0, 44.31, 33.25, 76.75, 62.25, 35.4, 28.4, 41.98, 20.45, 10.95, 27.0, 63.96, 21.9, 18.95, 8.0, 47.64, 39.95, 10.95, 14.25, 10.95, 10.95, 13.5, 23.46, 11.0, 25.13, 24.0, 8.0, 18.0, 2.0, 20.0, 15.0, 26.2, 11.45, 21.95, 26.17, 16.0, 13.45, 21.95, 15.38, 22.75, 50.95, 21.9, 32.85, 13.75, 29.5, 23.9, 29.21, 1.0, 13.21, 72.8, 34.7, 28.9, 80.35, 49.89, 24.67, 26.9, 11.95, 11.95, 18.2, 12.5, 24.45, 46.0, 13.5, 12.25, 54.41, 5.0, 52.0, 8.0, 23.45, 63.5, 22.95, 36.9, 35.46, 24.0, 10.75, 11.5, 3.5, 27.45, 13.45, 23.5, 13.21, 12.45, 45.69, 11.0, 11.0, 30.21, 12.21, 25.95, 31.15, 3.0, 13.96, 34.9, 56.65, 36.85, 8.45, 25.7, 29.7, 10.95, 19.95, 12.75, 48.33, 39.63, 16.0, 28.66, 19.0, 19.0, 29.22, 76.67, 27.66, 41.4, 45.6, 12.0, 16.46, 11.0, 25.4, 26.0, 32.92, 13.5, 14.71, 24.9, 14.0, 43.8, 27.92, 13.25, 14.45, 22.5, 9.25, 11.5, 28.92, 11.0, 18.5, 13.5, 10.95, 1.5, 13.0, 23.4, 15.75, 27.9, 10.95, 17.5, 28.45, 34.46, 34.0, 8.25, 49.67, 22.0, 13.21, 23.96, 37.5, 11.45, 24.4, 27.0, 13.0, 13.0, 18.5, 13.5, 13.95, 23.21, 23.0, 23.5, 21.9, 14.0, 12.63, 6.25, 14.45, 21.9, 23.96, 26.5, 37.42, 16.5, 11.45, 17.46, 14.21, 25.75, 16.21, 34.4, 45.9, 21.7, 13.75, 29.9, 8.0, 31.95, 64.26, 8.0, 10.75, 11.75, 37.7, 34.21, 8.0, 11.0, 38.63, 25.33, 8.0, 11.0, 13.5, 39.75, 18.0, 3.5, 11.5, 25.25, 3.0, 15.25, 25.0, 29.21, 21.9, 27.16, 40.4, 10.95, 15.45, 33.21, 11.45, 11.45, 11.45, 32.72, 25.5, 12.45, 36.35, 58.95, 12.0, 10.75, 24.0, 22.75, 13.95, 27.0, 12.95, 23.7, 14.0, 33.25, 11.0, 11.0, 12.45, 34.17, 31.34, 14.25, 33.95, 28.0, 14.25, 11.95, 27.95, 12.5, 12.95, 11.75, 19.95, 10.95, 22.7, 13.0, 11.0, 12.0, 7.95, 19.0, 34.95, 4.5, 12.21, 10.95, 10.95, 36.85, 24.0, 11.75, 13.21, 41.95, 38.46, 30.85, 11.95, 18.5, 16.5, 31.75, 25.25, 26.88, 16.0, 10.75, 57.8, 8.0, 75.75, 13.45, 11.95, 17.45, 16.0, 19.0, 39.93, 26.42, 8.25, 8.25, 11.0, 30.65, 14.95, 10.95, 15.0, 26.5, 18.95, 28.46, 13.5, 24.45, 13.75, 16.0, 9.0, 4.5, 20.75, 66.4, 3.5, 24.0, 9.5, 26.96, 14.95, 11.75, 45.6, 7.25, 25.7, 10.95, 39.5, 84.09, 39.34, 10.95, 37.16, 10.95, 12.21, 30.5, 25.75, 14.45, 21.7, 24.26, 13.21, 15.2, 25.21, 22.0, 81.0, 38.51, 56.63, 26.76, 46.18, 53.95, 11.75, 14.96, 12.46, 14.96, 19.0, 42.71, 45.18, 62.95, 69.56, 25.38, 25.25, 56.16, 3.0, 60.08, 26.9, 46.4, 46.6, 56.2, 51.36, 11.75, 37.0, 37.2, 34.46, 16.0, 19.95, 53.71, 28.4, 23.2, 16.95, 13.95, 10.95, 12.0, 24.96, 20.46, 31.9, 53.42, 8.0, 16.5, 39.17, 54.75, 13.25, 29.25, 12.0, 37.0, 24.76, 30.2, 11.0, 9.75, 14.5, 13.0, 13.21, 14.96, 49.71, 38.96, 30.0, 18.71, 50.67, 10.95, 35.95, 2.0, 51.55, 29.95, 16.75, 39.92, 56.35, 31.95, 84.0, 13.5, 35.45, 19.45, 14.25], \"y0\": \" \", \"yaxis\": \"y\"}],                        {\"boxmode\": \"group\", \"legend\": {\"tracegroupgap\": 0}, \"margin\": {\"t\": 60}, \"template\": {\"data\": {\"bar\": [{\"error_x\": {\"color\": \"#2a3f5f\"}, \"error_y\": {\"color\": \"#2a3f5f\"}, \"marker\": {\"line\": {\"color\": \"#E5ECF6\", \"width\": 0.5}}, \"type\": \"bar\"}], \"barpolar\": [{\"marker\": {\"line\": {\"color\": \"#E5ECF6\", \"width\": 0.5}}, \"type\": \"barpolar\"}], \"carpet\": [{\"aaxis\": {\"endlinecolor\": \"#2a3f5f\", \"gridcolor\": \"white\", \"linecolor\": \"white\", \"minorgridcolor\": \"white\", \"startlinecolor\": \"#2a3f5f\"}, \"baxis\": {\"endlinecolor\": \"#2a3f5f\", \"gridcolor\": \"white\", \"linecolor\": \"white\", \"minorgridcolor\": \"white\", \"startlinecolor\": \"#2a3f5f\"}, \"type\": \"carpet\"}], \"choropleth\": [{\"colorbar\": {\"outlinewidth\": 0, \"ticks\": \"\"}, \"type\": \"choropleth\"}], \"contour\": [{\"colorbar\": {\"outlinewidth\": 0, \"ticks\": \"\"}, \"colorscale\": [[0.0, \"#0d0887\"], [0.1111111111111111, \"#46039f\"], [0.2222222222222222, \"#7201a8\"], [0.3333333333333333, \"#9c179e\"], [0.4444444444444444, \"#bd3786\"], [0.5555555555555556, \"#d8576b\"], [0.6666666666666666, \"#ed7953\"], [0.7777777777777778, \"#fb9f3a\"], [0.8888888888888888, \"#fdca26\"], [1.0, \"#f0f921\"]], \"type\": \"contour\"}], \"contourcarpet\": [{\"colorbar\": {\"outlinewidth\": 0, \"ticks\": \"\"}, \"type\": \"contourcarpet\"}], \"heatmap\": [{\"colorbar\": {\"outlinewidth\": 0, \"ticks\": \"\"}, \"colorscale\": [[0.0, \"#0d0887\"], [0.1111111111111111, \"#46039f\"], [0.2222222222222222, \"#7201a8\"], [0.3333333333333333, \"#9c179e\"], [0.4444444444444444, \"#bd3786\"], [0.5555555555555556, \"#d8576b\"], [0.6666666666666666, \"#ed7953\"], [0.7777777777777778, \"#fb9f3a\"], [0.8888888888888888, \"#fdca26\"], [1.0, \"#f0f921\"]], \"type\": \"heatmap\"}], \"heatmapgl\": [{\"colorbar\": {\"outlinewidth\": 0, \"ticks\": \"\"}, \"colorscale\": [[0.0, \"#0d0887\"], [0.1111111111111111, \"#46039f\"], [0.2222222222222222, \"#7201a8\"], [0.3333333333333333, \"#9c179e\"], [0.4444444444444444, \"#bd3786\"], [0.5555555555555556, \"#d8576b\"], [0.6666666666666666, \"#ed7953\"], [0.7777777777777778, \"#fb9f3a\"], [0.8888888888888888, \"#fdca26\"], [1.0, \"#f0f921\"]], \"type\": \"heatmapgl\"}], \"histogram\": [{\"marker\": {\"colorbar\": {\"outlinewidth\": 0, \"ticks\": \"\"}}, \"type\": \"histogram\"}], \"histogram2d\": [{\"colorbar\": {\"outlinewidth\": 0, \"ticks\": \"\"}, \"colorscale\": [[0.0, \"#0d0887\"], [0.1111111111111111, \"#46039f\"], [0.2222222222222222, \"#7201a8\"], [0.3333333333333333, \"#9c179e\"], [0.4444444444444444, \"#bd3786\"], [0.5555555555555556, \"#d8576b\"], [0.6666666666666666, \"#ed7953\"], [0.7777777777777778, \"#fb9f3a\"], [0.8888888888888888, \"#fdca26\"], [1.0, \"#f0f921\"]], \"type\": \"histogram2d\"}], \"histogram2dcontour\": [{\"colorbar\": {\"outlinewidth\": 0, \"ticks\": \"\"}, \"colorscale\": [[0.0, \"#0d0887\"], [0.1111111111111111, \"#46039f\"], [0.2222222222222222, \"#7201a8\"], [0.3333333333333333, \"#9c179e\"], [0.4444444444444444, \"#bd3786\"], [0.5555555555555556, \"#d8576b\"], [0.6666666666666666, \"#ed7953\"], [0.7777777777777778, \"#fb9f3a\"], [0.8888888888888888, \"#fdca26\"], [1.0, \"#f0f921\"]], \"type\": \"histogram2dcontour\"}], \"mesh3d\": [{\"colorbar\": {\"outlinewidth\": 0, \"ticks\": \"\"}, \"type\": \"mesh3d\"}], \"parcoords\": [{\"line\": {\"colorbar\": {\"outlinewidth\": 0, \"ticks\": \"\"}}, \"type\": \"parcoords\"}], \"pie\": [{\"automargin\": true, \"type\": \"pie\"}], \"scatter\": [{\"marker\": {\"colorbar\": {\"outlinewidth\": 0, \"ticks\": \"\"}}, \"type\": \"scatter\"}], \"scatter3d\": [{\"line\": {\"colorbar\": {\"outlinewidth\": 0, \"ticks\": \"\"}}, \"marker\": {\"colorbar\": {\"outlinewidth\": 0, \"ticks\": \"\"}}, \"type\": \"scatter3d\"}], \"scattercarpet\": [{\"marker\": {\"colorbar\": {\"outlinewidth\": 0, \"ticks\": \"\"}}, \"type\": \"scattercarpet\"}], \"scattergeo\": [{\"marker\": {\"colorbar\": {\"outlinewidth\": 0, \"ticks\": \"\"}}, \"type\": \"scattergeo\"}], \"scattergl\": [{\"marker\": {\"colorbar\": {\"outlinewidth\": 0, \"ticks\": \"\"}}, \"type\": \"scattergl\"}], \"scattermapbox\": [{\"marker\": {\"colorbar\": {\"outlinewidth\": 0, \"ticks\": \"\"}}, \"type\": \"scattermapbox\"}], \"scatterpolar\": [{\"marker\": {\"colorbar\": {\"outlinewidth\": 0, \"ticks\": \"\"}}, \"type\": \"scatterpolar\"}], \"scatterpolargl\": [{\"marker\": {\"colorbar\": {\"outlinewidth\": 0, \"ticks\": \"\"}}, \"type\": \"scatterpolargl\"}], \"scatterternary\": [{\"marker\": {\"colorbar\": {\"outlinewidth\": 0, \"ticks\": \"\"}}, \"type\": \"scatterternary\"}], \"surface\": [{\"colorbar\": {\"outlinewidth\": 0, \"ticks\": \"\"}, \"colorscale\": [[0.0, \"#0d0887\"], [0.1111111111111111, \"#46039f\"], [0.2222222222222222, \"#7201a8\"], [0.3333333333333333, \"#9c179e\"], [0.4444444444444444, \"#bd3786\"], [0.5555555555555556, \"#d8576b\"], [0.6666666666666666, \"#ed7953\"], [0.7777777777777778, \"#fb9f3a\"], [0.8888888888888888, \"#fdca26\"], [1.0, \"#f0f921\"]], \"type\": \"surface\"}], \"table\": [{\"cells\": {\"fill\": {\"color\": \"#EBF0F8\"}, \"line\": {\"color\": \"white\"}}, \"header\": {\"fill\": {\"color\": \"#C8D4E3\"}, \"line\": {\"color\": \"white\"}}, \"type\": \"table\"}]}, \"layout\": {\"annotationdefaults\": {\"arrowcolor\": \"#2a3f5f\", \"arrowhead\": 0, \"arrowwidth\": 1}, \"autotypenumbers\": \"strict\", \"coloraxis\": {\"colorbar\": {\"outlinewidth\": 0, \"ticks\": \"\"}}, \"colorscale\": {\"diverging\": [[0, \"#8e0152\"], [0.1, \"#c51b7d\"], [0.2, \"#de77ae\"], [0.3, \"#f1b6da\"], [0.4, \"#fde0ef\"], [0.5, \"#f7f7f7\"], [0.6, \"#e6f5d0\"], [0.7, \"#b8e186\"], [0.8, \"#7fbc41\"], [0.9, \"#4d9221\"], [1, \"#276419\"]], \"sequential\": [[0.0, \"#0d0887\"], [0.1111111111111111, \"#46039f\"], [0.2222222222222222, \"#7201a8\"], [0.3333333333333333, \"#9c179e\"], [0.4444444444444444, \"#bd3786\"], [0.5555555555555556, \"#d8576b\"], [0.6666666666666666, \"#ed7953\"], [0.7777777777777778, \"#fb9f3a\"], [0.8888888888888888, \"#fdca26\"], [1.0, \"#f0f921\"]], \"sequentialminus\": [[0.0, \"#0d0887\"], [0.1111111111111111, \"#46039f\"], [0.2222222222222222, \"#7201a8\"], [0.3333333333333333, \"#9c179e\"], [0.4444444444444444, \"#bd3786\"], [0.5555555555555556, \"#d8576b\"], [0.6666666666666666, \"#ed7953\"], [0.7777777777777778, \"#fb9f3a\"], [0.8888888888888888, \"#fdca26\"], [1.0, \"#f0f921\"]]}, \"colorway\": [\"#636efa\", \"#EF553B\", \"#00cc96\", \"#ab63fa\", \"#FFA15A\", \"#19d3f3\", \"#FF6692\", \"#B6E880\", \"#FF97FF\", \"#FECB52\"], \"font\": {\"color\": \"#2a3f5f\"}, \"geo\": {\"bgcolor\": \"white\", \"lakecolor\": \"white\", \"landcolor\": \"#E5ECF6\", \"showlakes\": true, \"showland\": true, \"subunitcolor\": \"white\"}, \"hoverlabel\": {\"align\": \"left\"}, \"hovermode\": \"closest\", \"mapbox\": {\"style\": \"light\"}, \"paper_bgcolor\": \"white\", \"plot_bgcolor\": \"#E5ECF6\", \"polar\": {\"angularaxis\": {\"gridcolor\": \"white\", \"linecolor\": \"white\", \"ticks\": \"\"}, \"bgcolor\": \"#E5ECF6\", \"radialaxis\": {\"gridcolor\": \"white\", \"linecolor\": \"white\", \"ticks\": \"\"}}, \"scene\": {\"xaxis\": {\"backgroundcolor\": \"#E5ECF6\", \"gridcolor\": \"white\", \"gridwidth\": 2, \"linecolor\": \"white\", \"showbackground\": true, \"ticks\": \"\", \"zerolinecolor\": \"white\"}, \"yaxis\": {\"backgroundcolor\": \"#E5ECF6\", \"gridcolor\": \"white\", \"gridwidth\": 2, \"linecolor\": \"white\", \"showbackground\": true, \"ticks\": \"\", \"zerolinecolor\": \"white\"}, \"zaxis\": {\"backgroundcolor\": \"#E5ECF6\", \"gridcolor\": \"white\", \"gridwidth\": 2, \"linecolor\": \"white\", \"showbackground\": true, \"ticks\": \"\", \"zerolinecolor\": \"white\"}}, \"shapedefaults\": {\"line\": {\"color\": \"#2a3f5f\"}}, \"ternary\": {\"aaxis\": {\"gridcolor\": \"white\", \"linecolor\": \"white\", \"ticks\": \"\"}, \"baxis\": {\"gridcolor\": \"white\", \"linecolor\": \"white\", \"ticks\": \"\"}, \"bgcolor\": \"#E5ECF6\", \"caxis\": {\"gridcolor\": \"white\", \"linecolor\": \"white\", \"ticks\": \"\"}}, \"title\": {\"x\": 0.05}, \"xaxis\": {\"automargin\": true, \"gridcolor\": \"white\", \"linecolor\": \"white\", \"ticks\": \"\", \"title\": {\"standoff\": 15}, \"zerolinecolor\": \"white\", \"zerolinewidth\": 2}, \"yaxis\": {\"automargin\": true, \"gridcolor\": \"white\", \"linecolor\": \"white\", \"ticks\": \"\", \"title\": {\"standoff\": 15}, \"zerolinecolor\": \"white\", \"zerolinewidth\": 2}}}, \"xaxis\": {\"anchor\": \"y\", \"domain\": [0.0, 1.0]}, \"yaxis\": {\"anchor\": \"x\", \"domain\": [0.0, 1.0], \"title\": {\"text\": \"amount_spent\"}}},                        {\"responsive\": true}                    ).then(function(){\n                            \nvar gd = document.getElementById('9f304461-581b-45d1-ab3c-0fd8a18cd5e0');\nvar x = new MutationObserver(function (mutations, observer) {{\n        var display = window.getComputedStyle(gd).display;\n        if (!display || display === 'none') {{\n            console.log([gd, 'removed!']);\n            Plotly.purge(gd);\n            observer.disconnect();\n        }}\n}});\n\n// Listen for the removal of the full notebook cells\nvar notebookContainer = gd.closest('#notebook-container');\nif (notebookContainer) {{\n    x.observe(notebookContainer, {childList: true});\n}}\n\n// Listen for the clearing of the current output cell\nvar outputEl = gd.closest('.output');\nif (outputEl) {{\n    x.observe(outputEl, {childList: true});\n}}\n\n                        })                };                });            </script>        </div>"
     },
     "metadata": {}
    }
   ],
   "source": [
    "boxplot = px.box(df, y=\"amount_spent\")\n",
    "boxplot.show()\n",
    "#py.plot(boxplot, filename = 'boxplot', auto_open=True)"
   ]
  },
  {
   "source": [
    "## Cohort Analysis"
   ],
   "cell_type": "markdown",
   "metadata": {}
  },
  {
   "cell_type": "code",
   "execution_count": 19,
   "metadata": {},
   "outputs": [],
   "source": [
    "df['order_week'] = df['order_time'].dt.to_period('W')\n",
    "df['Cohort'] = df.groupby('customer_id')['order_time'].transform('min').dt.to_period('W') \n"
   ]
  },
  {
   "cell_type": "code",
   "execution_count": 20,
   "metadata": {},
   "outputs": [
    {
     "output_type": "execute_result",
     "data": {
      "text/plain": [
       "                   Cohort             order_week  n_customers  Period Number\n",
       "0   2021-01-11/2021-01-17  2021-01-11/2021-01-17           10              0\n",
       "1   2021-01-11/2021-01-17  2021-01-18/2021-01-24            3              1\n",
       "2   2021-01-11/2021-01-17  2021-01-25/2021-01-31            1              2\n",
       "3   2021-01-11/2021-01-17  2021-02-01/2021-02-07            1              3\n",
       "4   2021-01-11/2021-01-17  2021-02-22/2021-02-28            1              6\n",
       "5   2021-01-18/2021-01-24  2021-01-18/2021-01-24           99              0\n",
       "6   2021-01-18/2021-01-24  2021-01-25/2021-01-31            9              1\n",
       "7   2021-01-18/2021-01-24  2021-02-01/2021-02-07            7              2\n",
       "8   2021-01-18/2021-01-24  2021-02-08/2021-02-14            7              3\n",
       "9   2021-01-18/2021-01-24  2021-02-15/2021-02-21            6              4\n",
       "10  2021-01-18/2021-01-24  2021-02-22/2021-02-28            8              5\n",
       "11  2021-01-18/2021-01-24  2021-03-01/2021-03-07            5              6\n",
       "12  2021-01-18/2021-01-24  2021-03-08/2021-03-14            3              7\n",
       "13  2021-01-25/2021-01-31  2021-01-25/2021-01-31          119              0\n",
       "14  2021-01-25/2021-01-31  2021-02-01/2021-02-07           11              1\n",
       "15  2021-01-25/2021-01-31  2021-02-08/2021-02-14           19              2\n",
       "16  2021-01-25/2021-01-31  2021-02-15/2021-02-21           11              3\n",
       "17  2021-01-25/2021-01-31  2021-02-22/2021-02-28           16              4\n",
       "18  2021-01-25/2021-01-31  2021-03-01/2021-03-07            4              5\n",
       "19  2021-01-25/2021-01-31  2021-03-08/2021-03-14            7              6\n",
       "20  2021-02-01/2021-02-07  2021-02-01/2021-02-07          204              0\n",
       "21  2021-02-01/2021-02-07  2021-02-08/2021-02-14           18              1\n",
       "22  2021-02-01/2021-02-07  2021-02-15/2021-02-21           18              2\n",
       "23  2021-02-01/2021-02-07  2021-02-22/2021-02-28           19              3\n",
       "24  2021-02-01/2021-02-07  2021-03-01/2021-03-07           13              4\n",
       "25  2021-02-01/2021-02-07  2021-03-08/2021-03-14           14              5\n",
       "26  2021-02-08/2021-02-14  2021-02-08/2021-02-14          205              0\n",
       "27  2021-02-08/2021-02-14  2021-02-15/2021-02-21           23              1\n",
       "28  2021-02-08/2021-02-14  2021-02-22/2021-02-28           13              2\n",
       "29  2021-02-08/2021-02-14  2021-03-01/2021-03-07           17              3\n",
       "30  2021-02-08/2021-02-14  2021-03-08/2021-03-14           15              4\n",
       "31  2021-02-15/2021-02-21  2021-02-15/2021-02-21          213              0\n",
       "32  2021-02-15/2021-02-21  2021-02-22/2021-02-28           19              1\n",
       "33  2021-02-15/2021-02-21  2021-03-01/2021-03-07           13              2\n",
       "34  2021-02-15/2021-02-21  2021-03-08/2021-03-14           10              3\n",
       "35  2021-02-22/2021-02-28  2021-02-22/2021-02-28          195              0\n",
       "36  2021-02-22/2021-02-28  2021-03-01/2021-03-07           26              1\n",
       "37  2021-02-22/2021-02-28  2021-03-08/2021-03-14           13              2\n",
       "38  2021-03-01/2021-03-07  2021-03-01/2021-03-07          241              0\n",
       "39  2021-03-01/2021-03-07  2021-03-08/2021-03-14           16              1\n",
       "40  2021-03-08/2021-03-14  2021-03-08/2021-03-14          223              0"
      ],
      "text/html": "<div>\n<style scoped>\n    .dataframe tbody tr th:only-of-type {\n        vertical-align: middle;\n    }\n\n    .dataframe tbody tr th {\n        vertical-align: top;\n    }\n\n    .dataframe thead th {\n        text-align: right;\n    }\n</style>\n<table border=\"1\" class=\"dataframe\">\n  <thead>\n    <tr style=\"text-align: right;\">\n      <th></th>\n      <th>Cohort</th>\n      <th>order_week</th>\n      <th>n_customers</th>\n      <th>Period Number</th>\n    </tr>\n  </thead>\n  <tbody>\n    <tr>\n      <th>0</th>\n      <td>2021-01-11/2021-01-17</td>\n      <td>2021-01-11/2021-01-17</td>\n      <td>10</td>\n      <td>0</td>\n    </tr>\n    <tr>\n      <th>1</th>\n      <td>2021-01-11/2021-01-17</td>\n      <td>2021-01-18/2021-01-24</td>\n      <td>3</td>\n      <td>1</td>\n    </tr>\n    <tr>\n      <th>2</th>\n      <td>2021-01-11/2021-01-17</td>\n      <td>2021-01-25/2021-01-31</td>\n      <td>1</td>\n      <td>2</td>\n    </tr>\n    <tr>\n      <th>3</th>\n      <td>2021-01-11/2021-01-17</td>\n      <td>2021-02-01/2021-02-07</td>\n      <td>1</td>\n      <td>3</td>\n    </tr>\n    <tr>\n      <th>4</th>\n      <td>2021-01-11/2021-01-17</td>\n      <td>2021-02-22/2021-02-28</td>\n      <td>1</td>\n      <td>6</td>\n    </tr>\n    <tr>\n      <th>5</th>\n      <td>2021-01-18/2021-01-24</td>\n      <td>2021-01-18/2021-01-24</td>\n      <td>99</td>\n      <td>0</td>\n    </tr>\n    <tr>\n      <th>6</th>\n      <td>2021-01-18/2021-01-24</td>\n      <td>2021-01-25/2021-01-31</td>\n      <td>9</td>\n      <td>1</td>\n    </tr>\n    <tr>\n      <th>7</th>\n      <td>2021-01-18/2021-01-24</td>\n      <td>2021-02-01/2021-02-07</td>\n      <td>7</td>\n      <td>2</td>\n    </tr>\n    <tr>\n      <th>8</th>\n      <td>2021-01-18/2021-01-24</td>\n      <td>2021-02-08/2021-02-14</td>\n      <td>7</td>\n      <td>3</td>\n    </tr>\n    <tr>\n      <th>9</th>\n      <td>2021-01-18/2021-01-24</td>\n      <td>2021-02-15/2021-02-21</td>\n      <td>6</td>\n      <td>4</td>\n    </tr>\n    <tr>\n      <th>10</th>\n      <td>2021-01-18/2021-01-24</td>\n      <td>2021-02-22/2021-02-28</td>\n      <td>8</td>\n      <td>5</td>\n    </tr>\n    <tr>\n      <th>11</th>\n      <td>2021-01-18/2021-01-24</td>\n      <td>2021-03-01/2021-03-07</td>\n      <td>5</td>\n      <td>6</td>\n    </tr>\n    <tr>\n      <th>12</th>\n      <td>2021-01-18/2021-01-24</td>\n      <td>2021-03-08/2021-03-14</td>\n      <td>3</td>\n      <td>7</td>\n    </tr>\n    <tr>\n      <th>13</th>\n      <td>2021-01-25/2021-01-31</td>\n      <td>2021-01-25/2021-01-31</td>\n      <td>119</td>\n      <td>0</td>\n    </tr>\n    <tr>\n      <th>14</th>\n      <td>2021-01-25/2021-01-31</td>\n      <td>2021-02-01/2021-02-07</td>\n      <td>11</td>\n      <td>1</td>\n    </tr>\n    <tr>\n      <th>15</th>\n      <td>2021-01-25/2021-01-31</td>\n      <td>2021-02-08/2021-02-14</td>\n      <td>19</td>\n      <td>2</td>\n    </tr>\n    <tr>\n      <th>16</th>\n      <td>2021-01-25/2021-01-31</td>\n      <td>2021-02-15/2021-02-21</td>\n      <td>11</td>\n      <td>3</td>\n    </tr>\n    <tr>\n      <th>17</th>\n      <td>2021-01-25/2021-01-31</td>\n      <td>2021-02-22/2021-02-28</td>\n      <td>16</td>\n      <td>4</td>\n    </tr>\n    <tr>\n      <th>18</th>\n      <td>2021-01-25/2021-01-31</td>\n      <td>2021-03-01/2021-03-07</td>\n      <td>4</td>\n      <td>5</td>\n    </tr>\n    <tr>\n      <th>19</th>\n      <td>2021-01-25/2021-01-31</td>\n      <td>2021-03-08/2021-03-14</td>\n      <td>7</td>\n      <td>6</td>\n    </tr>\n    <tr>\n      <th>20</th>\n      <td>2021-02-01/2021-02-07</td>\n      <td>2021-02-01/2021-02-07</td>\n      <td>204</td>\n      <td>0</td>\n    </tr>\n    <tr>\n      <th>21</th>\n      <td>2021-02-01/2021-02-07</td>\n      <td>2021-02-08/2021-02-14</td>\n      <td>18</td>\n      <td>1</td>\n    </tr>\n    <tr>\n      <th>22</th>\n      <td>2021-02-01/2021-02-07</td>\n      <td>2021-02-15/2021-02-21</td>\n      <td>18</td>\n      <td>2</td>\n    </tr>\n    <tr>\n      <th>23</th>\n      <td>2021-02-01/2021-02-07</td>\n      <td>2021-02-22/2021-02-28</td>\n      <td>19</td>\n      <td>3</td>\n    </tr>\n    <tr>\n      <th>24</th>\n      <td>2021-02-01/2021-02-07</td>\n      <td>2021-03-01/2021-03-07</td>\n      <td>13</td>\n      <td>4</td>\n    </tr>\n    <tr>\n      <th>25</th>\n      <td>2021-02-01/2021-02-07</td>\n      <td>2021-03-08/2021-03-14</td>\n      <td>14</td>\n      <td>5</td>\n    </tr>\n    <tr>\n      <th>26</th>\n      <td>2021-02-08/2021-02-14</td>\n      <td>2021-02-08/2021-02-14</td>\n      <td>205</td>\n      <td>0</td>\n    </tr>\n    <tr>\n      <th>27</th>\n      <td>2021-02-08/2021-02-14</td>\n      <td>2021-02-15/2021-02-21</td>\n      <td>23</td>\n      <td>1</td>\n    </tr>\n    <tr>\n      <th>28</th>\n      <td>2021-02-08/2021-02-14</td>\n      <td>2021-02-22/2021-02-28</td>\n      <td>13</td>\n      <td>2</td>\n    </tr>\n    <tr>\n      <th>29</th>\n      <td>2021-02-08/2021-02-14</td>\n      <td>2021-03-01/2021-03-07</td>\n      <td>17</td>\n      <td>3</td>\n    </tr>\n    <tr>\n      <th>30</th>\n      <td>2021-02-08/2021-02-14</td>\n      <td>2021-03-08/2021-03-14</td>\n      <td>15</td>\n      <td>4</td>\n    </tr>\n    <tr>\n      <th>31</th>\n      <td>2021-02-15/2021-02-21</td>\n      <td>2021-02-15/2021-02-21</td>\n      <td>213</td>\n      <td>0</td>\n    </tr>\n    <tr>\n      <th>32</th>\n      <td>2021-02-15/2021-02-21</td>\n      <td>2021-02-22/2021-02-28</td>\n      <td>19</td>\n      <td>1</td>\n    </tr>\n    <tr>\n      <th>33</th>\n      <td>2021-02-15/2021-02-21</td>\n      <td>2021-03-01/2021-03-07</td>\n      <td>13</td>\n      <td>2</td>\n    </tr>\n    <tr>\n      <th>34</th>\n      <td>2021-02-15/2021-02-21</td>\n      <td>2021-03-08/2021-03-14</td>\n      <td>10</td>\n      <td>3</td>\n    </tr>\n    <tr>\n      <th>35</th>\n      <td>2021-02-22/2021-02-28</td>\n      <td>2021-02-22/2021-02-28</td>\n      <td>195</td>\n      <td>0</td>\n    </tr>\n    <tr>\n      <th>36</th>\n      <td>2021-02-22/2021-02-28</td>\n      <td>2021-03-01/2021-03-07</td>\n      <td>26</td>\n      <td>1</td>\n    </tr>\n    <tr>\n      <th>37</th>\n      <td>2021-02-22/2021-02-28</td>\n      <td>2021-03-08/2021-03-14</td>\n      <td>13</td>\n      <td>2</td>\n    </tr>\n    <tr>\n      <th>38</th>\n      <td>2021-03-01/2021-03-07</td>\n      <td>2021-03-01/2021-03-07</td>\n      <td>241</td>\n      <td>0</td>\n    </tr>\n    <tr>\n      <th>39</th>\n      <td>2021-03-01/2021-03-07</td>\n      <td>2021-03-08/2021-03-14</td>\n      <td>16</td>\n      <td>1</td>\n    </tr>\n    <tr>\n      <th>40</th>\n      <td>2021-03-08/2021-03-14</td>\n      <td>2021-03-08/2021-03-14</td>\n      <td>223</td>\n      <td>0</td>\n    </tr>\n  </tbody>\n</table>\n</div>"
     },
     "metadata": {},
     "execution_count": 20
    }
   ],
   "source": [
    "df_Cohort = df.groupby(['Cohort', 'order_week']) \\\n",
    "              .agg(n_customers=('customer_id', 'nunique')) \\\n",
    "              .reset_index(drop=False)\n",
    "df_Cohort['Period Number'] = (df_Cohort.order_week - df_Cohort.Cohort).apply(attrgetter('n'))\n",
    "df_Cohort"
   ]
  },
  {
   "cell_type": "code",
   "execution_count": 21,
   "metadata": {},
   "outputs": [
    {
     "output_type": "execute_result",
     "data": {
      "text/plain": [
       "Period Number              0     1     2     3     4     5    6    7\n",
       "Cohort                                                              \n",
       "2021-01-11/2021-01-17   10.0   3.0   1.0   1.0   NaN   NaN  1.0  NaN\n",
       "2021-01-18/2021-01-24   99.0   9.0   7.0   7.0   6.0   8.0  5.0  3.0\n",
       "2021-01-25/2021-01-31  119.0  11.0  19.0  11.0  16.0   4.0  7.0  NaN\n",
       "2021-02-01/2021-02-07  204.0  18.0  18.0  19.0  13.0  14.0  NaN  NaN\n",
       "2021-02-08/2021-02-14  205.0  23.0  13.0  17.0  15.0   NaN  NaN  NaN\n",
       "2021-02-15/2021-02-21  213.0  19.0  13.0  10.0   NaN   NaN  NaN  NaN\n",
       "2021-02-22/2021-02-28  195.0  26.0  13.0   NaN   NaN   NaN  NaN  NaN\n",
       "2021-03-01/2021-03-07  241.0  16.0   NaN   NaN   NaN   NaN  NaN  NaN\n",
       "2021-03-08/2021-03-14  223.0   NaN   NaN   NaN   NaN   NaN  NaN  NaN"
      ],
      "text/html": "<div>\n<style scoped>\n    .dataframe tbody tr th:only-of-type {\n        vertical-align: middle;\n    }\n\n    .dataframe tbody tr th {\n        vertical-align: top;\n    }\n\n    .dataframe thead th {\n        text-align: right;\n    }\n</style>\n<table border=\"1\" class=\"dataframe\">\n  <thead>\n    <tr style=\"text-align: right;\">\n      <th>Period Number</th>\n      <th>0</th>\n      <th>1</th>\n      <th>2</th>\n      <th>3</th>\n      <th>4</th>\n      <th>5</th>\n      <th>6</th>\n      <th>7</th>\n    </tr>\n    <tr>\n      <th>Cohort</th>\n      <th></th>\n      <th></th>\n      <th></th>\n      <th></th>\n      <th></th>\n      <th></th>\n      <th></th>\n      <th></th>\n    </tr>\n  </thead>\n  <tbody>\n    <tr>\n      <th>2021-01-11/2021-01-17</th>\n      <td>10.0</td>\n      <td>3.0</td>\n      <td>1.0</td>\n      <td>1.0</td>\n      <td>NaN</td>\n      <td>NaN</td>\n      <td>1.0</td>\n      <td>NaN</td>\n    </tr>\n    <tr>\n      <th>2021-01-18/2021-01-24</th>\n      <td>99.0</td>\n      <td>9.0</td>\n      <td>7.0</td>\n      <td>7.0</td>\n      <td>6.0</td>\n      <td>8.0</td>\n      <td>5.0</td>\n      <td>3.0</td>\n    </tr>\n    <tr>\n      <th>2021-01-25/2021-01-31</th>\n      <td>119.0</td>\n      <td>11.0</td>\n      <td>19.0</td>\n      <td>11.0</td>\n      <td>16.0</td>\n      <td>4.0</td>\n      <td>7.0</td>\n      <td>NaN</td>\n    </tr>\n    <tr>\n      <th>2021-02-01/2021-02-07</th>\n      <td>204.0</td>\n      <td>18.0</td>\n      <td>18.0</td>\n      <td>19.0</td>\n      <td>13.0</td>\n      <td>14.0</td>\n      <td>NaN</td>\n      <td>NaN</td>\n    </tr>\n    <tr>\n      <th>2021-02-08/2021-02-14</th>\n      <td>205.0</td>\n      <td>23.0</td>\n      <td>13.0</td>\n      <td>17.0</td>\n      <td>15.0</td>\n      <td>NaN</td>\n      <td>NaN</td>\n      <td>NaN</td>\n    </tr>\n    <tr>\n      <th>2021-02-15/2021-02-21</th>\n      <td>213.0</td>\n      <td>19.0</td>\n      <td>13.0</td>\n      <td>10.0</td>\n      <td>NaN</td>\n      <td>NaN</td>\n      <td>NaN</td>\n      <td>NaN</td>\n    </tr>\n    <tr>\n      <th>2021-02-22/2021-02-28</th>\n      <td>195.0</td>\n      <td>26.0</td>\n      <td>13.0</td>\n      <td>NaN</td>\n      <td>NaN</td>\n      <td>NaN</td>\n      <td>NaN</td>\n      <td>NaN</td>\n    </tr>\n    <tr>\n      <th>2021-03-01/2021-03-07</th>\n      <td>241.0</td>\n      <td>16.0</td>\n      <td>NaN</td>\n      <td>NaN</td>\n      <td>NaN</td>\n      <td>NaN</td>\n      <td>NaN</td>\n      <td>NaN</td>\n    </tr>\n    <tr>\n      <th>2021-03-08/2021-03-14</th>\n      <td>223.0</td>\n      <td>NaN</td>\n      <td>NaN</td>\n      <td>NaN</td>\n      <td>NaN</td>\n      <td>NaN</td>\n      <td>NaN</td>\n      <td>NaN</td>\n    </tr>\n  </tbody>\n</table>\n</div>"
     },
     "metadata": {},
     "execution_count": 21
    }
   ],
   "source": [
    "cohort_pivot = df_Cohort.pivot_table(index = 'Cohort',\n",
    "                                     columns = 'Period Number',\n",
    "                                     values = 'n_customers')\n",
    "cohort_pivot"
   ]
  },
  {
   "cell_type": "code",
   "execution_count": 22,
   "metadata": {},
   "outputs": [
    {
     "output_type": "execute_result",
     "data": {
      "text/plain": [
       "Period Number            0         1         2         3         4         5  \\\n",
       "Cohort                                                                         \n",
       "2021-01-11/2021-01-17  1.0  0.300000  0.100000  0.100000  0.000000  0.000000   \n",
       "2021-01-18/2021-01-24  1.0  0.090909  0.070707  0.070707  0.060606  0.080808   \n",
       "2021-01-25/2021-01-31  1.0  0.092437  0.159664  0.092437  0.134454  0.033613   \n",
       "2021-02-01/2021-02-07  1.0  0.088235  0.088235  0.093137  0.063725  0.068627   \n",
       "2021-02-08/2021-02-14  1.0  0.112195  0.063415  0.082927  0.073171       NaN   \n",
       "2021-02-15/2021-02-21  1.0  0.089202  0.061033  0.046948       NaN       NaN   \n",
       "2021-02-22/2021-02-28  1.0  0.133333  0.066667       NaN       NaN       NaN   \n",
       "2021-03-01/2021-03-07  1.0  0.066390       NaN       NaN       NaN       NaN   \n",
       "2021-03-08/2021-03-14  1.0       NaN       NaN       NaN       NaN       NaN   \n",
       "\n",
       "Period Number                 6         7    8  \n",
       "Cohort                                          \n",
       "2021-01-11/2021-01-17  0.100000  0.000000  0.0  \n",
       "2021-01-18/2021-01-24  0.050505  0.030303  NaN  \n",
       "2021-01-25/2021-01-31  0.058824       NaN  NaN  \n",
       "2021-02-01/2021-02-07       NaN       NaN  NaN  \n",
       "2021-02-08/2021-02-14       NaN       NaN  NaN  \n",
       "2021-02-15/2021-02-21       NaN       NaN  NaN  \n",
       "2021-02-22/2021-02-28       NaN       NaN  NaN  \n",
       "2021-03-01/2021-03-07       NaN       NaN  NaN  \n",
       "2021-03-08/2021-03-14       NaN       NaN  NaN  "
      ],
      "text/html": "<div>\n<style scoped>\n    .dataframe tbody tr th:only-of-type {\n        vertical-align: middle;\n    }\n\n    .dataframe tbody tr th {\n        vertical-align: top;\n    }\n\n    .dataframe thead th {\n        text-align: right;\n    }\n</style>\n<table border=\"1\" class=\"dataframe\">\n  <thead>\n    <tr style=\"text-align: right;\">\n      <th>Period Number</th>\n      <th>0</th>\n      <th>1</th>\n      <th>2</th>\n      <th>3</th>\n      <th>4</th>\n      <th>5</th>\n      <th>6</th>\n      <th>7</th>\n      <th>8</th>\n    </tr>\n    <tr>\n      <th>Cohort</th>\n      <th></th>\n      <th></th>\n      <th></th>\n      <th></th>\n      <th></th>\n      <th></th>\n      <th></th>\n      <th></th>\n      <th></th>\n    </tr>\n  </thead>\n  <tbody>\n    <tr>\n      <th>2021-01-11/2021-01-17</th>\n      <td>1.0</td>\n      <td>0.300000</td>\n      <td>0.100000</td>\n      <td>0.100000</td>\n      <td>0.000000</td>\n      <td>0.000000</td>\n      <td>0.100000</td>\n      <td>0.000000</td>\n      <td>0.0</td>\n    </tr>\n    <tr>\n      <th>2021-01-18/2021-01-24</th>\n      <td>1.0</td>\n      <td>0.090909</td>\n      <td>0.070707</td>\n      <td>0.070707</td>\n      <td>0.060606</td>\n      <td>0.080808</td>\n      <td>0.050505</td>\n      <td>0.030303</td>\n      <td>NaN</td>\n    </tr>\n    <tr>\n      <th>2021-01-25/2021-01-31</th>\n      <td>1.0</td>\n      <td>0.092437</td>\n      <td>0.159664</td>\n      <td>0.092437</td>\n      <td>0.134454</td>\n      <td>0.033613</td>\n      <td>0.058824</td>\n      <td>NaN</td>\n      <td>NaN</td>\n    </tr>\n    <tr>\n      <th>2021-02-01/2021-02-07</th>\n      <td>1.0</td>\n      <td>0.088235</td>\n      <td>0.088235</td>\n      <td>0.093137</td>\n      <td>0.063725</td>\n      <td>0.068627</td>\n      <td>NaN</td>\n      <td>NaN</td>\n      <td>NaN</td>\n    </tr>\n    <tr>\n      <th>2021-02-08/2021-02-14</th>\n      <td>1.0</td>\n      <td>0.112195</td>\n      <td>0.063415</td>\n      <td>0.082927</td>\n      <td>0.073171</td>\n      <td>NaN</td>\n      <td>NaN</td>\n      <td>NaN</td>\n      <td>NaN</td>\n    </tr>\n    <tr>\n      <th>2021-02-15/2021-02-21</th>\n      <td>1.0</td>\n      <td>0.089202</td>\n      <td>0.061033</td>\n      <td>0.046948</td>\n      <td>NaN</td>\n      <td>NaN</td>\n      <td>NaN</td>\n      <td>NaN</td>\n      <td>NaN</td>\n    </tr>\n    <tr>\n      <th>2021-02-22/2021-02-28</th>\n      <td>1.0</td>\n      <td>0.133333</td>\n      <td>0.066667</td>\n      <td>NaN</td>\n      <td>NaN</td>\n      <td>NaN</td>\n      <td>NaN</td>\n      <td>NaN</td>\n      <td>NaN</td>\n    </tr>\n    <tr>\n      <th>2021-03-01/2021-03-07</th>\n      <td>1.0</td>\n      <td>0.066390</td>\n      <td>NaN</td>\n      <td>NaN</td>\n      <td>NaN</td>\n      <td>NaN</td>\n      <td>NaN</td>\n      <td>NaN</td>\n      <td>NaN</td>\n    </tr>\n    <tr>\n      <th>2021-03-08/2021-03-14</th>\n      <td>1.0</td>\n      <td>NaN</td>\n      <td>NaN</td>\n      <td>NaN</td>\n      <td>NaN</td>\n      <td>NaN</td>\n      <td>NaN</td>\n      <td>NaN</td>\n      <td>NaN</td>\n    </tr>\n  </tbody>\n</table>\n</div>"
     },
     "metadata": {},
     "execution_count": 22
    }
   ],
   "source": [
    "cohort_size = cohort_pivot.iloc[:,0]\n",
    "retention_matrix = cohort_pivot.divide(cohort_size, axis = 0)\n",
    "#retention_matrix\n",
    "retention_matrix.loc[retention_matrix.index[0], 4] = 0\n",
    "retention_matrix.loc[retention_matrix.index[0], 5] = 0\n",
    "retention_matrix.loc[retention_matrix.index[0], 7] = 0\n",
    "retention_matrix.loc[retention_matrix.index[0], 8] = 0\n",
    "\n",
    "retention_matrix"
   ]
  },
  {
   "cell_type": "code",
   "execution_count": 23,
   "metadata": {},
   "outputs": [
    {
     "output_type": "display_data",
     "data": {
      "text/plain": "<Figure size 864x576 with 3 Axes>",
      "image/svg+xml": "<?xml version=\"1.0\" encoding=\"utf-8\" standalone=\"no\"?>\n<!DOCTYPE svg PUBLIC \"-//W3C//DTD SVG 1.1//EN\"\n  \"http://www.w3.org/Graphics/SVG/1.1/DTD/svg11.dtd\">\n<svg height=\"570.235625pt\" version=\"1.1\" viewBox=\"0 0 829.010156 570.235625\" width=\"829.010156pt\" xmlns=\"http://www.w3.org/2000/svg\" xmlns:xlink=\"http://www.w3.org/1999/xlink\">\n <metadata>\n  <rdf:RDF xmlns:cc=\"http://creativecommons.org/ns#\" xmlns:dc=\"http://purl.org/dc/elements/1.1/\" xmlns:rdf=\"http://www.w3.org/1999/02/22-rdf-syntax-ns#\">\n   <cc:Work>\n    <dc:type rdf:resource=\"http://purl.org/dc/dcmitype/StillImage\"/>\n    <dc:date>2021-04-05T15:00:45.584544</dc:date>\n    <dc:format>image/svg+xml</dc:format>\n    <dc:creator>\n     <cc:Agent>\n      <dc:title>Matplotlib v3.4.1, https://matplotlib.org/</dc:title>\n     </cc:Agent>\n    </dc:creator>\n   </cc:Work>\n  </rdf:RDF>\n </metadata>\n <defs>\n  <style type=\"text/css\">*{stroke-linecap:butt;stroke-linejoin:round;}</style>\n </defs>\n <g id=\"figure_1\">\n  <g id=\"patch_1\">\n   <path d=\"M 0 570.235625 \nL 829.010156 570.235625 \nL 829.010156 0 \nL 0 0 \nz\n\" style=\"fill:#ffffff;\"/>\n  </g>\n  <g id=\"axes_1\">\n   <g id=\"patch_2\">\n    <path d=\"M 147.478125 532.679375 \nL 206.235511 532.679375 \nL 206.235511 25.3575 \nL 147.478125 25.3575 \nz\n\" style=\"fill:#ffffff;\"/>\n   </g>\n   <g id=\"matplotlib.axis_1\">\n    <g id=\"xtick_1\">\n     <g id=\"text_1\">\n      <!-- Cohort Size -->\n      <g style=\"fill:#262626;\" transform=\"translate(148.209162 547.277812)scale(0.1 -0.1)\">\n       <defs>\n        <path d=\"M 4122 4306 \nL 4122 3641 \nQ 3803 3938 3442 4084 \nQ 3081 4231 2675 4231 \nQ 1875 4231 1450 3742 \nQ 1025 3253 1025 2328 \nQ 1025 1406 1450 917 \nQ 1875 428 2675 428 \nQ 3081 428 3442 575 \nQ 3803 722 4122 1019 \nL 4122 359 \nQ 3791 134 3420 21 \nQ 3050 -91 2638 -91 \nQ 1578 -91 968 557 \nQ 359 1206 359 2328 \nQ 359 3453 968 4101 \nQ 1578 4750 2638 4750 \nQ 3056 4750 3426 4639 \nQ 3797 4528 4122 4306 \nz\n\" id=\"DejaVuSans-43\" transform=\"scale(0.015625)\"/>\n        <path d=\"M 1959 3097 \nQ 1497 3097 1228 2736 \nQ 959 2375 959 1747 \nQ 959 1119 1226 758 \nQ 1494 397 1959 397 \nQ 2419 397 2687 759 \nQ 2956 1122 2956 1747 \nQ 2956 2369 2687 2733 \nQ 2419 3097 1959 3097 \nz\nM 1959 3584 \nQ 2709 3584 3137 3096 \nQ 3566 2609 3566 1747 \nQ 3566 888 3137 398 \nQ 2709 -91 1959 -91 \nQ 1206 -91 779 398 \nQ 353 888 353 1747 \nQ 353 2609 779 3096 \nQ 1206 3584 1959 3584 \nz\n\" id=\"DejaVuSans-6f\" transform=\"scale(0.015625)\"/>\n        <path d=\"M 3513 2113 \nL 3513 0 \nL 2938 0 \nL 2938 2094 \nQ 2938 2591 2744 2837 \nQ 2550 3084 2163 3084 \nQ 1697 3084 1428 2787 \nQ 1159 2491 1159 1978 \nL 1159 0 \nL 581 0 \nL 581 4863 \nL 1159 4863 \nL 1159 2956 \nQ 1366 3272 1645 3428 \nQ 1925 3584 2291 3584 \nQ 2894 3584 3203 3211 \nQ 3513 2838 3513 2113 \nz\n\" id=\"DejaVuSans-68\" transform=\"scale(0.015625)\"/>\n        <path d=\"M 2631 2963 \nQ 2534 3019 2420 3045 \nQ 2306 3072 2169 3072 \nQ 1681 3072 1420 2755 \nQ 1159 2438 1159 1844 \nL 1159 0 \nL 581 0 \nL 581 3500 \nL 1159 3500 \nL 1159 2956 \nQ 1341 3275 1631 3429 \nQ 1922 3584 2338 3584 \nQ 2397 3584 2469 3576 \nQ 2541 3569 2628 3553 \nL 2631 2963 \nz\n\" id=\"DejaVuSans-72\" transform=\"scale(0.015625)\"/>\n        <path d=\"M 1172 4494 \nL 1172 3500 \nL 2356 3500 \nL 2356 3053 \nL 1172 3053 \nL 1172 1153 \nQ 1172 725 1289 603 \nQ 1406 481 1766 481 \nL 2356 481 \nL 2356 0 \nL 1766 0 \nQ 1100 0 847 248 \nQ 594 497 594 1153 \nL 594 3053 \nL 172 3053 \nL 172 3500 \nL 594 3500 \nL 594 4494 \nL 1172 4494 \nz\n\" id=\"DejaVuSans-74\" transform=\"scale(0.015625)\"/>\n        <path id=\"DejaVuSans-20\" transform=\"scale(0.015625)\"/>\n        <path d=\"M 3425 4513 \nL 3425 3897 \nQ 3066 4069 2747 4153 \nQ 2428 4238 2131 4238 \nQ 1616 4238 1336 4038 \nQ 1056 3838 1056 3469 \nQ 1056 3159 1242 3001 \nQ 1428 2844 1947 2747 \nL 2328 2669 \nQ 3034 2534 3370 2195 \nQ 3706 1856 3706 1288 \nQ 3706 609 3251 259 \nQ 2797 -91 1919 -91 \nQ 1588 -91 1214 -16 \nQ 841 59 441 206 \nL 441 856 \nQ 825 641 1194 531 \nQ 1563 422 1919 422 \nQ 2459 422 2753 634 \nQ 3047 847 3047 1241 \nQ 3047 1584 2836 1778 \nQ 2625 1972 2144 2069 \nL 1759 2144 \nQ 1053 2284 737 2584 \nQ 422 2884 422 3419 \nQ 422 4038 858 4394 \nQ 1294 4750 2059 4750 \nQ 2388 4750 2728 4690 \nQ 3069 4631 3425 4513 \nz\n\" id=\"DejaVuSans-53\" transform=\"scale(0.015625)\"/>\n        <path d=\"M 603 3500 \nL 1178 3500 \nL 1178 0 \nL 603 0 \nL 603 3500 \nz\nM 603 4863 \nL 1178 4863 \nL 1178 4134 \nL 603 4134 \nL 603 4863 \nz\n\" id=\"DejaVuSans-69\" transform=\"scale(0.015625)\"/>\n        <path d=\"M 353 3500 \nL 3084 3500 \nL 3084 2975 \nL 922 459 \nL 3084 459 \nL 3084 0 \nL 275 0 \nL 275 525 \nL 2438 3041 \nL 353 3041 \nL 353 3500 \nz\n\" id=\"DejaVuSans-7a\" transform=\"scale(0.015625)\"/>\n        <path d=\"M 3597 1894 \nL 3597 1613 \nL 953 1613 \nQ 991 1019 1311 708 \nQ 1631 397 2203 397 \nQ 2534 397 2845 478 \nQ 3156 559 3463 722 \nL 3463 178 \nQ 3153 47 2828 -22 \nQ 2503 -91 2169 -91 \nQ 1331 -91 842 396 \nQ 353 884 353 1716 \nQ 353 2575 817 3079 \nQ 1281 3584 2069 3584 \nQ 2775 3584 3186 3129 \nQ 3597 2675 3597 1894 \nz\nM 3022 2063 \nQ 3016 2534 2758 2815 \nQ 2500 3097 2075 3097 \nQ 1594 3097 1305 2825 \nQ 1016 2553 972 2059 \nL 3022 2063 \nz\n\" id=\"DejaVuSans-65\" transform=\"scale(0.015625)\"/>\n       </defs>\n       <use xlink:href=\"#DejaVuSans-43\"/>\n       <use x=\"69.824219\" xlink:href=\"#DejaVuSans-6f\"/>\n       <use x=\"131.005859\" xlink:href=\"#DejaVuSans-68\"/>\n       <use x=\"194.384766\" xlink:href=\"#DejaVuSans-6f\"/>\n       <use x=\"255.566406\" xlink:href=\"#DejaVuSans-72\"/>\n       <use x=\"296.679688\" xlink:href=\"#DejaVuSans-74\"/>\n       <use x=\"335.888672\" xlink:href=\"#DejaVuSans-20\"/>\n       <use x=\"367.675781\" xlink:href=\"#DejaVuSans-53\"/>\n       <use x=\"431.152344\" xlink:href=\"#DejaVuSans-69\"/>\n       <use x=\"458.935547\" xlink:href=\"#DejaVuSans-7a\"/>\n       <use x=\"511.425781\" xlink:href=\"#DejaVuSans-65\"/>\n      </g>\n     </g>\n    </g>\n   </g>\n   <g id=\"matplotlib.axis_2\">\n    <g id=\"ytick_1\">\n     <g id=\"text_2\">\n      <!-- 2021-01-11/2021-01-17 -->\n      <g style=\"fill:#262626;\" transform=\"translate(20.878125 57.341267)scale(0.1 -0.1)\">\n       <defs>\n        <path d=\"M 1228 531 \nL 3431 531 \nL 3431 0 \nL 469 0 \nL 469 531 \nQ 828 903 1448 1529 \nQ 2069 2156 2228 2338 \nQ 2531 2678 2651 2914 \nQ 2772 3150 2772 3378 \nQ 2772 3750 2511 3984 \nQ 2250 4219 1831 4219 \nQ 1534 4219 1204 4116 \nQ 875 4013 500 3803 \nL 500 4441 \nQ 881 4594 1212 4672 \nQ 1544 4750 1819 4750 \nQ 2544 4750 2975 4387 \nQ 3406 4025 3406 3419 \nQ 3406 3131 3298 2873 \nQ 3191 2616 2906 2266 \nQ 2828 2175 2409 1742 \nQ 1991 1309 1228 531 \nz\n\" id=\"DejaVuSans-32\" transform=\"scale(0.015625)\"/>\n        <path d=\"M 2034 4250 \nQ 1547 4250 1301 3770 \nQ 1056 3291 1056 2328 \nQ 1056 1369 1301 889 \nQ 1547 409 2034 409 \nQ 2525 409 2770 889 \nQ 3016 1369 3016 2328 \nQ 3016 3291 2770 3770 \nQ 2525 4250 2034 4250 \nz\nM 2034 4750 \nQ 2819 4750 3233 4129 \nQ 3647 3509 3647 2328 \nQ 3647 1150 3233 529 \nQ 2819 -91 2034 -91 \nQ 1250 -91 836 529 \nQ 422 1150 422 2328 \nQ 422 3509 836 4129 \nQ 1250 4750 2034 4750 \nz\n\" id=\"DejaVuSans-30\" transform=\"scale(0.015625)\"/>\n        <path d=\"M 794 531 \nL 1825 531 \nL 1825 4091 \nL 703 3866 \nL 703 4441 \nL 1819 4666 \nL 2450 4666 \nL 2450 531 \nL 3481 531 \nL 3481 0 \nL 794 0 \nL 794 531 \nz\n\" id=\"DejaVuSans-31\" transform=\"scale(0.015625)\"/>\n        <path d=\"M 313 2009 \nL 1997 2009 \nL 1997 1497 \nL 313 1497 \nL 313 2009 \nz\n\" id=\"DejaVuSans-2d\" transform=\"scale(0.015625)\"/>\n        <path d=\"M 1625 4666 \nL 2156 4666 \nL 531 -594 \nL 0 -594 \nL 1625 4666 \nz\n\" id=\"DejaVuSans-2f\" transform=\"scale(0.015625)\"/>\n        <path d=\"M 525 4666 \nL 3525 4666 \nL 3525 4397 \nL 1831 0 \nL 1172 0 \nL 2766 4134 \nL 525 4134 \nL 525 4666 \nz\n\" id=\"DejaVuSans-37\" transform=\"scale(0.015625)\"/>\n       </defs>\n       <use xlink:href=\"#DejaVuSans-32\"/>\n       <use x=\"63.623047\" xlink:href=\"#DejaVuSans-30\"/>\n       <use x=\"127.246094\" xlink:href=\"#DejaVuSans-32\"/>\n       <use x=\"190.869141\" xlink:href=\"#DejaVuSans-31\"/>\n       <use x=\"254.492188\" xlink:href=\"#DejaVuSans-2d\"/>\n       <use x=\"290.576172\" xlink:href=\"#DejaVuSans-30\"/>\n       <use x=\"354.199219\" xlink:href=\"#DejaVuSans-31\"/>\n       <use x=\"417.822266\" xlink:href=\"#DejaVuSans-2d\"/>\n       <use x=\"453.90625\" xlink:href=\"#DejaVuSans-31\"/>\n       <use x=\"517.529297\" xlink:href=\"#DejaVuSans-31\"/>\n       <use x=\"581.152344\" xlink:href=\"#DejaVuSans-2f\"/>\n       <use x=\"614.84375\" xlink:href=\"#DejaVuSans-32\"/>\n       <use x=\"678.466797\" xlink:href=\"#DejaVuSans-30\"/>\n       <use x=\"742.089844\" xlink:href=\"#DejaVuSans-32\"/>\n       <use x=\"805.712891\" xlink:href=\"#DejaVuSans-31\"/>\n       <use x=\"869.335938\" xlink:href=\"#DejaVuSans-2d\"/>\n       <use x=\"905.419922\" xlink:href=\"#DejaVuSans-30\"/>\n       <use x=\"969.042969\" xlink:href=\"#DejaVuSans-31\"/>\n       <use x=\"1032.666016\" xlink:href=\"#DejaVuSans-2d\"/>\n       <use x=\"1068.75\" xlink:href=\"#DejaVuSans-31\"/>\n       <use x=\"1132.373047\" xlink:href=\"#DejaVuSans-37\"/>\n      </g>\n     </g>\n    </g>\n    <g id=\"ytick_2\">\n     <g id=\"text_3\">\n      <!-- 2021-01-18/2021-01-24 -->\n      <g style=\"fill:#262626;\" transform=\"translate(20.878125 113.710365)scale(0.1 -0.1)\">\n       <defs>\n        <path d=\"M 2034 2216 \nQ 1584 2216 1326 1975 \nQ 1069 1734 1069 1313 \nQ 1069 891 1326 650 \nQ 1584 409 2034 409 \nQ 2484 409 2743 651 \nQ 3003 894 3003 1313 \nQ 3003 1734 2745 1975 \nQ 2488 2216 2034 2216 \nz\nM 1403 2484 \nQ 997 2584 770 2862 \nQ 544 3141 544 3541 \nQ 544 4100 942 4425 \nQ 1341 4750 2034 4750 \nQ 2731 4750 3128 4425 \nQ 3525 4100 3525 3541 \nQ 3525 3141 3298 2862 \nQ 3072 2584 2669 2484 \nQ 3125 2378 3379 2068 \nQ 3634 1759 3634 1313 \nQ 3634 634 3220 271 \nQ 2806 -91 2034 -91 \nQ 1263 -91 848 271 \nQ 434 634 434 1313 \nQ 434 1759 690 2068 \nQ 947 2378 1403 2484 \nz\nM 1172 3481 \nQ 1172 3119 1398 2916 \nQ 1625 2713 2034 2713 \nQ 2441 2713 2670 2916 \nQ 2900 3119 2900 3481 \nQ 2900 3844 2670 4047 \nQ 2441 4250 2034 4250 \nQ 1625 4250 1398 4047 \nQ 1172 3844 1172 3481 \nz\n\" id=\"DejaVuSans-38\" transform=\"scale(0.015625)\"/>\n        <path d=\"M 2419 4116 \nL 825 1625 \nL 2419 1625 \nL 2419 4116 \nz\nM 2253 4666 \nL 3047 4666 \nL 3047 1625 \nL 3713 1625 \nL 3713 1100 \nL 3047 1100 \nL 3047 0 \nL 2419 0 \nL 2419 1100 \nL 313 1100 \nL 313 1709 \nL 2253 4666 \nz\n\" id=\"DejaVuSans-34\" transform=\"scale(0.015625)\"/>\n       </defs>\n       <use xlink:href=\"#DejaVuSans-32\"/>\n       <use x=\"63.623047\" xlink:href=\"#DejaVuSans-30\"/>\n       <use x=\"127.246094\" xlink:href=\"#DejaVuSans-32\"/>\n       <use x=\"190.869141\" xlink:href=\"#DejaVuSans-31\"/>\n       <use x=\"254.492188\" xlink:href=\"#DejaVuSans-2d\"/>\n       <use x=\"290.576172\" xlink:href=\"#DejaVuSans-30\"/>\n       <use x=\"354.199219\" xlink:href=\"#DejaVuSans-31\"/>\n       <use x=\"417.822266\" xlink:href=\"#DejaVuSans-2d\"/>\n       <use x=\"453.90625\" xlink:href=\"#DejaVuSans-31\"/>\n       <use x=\"517.529297\" xlink:href=\"#DejaVuSans-38\"/>\n       <use x=\"581.152344\" xlink:href=\"#DejaVuSans-2f\"/>\n       <use x=\"614.84375\" xlink:href=\"#DejaVuSans-32\"/>\n       <use x=\"678.466797\" xlink:href=\"#DejaVuSans-30\"/>\n       <use x=\"742.089844\" xlink:href=\"#DejaVuSans-32\"/>\n       <use x=\"805.712891\" xlink:href=\"#DejaVuSans-31\"/>\n       <use x=\"869.335938\" xlink:href=\"#DejaVuSans-2d\"/>\n       <use x=\"905.419922\" xlink:href=\"#DejaVuSans-30\"/>\n       <use x=\"969.042969\" xlink:href=\"#DejaVuSans-31\"/>\n       <use x=\"1032.666016\" xlink:href=\"#DejaVuSans-2d\"/>\n       <use x=\"1068.75\" xlink:href=\"#DejaVuSans-32\"/>\n       <use x=\"1132.373047\" xlink:href=\"#DejaVuSans-34\"/>\n      </g>\n     </g>\n    </g>\n    <g id=\"ytick_3\">\n     <g id=\"text_4\">\n      <!-- 2021-01-25/2021-01-31 -->\n      <g style=\"fill:#262626;\" transform=\"translate(20.878125 170.079462)scale(0.1 -0.1)\">\n       <defs>\n        <path d=\"M 691 4666 \nL 3169 4666 \nL 3169 4134 \nL 1269 4134 \nL 1269 2991 \nQ 1406 3038 1543 3061 \nQ 1681 3084 1819 3084 \nQ 2600 3084 3056 2656 \nQ 3513 2228 3513 1497 \nQ 3513 744 3044 326 \nQ 2575 -91 1722 -91 \nQ 1428 -91 1123 -41 \nQ 819 9 494 109 \nL 494 744 \nQ 775 591 1075 516 \nQ 1375 441 1709 441 \nQ 2250 441 2565 725 \nQ 2881 1009 2881 1497 \nQ 2881 1984 2565 2268 \nQ 2250 2553 1709 2553 \nQ 1456 2553 1204 2497 \nQ 953 2441 691 2322 \nL 691 4666 \nz\n\" id=\"DejaVuSans-35\" transform=\"scale(0.015625)\"/>\n        <path d=\"M 2597 2516 \nQ 3050 2419 3304 2112 \nQ 3559 1806 3559 1356 \nQ 3559 666 3084 287 \nQ 2609 -91 1734 -91 \nQ 1441 -91 1130 -33 \nQ 819 25 488 141 \nL 488 750 \nQ 750 597 1062 519 \nQ 1375 441 1716 441 \nQ 2309 441 2620 675 \nQ 2931 909 2931 1356 \nQ 2931 1769 2642 2001 \nQ 2353 2234 1838 2234 \nL 1294 2234 \nL 1294 2753 \nL 1863 2753 \nQ 2328 2753 2575 2939 \nQ 2822 3125 2822 3475 \nQ 2822 3834 2567 4026 \nQ 2313 4219 1838 4219 \nQ 1578 4219 1281 4162 \nQ 984 4106 628 3988 \nL 628 4550 \nQ 988 4650 1302 4700 \nQ 1616 4750 1894 4750 \nQ 2613 4750 3031 4423 \nQ 3450 4097 3450 3541 \nQ 3450 3153 3228 2886 \nQ 3006 2619 2597 2516 \nz\n\" id=\"DejaVuSans-33\" transform=\"scale(0.015625)\"/>\n       </defs>\n       <use xlink:href=\"#DejaVuSans-32\"/>\n       <use x=\"63.623047\" xlink:href=\"#DejaVuSans-30\"/>\n       <use x=\"127.246094\" xlink:href=\"#DejaVuSans-32\"/>\n       <use x=\"190.869141\" xlink:href=\"#DejaVuSans-31\"/>\n       <use x=\"254.492188\" xlink:href=\"#DejaVuSans-2d\"/>\n       <use x=\"290.576172\" xlink:href=\"#DejaVuSans-30\"/>\n       <use x=\"354.199219\" xlink:href=\"#DejaVuSans-31\"/>\n       <use x=\"417.822266\" xlink:href=\"#DejaVuSans-2d\"/>\n       <use x=\"453.90625\" xlink:href=\"#DejaVuSans-32\"/>\n       <use x=\"517.529297\" xlink:href=\"#DejaVuSans-35\"/>\n       <use x=\"581.152344\" xlink:href=\"#DejaVuSans-2f\"/>\n       <use x=\"614.84375\" xlink:href=\"#DejaVuSans-32\"/>\n       <use x=\"678.466797\" xlink:href=\"#DejaVuSans-30\"/>\n       <use x=\"742.089844\" xlink:href=\"#DejaVuSans-32\"/>\n       <use x=\"805.712891\" xlink:href=\"#DejaVuSans-31\"/>\n       <use x=\"869.335938\" xlink:href=\"#DejaVuSans-2d\"/>\n       <use x=\"905.419922\" xlink:href=\"#DejaVuSans-30\"/>\n       <use x=\"969.042969\" xlink:href=\"#DejaVuSans-31\"/>\n       <use x=\"1032.666016\" xlink:href=\"#DejaVuSans-2d\"/>\n       <use x=\"1068.75\" xlink:href=\"#DejaVuSans-33\"/>\n       <use x=\"1132.373047\" xlink:href=\"#DejaVuSans-31\"/>\n      </g>\n     </g>\n    </g>\n    <g id=\"ytick_4\">\n     <g id=\"text_5\">\n      <!-- 2021-02-01/2021-02-07 -->\n      <g style=\"fill:#262626;\" transform=\"translate(20.878125 226.448559)scale(0.1 -0.1)\">\n       <use xlink:href=\"#DejaVuSans-32\"/>\n       <use x=\"63.623047\" xlink:href=\"#DejaVuSans-30\"/>\n       <use x=\"127.246094\" xlink:href=\"#DejaVuSans-32\"/>\n       <use x=\"190.869141\" xlink:href=\"#DejaVuSans-31\"/>\n       <use x=\"254.492188\" xlink:href=\"#DejaVuSans-2d\"/>\n       <use x=\"290.576172\" xlink:href=\"#DejaVuSans-30\"/>\n       <use x=\"354.199219\" xlink:href=\"#DejaVuSans-32\"/>\n       <use x=\"417.822266\" xlink:href=\"#DejaVuSans-2d\"/>\n       <use x=\"453.90625\" xlink:href=\"#DejaVuSans-30\"/>\n       <use x=\"517.529297\" xlink:href=\"#DejaVuSans-31\"/>\n       <use x=\"581.152344\" xlink:href=\"#DejaVuSans-2f\"/>\n       <use x=\"614.84375\" xlink:href=\"#DejaVuSans-32\"/>\n       <use x=\"678.466797\" xlink:href=\"#DejaVuSans-30\"/>\n       <use x=\"742.089844\" xlink:href=\"#DejaVuSans-32\"/>\n       <use x=\"805.712891\" xlink:href=\"#DejaVuSans-31\"/>\n       <use x=\"869.335938\" xlink:href=\"#DejaVuSans-2d\"/>\n       <use x=\"905.419922\" xlink:href=\"#DejaVuSans-30\"/>\n       <use x=\"969.042969\" xlink:href=\"#DejaVuSans-32\"/>\n       <use x=\"1032.666016\" xlink:href=\"#DejaVuSans-2d\"/>\n       <use x=\"1068.75\" xlink:href=\"#DejaVuSans-30\"/>\n       <use x=\"1132.373047\" xlink:href=\"#DejaVuSans-37\"/>\n      </g>\n     </g>\n    </g>\n    <g id=\"ytick_5\">\n     <g id=\"text_6\">\n      <!-- 2021-02-08/2021-02-14 -->\n      <g style=\"fill:#262626;\" transform=\"translate(20.878125 282.817656)scale(0.1 -0.1)\">\n       <use xlink:href=\"#DejaVuSans-32\"/>\n       <use x=\"63.623047\" xlink:href=\"#DejaVuSans-30\"/>\n       <use x=\"127.246094\" xlink:href=\"#DejaVuSans-32\"/>\n       <use x=\"190.869141\" xlink:href=\"#DejaVuSans-31\"/>\n       <use x=\"254.492188\" xlink:href=\"#DejaVuSans-2d\"/>\n       <use x=\"290.576172\" xlink:href=\"#DejaVuSans-30\"/>\n       <use x=\"354.199219\" xlink:href=\"#DejaVuSans-32\"/>\n       <use x=\"417.822266\" xlink:href=\"#DejaVuSans-2d\"/>\n       <use x=\"453.90625\" xlink:href=\"#DejaVuSans-30\"/>\n       <use x=\"517.529297\" xlink:href=\"#DejaVuSans-38\"/>\n       <use x=\"581.152344\" xlink:href=\"#DejaVuSans-2f\"/>\n       <use x=\"614.84375\" xlink:href=\"#DejaVuSans-32\"/>\n       <use x=\"678.466797\" xlink:href=\"#DejaVuSans-30\"/>\n       <use x=\"742.089844\" xlink:href=\"#DejaVuSans-32\"/>\n       <use x=\"805.712891\" xlink:href=\"#DejaVuSans-31\"/>\n       <use x=\"869.335938\" xlink:href=\"#DejaVuSans-2d\"/>\n       <use x=\"905.419922\" xlink:href=\"#DejaVuSans-30\"/>\n       <use x=\"969.042969\" xlink:href=\"#DejaVuSans-32\"/>\n       <use x=\"1032.666016\" xlink:href=\"#DejaVuSans-2d\"/>\n       <use x=\"1068.75\" xlink:href=\"#DejaVuSans-31\"/>\n       <use x=\"1132.373047\" xlink:href=\"#DejaVuSans-34\"/>\n      </g>\n     </g>\n    </g>\n    <g id=\"ytick_6\">\n     <g id=\"text_7\">\n      <!-- 2021-02-15/2021-02-21 -->\n      <g style=\"fill:#262626;\" transform=\"translate(20.878125 339.186753)scale(0.1 -0.1)\">\n       <use xlink:href=\"#DejaVuSans-32\"/>\n       <use x=\"63.623047\" xlink:href=\"#DejaVuSans-30\"/>\n       <use x=\"127.246094\" xlink:href=\"#DejaVuSans-32\"/>\n       <use x=\"190.869141\" xlink:href=\"#DejaVuSans-31\"/>\n       <use x=\"254.492188\" xlink:href=\"#DejaVuSans-2d\"/>\n       <use x=\"290.576172\" xlink:href=\"#DejaVuSans-30\"/>\n       <use x=\"354.199219\" xlink:href=\"#DejaVuSans-32\"/>\n       <use x=\"417.822266\" xlink:href=\"#DejaVuSans-2d\"/>\n       <use x=\"453.90625\" xlink:href=\"#DejaVuSans-31\"/>\n       <use x=\"517.529297\" xlink:href=\"#DejaVuSans-35\"/>\n       <use x=\"581.152344\" xlink:href=\"#DejaVuSans-2f\"/>\n       <use x=\"614.84375\" xlink:href=\"#DejaVuSans-32\"/>\n       <use x=\"678.466797\" xlink:href=\"#DejaVuSans-30\"/>\n       <use x=\"742.089844\" xlink:href=\"#DejaVuSans-32\"/>\n       <use x=\"805.712891\" xlink:href=\"#DejaVuSans-31\"/>\n       <use x=\"869.335938\" xlink:href=\"#DejaVuSans-2d\"/>\n       <use x=\"905.419922\" xlink:href=\"#DejaVuSans-30\"/>\n       <use x=\"969.042969\" xlink:href=\"#DejaVuSans-32\"/>\n       <use x=\"1032.666016\" xlink:href=\"#DejaVuSans-2d\"/>\n       <use x=\"1068.75\" xlink:href=\"#DejaVuSans-32\"/>\n       <use x=\"1132.373047\" xlink:href=\"#DejaVuSans-31\"/>\n      </g>\n     </g>\n    </g>\n    <g id=\"ytick_7\">\n     <g id=\"text_8\">\n      <!-- 2021-02-22/2021-02-28 -->\n      <g style=\"fill:#262626;\" transform=\"translate(20.878125 395.555851)scale(0.1 -0.1)\">\n       <use xlink:href=\"#DejaVuSans-32\"/>\n       <use x=\"63.623047\" xlink:href=\"#DejaVuSans-30\"/>\n       <use x=\"127.246094\" xlink:href=\"#DejaVuSans-32\"/>\n       <use x=\"190.869141\" xlink:href=\"#DejaVuSans-31\"/>\n       <use x=\"254.492188\" xlink:href=\"#DejaVuSans-2d\"/>\n       <use x=\"290.576172\" xlink:href=\"#DejaVuSans-30\"/>\n       <use x=\"354.199219\" xlink:href=\"#DejaVuSans-32\"/>\n       <use x=\"417.822266\" xlink:href=\"#DejaVuSans-2d\"/>\n       <use x=\"453.90625\" xlink:href=\"#DejaVuSans-32\"/>\n       <use x=\"517.529297\" xlink:href=\"#DejaVuSans-32\"/>\n       <use x=\"581.152344\" xlink:href=\"#DejaVuSans-2f\"/>\n       <use x=\"614.84375\" xlink:href=\"#DejaVuSans-32\"/>\n       <use x=\"678.466797\" xlink:href=\"#DejaVuSans-30\"/>\n       <use x=\"742.089844\" xlink:href=\"#DejaVuSans-32\"/>\n       <use x=\"805.712891\" xlink:href=\"#DejaVuSans-31\"/>\n       <use x=\"869.335938\" xlink:href=\"#DejaVuSans-2d\"/>\n       <use x=\"905.419922\" xlink:href=\"#DejaVuSans-30\"/>\n       <use x=\"969.042969\" xlink:href=\"#DejaVuSans-32\"/>\n       <use x=\"1032.666016\" xlink:href=\"#DejaVuSans-2d\"/>\n       <use x=\"1068.75\" xlink:href=\"#DejaVuSans-32\"/>\n       <use x=\"1132.373047\" xlink:href=\"#DejaVuSans-38\"/>\n      </g>\n     </g>\n    </g>\n    <g id=\"ytick_8\">\n     <g id=\"text_9\">\n      <!-- 2021-03-01/2021-03-07 -->\n      <g style=\"fill:#262626;\" transform=\"translate(20.878125 451.924948)scale(0.1 -0.1)\">\n       <use xlink:href=\"#DejaVuSans-32\"/>\n       <use x=\"63.623047\" xlink:href=\"#DejaVuSans-30\"/>\n       <use x=\"127.246094\" xlink:href=\"#DejaVuSans-32\"/>\n       <use x=\"190.869141\" xlink:href=\"#DejaVuSans-31\"/>\n       <use x=\"254.492188\" xlink:href=\"#DejaVuSans-2d\"/>\n       <use x=\"290.576172\" xlink:href=\"#DejaVuSans-30\"/>\n       <use x=\"354.199219\" xlink:href=\"#DejaVuSans-33\"/>\n       <use x=\"417.822266\" xlink:href=\"#DejaVuSans-2d\"/>\n       <use x=\"453.90625\" xlink:href=\"#DejaVuSans-30\"/>\n       <use x=\"517.529297\" xlink:href=\"#DejaVuSans-31\"/>\n       <use x=\"581.152344\" xlink:href=\"#DejaVuSans-2f\"/>\n       <use x=\"614.84375\" xlink:href=\"#DejaVuSans-32\"/>\n       <use x=\"678.466797\" xlink:href=\"#DejaVuSans-30\"/>\n       <use x=\"742.089844\" xlink:href=\"#DejaVuSans-32\"/>\n       <use x=\"805.712891\" xlink:href=\"#DejaVuSans-31\"/>\n       <use x=\"869.335938\" xlink:href=\"#DejaVuSans-2d\"/>\n       <use x=\"905.419922\" xlink:href=\"#DejaVuSans-30\"/>\n       <use x=\"969.042969\" xlink:href=\"#DejaVuSans-33\"/>\n       <use x=\"1032.666016\" xlink:href=\"#DejaVuSans-2d\"/>\n       <use x=\"1068.75\" xlink:href=\"#DejaVuSans-30\"/>\n       <use x=\"1132.373047\" xlink:href=\"#DejaVuSans-37\"/>\n      </g>\n     </g>\n    </g>\n    <g id=\"ytick_9\">\n     <g id=\"text_10\">\n      <!-- 2021-03-08/2021-03-14 -->\n      <g style=\"fill:#262626;\" transform=\"translate(20.878125 508.294045)scale(0.1 -0.1)\">\n       <use xlink:href=\"#DejaVuSans-32\"/>\n       <use x=\"63.623047\" xlink:href=\"#DejaVuSans-30\"/>\n       <use x=\"127.246094\" xlink:href=\"#DejaVuSans-32\"/>\n       <use x=\"190.869141\" xlink:href=\"#DejaVuSans-31\"/>\n       <use x=\"254.492188\" xlink:href=\"#DejaVuSans-2d\"/>\n       <use x=\"290.576172\" xlink:href=\"#DejaVuSans-30\"/>\n       <use x=\"354.199219\" xlink:href=\"#DejaVuSans-33\"/>\n       <use x=\"417.822266\" xlink:href=\"#DejaVuSans-2d\"/>\n       <use x=\"453.90625\" xlink:href=\"#DejaVuSans-30\"/>\n       <use x=\"517.529297\" xlink:href=\"#DejaVuSans-38\"/>\n       <use x=\"581.152344\" xlink:href=\"#DejaVuSans-2f\"/>\n       <use x=\"614.84375\" xlink:href=\"#DejaVuSans-32\"/>\n       <use x=\"678.466797\" xlink:href=\"#DejaVuSans-30\"/>\n       <use x=\"742.089844\" xlink:href=\"#DejaVuSans-32\"/>\n       <use x=\"805.712891\" xlink:href=\"#DejaVuSans-31\"/>\n       <use x=\"869.335938\" xlink:href=\"#DejaVuSans-2d\"/>\n       <use x=\"905.419922\" xlink:href=\"#DejaVuSans-30\"/>\n       <use x=\"969.042969\" xlink:href=\"#DejaVuSans-33\"/>\n       <use x=\"1032.666016\" xlink:href=\"#DejaVuSans-2d\"/>\n       <use x=\"1068.75\" xlink:href=\"#DejaVuSans-31\"/>\n       <use x=\"1132.373047\" xlink:href=\"#DejaVuSans-34\"/>\n      </g>\n     </g>\n    </g>\n    <g id=\"text_11\">\n     <!-- Cohort -->\n     <g style=\"fill:#262626;\" transform=\"translate(14.798437 295.812969)rotate(-90)scale(0.1 -0.1)\">\n      <use xlink:href=\"#DejaVuSans-43\"/>\n      <use x=\"69.824219\" xlink:href=\"#DejaVuSans-6f\"/>\n      <use x=\"131.005859\" xlink:href=\"#DejaVuSans-68\"/>\n      <use x=\"194.384766\" xlink:href=\"#DejaVuSans-6f\"/>\n      <use x=\"255.566406\" xlink:href=\"#DejaVuSans-72\"/>\n      <use x=\"296.679688\" xlink:href=\"#DejaVuSans-74\"/>\n     </g>\n    </g>\n   </g>\n   <g id=\"QuadMesh_1\">\n    <path clip-path=\"url(#p866dab802a)\" d=\"M 147.478125 25.3575 \nL 206.235511 25.3575 \nL 206.235511 81.726597 \nL 147.478125 81.726597 \nL 147.478125 25.3575 \n\" style=\"fill:#90ee90;\"/>\n    <path clip-path=\"url(#p866dab802a)\" d=\"M 147.478125 81.726597 \nL 206.235511 81.726597 \nL 206.235511 138.095694 \nL 147.478125 138.095694 \nL 147.478125 81.726597 \n\" style=\"fill:#90ee90;\"/>\n    <path clip-path=\"url(#p866dab802a)\" d=\"M 147.478125 138.095694 \nL 206.235511 138.095694 \nL 206.235511 194.464792 \nL 147.478125 194.464792 \nL 147.478125 138.095694 \n\" style=\"fill:#90ee90;\"/>\n    <path clip-path=\"url(#p866dab802a)\" d=\"M 147.478125 194.464792 \nL 206.235511 194.464792 \nL 206.235511 250.833889 \nL 147.478125 250.833889 \nL 147.478125 194.464792 \n\" style=\"fill:#90ee90;\"/>\n    <path clip-path=\"url(#p866dab802a)\" d=\"M 147.478125 250.833889 \nL 206.235511 250.833889 \nL 206.235511 307.202986 \nL 147.478125 307.202986 \nL 147.478125 250.833889 \n\" style=\"fill:#90ee90;\"/>\n    <path clip-path=\"url(#p866dab802a)\" d=\"M 147.478125 307.202986 \nL 206.235511 307.202986 \nL 206.235511 363.572083 \nL 147.478125 363.572083 \nL 147.478125 307.202986 \n\" style=\"fill:#90ee90;\"/>\n    <path clip-path=\"url(#p866dab802a)\" d=\"M 147.478125 363.572083 \nL 206.235511 363.572083 \nL 206.235511 419.941181 \nL 147.478125 419.941181 \nL 147.478125 363.572083 \n\" style=\"fill:#90ee90;\"/>\n    <path clip-path=\"url(#p866dab802a)\" d=\"M 147.478125 419.941181 \nL 206.235511 419.941181 \nL 206.235511 476.310278 \nL 147.478125 476.310278 \nL 147.478125 419.941181 \n\" style=\"fill:#90ee90;\"/>\n    <path clip-path=\"url(#p866dab802a)\" d=\"M 147.478125 476.310278 \nL 206.235511 476.310278 \nL 206.235511 532.679375 \nL 147.478125 532.679375 \nL 147.478125 476.310278 \n\" style=\"fill:#90ee90;\"/>\n   </g>\n   <g id=\"text_12\">\n    <!-- 10 -->\n    <g style=\"fill:#262626;\" transform=\"translate(170.494318 56.301424)scale(0.1 -0.1)\">\n     <use xlink:href=\"#DejaVuSans-31\"/>\n     <use x=\"63.623047\" xlink:href=\"#DejaVuSans-30\"/>\n    </g>\n   </g>\n   <g id=\"text_13\">\n    <!-- 99 -->\n    <g style=\"fill:#262626;\" transform=\"translate(170.494318 112.670521)scale(0.1 -0.1)\">\n     <defs>\n      <path d=\"M 703 97 \nL 703 672 \nQ 941 559 1184 500 \nQ 1428 441 1663 441 \nQ 2288 441 2617 861 \nQ 2947 1281 2994 2138 \nQ 2813 1869 2534 1725 \nQ 2256 1581 1919 1581 \nQ 1219 1581 811 2004 \nQ 403 2428 403 3163 \nQ 403 3881 828 4315 \nQ 1253 4750 1959 4750 \nQ 2769 4750 3195 4129 \nQ 3622 3509 3622 2328 \nQ 3622 1225 3098 567 \nQ 2575 -91 1691 -91 \nQ 1453 -91 1209 -44 \nQ 966 3 703 97 \nz\nM 1959 2075 \nQ 2384 2075 2632 2365 \nQ 2881 2656 2881 3163 \nQ 2881 3666 2632 3958 \nQ 2384 4250 1959 4250 \nQ 1534 4250 1286 3958 \nQ 1038 3666 1038 3163 \nQ 1038 2656 1286 2365 \nQ 1534 2075 1959 2075 \nz\n\" id=\"DejaVuSans-39\" transform=\"scale(0.015625)\"/>\n     </defs>\n     <use xlink:href=\"#DejaVuSans-39\"/>\n     <use x=\"63.623047\" xlink:href=\"#DejaVuSans-39\"/>\n    </g>\n   </g>\n   <g id=\"text_14\">\n    <!-- 119 -->\n    <g style=\"fill:#262626;\" transform=\"translate(167.313068 169.039618)scale(0.1 -0.1)\">\n     <use xlink:href=\"#DejaVuSans-31\"/>\n     <use x=\"63.623047\" xlink:href=\"#DejaVuSans-31\"/>\n     <use x=\"127.246094\" xlink:href=\"#DejaVuSans-39\"/>\n    </g>\n   </g>\n   <g id=\"text_15\">\n    <!-- 204 -->\n    <g style=\"fill:#262626;\" transform=\"translate(167.313068 225.408715)scale(0.1 -0.1)\">\n     <use xlink:href=\"#DejaVuSans-32\"/>\n     <use x=\"63.623047\" xlink:href=\"#DejaVuSans-30\"/>\n     <use x=\"127.246094\" xlink:href=\"#DejaVuSans-34\"/>\n    </g>\n   </g>\n   <g id=\"text_16\">\n    <!-- 205 -->\n    <g style=\"fill:#262626;\" transform=\"translate(167.313068 281.777812)scale(0.1 -0.1)\">\n     <use xlink:href=\"#DejaVuSans-32\"/>\n     <use x=\"63.623047\" xlink:href=\"#DejaVuSans-30\"/>\n     <use x=\"127.246094\" xlink:href=\"#DejaVuSans-35\"/>\n    </g>\n   </g>\n   <g id=\"text_17\">\n    <!-- 213 -->\n    <g style=\"fill:#262626;\" transform=\"translate(167.313068 338.14691)scale(0.1 -0.1)\">\n     <use xlink:href=\"#DejaVuSans-32\"/>\n     <use x=\"63.623047\" xlink:href=\"#DejaVuSans-31\"/>\n     <use x=\"127.246094\" xlink:href=\"#DejaVuSans-33\"/>\n    </g>\n   </g>\n   <g id=\"text_18\">\n    <!-- 195 -->\n    <g style=\"fill:#262626;\" transform=\"translate(167.313068 394.516007)scale(0.1 -0.1)\">\n     <use xlink:href=\"#DejaVuSans-31\"/>\n     <use x=\"63.623047\" xlink:href=\"#DejaVuSans-39\"/>\n     <use x=\"127.246094\" xlink:href=\"#DejaVuSans-35\"/>\n    </g>\n   </g>\n   <g id=\"text_19\">\n    <!-- 241 -->\n    <g style=\"fill:#262626;\" transform=\"translate(167.313068 450.885104)scale(0.1 -0.1)\">\n     <use xlink:href=\"#DejaVuSans-32\"/>\n     <use x=\"63.623047\" xlink:href=\"#DejaVuSans-34\"/>\n     <use x=\"127.246094\" xlink:href=\"#DejaVuSans-31\"/>\n    </g>\n   </g>\n   <g id=\"text_20\">\n    <!-- 223 -->\n    <g style=\"fill:#262626;\" transform=\"translate(167.313068 507.254201)scale(0.1 -0.1)\">\n     <use xlink:href=\"#DejaVuSans-32\"/>\n     <use x=\"63.623047\" xlink:href=\"#DejaVuSans-32\"/>\n     <use x=\"127.246094\" xlink:href=\"#DejaVuSans-33\"/>\n    </g>\n   </g>\n  </g>\n  <g id=\"axes_2\">\n   <g id=\"patch_3\">\n    <path d=\"M 217.796875 532.679375 \nL 734.861875 532.679375 \nL 734.861875 25.3575 \nL 217.796875 25.3575 \nz\n\" style=\"fill:#ffffff;\"/>\n   </g>\n   <g id=\"matplotlib.axis_3\">\n    <g id=\"xtick_2\">\n     <g id=\"text_21\">\n      <!-- 0 -->\n      <g style=\"fill:#262626;\" transform=\"translate(243.341458 547.277812)scale(0.1 -0.1)\">\n       <use xlink:href=\"#DejaVuSans-30\"/>\n      </g>\n     </g>\n    </g>\n    <g id=\"xtick_3\">\n     <g id=\"text_22\">\n      <!-- 1 -->\n      <g style=\"fill:#262626;\" transform=\"translate(300.793125 547.277812)scale(0.1 -0.1)\">\n       <use xlink:href=\"#DejaVuSans-31\"/>\n      </g>\n     </g>\n    </g>\n    <g id=\"xtick_4\">\n     <g id=\"text_23\">\n      <!-- 2 -->\n      <g style=\"fill:#262626;\" transform=\"translate(358.244792 547.277812)scale(0.1 -0.1)\">\n       <use xlink:href=\"#DejaVuSans-32\"/>\n      </g>\n     </g>\n    </g>\n    <g id=\"xtick_5\">\n     <g id=\"text_24\">\n      <!-- 3 -->\n      <g style=\"fill:#262626;\" transform=\"translate(415.696458 547.277812)scale(0.1 -0.1)\">\n       <use xlink:href=\"#DejaVuSans-33\"/>\n      </g>\n     </g>\n    </g>\n    <g id=\"xtick_6\">\n     <g id=\"text_25\">\n      <!-- 4 -->\n      <g style=\"fill:#262626;\" transform=\"translate(473.148125 547.277812)scale(0.1 -0.1)\">\n       <use xlink:href=\"#DejaVuSans-34\"/>\n      </g>\n     </g>\n    </g>\n    <g id=\"xtick_7\">\n     <g id=\"text_26\">\n      <!-- 5 -->\n      <g style=\"fill:#262626;\" transform=\"translate(530.599792 547.277812)scale(0.1 -0.1)\">\n       <use xlink:href=\"#DejaVuSans-35\"/>\n      </g>\n     </g>\n    </g>\n    <g id=\"xtick_8\">\n     <g id=\"text_27\">\n      <!-- 6 -->\n      <g style=\"fill:#262626;\" transform=\"translate(588.051458 547.277812)scale(0.1 -0.1)\">\n       <defs>\n        <path d=\"M 2113 2584 \nQ 1688 2584 1439 2293 \nQ 1191 2003 1191 1497 \nQ 1191 994 1439 701 \nQ 1688 409 2113 409 \nQ 2538 409 2786 701 \nQ 3034 994 3034 1497 \nQ 3034 2003 2786 2293 \nQ 2538 2584 2113 2584 \nz\nM 3366 4563 \nL 3366 3988 \nQ 3128 4100 2886 4159 \nQ 2644 4219 2406 4219 \nQ 1781 4219 1451 3797 \nQ 1122 3375 1075 2522 \nQ 1259 2794 1537 2939 \nQ 1816 3084 2150 3084 \nQ 2853 3084 3261 2657 \nQ 3669 2231 3669 1497 \nQ 3669 778 3244 343 \nQ 2819 -91 2113 -91 \nQ 1303 -91 875 529 \nQ 447 1150 447 2328 \nQ 447 3434 972 4092 \nQ 1497 4750 2381 4750 \nQ 2619 4750 2861 4703 \nQ 3103 4656 3366 4563 \nz\n\" id=\"DejaVuSans-36\" transform=\"scale(0.015625)\"/>\n       </defs>\n       <use xlink:href=\"#DejaVuSans-36\"/>\n      </g>\n     </g>\n    </g>\n    <g id=\"xtick_9\">\n     <g id=\"text_28\">\n      <!-- 7 -->\n      <g style=\"fill:#262626;\" transform=\"translate(645.503125 547.277812)scale(0.1 -0.1)\">\n       <use xlink:href=\"#DejaVuSans-37\"/>\n      </g>\n     </g>\n    </g>\n    <g id=\"xtick_10\">\n     <g id=\"text_29\">\n      <!-- 8 -->\n      <g style=\"fill:#262626;\" transform=\"translate(702.954792 547.277812)scale(0.1 -0.1)\">\n       <use xlink:href=\"#DejaVuSans-38\"/>\n      </g>\n     </g>\n    </g>\n    <g id=\"text_30\">\n     <!-- Periods -->\n     <g style=\"fill:#262626;\" transform=\"translate(458.136406 560.955938)scale(0.1 -0.1)\">\n      <defs>\n       <path d=\"M 1259 4147 \nL 1259 2394 \nL 2053 2394 \nQ 2494 2394 2734 2622 \nQ 2975 2850 2975 3272 \nQ 2975 3691 2734 3919 \nQ 2494 4147 2053 4147 \nL 1259 4147 \nz\nM 628 4666 \nL 2053 4666 \nQ 2838 4666 3239 4311 \nQ 3641 3956 3641 3272 \nQ 3641 2581 3239 2228 \nQ 2838 1875 2053 1875 \nL 1259 1875 \nL 1259 0 \nL 628 0 \nL 628 4666 \nz\n\" id=\"DejaVuSans-50\" transform=\"scale(0.015625)\"/>\n       <path d=\"M 2906 2969 \nL 2906 4863 \nL 3481 4863 \nL 3481 0 \nL 2906 0 \nL 2906 525 \nQ 2725 213 2448 61 \nQ 2172 -91 1784 -91 \nQ 1150 -91 751 415 \nQ 353 922 353 1747 \nQ 353 2572 751 3078 \nQ 1150 3584 1784 3584 \nQ 2172 3584 2448 3432 \nQ 2725 3281 2906 2969 \nz\nM 947 1747 \nQ 947 1113 1208 752 \nQ 1469 391 1925 391 \nQ 2381 391 2643 752 \nQ 2906 1113 2906 1747 \nQ 2906 2381 2643 2742 \nQ 2381 3103 1925 3103 \nQ 1469 3103 1208 2742 \nQ 947 2381 947 1747 \nz\n\" id=\"DejaVuSans-64\" transform=\"scale(0.015625)\"/>\n       <path d=\"M 2834 3397 \nL 2834 2853 \nQ 2591 2978 2328 3040 \nQ 2066 3103 1784 3103 \nQ 1356 3103 1142 2972 \nQ 928 2841 928 2578 \nQ 928 2378 1081 2264 \nQ 1234 2150 1697 2047 \nL 1894 2003 \nQ 2506 1872 2764 1633 \nQ 3022 1394 3022 966 \nQ 3022 478 2636 193 \nQ 2250 -91 1575 -91 \nQ 1294 -91 989 -36 \nQ 684 19 347 128 \nL 347 722 \nQ 666 556 975 473 \nQ 1284 391 1588 391 \nQ 1994 391 2212 530 \nQ 2431 669 2431 922 \nQ 2431 1156 2273 1281 \nQ 2116 1406 1581 1522 \nL 1381 1569 \nQ 847 1681 609 1914 \nQ 372 2147 372 2553 \nQ 372 3047 722 3315 \nQ 1072 3584 1716 3584 \nQ 2034 3584 2315 3537 \nQ 2597 3491 2834 3397 \nz\n\" id=\"DejaVuSans-73\" transform=\"scale(0.015625)\"/>\n      </defs>\n      <use xlink:href=\"#DejaVuSans-50\"/>\n      <use x=\"56.677734\" xlink:href=\"#DejaVuSans-65\"/>\n      <use x=\"118.201172\" xlink:href=\"#DejaVuSans-72\"/>\n      <use x=\"159.314453\" xlink:href=\"#DejaVuSans-69\"/>\n      <use x=\"187.097656\" xlink:href=\"#DejaVuSans-6f\"/>\n      <use x=\"248.279297\" xlink:href=\"#DejaVuSans-64\"/>\n      <use x=\"311.755859\" xlink:href=\"#DejaVuSans-73\"/>\n     </g>\n    </g>\n   </g>\n   <g id=\"matplotlib.axis_4\">\n    <g id=\"ytick_10\"/>\n    <g id=\"ytick_11\"/>\n    <g id=\"ytick_12\"/>\n    <g id=\"ytick_13\"/>\n    <g id=\"ytick_14\"/>\n    <g id=\"ytick_15\"/>\n    <g id=\"ytick_16\"/>\n    <g id=\"ytick_17\"/>\n    <g id=\"ytick_18\"/>\n   </g>\n   <g id=\"QuadMesh_2\">\n    <path clip-path=\"url(#pc586834f0f)\" d=\"M 217.796875 25.3575 \nL 275.248542 25.3575 \nL 275.248542 81.726597 \nL 217.796875 81.726597 \nL 217.796875 25.3575 \n\" style=\"fill:#081d58;\"/>\n    <path clip-path=\"url(#pc586834f0f)\" d=\"M 275.248542 25.3575 \nL 332.700208 25.3575 \nL 332.700208 81.726597 \nL 275.248542 81.726597 \nL 275.248542 25.3575 \n\" style=\"fill:#225ea8;\"/>\n    <path clip-path=\"url(#pc586834f0f)\" d=\"M 332.700208 25.3575 \nL 390.151875 25.3575 \nL 390.151875 81.726597 \nL 332.700208 81.726597 \nL 332.700208 25.3575 \n\" style=\"fill:#c6e9b4;\"/>\n    <path clip-path=\"url(#pc586834f0f)\" d=\"M 390.151875 25.3575 \nL 447.603542 25.3575 \nL 447.603542 81.726597 \nL 390.151875 81.726597 \nL 390.151875 25.3575 \n\" style=\"fill:#c6e9b4;\"/>\n    <path clip-path=\"url(#pc586834f0f)\" d=\"M 447.603542 25.3575 \nL 505.055208 25.3575 \nL 505.055208 81.726597 \nL 447.603542 81.726597 \nL 447.603542 25.3575 \n\" style=\"fill:#ffffd9;\"/>\n    <path clip-path=\"url(#pc586834f0f)\" d=\"M 505.055208 25.3575 \nL 562.506875 25.3575 \nL 562.506875 81.726597 \nL 505.055208 81.726597 \nL 505.055208 25.3575 \n\" style=\"fill:#ffffd9;\"/>\n    <path clip-path=\"url(#pc586834f0f)\" d=\"M 562.506875 25.3575 \nL 619.958542 25.3575 \nL 619.958542 81.726597 \nL 562.506875 81.726597 \nL 562.506875 25.3575 \n\" style=\"fill:#c6e9b4;\"/>\n    <path clip-path=\"url(#pc586834f0f)\" d=\"M 619.958542 25.3575 \nL 677.410208 25.3575 \nL 677.410208 81.726597 \nL 619.958542 81.726597 \nL 619.958542 25.3575 \n\" style=\"fill:#ffffd9;\"/>\n    <path clip-path=\"url(#pc586834f0f)\" d=\"M 677.410208 25.3575 \nL 734.861875 25.3575 \nL 734.861875 81.726597 \nL 677.410208 81.726597 \nL 677.410208 25.3575 \n\" style=\"fill:#ffffd9;\"/>\n    <path clip-path=\"url(#pc586834f0f)\" d=\"M 217.796875 81.726597 \nL 275.248542 81.726597 \nL 275.248542 138.095694 \nL 217.796875 138.095694 \nL 217.796875 81.726597 \n\" style=\"fill:#081d58;\"/>\n    <path clip-path=\"url(#pc586834f0f)\" d=\"M 275.248542 81.726597 \nL 332.700208 81.726597 \nL 332.700208 138.095694 \nL 275.248542 138.095694 \nL 275.248542 81.726597 \n\" style=\"fill:#ceecb3;\"/>\n    <path clip-path=\"url(#pc586834f0f)\" d=\"M 332.700208 81.726597 \nL 390.151875 81.726597 \nL 390.151875 138.095694 \nL 332.700208 138.095694 \nL 332.700208 81.726597 \n\" style=\"fill:#ddf2b2;\"/>\n    <path clip-path=\"url(#pc586834f0f)\" d=\"M 390.151875 81.726597 \nL 447.603542 81.726597 \nL 447.603542 138.095694 \nL 390.151875 138.095694 \nL 390.151875 81.726597 \n\" style=\"fill:#ddf2b2;\"/>\n    <path clip-path=\"url(#pc586834f0f)\" d=\"M 447.603542 81.726597 \nL 505.055208 81.726597 \nL 505.055208 138.095694 \nL 447.603542 138.095694 \nL 447.603542 81.726597 \n\" style=\"fill:#e6f5b2;\"/>\n    <path clip-path=\"url(#pc586834f0f)\" d=\"M 505.055208 81.726597 \nL 562.506875 81.726597 \nL 562.506875 138.095694 \nL 505.055208 138.095694 \nL 505.055208 81.726597 \n\" style=\"fill:#d6efb3;\"/>\n    <path clip-path=\"url(#pc586834f0f)\" d=\"M 562.506875 81.726597 \nL 619.958542 81.726597 \nL 619.958542 138.095694 \nL 562.506875 138.095694 \nL 562.506875 81.726597 \n\" style=\"fill:#edf8b1;\"/>\n    <path clip-path=\"url(#pc586834f0f)\" d=\"M 619.958542 81.726597 \nL 677.410208 81.726597 \nL 677.410208 138.095694 \nL 619.958542 138.095694 \nL 619.958542 81.726597 \n\" style=\"fill:#f4fbc1;\"/>\n    <path clip-path=\"url(#pc586834f0f)\" d=\"M 677.410208 81.726597 \nL 734.861875 81.726597 \nL 734.861875 138.095694 \nL 677.410208 138.095694 \nL 677.410208 81.726597 \n\" style=\"fill:none;\"/>\n    <path clip-path=\"url(#pc586834f0f)\" d=\"M 217.796875 138.095694 \nL 275.248542 138.095694 \nL 275.248542 194.464792 \nL 217.796875 194.464792 \nL 217.796875 138.095694 \n\" style=\"fill:#081d58;\"/>\n    <path clip-path=\"url(#pc586834f0f)\" d=\"M 275.248542 138.095694 \nL 332.700208 138.095694 \nL 332.700208 194.464792 \nL 275.248542 194.464792 \nL 275.248542 138.095694 \n\" style=\"fill:#cdebb4;\"/>\n    <path clip-path=\"url(#pc586834f0f)\" d=\"M 332.700208 138.095694 \nL 390.151875 138.095694 \nL 390.151875 194.464792 \nL 332.700208 194.464792 \nL 332.700208 138.095694 \n\" style=\"fill:#73c8bd;\"/>\n    <path clip-path=\"url(#pc586834f0f)\" d=\"M 390.151875 138.095694 \nL 447.603542 138.095694 \nL 447.603542 194.464792 \nL 390.151875 194.464792 \nL 390.151875 138.095694 \n\" style=\"fill:#cdebb4;\"/>\n    <path clip-path=\"url(#pc586834f0f)\" d=\"M 447.603542 138.095694 \nL 505.055208 138.095694 \nL 505.055208 194.464792 \nL 447.603542 194.464792 \nL 447.603542 138.095694 \n\" style=\"fill:#95d5b9;\"/>\n    <path clip-path=\"url(#pc586834f0f)\" d=\"M 505.055208 138.095694 \nL 562.506875 138.095694 \nL 562.506875 194.464792 \nL 505.055208 194.464792 \nL 505.055208 138.095694 \n\" style=\"fill:#f3fabf;\"/>\n    <path clip-path=\"url(#pc586834f0f)\" d=\"M 562.506875 138.095694 \nL 619.958542 138.095694 \nL 619.958542 194.464792 \nL 562.506875 194.464792 \nL 562.506875 138.095694 \n\" style=\"fill:#e7f6b1;\"/>\n    <path clip-path=\"url(#pc586834f0f)\" d=\"M 619.958542 138.095694 \nL 677.410208 138.095694 \nL 677.410208 194.464792 \nL 619.958542 194.464792 \nL 619.958542 138.095694 \n\" style=\"fill:none;\"/>\n    <path clip-path=\"url(#pc586834f0f)\" d=\"M 677.410208 138.095694 \nL 734.861875 138.095694 \nL 734.861875 194.464792 \nL 677.410208 194.464792 \nL 677.410208 138.095694 \n\" style=\"fill:none;\"/>\n    <path clip-path=\"url(#pc586834f0f)\" d=\"M 217.796875 194.464792 \nL 275.248542 194.464792 \nL 275.248542 250.833889 \nL 217.796875 250.833889 \nL 217.796875 194.464792 \n\" style=\"fill:#081d58;\"/>\n    <path clip-path=\"url(#pc586834f0f)\" d=\"M 275.248542 194.464792 \nL 332.700208 194.464792 \nL 332.700208 250.833889 \nL 275.248542 250.833889 \nL 275.248542 194.464792 \n\" style=\"fill:#d0edb3;\"/>\n    <path clip-path=\"url(#pc586834f0f)\" d=\"M 332.700208 194.464792 \nL 390.151875 194.464792 \nL 390.151875 250.833889 \nL 332.700208 250.833889 \nL 332.700208 194.464792 \n\" style=\"fill:#d0edb3;\"/>\n    <path clip-path=\"url(#pc586834f0f)\" d=\"M 390.151875 194.464792 \nL 447.603542 194.464792 \nL 447.603542 250.833889 \nL 390.151875 250.833889 \nL 390.151875 194.464792 \n\" style=\"fill:#cdebb4;\"/>\n    <path clip-path=\"url(#pc586834f0f)\" d=\"M 447.603542 194.464792 \nL 505.055208 194.464792 \nL 505.055208 250.833889 \nL 447.603542 250.833889 \nL 447.603542 194.464792 \n\" style=\"fill:#e3f4b2;\"/>\n    <path clip-path=\"url(#pc586834f0f)\" d=\"M 505.055208 194.464792 \nL 562.506875 194.464792 \nL 562.506875 250.833889 \nL 505.055208 250.833889 \nL 505.055208 194.464792 \n\" style=\"fill:#e0f3b2;\"/>\n    <path clip-path=\"url(#pc586834f0f)\" d=\"M 562.506875 194.464792 \nL 619.958542 194.464792 \nL 619.958542 250.833889 \nL 562.506875 250.833889 \nL 562.506875 194.464792 \n\" style=\"fill:none;\"/>\n    <path clip-path=\"url(#pc586834f0f)\" d=\"M 619.958542 194.464792 \nL 677.410208 194.464792 \nL 677.410208 250.833889 \nL 619.958542 250.833889 \nL 619.958542 194.464792 \n\" style=\"fill:none;\"/>\n    <path clip-path=\"url(#pc586834f0f)\" d=\"M 677.410208 194.464792 \nL 734.861875 194.464792 \nL 734.861875 250.833889 \nL 677.410208 250.833889 \nL 677.410208 194.464792 \n\" style=\"fill:none;\"/>\n    <path clip-path=\"url(#pc586834f0f)\" d=\"M 217.796875 250.833889 \nL 275.248542 250.833889 \nL 275.248542 307.202986 \nL 217.796875 307.202986 \nL 217.796875 250.833889 \n\" style=\"fill:#081d58;\"/>\n    <path clip-path=\"url(#pc586834f0f)\" d=\"M 275.248542 250.833889 \nL 332.700208 250.833889 \nL 332.700208 307.202986 \nL 275.248542 307.202986 \nL 275.248542 250.833889 \n\" style=\"fill:#b7e3b6;\"/>\n    <path clip-path=\"url(#pc586834f0f)\" d=\"M 332.700208 250.833889 \nL 390.151875 250.833889 \nL 390.151875 307.202986 \nL 332.700208 307.202986 \nL 332.700208 250.833889 \n\" style=\"fill:#e3f4b2;\"/>\n    <path clip-path=\"url(#pc586834f0f)\" d=\"M 390.151875 250.833889 \nL 447.603542 250.833889 \nL 447.603542 307.202986 \nL 390.151875 307.202986 \nL 390.151875 250.833889 \n\" style=\"fill:#d4eeb3;\"/>\n    <path clip-path=\"url(#pc586834f0f)\" d=\"M 447.603542 250.833889 \nL 505.055208 250.833889 \nL 505.055208 307.202986 \nL 447.603542 307.202986 \nL 447.603542 250.833889 \n\" style=\"fill:#dcf1b2;\"/>\n    <path clip-path=\"url(#pc586834f0f)\" d=\"M 505.055208 250.833889 \nL 562.506875 250.833889 \nL 562.506875 307.202986 \nL 505.055208 307.202986 \nL 505.055208 250.833889 \n\" style=\"fill:none;\"/>\n    <path clip-path=\"url(#pc586834f0f)\" d=\"M 562.506875 250.833889 \nL 619.958542 250.833889 \nL 619.958542 307.202986 \nL 562.506875 307.202986 \nL 562.506875 250.833889 \n\" style=\"fill:none;\"/>\n    <path clip-path=\"url(#pc586834f0f)\" d=\"M 619.958542 250.833889 \nL 677.410208 250.833889 \nL 677.410208 307.202986 \nL 619.958542 307.202986 \nL 619.958542 250.833889 \n\" style=\"fill:none;\"/>\n    <path clip-path=\"url(#pc586834f0f)\" d=\"M 677.410208 250.833889 \nL 734.861875 250.833889 \nL 734.861875 307.202986 \nL 677.410208 307.202986 \nL 677.410208 250.833889 \n\" style=\"fill:none;\"/>\n    <path clip-path=\"url(#pc586834f0f)\" d=\"M 217.796875 307.202986 \nL 275.248542 307.202986 \nL 275.248542 363.572083 \nL 217.796875 363.572083 \nL 217.796875 307.202986 \n\" style=\"fill:#081d58;\"/>\n    <path clip-path=\"url(#pc586834f0f)\" d=\"M 275.248542 307.202986 \nL 332.700208 307.202986 \nL 332.700208 363.572083 \nL 275.248542 363.572083 \nL 275.248542 307.202986 \n\" style=\"fill:#cfecb3;\"/>\n    <path clip-path=\"url(#pc586834f0f)\" d=\"M 332.700208 307.202986 \nL 390.151875 307.202986 \nL 390.151875 363.572083 \nL 332.700208 363.572083 \nL 332.700208 307.202986 \n\" style=\"fill:#e5f5b2;\"/>\n    <path clip-path=\"url(#pc586834f0f)\" d=\"M 390.151875 307.202986 \nL 447.603542 307.202986 \nL 447.603542 363.572083 \nL 390.151875 363.572083 \nL 390.151875 307.202986 \n\" style=\"fill:#eef8b3;\"/>\n    <path clip-path=\"url(#pc586834f0f)\" d=\"M 447.603542 307.202986 \nL 505.055208 307.202986 \nL 505.055208 363.572083 \nL 447.603542 363.572083 \nL 447.603542 307.202986 \n\" style=\"fill:none;\"/>\n    <path clip-path=\"url(#pc586834f0f)\" d=\"M 505.055208 307.202986 \nL 562.506875 307.202986 \nL 562.506875 363.572083 \nL 505.055208 363.572083 \nL 505.055208 307.202986 \n\" style=\"fill:none;\"/>\n    <path clip-path=\"url(#pc586834f0f)\" d=\"M 562.506875 307.202986 \nL 619.958542 307.202986 \nL 619.958542 363.572083 \nL 562.506875 363.572083 \nL 562.506875 307.202986 \n\" style=\"fill:none;\"/>\n    <path clip-path=\"url(#pc586834f0f)\" d=\"M 619.958542 307.202986 \nL 677.410208 307.202986 \nL 677.410208 363.572083 \nL 619.958542 363.572083 \nL 619.958542 307.202986 \n\" style=\"fill:none;\"/>\n    <path clip-path=\"url(#pc586834f0f)\" d=\"M 677.410208 307.202986 \nL 734.861875 307.202986 \nL 734.861875 363.572083 \nL 677.410208 363.572083 \nL 677.410208 307.202986 \n\" style=\"fill:none;\"/>\n    <path clip-path=\"url(#pc586834f0f)\" d=\"M 217.796875 363.572083 \nL 275.248542 363.572083 \nL 275.248542 419.941181 \nL 217.796875 419.941181 \nL 217.796875 363.572083 \n\" style=\"fill:#081d58;\"/>\n    <path clip-path=\"url(#pc586834f0f)\" d=\"M 275.248542 363.572083 \nL 332.700208 363.572083 \nL 332.700208 419.941181 \nL 275.248542 419.941181 \nL 275.248542 363.572083 \n\" style=\"fill:#97d6b9;\"/>\n    <path clip-path=\"url(#pc586834f0f)\" d=\"M 332.700208 363.572083 \nL 390.151875 363.572083 \nL 390.151875 419.941181 \nL 332.700208 419.941181 \nL 332.700208 363.572083 \n\" style=\"fill:#e1f3b2;\"/>\n    <path clip-path=\"url(#pc586834f0f)\" d=\"M 390.151875 363.572083 \nL 447.603542 363.572083 \nL 447.603542 419.941181 \nL 390.151875 419.941181 \nL 390.151875 363.572083 \n\" style=\"fill:none;\"/>\n    <path clip-path=\"url(#pc586834f0f)\" d=\"M 447.603542 363.572083 \nL 505.055208 363.572083 \nL 505.055208 419.941181 \nL 447.603542 419.941181 \nL 447.603542 363.572083 \n\" style=\"fill:none;\"/>\n    <path clip-path=\"url(#pc586834f0f)\" d=\"M 505.055208 363.572083 \nL 562.506875 363.572083 \nL 562.506875 419.941181 \nL 505.055208 419.941181 \nL 505.055208 363.572083 \n\" style=\"fill:none;\"/>\n    <path clip-path=\"url(#pc586834f0f)\" d=\"M 562.506875 363.572083 \nL 619.958542 363.572083 \nL 619.958542 419.941181 \nL 562.506875 419.941181 \nL 562.506875 363.572083 \n\" style=\"fill:none;\"/>\n    <path clip-path=\"url(#pc586834f0f)\" d=\"M 619.958542 363.572083 \nL 677.410208 363.572083 \nL 677.410208 419.941181 \nL 619.958542 419.941181 \nL 619.958542 363.572083 \n\" style=\"fill:none;\"/>\n    <path clip-path=\"url(#pc586834f0f)\" d=\"M 677.410208 363.572083 \nL 734.861875 363.572083 \nL 734.861875 419.941181 \nL 677.410208 419.941181 \nL 677.410208 363.572083 \n\" style=\"fill:none;\"/>\n    <path clip-path=\"url(#pc586834f0f)\" d=\"M 217.796875 419.941181 \nL 275.248542 419.941181 \nL 275.248542 476.310278 \nL 217.796875 476.310278 \nL 217.796875 419.941181 \n\" style=\"fill:#081d58;\"/>\n    <path clip-path=\"url(#pc586834f0f)\" d=\"M 275.248542 419.941181 \nL 332.700208 419.941181 \nL 332.700208 476.310278 \nL 275.248542 476.310278 \nL 275.248542 419.941181 \n\" style=\"fill:#e1f3b2;\"/>\n    <path clip-path=\"url(#pc586834f0f)\" d=\"M 332.700208 419.941181 \nL 390.151875 419.941181 \nL 390.151875 476.310278 \nL 332.700208 476.310278 \nL 332.700208 419.941181 \n\" style=\"fill:none;\"/>\n    <path clip-path=\"url(#pc586834f0f)\" d=\"M 390.151875 419.941181 \nL 447.603542 419.941181 \nL 447.603542 476.310278 \nL 390.151875 476.310278 \nL 390.151875 419.941181 \n\" style=\"fill:none;\"/>\n    <path clip-path=\"url(#pc586834f0f)\" d=\"M 447.603542 419.941181 \nL 505.055208 419.941181 \nL 505.055208 476.310278 \nL 447.603542 476.310278 \nL 447.603542 419.941181 \n\" style=\"fill:none;\"/>\n    <path clip-path=\"url(#pc586834f0f)\" d=\"M 505.055208 419.941181 \nL 562.506875 419.941181 \nL 562.506875 476.310278 \nL 505.055208 476.310278 \nL 505.055208 419.941181 \n\" style=\"fill:none;\"/>\n    <path clip-path=\"url(#pc586834f0f)\" d=\"M 562.506875 419.941181 \nL 619.958542 419.941181 \nL 619.958542 476.310278 \nL 562.506875 476.310278 \nL 562.506875 419.941181 \n\" style=\"fill:none;\"/>\n    <path clip-path=\"url(#pc586834f0f)\" d=\"M 619.958542 419.941181 \nL 677.410208 419.941181 \nL 677.410208 476.310278 \nL 619.958542 476.310278 \nL 619.958542 419.941181 \n\" style=\"fill:none;\"/>\n    <path clip-path=\"url(#pc586834f0f)\" d=\"M 677.410208 419.941181 \nL 734.861875 419.941181 \nL 734.861875 476.310278 \nL 677.410208 476.310278 \nL 677.410208 419.941181 \n\" style=\"fill:none;\"/>\n    <path clip-path=\"url(#pc586834f0f)\" d=\"M 217.796875 476.310278 \nL 275.248542 476.310278 \nL 275.248542 532.679375 \nL 217.796875 532.679375 \nL 217.796875 476.310278 \n\" style=\"fill:#081d58;\"/>\n    <path clip-path=\"url(#pc586834f0f)\" d=\"M 275.248542 476.310278 \nL 332.700208 476.310278 \nL 332.700208 532.679375 \nL 275.248542 532.679375 \nL 275.248542 476.310278 \n\" style=\"fill:none;\"/>\n    <path clip-path=\"url(#pc586834f0f)\" d=\"M 332.700208 476.310278 \nL 390.151875 476.310278 \nL 390.151875 532.679375 \nL 332.700208 532.679375 \nL 332.700208 476.310278 \n\" style=\"fill:none;\"/>\n    <path clip-path=\"url(#pc586834f0f)\" d=\"M 390.151875 476.310278 \nL 447.603542 476.310278 \nL 447.603542 532.679375 \nL 390.151875 532.679375 \nL 390.151875 476.310278 \n\" style=\"fill:none;\"/>\n    <path clip-path=\"url(#pc586834f0f)\" d=\"M 447.603542 476.310278 \nL 505.055208 476.310278 \nL 505.055208 532.679375 \nL 447.603542 532.679375 \nL 447.603542 476.310278 \n\" style=\"fill:none;\"/>\n    <path clip-path=\"url(#pc586834f0f)\" d=\"M 505.055208 476.310278 \nL 562.506875 476.310278 \nL 562.506875 532.679375 \nL 505.055208 532.679375 \nL 505.055208 476.310278 \n\" style=\"fill:none;\"/>\n    <path clip-path=\"url(#pc586834f0f)\" d=\"M 562.506875 476.310278 \nL 619.958542 476.310278 \nL 619.958542 532.679375 \nL 562.506875 532.679375 \nL 562.506875 476.310278 \n\" style=\"fill:none;\"/>\n    <path clip-path=\"url(#pc586834f0f)\" d=\"M 619.958542 476.310278 \nL 677.410208 476.310278 \nL 677.410208 532.679375 \nL 619.958542 532.679375 \nL 619.958542 476.310278 \n\" style=\"fill:none;\"/>\n    <path clip-path=\"url(#pc586834f0f)\" d=\"M 677.410208 476.310278 \nL 734.861875 476.310278 \nL 734.861875 532.679375 \nL 677.410208 532.679375 \nL 677.410208 476.310278 \n\" style=\"fill:none;\"/>\n   </g>\n   <g id=\"text_31\">\n    <!-- 100% -->\n    <g style=\"fill:#ffffff;\" transform=\"translate(232.228177 56.301424)scale(0.1 -0.1)\">\n     <defs>\n      <path d=\"M 4653 2053 \nQ 4381 2053 4226 1822 \nQ 4072 1591 4072 1178 \nQ 4072 772 4226 539 \nQ 4381 306 4653 306 \nQ 4919 306 5073 539 \nQ 5228 772 5228 1178 \nQ 5228 1588 5073 1820 \nQ 4919 2053 4653 2053 \nz\nM 4653 2450 \nQ 5147 2450 5437 2106 \nQ 5728 1763 5728 1178 \nQ 5728 594 5436 251 \nQ 5144 -91 4653 -91 \nQ 4153 -91 3862 251 \nQ 3572 594 3572 1178 \nQ 3572 1766 3864 2108 \nQ 4156 2450 4653 2450 \nz\nM 1428 4353 \nQ 1159 4353 1004 4120 \nQ 850 3888 850 3481 \nQ 850 3069 1003 2837 \nQ 1156 2606 1428 2606 \nQ 1700 2606 1854 2837 \nQ 2009 3069 2009 3481 \nQ 2009 3884 1853 4118 \nQ 1697 4353 1428 4353 \nz\nM 4250 4750 \nL 4750 4750 \nL 1831 -91 \nL 1331 -91 \nL 4250 4750 \nz\nM 1428 4750 \nQ 1922 4750 2215 4408 \nQ 2509 4066 2509 3481 \nQ 2509 2891 2217 2550 \nQ 1925 2209 1428 2209 \nQ 931 2209 642 2551 \nQ 353 2894 353 3481 \nQ 353 4063 643 4406 \nQ 934 4750 1428 4750 \nz\n\" id=\"DejaVuSans-25\" transform=\"scale(0.015625)\"/>\n     </defs>\n     <use xlink:href=\"#DejaVuSans-31\"/>\n     <use x=\"63.623047\" xlink:href=\"#DejaVuSans-30\"/>\n     <use x=\"127.246094\" xlink:href=\"#DejaVuSans-30\"/>\n     <use x=\"190.869141\" xlink:href=\"#DejaVuSans-25\"/>\n    </g>\n   </g>\n   <g id=\"text_32\">\n    <!-- 30% -->\n    <g style=\"fill:#ffffff;\" transform=\"translate(292.861094 56.301424)scale(0.1 -0.1)\">\n     <use xlink:href=\"#DejaVuSans-33\"/>\n     <use x=\"63.623047\" xlink:href=\"#DejaVuSans-30\"/>\n     <use x=\"127.246094\" xlink:href=\"#DejaVuSans-25\"/>\n    </g>\n   </g>\n   <g id=\"text_33\">\n    <!-- 10% -->\n    <g style=\"fill:#262626;\" transform=\"translate(350.31276 56.301424)scale(0.1 -0.1)\">\n     <use xlink:href=\"#DejaVuSans-31\"/>\n     <use x=\"63.623047\" xlink:href=\"#DejaVuSans-30\"/>\n     <use x=\"127.246094\" xlink:href=\"#DejaVuSans-25\"/>\n    </g>\n   </g>\n   <g id=\"text_34\">\n    <!-- 10% -->\n    <g style=\"fill:#262626;\" transform=\"translate(407.764427 56.301424)scale(0.1 -0.1)\">\n     <use xlink:href=\"#DejaVuSans-31\"/>\n     <use x=\"63.623047\" xlink:href=\"#DejaVuSans-30\"/>\n     <use x=\"127.246094\" xlink:href=\"#DejaVuSans-25\"/>\n    </g>\n   </g>\n   <g id=\"text_35\">\n    <!-- 0% -->\n    <g style=\"fill:#262626;\" transform=\"translate(468.397344 56.301424)scale(0.1 -0.1)\">\n     <use xlink:href=\"#DejaVuSans-30\"/>\n     <use x=\"63.623047\" xlink:href=\"#DejaVuSans-25\"/>\n    </g>\n   </g>\n   <g id=\"text_36\">\n    <!-- 0% -->\n    <g style=\"fill:#262626;\" transform=\"translate(525.84901 56.301424)scale(0.1 -0.1)\">\n     <use xlink:href=\"#DejaVuSans-30\"/>\n     <use x=\"63.623047\" xlink:href=\"#DejaVuSans-25\"/>\n    </g>\n   </g>\n   <g id=\"text_37\">\n    <!-- 10% -->\n    <g style=\"fill:#262626;\" transform=\"translate(580.119427 56.301424)scale(0.1 -0.1)\">\n     <use xlink:href=\"#DejaVuSans-31\"/>\n     <use x=\"63.623047\" xlink:href=\"#DejaVuSans-30\"/>\n     <use x=\"127.246094\" xlink:href=\"#DejaVuSans-25\"/>\n    </g>\n   </g>\n   <g id=\"text_38\">\n    <!-- 0% -->\n    <g style=\"fill:#262626;\" transform=\"translate(640.752344 56.301424)scale(0.1 -0.1)\">\n     <use xlink:href=\"#DejaVuSans-30\"/>\n     <use x=\"63.623047\" xlink:href=\"#DejaVuSans-25\"/>\n    </g>\n   </g>\n   <g id=\"text_39\">\n    <!-- 0% -->\n    <g style=\"fill:#262626;\" transform=\"translate(698.20401 56.301424)scale(0.1 -0.1)\">\n     <use xlink:href=\"#DejaVuSans-30\"/>\n     <use x=\"63.623047\" xlink:href=\"#DejaVuSans-25\"/>\n    </g>\n   </g>\n   <g id=\"text_40\">\n    <!-- 100% -->\n    <g style=\"fill:#ffffff;\" transform=\"translate(232.228177 112.670521)scale(0.1 -0.1)\">\n     <use xlink:href=\"#DejaVuSans-31\"/>\n     <use x=\"63.623047\" xlink:href=\"#DejaVuSans-30\"/>\n     <use x=\"127.246094\" xlink:href=\"#DejaVuSans-30\"/>\n     <use x=\"190.869141\" xlink:href=\"#DejaVuSans-25\"/>\n    </g>\n   </g>\n   <g id=\"text_41\">\n    <!-- 9% -->\n    <g style=\"fill:#262626;\" transform=\"translate(296.042344 112.670521)scale(0.1 -0.1)\">\n     <use xlink:href=\"#DejaVuSans-39\"/>\n     <use x=\"63.623047\" xlink:href=\"#DejaVuSans-25\"/>\n    </g>\n   </g>\n   <g id=\"text_42\">\n    <!-- 7% -->\n    <g style=\"fill:#262626;\" transform=\"translate(353.49401 112.670521)scale(0.1 -0.1)\">\n     <use xlink:href=\"#DejaVuSans-37\"/>\n     <use x=\"63.623047\" xlink:href=\"#DejaVuSans-25\"/>\n    </g>\n   </g>\n   <g id=\"text_43\">\n    <!-- 7% -->\n    <g style=\"fill:#262626;\" transform=\"translate(410.945677 112.670521)scale(0.1 -0.1)\">\n     <use xlink:href=\"#DejaVuSans-37\"/>\n     <use x=\"63.623047\" xlink:href=\"#DejaVuSans-25\"/>\n    </g>\n   </g>\n   <g id=\"text_44\">\n    <!-- 6% -->\n    <g style=\"fill:#262626;\" transform=\"translate(468.397344 112.670521)scale(0.1 -0.1)\">\n     <use xlink:href=\"#DejaVuSans-36\"/>\n     <use x=\"63.623047\" xlink:href=\"#DejaVuSans-25\"/>\n    </g>\n   </g>\n   <g id=\"text_45\">\n    <!-- 8% -->\n    <g style=\"fill:#262626;\" transform=\"translate(525.84901 112.670521)scale(0.1 -0.1)\">\n     <use xlink:href=\"#DejaVuSans-38\"/>\n     <use x=\"63.623047\" xlink:href=\"#DejaVuSans-25\"/>\n    </g>\n   </g>\n   <g id=\"text_46\">\n    <!-- 5% -->\n    <g style=\"fill:#262626;\" transform=\"translate(583.300677 112.670521)scale(0.1 -0.1)\">\n     <use xlink:href=\"#DejaVuSans-35\"/>\n     <use x=\"63.623047\" xlink:href=\"#DejaVuSans-25\"/>\n    </g>\n   </g>\n   <g id=\"text_47\">\n    <!-- 3% -->\n    <g style=\"fill:#262626;\" transform=\"translate(640.752344 112.670521)scale(0.1 -0.1)\">\n     <use xlink:href=\"#DejaVuSans-33\"/>\n     <use x=\"63.623047\" xlink:href=\"#DejaVuSans-25\"/>\n    </g>\n   </g>\n   <g id=\"text_48\">\n    <!-- 100% -->\n    <g style=\"fill:#ffffff;\" transform=\"translate(232.228177 169.039618)scale(0.1 -0.1)\">\n     <use xlink:href=\"#DejaVuSans-31\"/>\n     <use x=\"63.623047\" xlink:href=\"#DejaVuSans-30\"/>\n     <use x=\"127.246094\" xlink:href=\"#DejaVuSans-30\"/>\n     <use x=\"190.869141\" xlink:href=\"#DejaVuSans-25\"/>\n    </g>\n   </g>\n   <g id=\"text_49\">\n    <!-- 9% -->\n    <g style=\"fill:#262626;\" transform=\"translate(296.042344 169.039618)scale(0.1 -0.1)\">\n     <use xlink:href=\"#DejaVuSans-39\"/>\n     <use x=\"63.623047\" xlink:href=\"#DejaVuSans-25\"/>\n    </g>\n   </g>\n   <g id=\"text_50\">\n    <!-- 16% -->\n    <g style=\"fill:#262626;\" transform=\"translate(350.31276 169.039618)scale(0.1 -0.1)\">\n     <use xlink:href=\"#DejaVuSans-31\"/>\n     <use x=\"63.623047\" xlink:href=\"#DejaVuSans-36\"/>\n     <use x=\"127.246094\" xlink:href=\"#DejaVuSans-25\"/>\n    </g>\n   </g>\n   <g id=\"text_51\">\n    <!-- 9% -->\n    <g style=\"fill:#262626;\" transform=\"translate(410.945677 169.039618)scale(0.1 -0.1)\">\n     <use xlink:href=\"#DejaVuSans-39\"/>\n     <use x=\"63.623047\" xlink:href=\"#DejaVuSans-25\"/>\n    </g>\n   </g>\n   <g id=\"text_52\">\n    <!-- 13% -->\n    <g style=\"fill:#262626;\" transform=\"translate(465.216094 169.039618)scale(0.1 -0.1)\">\n     <use xlink:href=\"#DejaVuSans-31\"/>\n     <use x=\"63.623047\" xlink:href=\"#DejaVuSans-33\"/>\n     <use x=\"127.246094\" xlink:href=\"#DejaVuSans-25\"/>\n    </g>\n   </g>\n   <g id=\"text_53\">\n    <!-- 3% -->\n    <g style=\"fill:#262626;\" transform=\"translate(525.84901 169.039618)scale(0.1 -0.1)\">\n     <use xlink:href=\"#DejaVuSans-33\"/>\n     <use x=\"63.623047\" xlink:href=\"#DejaVuSans-25\"/>\n    </g>\n   </g>\n   <g id=\"text_54\">\n    <!-- 6% -->\n    <g style=\"fill:#262626;\" transform=\"translate(583.300677 169.039618)scale(0.1 -0.1)\">\n     <use xlink:href=\"#DejaVuSans-36\"/>\n     <use x=\"63.623047\" xlink:href=\"#DejaVuSans-25\"/>\n    </g>\n   </g>\n   <g id=\"text_55\">\n    <!-- 100% -->\n    <g style=\"fill:#ffffff;\" transform=\"translate(232.228177 225.408715)scale(0.1 -0.1)\">\n     <use xlink:href=\"#DejaVuSans-31\"/>\n     <use x=\"63.623047\" xlink:href=\"#DejaVuSans-30\"/>\n     <use x=\"127.246094\" xlink:href=\"#DejaVuSans-30\"/>\n     <use x=\"190.869141\" xlink:href=\"#DejaVuSans-25\"/>\n    </g>\n   </g>\n   <g id=\"text_56\">\n    <!-- 9% -->\n    <g style=\"fill:#262626;\" transform=\"translate(296.042344 225.408715)scale(0.1 -0.1)\">\n     <use xlink:href=\"#DejaVuSans-39\"/>\n     <use x=\"63.623047\" xlink:href=\"#DejaVuSans-25\"/>\n    </g>\n   </g>\n   <g id=\"text_57\">\n    <!-- 9% -->\n    <g style=\"fill:#262626;\" transform=\"translate(353.49401 225.408715)scale(0.1 -0.1)\">\n     <use xlink:href=\"#DejaVuSans-39\"/>\n     <use x=\"63.623047\" xlink:href=\"#DejaVuSans-25\"/>\n    </g>\n   </g>\n   <g id=\"text_58\">\n    <!-- 9% -->\n    <g style=\"fill:#262626;\" transform=\"translate(410.945677 225.408715)scale(0.1 -0.1)\">\n     <use xlink:href=\"#DejaVuSans-39\"/>\n     <use x=\"63.623047\" xlink:href=\"#DejaVuSans-25\"/>\n    </g>\n   </g>\n   <g id=\"text_59\">\n    <!-- 6% -->\n    <g style=\"fill:#262626;\" transform=\"translate(468.397344 225.408715)scale(0.1 -0.1)\">\n     <use xlink:href=\"#DejaVuSans-36\"/>\n     <use x=\"63.623047\" xlink:href=\"#DejaVuSans-25\"/>\n    </g>\n   </g>\n   <g id=\"text_60\">\n    <!-- 7% -->\n    <g style=\"fill:#262626;\" transform=\"translate(525.84901 225.408715)scale(0.1 -0.1)\">\n     <use xlink:href=\"#DejaVuSans-37\"/>\n     <use x=\"63.623047\" xlink:href=\"#DejaVuSans-25\"/>\n    </g>\n   </g>\n   <g id=\"text_61\">\n    <!-- 100% -->\n    <g style=\"fill:#ffffff;\" transform=\"translate(232.228177 281.777812)scale(0.1 -0.1)\">\n     <use xlink:href=\"#DejaVuSans-31\"/>\n     <use x=\"63.623047\" xlink:href=\"#DejaVuSans-30\"/>\n     <use x=\"127.246094\" xlink:href=\"#DejaVuSans-30\"/>\n     <use x=\"190.869141\" xlink:href=\"#DejaVuSans-25\"/>\n    </g>\n   </g>\n   <g id=\"text_62\">\n    <!-- 11% -->\n    <g style=\"fill:#262626;\" transform=\"translate(292.861094 281.777812)scale(0.1 -0.1)\">\n     <use xlink:href=\"#DejaVuSans-31\"/>\n     <use x=\"63.623047\" xlink:href=\"#DejaVuSans-31\"/>\n     <use x=\"127.246094\" xlink:href=\"#DejaVuSans-25\"/>\n    </g>\n   </g>\n   <g id=\"text_63\">\n    <!-- 6% -->\n    <g style=\"fill:#262626;\" transform=\"translate(353.49401 281.777812)scale(0.1 -0.1)\">\n     <use xlink:href=\"#DejaVuSans-36\"/>\n     <use x=\"63.623047\" xlink:href=\"#DejaVuSans-25\"/>\n    </g>\n   </g>\n   <g id=\"text_64\">\n    <!-- 8% -->\n    <g style=\"fill:#262626;\" transform=\"translate(410.945677 281.777812)scale(0.1 -0.1)\">\n     <use xlink:href=\"#DejaVuSans-38\"/>\n     <use x=\"63.623047\" xlink:href=\"#DejaVuSans-25\"/>\n    </g>\n   </g>\n   <g id=\"text_65\">\n    <!-- 7% -->\n    <g style=\"fill:#262626;\" transform=\"translate(468.397344 281.777812)scale(0.1 -0.1)\">\n     <use xlink:href=\"#DejaVuSans-37\"/>\n     <use x=\"63.623047\" xlink:href=\"#DejaVuSans-25\"/>\n    </g>\n   </g>\n   <g id=\"text_66\">\n    <!-- 100% -->\n    <g style=\"fill:#ffffff;\" transform=\"translate(232.228177 338.14691)scale(0.1 -0.1)\">\n     <use xlink:href=\"#DejaVuSans-31\"/>\n     <use x=\"63.623047\" xlink:href=\"#DejaVuSans-30\"/>\n     <use x=\"127.246094\" xlink:href=\"#DejaVuSans-30\"/>\n     <use x=\"190.869141\" xlink:href=\"#DejaVuSans-25\"/>\n    </g>\n   </g>\n   <g id=\"text_67\">\n    <!-- 9% -->\n    <g style=\"fill:#262626;\" transform=\"translate(296.042344 338.14691)scale(0.1 -0.1)\">\n     <use xlink:href=\"#DejaVuSans-39\"/>\n     <use x=\"63.623047\" xlink:href=\"#DejaVuSans-25\"/>\n    </g>\n   </g>\n   <g id=\"text_68\">\n    <!-- 6% -->\n    <g style=\"fill:#262626;\" transform=\"translate(353.49401 338.14691)scale(0.1 -0.1)\">\n     <use xlink:href=\"#DejaVuSans-36\"/>\n     <use x=\"63.623047\" xlink:href=\"#DejaVuSans-25\"/>\n    </g>\n   </g>\n   <g id=\"text_69\">\n    <!-- 5% -->\n    <g style=\"fill:#262626;\" transform=\"translate(410.945677 338.14691)scale(0.1 -0.1)\">\n     <use xlink:href=\"#DejaVuSans-35\"/>\n     <use x=\"63.623047\" xlink:href=\"#DejaVuSans-25\"/>\n    </g>\n   </g>\n   <g id=\"text_70\">\n    <!-- 100% -->\n    <g style=\"fill:#ffffff;\" transform=\"translate(232.228177 394.516007)scale(0.1 -0.1)\">\n     <use xlink:href=\"#DejaVuSans-31\"/>\n     <use x=\"63.623047\" xlink:href=\"#DejaVuSans-30\"/>\n     <use x=\"127.246094\" xlink:href=\"#DejaVuSans-30\"/>\n     <use x=\"190.869141\" xlink:href=\"#DejaVuSans-25\"/>\n    </g>\n   </g>\n   <g id=\"text_71\">\n    <!-- 13% -->\n    <g style=\"fill:#262626;\" transform=\"translate(292.861094 394.516007)scale(0.1 -0.1)\">\n     <use xlink:href=\"#DejaVuSans-31\"/>\n     <use x=\"63.623047\" xlink:href=\"#DejaVuSans-33\"/>\n     <use x=\"127.246094\" xlink:href=\"#DejaVuSans-25\"/>\n    </g>\n   </g>\n   <g id=\"text_72\">\n    <!-- 7% -->\n    <g style=\"fill:#262626;\" transform=\"translate(353.49401 394.516007)scale(0.1 -0.1)\">\n     <use xlink:href=\"#DejaVuSans-37\"/>\n     <use x=\"63.623047\" xlink:href=\"#DejaVuSans-25\"/>\n    </g>\n   </g>\n   <g id=\"text_73\">\n    <!-- 100% -->\n    <g style=\"fill:#ffffff;\" transform=\"translate(232.228177 450.885104)scale(0.1 -0.1)\">\n     <use xlink:href=\"#DejaVuSans-31\"/>\n     <use x=\"63.623047\" xlink:href=\"#DejaVuSans-30\"/>\n     <use x=\"127.246094\" xlink:href=\"#DejaVuSans-30\"/>\n     <use x=\"190.869141\" xlink:href=\"#DejaVuSans-25\"/>\n    </g>\n   </g>\n   <g id=\"text_74\">\n    <!-- 7% -->\n    <g style=\"fill:#262626;\" transform=\"translate(296.042344 450.885104)scale(0.1 -0.1)\">\n     <use xlink:href=\"#DejaVuSans-37\"/>\n     <use x=\"63.623047\" xlink:href=\"#DejaVuSans-25\"/>\n    </g>\n   </g>\n   <g id=\"text_75\">\n    <!-- 100% -->\n    <g style=\"fill:#ffffff;\" transform=\"translate(232.228177 507.254201)scale(0.1 -0.1)\">\n     <use xlink:href=\"#DejaVuSans-31\"/>\n     <use x=\"63.623047\" xlink:href=\"#DejaVuSans-30\"/>\n     <use x=\"127.246094\" xlink:href=\"#DejaVuSans-30\"/>\n     <use x=\"190.869141\" xlink:href=\"#DejaVuSans-25\"/>\n    </g>\n   </g>\n   <g id=\"text_76\">\n    <!-- Weekly Cohorts: User Retention -->\n    <g style=\"fill:#262626;\" transform=\"translate(349.285625 19.3575)scale(0.16 -0.16)\">\n     <defs>\n      <path d=\"M 213 4666 \nL 850 4666 \nL 1831 722 \nL 2809 4666 \nL 3519 4666 \nL 4500 722 \nL 5478 4666 \nL 6119 4666 \nL 4947 0 \nL 4153 0 \nL 3169 4050 \nL 2175 0 \nL 1381 0 \nL 213 4666 \nz\n\" id=\"DejaVuSans-57\" transform=\"scale(0.015625)\"/>\n      <path d=\"M 581 4863 \nL 1159 4863 \nL 1159 1991 \nL 2875 3500 \nL 3609 3500 \nL 1753 1863 \nL 3688 0 \nL 2938 0 \nL 1159 1709 \nL 1159 0 \nL 581 0 \nL 581 4863 \nz\n\" id=\"DejaVuSans-6b\" transform=\"scale(0.015625)\"/>\n      <path d=\"M 603 4863 \nL 1178 4863 \nL 1178 0 \nL 603 0 \nL 603 4863 \nz\n\" id=\"DejaVuSans-6c\" transform=\"scale(0.015625)\"/>\n      <path d=\"M 2059 -325 \nQ 1816 -950 1584 -1140 \nQ 1353 -1331 966 -1331 \nL 506 -1331 \nL 506 -850 \nL 844 -850 \nQ 1081 -850 1212 -737 \nQ 1344 -625 1503 -206 \nL 1606 56 \nL 191 3500 \nL 800 3500 \nL 1894 763 \nL 2988 3500 \nL 3597 3500 \nL 2059 -325 \nz\n\" id=\"DejaVuSans-79\" transform=\"scale(0.015625)\"/>\n      <path d=\"M 750 794 \nL 1409 794 \nL 1409 0 \nL 750 0 \nL 750 794 \nz\nM 750 3309 \nL 1409 3309 \nL 1409 2516 \nL 750 2516 \nL 750 3309 \nz\n\" id=\"DejaVuSans-3a\" transform=\"scale(0.015625)\"/>\n      <path d=\"M 556 4666 \nL 1191 4666 \nL 1191 1831 \nQ 1191 1081 1462 751 \nQ 1734 422 2344 422 \nQ 2950 422 3222 751 \nQ 3494 1081 3494 1831 \nL 3494 4666 \nL 4128 4666 \nL 4128 1753 \nQ 4128 841 3676 375 \nQ 3225 -91 2344 -91 \nQ 1459 -91 1007 375 \nQ 556 841 556 1753 \nL 556 4666 \nz\n\" id=\"DejaVuSans-55\" transform=\"scale(0.015625)\"/>\n      <path d=\"M 2841 2188 \nQ 3044 2119 3236 1894 \nQ 3428 1669 3622 1275 \nL 4263 0 \nL 3584 0 \nL 2988 1197 \nQ 2756 1666 2539 1819 \nQ 2322 1972 1947 1972 \nL 1259 1972 \nL 1259 0 \nL 628 0 \nL 628 4666 \nL 2053 4666 \nQ 2853 4666 3247 4331 \nQ 3641 3997 3641 3322 \nQ 3641 2881 3436 2590 \nQ 3231 2300 2841 2188 \nz\nM 1259 4147 \nL 1259 2491 \nL 2053 2491 \nQ 2509 2491 2742 2702 \nQ 2975 2913 2975 3322 \nQ 2975 3731 2742 3939 \nQ 2509 4147 2053 4147 \nL 1259 4147 \nz\n\" id=\"DejaVuSans-52\" transform=\"scale(0.015625)\"/>\n      <path d=\"M 3513 2113 \nL 3513 0 \nL 2938 0 \nL 2938 2094 \nQ 2938 2591 2744 2837 \nQ 2550 3084 2163 3084 \nQ 1697 3084 1428 2787 \nQ 1159 2491 1159 1978 \nL 1159 0 \nL 581 0 \nL 581 3500 \nL 1159 3500 \nL 1159 2956 \nQ 1366 3272 1645 3428 \nQ 1925 3584 2291 3584 \nQ 2894 3584 3203 3211 \nQ 3513 2838 3513 2113 \nz\n\" id=\"DejaVuSans-6e\" transform=\"scale(0.015625)\"/>\n     </defs>\n     <use xlink:href=\"#DejaVuSans-57\"/>\n     <use x=\"93.001953\" xlink:href=\"#DejaVuSans-65\"/>\n     <use x=\"154.525391\" xlink:href=\"#DejaVuSans-65\"/>\n     <use x=\"216.048828\" xlink:href=\"#DejaVuSans-6b\"/>\n     <use x=\"273.958984\" xlink:href=\"#DejaVuSans-6c\"/>\n     <use x=\"301.742188\" xlink:href=\"#DejaVuSans-79\"/>\n     <use x=\"360.921875\" xlink:href=\"#DejaVuSans-20\"/>\n     <use x=\"392.708984\" xlink:href=\"#DejaVuSans-43\"/>\n     <use x=\"462.533203\" xlink:href=\"#DejaVuSans-6f\"/>\n     <use x=\"523.714844\" xlink:href=\"#DejaVuSans-68\"/>\n     <use x=\"587.09375\" xlink:href=\"#DejaVuSans-6f\"/>\n     <use x=\"648.275391\" xlink:href=\"#DejaVuSans-72\"/>\n     <use x=\"689.388672\" xlink:href=\"#DejaVuSans-74\"/>\n     <use x=\"728.597656\" xlink:href=\"#DejaVuSans-73\"/>\n     <use x=\"780.697266\" xlink:href=\"#DejaVuSans-3a\"/>\n     <use x=\"814.388672\" xlink:href=\"#DejaVuSans-20\"/>\n     <use x=\"846.175781\" xlink:href=\"#DejaVuSans-55\"/>\n     <use x=\"919.369141\" xlink:href=\"#DejaVuSans-73\"/>\n     <use x=\"971.46875\" xlink:href=\"#DejaVuSans-65\"/>\n     <use x=\"1032.992188\" xlink:href=\"#DejaVuSans-72\"/>\n     <use x=\"1074.105469\" xlink:href=\"#DejaVuSans-20\"/>\n     <use x=\"1105.892578\" xlink:href=\"#DejaVuSans-52\"/>\n     <use x=\"1170.875\" xlink:href=\"#DejaVuSans-65\"/>\n     <use x=\"1232.398438\" xlink:href=\"#DejaVuSans-74\"/>\n     <use x=\"1271.607422\" xlink:href=\"#DejaVuSans-65\"/>\n     <use x=\"1333.130859\" xlink:href=\"#DejaVuSans-6e\"/>\n     <use x=\"1396.509766\" xlink:href=\"#DejaVuSans-74\"/>\n     <use x=\"1435.71875\" xlink:href=\"#DejaVuSans-69\"/>\n     <use x=\"1463.501953\" xlink:href=\"#DejaVuSans-6f\"/>\n     <use x=\"1524.683594\" xlink:href=\"#DejaVuSans-6e\"/>\n    </g>\n   </g>\n  </g>\n  <g id=\"axes_3\">\n   <g id=\"patch_4\">\n    <path d=\"M 767.178438 532.679375 \nL 792.544531 532.679375 \nL 792.544531 25.3575 \nL 767.178438 25.3575 \nz\n\" style=\"fill:#ffffff;\"/>\n   </g>\n   <g id=\"patch_5\">\n    <path clip-path=\"url(#p3748854460)\" d=\"M 767.178438 532.679375 \nL 767.178438 530.697649 \nL 767.178438 27.339226 \nL 767.178438 25.3575 \nL 792.544531 25.3575 \nL 792.544531 27.339226 \nL 792.544531 530.697649 \nL 792.544531 532.679375 \nL 792.544531 532.679375 \nz\n\" style=\"fill:#ffffff;stroke:#ffffff;stroke-linejoin:miter;stroke-width:0.01;\"/>\n   </g>\n   <g id=\"matplotlib.axis_5\"/>\n   <g id=\"matplotlib.axis_6\">\n    <g id=\"ytick_19\">\n     <g id=\"line2d_1\">\n      <defs>\n       <path d=\"M 0 0 \nL 3.5 0 \n\" id=\"me335e6dfb3\" style=\"stroke:#262626;stroke-width:0.8;\"/>\n      </defs>\n      <g>\n       <use style=\"fill:#262626;stroke:#262626;stroke-width:0.8;\" x=\"792.544531\" xlink:href=\"#me335e6dfb3\" y=\"532.679375\"/>\n      </g>\n     </g>\n     <g id=\"text_77\">\n      <!-- 0.00 -->\n      <g style=\"fill:#262626;\" transform=\"translate(799.544531 536.478594)scale(0.1 -0.1)\">\n       <defs>\n        <path d=\"M 684 794 \nL 1344 794 \nL 1344 0 \nL 684 0 \nL 684 794 \nz\n\" id=\"DejaVuSans-2e\" transform=\"scale(0.015625)\"/>\n       </defs>\n       <use xlink:href=\"#DejaVuSans-30\"/>\n       <use x=\"63.623047\" xlink:href=\"#DejaVuSans-2e\"/>\n       <use x=\"95.410156\" xlink:href=\"#DejaVuSans-30\"/>\n       <use x=\"159.033203\" xlink:href=\"#DejaVuSans-30\"/>\n      </g>\n     </g>\n    </g>\n    <g id=\"ytick_20\">\n     <g id=\"line2d_2\">\n      <g>\n       <use style=\"fill:#262626;stroke:#262626;stroke-width:0.8;\" x=\"792.544531\" xlink:href=\"#me335e6dfb3\" y=\"469.264141\"/>\n      </g>\n     </g>\n     <g id=\"text_78\">\n      <!-- 0.05 -->\n      <g style=\"fill:#262626;\" transform=\"translate(799.544531 473.063359)scale(0.1 -0.1)\">\n       <use xlink:href=\"#DejaVuSans-30\"/>\n       <use x=\"63.623047\" xlink:href=\"#DejaVuSans-2e\"/>\n       <use x=\"95.410156\" xlink:href=\"#DejaVuSans-30\"/>\n       <use x=\"159.033203\" xlink:href=\"#DejaVuSans-35\"/>\n      </g>\n     </g>\n    </g>\n    <g id=\"ytick_21\">\n     <g id=\"line2d_3\">\n      <g>\n       <use style=\"fill:#262626;stroke:#262626;stroke-width:0.8;\" x=\"792.544531\" xlink:href=\"#me335e6dfb3\" y=\"405.848906\"/>\n      </g>\n     </g>\n     <g id=\"text_79\">\n      <!-- 0.10 -->\n      <g style=\"fill:#262626;\" transform=\"translate(799.544531 409.648125)scale(0.1 -0.1)\">\n       <use xlink:href=\"#DejaVuSans-30\"/>\n       <use x=\"63.623047\" xlink:href=\"#DejaVuSans-2e\"/>\n       <use x=\"95.410156\" xlink:href=\"#DejaVuSans-31\"/>\n       <use x=\"159.033203\" xlink:href=\"#DejaVuSans-30\"/>\n      </g>\n     </g>\n    </g>\n    <g id=\"ytick_22\">\n     <g id=\"line2d_4\">\n      <g>\n       <use style=\"fill:#262626;stroke:#262626;stroke-width:0.8;\" x=\"792.544531\" xlink:href=\"#me335e6dfb3\" y=\"342.433672\"/>\n      </g>\n     </g>\n     <g id=\"text_80\">\n      <!-- 0.15 -->\n      <g style=\"fill:#262626;\" transform=\"translate(799.544531 346.232891)scale(0.1 -0.1)\">\n       <use xlink:href=\"#DejaVuSans-30\"/>\n       <use x=\"63.623047\" xlink:href=\"#DejaVuSans-2e\"/>\n       <use x=\"95.410156\" xlink:href=\"#DejaVuSans-31\"/>\n       <use x=\"159.033203\" xlink:href=\"#DejaVuSans-35\"/>\n      </g>\n     </g>\n    </g>\n    <g id=\"ytick_23\">\n     <g id=\"line2d_5\">\n      <g>\n       <use style=\"fill:#262626;stroke:#262626;stroke-width:0.8;\" x=\"792.544531\" xlink:href=\"#me335e6dfb3\" y=\"279.018438\"/>\n      </g>\n     </g>\n     <g id=\"text_81\">\n      <!-- 0.20 -->\n      <g style=\"fill:#262626;\" transform=\"translate(799.544531 282.817656)scale(0.1 -0.1)\">\n       <use xlink:href=\"#DejaVuSans-30\"/>\n       <use x=\"63.623047\" xlink:href=\"#DejaVuSans-2e\"/>\n       <use x=\"95.410156\" xlink:href=\"#DejaVuSans-32\"/>\n       <use x=\"159.033203\" xlink:href=\"#DejaVuSans-30\"/>\n      </g>\n     </g>\n    </g>\n    <g id=\"ytick_24\">\n     <g id=\"line2d_6\">\n      <g>\n       <use style=\"fill:#262626;stroke:#262626;stroke-width:0.8;\" x=\"792.544531\" xlink:href=\"#me335e6dfb3\" y=\"215.603203\"/>\n      </g>\n     </g>\n     <g id=\"text_82\">\n      <!-- 0.25 -->\n      <g style=\"fill:#262626;\" transform=\"translate(799.544531 219.402422)scale(0.1 -0.1)\">\n       <use xlink:href=\"#DejaVuSans-30\"/>\n       <use x=\"63.623047\" xlink:href=\"#DejaVuSans-2e\"/>\n       <use x=\"95.410156\" xlink:href=\"#DejaVuSans-32\"/>\n       <use x=\"159.033203\" xlink:href=\"#DejaVuSans-35\"/>\n      </g>\n     </g>\n    </g>\n    <g id=\"ytick_25\">\n     <g id=\"line2d_7\">\n      <g>\n       <use style=\"fill:#262626;stroke:#262626;stroke-width:0.8;\" x=\"792.544531\" xlink:href=\"#me335e6dfb3\" y=\"152.187969\"/>\n      </g>\n     </g>\n     <g id=\"text_83\">\n      <!-- 0.30 -->\n      <g style=\"fill:#262626;\" transform=\"translate(799.544531 155.987187)scale(0.1 -0.1)\">\n       <use xlink:href=\"#DejaVuSans-30\"/>\n       <use x=\"63.623047\" xlink:href=\"#DejaVuSans-2e\"/>\n       <use x=\"95.410156\" xlink:href=\"#DejaVuSans-33\"/>\n       <use x=\"159.033203\" xlink:href=\"#DejaVuSans-30\"/>\n      </g>\n     </g>\n    </g>\n    <g id=\"ytick_26\">\n     <g id=\"line2d_8\">\n      <g>\n       <use style=\"fill:#262626;stroke:#262626;stroke-width:0.8;\" x=\"792.544531\" xlink:href=\"#me335e6dfb3\" y=\"88.772734\"/>\n      </g>\n     </g>\n     <g id=\"text_84\">\n      <!-- 0.35 -->\n      <g style=\"fill:#262626;\" transform=\"translate(799.544531 92.571953)scale(0.1 -0.1)\">\n       <use xlink:href=\"#DejaVuSans-30\"/>\n       <use x=\"63.623047\" xlink:href=\"#DejaVuSans-2e\"/>\n       <use x=\"95.410156\" xlink:href=\"#DejaVuSans-33\"/>\n       <use x=\"159.033203\" xlink:href=\"#DejaVuSans-35\"/>\n      </g>\n     </g>\n    </g>\n    <g id=\"ytick_27\">\n     <g id=\"line2d_9\">\n      <g>\n       <use style=\"fill:#262626;stroke:#262626;stroke-width:0.8;\" x=\"792.544531\" xlink:href=\"#me335e6dfb3\" y=\"25.3575\"/>\n      </g>\n     </g>\n     <g id=\"text_85\">\n      <!-- 0.40 -->\n      <g style=\"fill:#262626;\" transform=\"translate(799.544531 29.156719)scale(0.1 -0.1)\">\n       <use xlink:href=\"#DejaVuSans-30\"/>\n       <use x=\"63.623047\" xlink:href=\"#DejaVuSans-2e\"/>\n       <use x=\"95.410156\" xlink:href=\"#DejaVuSans-34\"/>\n       <use x=\"159.033203\" xlink:href=\"#DejaVuSans-30\"/>\n      </g>\n     </g>\n    </g>\n   </g>\n   <image height=\"507\" id=\"imageead40c4d75\" transform=\"scale(1 -1)translate(0 -507)\" width=\"26\" x=\"767\" xlink:href=\"data:image/png;base64,\niVBORw0KGgoAAAANSUhEUgAAABoAAAH7CAYAAADSJY9dAAACWklEQVR4nO2dwW3EMBAD5UD995diYqeHefAxmGlA4JFcrY1c7vm+3+8M+Fkccs459zsTQUNF57yTg4YefRuP7tGFoXhTfPEudRjlZLD1SOiRbjIIPapHkHqEUd6wth4ZPbIp8k2GekRJEUY5GWw9EnqkUyT0SNejUkdZpm5z0E7RpkXbHm0odRilR8/koDzC3LceQZp1mDzCtAVhhB4Ze9TOwGhnwAg9EioqdZAmA0bo0apHyo/Otpy05FMaQRihR74e+a5yoyLbffQn9GhzULMOU48w9QiTIsyyR7bJ4PNIqGh0UD3CGFOXIkh7HUa4ewtTNzoojzD1CNP0xgg9MiqyTYbuI0qKMMIe+d4z+FIn/JsTnUf1iNL0xpQ6TIow9QhT6jCz1Bk/utFBxRvTUMWUOkyPlph6hDF65OvR6KBShzGmTujR5qC+uoVJEab/HY0xejRaGvII032ESRHGqGhUpDzCCBU1vSkpwhgVCTfV7iNGijDdR5hmHcbokVBR9xEjRZj76mbd6MeClop0b06ObtY9Qo82B9UjjFHRaDLc0e/QLkeQbqgK4+1TJEzd5qA8wgh71AJJKXWYJgOm+wjTpoppMmCEPSp1lDzC3Ke9DpIijPFpolkHKXUYYep6c0IpdRjj04TPI6GizUHtDJhShyl1GOM71VIHySOMcXqXOkipw5Q6TDsDpqdyjE9RYcAsv1G1MWmoaBS7vpmIEabu6BQZe5QiRqnDGD3qPoLUI4zRI52iU+ogKcIYFY3edeYRJkWYtiCM0SOdIuMW1H3ESBGm6Y2ZKfoHnIPlf2h9QOEAAAAASUVORK5CYII=\" y=\"-25\"/>\n   <g id=\"LineCollection_1\"/>\n   <g id=\"patch_6\">\n    <path d=\"M 767.178438 532.679375 \nL 767.178438 530.697649 \nL 767.178438 27.339226 \nL 767.178438 25.3575 \nL 792.544531 25.3575 \nL 792.544531 27.339226 \nL 792.544531 530.697649 \nL 792.544531 532.679375 \nz\n\" style=\"fill:none;\"/>\n   </g>\n  </g>\n </g>\n <defs>\n  <clipPath id=\"p866dab802a\">\n   <rect height=\"507.321875\" width=\"58.757386\" x=\"147.478125\" y=\"25.3575\"/>\n  </clipPath>\n  <clipPath id=\"pc586834f0f\">\n   <rect height=\"507.321875\" width=\"517.065\" x=\"217.796875\" y=\"25.3575\"/>\n  </clipPath>\n  <clipPath id=\"p3748854460\">\n   <rect height=\"507.321875\" width=\"25.366094\" x=\"767.178438\" y=\"25.3575\"/>\n  </clipPath>\n </defs>\n</svg>\n",
      "image/png": "[encoded data removed]"
     },
     "metadata": {}
    }
   ],
   "source": [
    "#Plotting Heatmap with Seaborn\n",
    "\n",
    "with sns.axes_style(\"whitegrid\"):\n",
    "    fig, ax = plt.subplots(1, 2, figsize=(12, 8), sharey=True, gridspec_kw={'width_ratios': [1, 11]})\n",
    "    \n",
    "    # Retention Matrix:\n",
    "    sns.heatmap(retention_matrix, \n",
    "                mask=retention_matrix.isnull(), \n",
    "                annot=True, \n",
    "                fmt='.0%', \n",
    "                cmap='YlGnBu',\n",
    "                vmax = 0.4,\n",
    "                ax=ax[1])\n",
    "    ax[1].set_title('Weekly Cohorts: User Retention', fontsize=16)\n",
    "    ax[1].set(xlabel='Periods',\n",
    "              ylabel='')\n",
    "\n",
    "    # Cohort Size Column:\n",
    "    \n",
    "    cohort_size_df = pd.DataFrame(cohort_size).rename(columns={0: 'Cohort Size'})\n",
    "    white_cmap = mcolors.ListedColormap(['lightgreen'])\n",
    "    sns.heatmap(cohort_size_df, \n",
    "                annot=True, \n",
    "                cbar=False, \n",
    "                fmt='g', \n",
    "                cmap=white_cmap, \n",
    "                ax=ax[0])\n",
    "\n",
    "    fig.tight_layout()"
   ]
  },
  {
   "source": [
    "## LTV Analysis"
   ],
   "cell_type": "markdown",
   "metadata": {}
  },
  {
   "cell_type": "code",
   "execution_count": 24,
   "metadata": {},
   "outputs": [
    {
     "output_type": "execute_result",
     "data": {
      "text/plain": [
       "                  Cohort  Average Amount Spent  Retention Rates  LTV_period\n",
       "0  2021-01-11/2021-01-17             26.634375         0.000000   26.634375\n",
       "1  2021-01-18/2021-01-24             28.298758         0.030303   27.441221\n",
       "2  2021-01-25/2021-01-31             25.450968         0.058824   23.953840\n",
       "3  2021-02-01/2021-02-07             28.481976         0.068627   26.527343\n",
       "4  2021-02-08/2021-02-14             26.802407         0.073171   24.841248\n",
       "5  2021-02-15/2021-02-21             24.553152         0.046948   23.400431\n",
       "6  2021-02-22/2021-02-28             28.256226         0.066667   26.372468\n",
       "7  2021-03-01/2021-03-07             27.976175         0.066390   26.118837\n",
       "8  2021-03-08/2021-03-14             24.387890         0.000000   24.387890"
      ],
      "text/html": "<div>\n<style scoped>\n    .dataframe tbody tr th:only-of-type {\n        vertical-align: middle;\n    }\n\n    .dataframe tbody tr th {\n        vertical-align: top;\n    }\n\n    .dataframe thead th {\n        text-align: right;\n    }\n</style>\n<table border=\"1\" class=\"dataframe\">\n  <thead>\n    <tr style=\"text-align: right;\">\n      <th></th>\n      <th>Cohort</th>\n      <th>Average Amount Spent</th>\n      <th>Retention Rates</th>\n      <th>LTV_period</th>\n    </tr>\n  </thead>\n  <tbody>\n    <tr>\n      <th>0</th>\n      <td>2021-01-11/2021-01-17</td>\n      <td>26.634375</td>\n      <td>0.000000</td>\n      <td>26.634375</td>\n    </tr>\n    <tr>\n      <th>1</th>\n      <td>2021-01-18/2021-01-24</td>\n      <td>28.298758</td>\n      <td>0.030303</td>\n      <td>27.441221</td>\n    </tr>\n    <tr>\n      <th>2</th>\n      <td>2021-01-25/2021-01-31</td>\n      <td>25.450968</td>\n      <td>0.058824</td>\n      <td>23.953840</td>\n    </tr>\n    <tr>\n      <th>3</th>\n      <td>2021-02-01/2021-02-07</td>\n      <td>28.481976</td>\n      <td>0.068627</td>\n      <td>26.527343</td>\n    </tr>\n    <tr>\n      <th>4</th>\n      <td>2021-02-08/2021-02-14</td>\n      <td>26.802407</td>\n      <td>0.073171</td>\n      <td>24.841248</td>\n    </tr>\n    <tr>\n      <th>5</th>\n      <td>2021-02-15/2021-02-21</td>\n      <td>24.553152</td>\n      <td>0.046948</td>\n      <td>23.400431</td>\n    </tr>\n    <tr>\n      <th>6</th>\n      <td>2021-02-22/2021-02-28</td>\n      <td>28.256226</td>\n      <td>0.066667</td>\n      <td>26.372468</td>\n    </tr>\n    <tr>\n      <th>7</th>\n      <td>2021-03-01/2021-03-07</td>\n      <td>27.976175</td>\n      <td>0.066390</td>\n      <td>26.118837</td>\n    </tr>\n    <tr>\n      <th>8</th>\n      <td>2021-03-08/2021-03-14</td>\n      <td>24.387890</td>\n      <td>0.000000</td>\n      <td>24.387890</td>\n    </tr>\n  </tbody>\n</table>\n</div>"
     },
     "metadata": {},
     "execution_count": 24
    }
   ],
   "source": [
    "avg_amnount_spent = df.groupby(df['Cohort']).sum()\n",
    "avg_amnount_spent['Average Amount Spent'] = avg_amnount_spent.amount_spent/avg_amnount_spent.number_of_orders\n",
    "\n",
    "avg_amount_spent_cleaned = avg_amnount_spent.reset_index()[['Cohort', 'Average Amount Spent']]\n",
    "\n",
    "# Retension Rates from above Cohort Analysis\n",
    "avg_amount_spent_cleaned['Retention Rates'] = [0, 0.030303, 0.058824, 0.068627, 0.073171, 0.046948, 0.066667, 0.066390, 0]\n",
    "\n",
    "#LTV Calculation for a given period\n",
    "avg_amount_spent_cleaned['LTV_period'] = avg_amount_spent_cleaned['Average Amount Spent']*(1- avg_amount_spent_cleaned['Retention Rates'])\n",
    "avg_amount_spent_cleaned"
   ]
  },
  {
   "cell_type": "code",
   "execution_count": 25,
   "metadata": {},
   "outputs": [
    {
     "output_type": "execute_result",
     "data": {
      "text/plain": [
       "25.52"
      ]
     },
     "metadata": {},
     "execution_count": 25
    }
   ],
   "source": [
    "# LTV Calculated\n",
    "avg_amount_spent_cleaned['LTV_period'].mean().round(2)"
   ]
  }
 ]
}